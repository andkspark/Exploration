{
 "cells": [
  {
   "cell_type": "code",
   "execution_count": 106,
   "id": "d12201cf",
   "metadata": {},
   "outputs": [],
   "source": [
    "import konlpy\n",
    "import gensim\n",
    "\n",
    "import pandas as pd\n"
   ]
  },
  {
   "cell_type": "markdown",
   "id": "751c4402",
   "metadata": {},
   "source": [
    "## 목표  \n",
    "  \n",
    "1. 다양한 방법으로 Text Classification 태스크를 성공적으로 구현하였다.  \n",
    "3가지 이상의 모델이 성공적으로 시도됨  \n",
    "2. gensim을 활용하여 자체학습된 혹은 사전학습된 임베딩 레이어를 분석하였다.  \n",
    "gensim의 유사단어 찾기를 활용하여 자체학습한 임베딩과 사전학습 임베딩을 비교 분석함  \n",
    "3. 한국어 Word2Vec을 활용하여 가시적인 성능향상을 달성했다.  \n",
    "네이버 영화리뷰 데이터 감성분석 정확도를 85% 이상 달성함  "
   ]
  },
  {
   "cell_type": "markdown",
   "id": "9f18ee21",
   "metadata": {},
   "source": [
    "### 데이터 준비와 확인"
   ]
  },
  {
   "cell_type": "code",
   "execution_count": 107,
   "id": "a8a703e3",
   "metadata": {},
   "outputs": [
    {
     "data": {
      "text/html": [
       "<div>\n",
       "<style scoped>\n",
       "    .dataframe tbody tr th:only-of-type {\n",
       "        vertical-align: middle;\n",
       "    }\n",
       "\n",
       "    .dataframe tbody tr th {\n",
       "        vertical-align: top;\n",
       "    }\n",
       "\n",
       "    .dataframe thead th {\n",
       "        text-align: right;\n",
       "    }\n",
       "</style>\n",
       "<table border=\"1\" class=\"dataframe\">\n",
       "  <thead>\n",
       "    <tr style=\"text-align: right;\">\n",
       "      <th></th>\n",
       "      <th>id</th>\n",
       "      <th>document</th>\n",
       "      <th>label</th>\n",
       "    </tr>\n",
       "  </thead>\n",
       "  <tbody>\n",
       "    <tr>\n",
       "      <th>0</th>\n",
       "      <td>9976970</td>\n",
       "      <td>아 더빙.. 진짜 짜증나네요 목소리</td>\n",
       "      <td>0</td>\n",
       "    </tr>\n",
       "    <tr>\n",
       "      <th>1</th>\n",
       "      <td>3819312</td>\n",
       "      <td>흠...포스터보고 초딩영화줄....오버연기조차 가볍지 않구나</td>\n",
       "      <td>1</td>\n",
       "    </tr>\n",
       "    <tr>\n",
       "      <th>2</th>\n",
       "      <td>10265843</td>\n",
       "      <td>너무재밓었다그래서보는것을추천한다</td>\n",
       "      <td>0</td>\n",
       "    </tr>\n",
       "    <tr>\n",
       "      <th>3</th>\n",
       "      <td>9045019</td>\n",
       "      <td>교도소 이야기구먼 ..솔직히 재미는 없다..평점 조정</td>\n",
       "      <td>0</td>\n",
       "    </tr>\n",
       "    <tr>\n",
       "      <th>4</th>\n",
       "      <td>6483659</td>\n",
       "      <td>사이몬페그의 익살스런 연기가 돋보였던 영화!스파이더맨에서 늙어보이기만 했던 커스틴 ...</td>\n",
       "      <td>1</td>\n",
       "    </tr>\n",
       "  </tbody>\n",
       "</table>\n",
       "</div>"
      ],
      "text/plain": [
       "         id                                           document  label\n",
       "0   9976970                                아 더빙.. 진짜 짜증나네요 목소리      0\n",
       "1   3819312                  흠...포스터보고 초딩영화줄....오버연기조차 가볍지 않구나      1\n",
       "2  10265843                                  너무재밓었다그래서보는것을추천한다      0\n",
       "3   9045019                      교도소 이야기구먼 ..솔직히 재미는 없다..평점 조정      0\n",
       "4   6483659  사이몬페그의 익살스런 연기가 돋보였던 영화!스파이더맨에서 늙어보이기만 했던 커스틴 ...      1"
      ]
     },
     "execution_count": 107,
     "metadata": {},
     "output_type": "execute_result"
    }
   ],
   "source": [
    "train_data = pd.read_table('~/aiffel/sentiment_classification/data/ratings_train.txt')\n",
    "test_data = pd.read_table('~/aiffel/sentiment_classification/data/ratings_test.txt')\n",
    "\n",
    "train_data.head()"
   ]
  },
  {
   "cell_type": "code",
   "execution_count": 108,
   "id": "0b78b5c2",
   "metadata": {},
   "outputs": [
    {
     "data": {
      "text/plain": [
       "150000"
      ]
     },
     "execution_count": 108,
     "metadata": {},
     "output_type": "execute_result"
    }
   ],
   "source": [
    "len(train_data)"
   ]
  },
  {
   "cell_type": "code",
   "execution_count": 109,
   "id": "d3ef20b1",
   "metadata": {},
   "outputs": [
    {
     "data": {
      "text/plain": [
       "50000"
      ]
     },
     "execution_count": 109,
     "metadata": {},
     "output_type": "execute_result"
    }
   ],
   "source": [
    "len(test_data)"
   ]
  },
  {
   "cell_type": "code",
   "execution_count": 110,
   "id": "0a14b3af",
   "metadata": {},
   "outputs": [
    {
     "data": {
      "text/plain": [
       "0                                       아 더빙.. 진짜 짜증나네요 목소리\n",
       "1                         흠...포스터보고 초딩영화줄....오버연기조차 가볍지 않구나\n",
       "2                                         너무재밓었다그래서보는것을추천한다\n",
       "3                             교도소 이야기구먼 ..솔직히 재미는 없다..평점 조정\n",
       "4         사이몬페그의 익살스런 연기가 돋보였던 영화!스파이더맨에서 늙어보이기만 했던 커스틴 ...\n",
       "                                ...                        \n",
       "149995                                  인간이 문제지.. 소는 뭔죄인가..\n",
       "149996                                        평점이 너무 낮아서...\n",
       "149997                      이게 뭐요? 한국인은 거들먹거리고 필리핀 혼혈은 착하다?\n",
       "149998                          청춘 영화의 최고봉.방황과 우울했던 날들의 자화상\n",
       "149999                             한국 영화 최초로 수간하는 내용이 담긴 영화\n",
       "Name: document, Length: 150000, dtype: object"
      ]
     },
     "execution_count": 110,
     "metadata": {},
     "output_type": "execute_result"
    }
   ],
   "source": [
    "train_data['document']"
   ]
  },
  {
   "cell_type": "markdown",
   "id": "f27a89e5",
   "metadata": {},
   "source": [
    "데이터의 갯수가 엄청남을 확인할 수 있습니다  \n",
    "구성은 간단하게 label과 문장으로 되어있습니다  \n"
   ]
  },
  {
   "cell_type": "markdown",
   "id": "464e463e",
   "metadata": {},
   "source": [
    "### 데이터 로더 구성\n",
    "\n",
    "중복되는 데이터 제거  \n",
    "NAN 결측치 제거  \n",
    "한국어 토크나이저로 토큰화  \n",
    "불용어 (stopwords) 제거  \n",
    "사전 word to index 구성  \n",
    "텍스트 스트링을 인덱스 스트링으로 변환  \n",
    "X_train, Y_train, X_test, Y_test, word to index를 리턴하는 데이터 로더를 구성합니다 \n",
    "\n",
    "전반적으로 EDA과정과 같습니다  "
   ]
  },
  {
   "cell_type": "code",
   "execution_count": 111,
   "id": "50f5a3bc",
   "metadata": {},
   "outputs": [],
   "source": [
    "from konlpy.tag import Mecab\n",
    "import numpy as np\n",
    "from collections import Counter\n",
    "\n",
    "tokenizer = Mecab()\n",
    "stopwords = ['의','가','이','은','들','는','좀','잘','걍','과','도','를','으로','자','에','와','한','하다']\n",
    "num_words = 10000 "
   ]
  },
  {
   "cell_type": "code",
   "execution_count": 129,
   "id": "86c95b35",
   "metadata": {},
   "outputs": [],
   "source": [
    "def load_data(train_data, test_data, num_words=num_words):\n",
    "    \n",
    "    \n",
    "    #중복되는 데이터 제거 / NAN 결측치 제거\n",
    "    train_data.drop_duplicates(subset=['document'], inplace=True)\n",
    "    train_data = train_data.dropna(how = 'any') \n",
    "    test_data.drop_duplicates(subset=['document'], inplace=True)\n",
    "    test_data = test_data.dropna(how = 'any') \n",
    "    \n",
    "    X_train = []\n",
    "    for sentence in train_data['document']:\n",
    "        temp_X = tokenizer.morphs(sentence) # 토큰화\n",
    "        temp_X = [word for word in temp_X if not word in stopwords] # 불용어 제거\n",
    "        X_train.append(temp_X)\n",
    "\n",
    "    X_test = []\n",
    "    for sentence in test_data['document']:\n",
    "        temp_X = tokenizer.morphs(sentence) # 토큰화\n",
    "        temp_X = [word for word in temp_X if not word in stopwords] # 불용어 제거\n",
    "        X_test.append(temp_X)\n",
    "    \n",
    "    words = np.concatenate(X_train).tolist()\n",
    "    counter = Counter(words)\n",
    "    counter = counter.most_common(10000-4)\n",
    "    vocab = [\"<PAD>\", \"<BOS>\", \"<UNK>\", \"<UNUSED>\"] + [key for key, _ in counter]\n",
    "\n",
    "    #사전 word to index 구성\n",
    "    word_to_index = {word:index for index, word in enumerate(vocab)}    \n",
    "    def wordlist_to_indexlist(wordlist):\n",
    "        return [word_to_index[word] if word in word_to_index else word_to_index[\"<PAD>\"] for word in wordlist]\n",
    "    \n",
    "    #텍스트 스트링을 인덱스 스트링으로 변환하여 train data, test data에 할당합니다 \n",
    "    X_train = list(map(wordlist_to_indexlist, X_train))\n",
    "    X_test = list(map(wordlist_to_indexlist, X_test))\n",
    "        \n",
    "    return X_train, np.array(list(train_data['label'])), X_test, np.array(list(test_data['label'])), word_to_index\n",
    "    "
   ]
  },
  {
   "cell_type": "code",
   "execution_count": null,
   "id": "80414dba",
   "metadata": {},
   "outputs": [],
   "source": []
  },
  {
   "cell_type": "code",
   "execution_count": 130,
   "id": "c0a9e7d4",
   "metadata": {},
   "outputs": [],
   "source": [
    "X_train, y_train, X_test, y_test, word_to_index = load_data(train_data, test_data)"
   ]
  },
  {
   "cell_type": "code",
   "execution_count": 131,
   "id": "e527b1bc",
   "metadata": {},
   "outputs": [],
   "source": [
    "index_to_word = {index:word for word, index in word_to_index.items()}"
   ]
  },
  {
   "cell_type": "code",
   "execution_count": 133,
   "id": "28f20e0f",
   "metadata": {},
   "outputs": [],
   "source": [
    "# 문장 1개를 활용할 딕셔너리와 함께 주면, 단어 인덱스 리스트 벡터로 변환해 주는 함수입니다. \n",
    "# 단, 모든 문장은 <BOS>로 시작하는 것으로 합니다. \n",
    "def get_encoded_sentence(sentence, word_to_index):\n",
    "    return [word_to_index['<BOS>']]+[word_to_index[word] if word in word_to_index else word_to_index['<UNK>'] for word in sentence.split()]\n",
    "\n",
    "# 여러 개의 문장 리스트를 한꺼번에 단어 인덱스 리스트 벡터로 encode해 주는 함수입니다. \n",
    "def get_encoded_sentences(sentences, word_to_index):\n",
    "    return [get_encoded_sentence(sentence, word_to_index) for sentence in sentences]\n",
    "\n",
    "# 숫자 벡터로 encode된 문장을 원래대로 decode하는 함수입니다. \n",
    "def get_decoded_sentence(encoded_sentence, index_to_word):\n",
    "    return ' '.join(index_to_word[index] if index in index_to_word else '<UNK>' for index in encoded_sentence[1:])  #[1:]를 통해 <BOS>를 제외\n",
    "\n",
    "# 여러 개의 숫자 벡터로 encode된 문장을 한꺼번에 원래대로 decode하는 함수입니다. \n",
    "def get_decoded_sentences(encoded_sentences, index_to_word):\n",
    "    return [get_decoded_sentence(encoded_sentence, index_to_word) for encoded_sentence in encoded_sentences]"
   ]
  },
  {
   "cell_type": "markdown",
   "id": "fa4f74be",
   "metadata": {},
   "source": [
    "### 모델 구성을 위한 데이터 분석 및 가공  \n",
    "데이터셋 내 문장 길이 분포  \n",
    "적절한 최대 문장 길이 지정  \n",
    "keras.preprocessing.sequence.pad_sequences 을 활용한 패딩 추가  "
   ]
  },
  {
   "cell_type": "markdown",
   "id": "53cd7538",
   "metadata": {},
   "source": [
    "단어 분포 확인"
   ]
  },
  {
   "cell_type": "code",
   "execution_count": 134,
   "id": "9d8e1c9d",
   "metadata": {
    "scrolled": true
   },
   "outputs": [
    {
     "data": {
      "text/plain": [
       "[<matplotlib.lines.Line2D at 0x7f27b1513040>]"
      ]
     },
     "execution_count": 134,
     "metadata": {},
     "output_type": "execute_result"
    },
    {
     "data": {
      "image/png": "[encoded data removed]",
      "text/plain": [
       "<Figure size 432x288 with 1 Axes>"
      ]
     },
     "metadata": {
      "needs_background": "light"
     },
     "output_type": "display_data"
    }
   ],
   "source": [
    "import numpy as np\n",
    "import matplotlib.pyplot as plt\n",
    "%matplotlib inline\n",
    "\n",
    "len_dist = []\n",
    "i = 0\n",
    "for sentence in X_train:\n",
    "    len_dist.append(len(sentence))\n",
    "\n",
    "len_dist.sort()\n",
    "plt.plot(len_dist)\n",
    "\n",
    "#https://www.programiz.com/python-programming/methods/list/sort\n",
    "#https://www.programiz.com/python-programming/methods/list/sort"
   ]
  },
  {
   "cell_type": "code",
   "execution_count": 135,
   "id": "a2037d74",
   "metadata": {},
   "outputs": [
    {
     "data": {
      "text/html": [
       "<div>\n",
       "<style scoped>\n",
       "    .dataframe tbody tr th:only-of-type {\n",
       "        vertical-align: middle;\n",
       "    }\n",
       "\n",
       "    .dataframe tbody tr th {\n",
       "        vertical-align: top;\n",
       "    }\n",
       "\n",
       "    .dataframe thead th {\n",
       "        text-align: right;\n",
       "    }\n",
       "</style>\n",
       "<table border=\"1\" class=\"dataframe\">\n",
       "  <thead>\n",
       "    <tr style=\"text-align: right;\">\n",
       "      <th></th>\n",
       "      <th>0</th>\n",
       "    </tr>\n",
       "  </thead>\n",
       "  <tbody>\n",
       "    <tr>\n",
       "      <th>count</th>\n",
       "      <td>146182.000000</td>\n",
       "    </tr>\n",
       "    <tr>\n",
       "      <th>mean</th>\n",
       "      <td>15.981708</td>\n",
       "    </tr>\n",
       "    <tr>\n",
       "      <th>std</th>\n",
       "      <td>12.824782</td>\n",
       "    </tr>\n",
       "    <tr>\n",
       "      <th>min</th>\n",
       "      <td>0.000000</td>\n",
       "    </tr>\n",
       "    <tr>\n",
       "      <th>25%</th>\n",
       "      <td>7.000000</td>\n",
       "    </tr>\n",
       "    <tr>\n",
       "      <th>50%</th>\n",
       "      <td>12.000000</td>\n",
       "    </tr>\n",
       "    <tr>\n",
       "      <th>75%</th>\n",
       "      <td>19.000000</td>\n",
       "    </tr>\n",
       "    <tr>\n",
       "      <th>max</th>\n",
       "      <td>116.000000</td>\n",
       "    </tr>\n",
       "  </tbody>\n",
       "</table>\n",
       "</div>"
      ],
      "text/plain": [
       "                   0\n",
       "count  146182.000000\n",
       "mean       15.981708\n",
       "std        12.824782\n",
       "min         0.000000\n",
       "25%         7.000000\n",
       "50%        12.000000\n",
       "75%        19.000000\n",
       "max       116.000000"
      ]
     },
     "execution_count": 135,
     "metadata": {},
     "output_type": "execute_result"
    }
   ],
   "source": [
    "pd.DataFrame(len_dist).describe()"
   ]
  },
  {
   "cell_type": "markdown",
   "id": "720ee58c",
   "metadata": {},
   "source": [
    "단어 갯수의 평균은 12, 19개 까지가 75%를 차지하고 있습니다  \n",
    "그래프 상으로는 단어 갯수 40개 정도 전후로 가파른 상승을 보여줍니다  "
   ]
  },
  {
   "cell_type": "code",
   "execution_count": 136,
   "id": "66901a74",
   "metadata": {},
   "outputs": [
    {
     "data": {
      "text/plain": [
       "135488"
      ]
     },
     "execution_count": 136,
     "metadata": {},
     "output_type": "execute_result"
    }
   ],
   "source": [
    "len_dist.index(40)"
   ]
  },
  {
   "cell_type": "markdown",
   "id": "fe71e0f9",
   "metadata": {},
   "source": [
    "대략 8% 정도 (전체 146182 - 135488) 가 40개 정도의 단어를 쓰고 있습니다  \n",
    "이 정도로 단어의 최대 갯수를 제한합니다  "
   ]
  },
  {
   "cell_type": "code",
   "execution_count": 137,
   "id": "f19503dc",
   "metadata": {},
   "outputs": [],
   "source": [
    "import tensorflow as tf\n",
    "\n",
    "maxlen = 40\n",
    "\n",
    "X_train = tf.keras.preprocessing.sequence.pad_sequences(X_train,\n",
    "                                                        value=word_to_index[\"<PAD>\"],\n",
    "                                                        padding='pre', \n",
    "                                                        maxlen=maxlen)\n",
    "\n",
    "X_test = tf.keras.preprocessing.sequence.pad_sequences(X_test,\n",
    "                                                       value=word_to_index[\"<PAD>\"],\n",
    "                                                       padding='pre', \n",
    "                                                       maxlen=maxlen)\n"
   ]
  },
  {
   "cell_type": "markdown",
   "id": "71564fef",
   "metadata": {},
   "source": [
    "### 모델 구성 및 validation set 구성\n",
    "모델은 3가지 이상 다양하게 구성하여 실험해 보세요.  \n",
    "  \n",
    "처음 모델로 RNN을 사용합니다"
   ]
  },
  {
   "cell_type": "markdown",
   "id": "b6dcbf2d",
   "metadata": {},
   "source": [
    "### RNN"
   ]
  },
  {
   "cell_type": "code",
   "execution_count": 191,
   "id": "6c881f0d",
   "metadata": {},
   "outputs": [
    {
     "name": "stdout",
     "output_type": "stream",
     "text": [
      "Model: \"sequential_6\"\n",
      "_________________________________________________________________\n",
      "Layer (type)                 Output Shape              Param #   \n",
      "=================================================================\n",
      "embedding_6 (Embedding)      (None, None, 16)          160000    \n",
      "_________________________________________________________________\n",
      "lstm_2 (LSTM)                (None, 8)                 800       \n",
      "_________________________________________________________________\n",
      "dense_12 (Dense)             (None, 8)                 72        \n",
      "_________________________________________________________________\n",
      "dense_13 (Dense)             (None, 1)                 9         \n",
      "=================================================================\n",
      "Total params: 160,881\n",
      "Trainable params: 160,881\n",
      "Non-trainable params: 0\n",
      "_________________________________________________________________\n"
     ]
    }
   ],
   "source": [
    "#RNN LSTM GRU 사용\n",
    "\n",
    "vocab_size = 10000    # 어휘 사전의 크기입니다(10,000개의 단어)\n",
    "word_vector_dim = 16  # 워드 벡터의 차원 수 (변경 가능한 하이퍼파라미터)\n",
    "\n",
    "model = tf.keras.Sequential()\n",
    "model.add(tf.keras.layers.Embedding(vocab_size, word_vector_dim, input_shape=(None,)))\n",
    "model.add(tf.keras.layers.LSTM(8))   # 가장 널리 쓰이는 RNN인 LSTM 레이어를 사용하였습니다. 이때 LSTM state 벡터의 차원수는 8로 하였습니다. (변경 가능)\n",
    "model.add(tf.keras.layers.Dense(8, activation='relu'))\n",
    "model.add(tf.keras.layers.Dense(1, activation='sigmoid'))  # 최종 출력은 긍정/부정을 나타내는 1dim 입니다.\n",
    "\n",
    "model.summary()\n"
   ]
  },
  {
   "cell_type": "markdown",
   "id": "1b68b360",
   "metadata": {},
   "source": [
    "데이터의 20%를 데이터 검증셋으로 사용하도록 합니다"
   ]
  },
  {
   "cell_type": "code",
   "execution_count": 192,
   "id": "258d5cbe",
   "metadata": {},
   "outputs": [],
   "source": [
    "val_count = int(len(y_train) * 0.20)\n",
    "\n",
    "x_val = X_train[:val_count]   \n",
    "y_val = y_train[:val_count]\n",
    "\n",
    "partial_x_train = X_train[val_count:]  \n",
    "partial_y_train = y_train[val_count:]"
   ]
  },
  {
   "cell_type": "code",
   "execution_count": 193,
   "id": "3d053e32",
   "metadata": {},
   "outputs": [
    {
     "name": "stdout",
     "output_type": "stream",
     "text": [
      "Epoch 1/20\n",
      "229/229 [==============================] - 3s 7ms/step - loss: 0.4993 - accuracy: 0.7782 - val_loss: 0.3615 - val_accuracy: 0.8457\n",
      "Epoch 2/20\n",
      "229/229 [==============================] - 1s 6ms/step - loss: 0.3396 - accuracy: 0.8565 - val_loss: 0.3448 - val_accuracy: 0.8496\n",
      "Epoch 3/20\n",
      "229/229 [==============================] - 1s 6ms/step - loss: 0.3164 - accuracy: 0.8682 - val_loss: 0.3459 - val_accuracy: 0.8505\n",
      "Epoch 4/20\n",
      "229/229 [==============================] - 1s 6ms/step - loss: 0.3041 - accuracy: 0.8733 - val_loss: 0.3553 - val_accuracy: 0.8493\n",
      "Epoch 5/20\n",
      "229/229 [==============================] - 1s 6ms/step - loss: 0.2940 - accuracy: 0.8777 - val_loss: 0.3459 - val_accuracy: 0.8526\n",
      "Epoch 6/20\n",
      "229/229 [==============================] - 1s 6ms/step - loss: 0.2852 - accuracy: 0.8819 - val_loss: 0.3473 - val_accuracy: 0.8528\n",
      "Epoch 7/20\n",
      "229/229 [==============================] - 1s 6ms/step - loss: 0.2746 - accuracy: 0.8864 - val_loss: 0.3502 - val_accuracy: 0.8523\n",
      "Epoch 8/20\n",
      "229/229 [==============================] - 1s 6ms/step - loss: 0.2648 - accuracy: 0.8904 - val_loss: 0.3594 - val_accuracy: 0.8516\n",
      "Epoch 9/20\n",
      "229/229 [==============================] - 1s 6ms/step - loss: 0.2538 - accuracy: 0.8957 - val_loss: 0.3632 - val_accuracy: 0.8518\n",
      "Epoch 10/20\n",
      "229/229 [==============================] - 1s 6ms/step - loss: 0.2429 - accuracy: 0.9005 - val_loss: 0.3764 - val_accuracy: 0.8520\n",
      "Epoch 11/20\n",
      "229/229 [==============================] - 1s 6ms/step - loss: 0.2322 - accuracy: 0.9053 - val_loss: 0.3790 - val_accuracy: 0.8483\n",
      "Epoch 12/20\n",
      "229/229 [==============================] - 1s 6ms/step - loss: 0.2226 - accuracy: 0.9097 - val_loss: 0.3987 - val_accuracy: 0.8485\n",
      "Epoch 13/20\n",
      "229/229 [==============================] - 1s 6ms/step - loss: 0.2119 - accuracy: 0.9144 - val_loss: 0.4045 - val_accuracy: 0.8486\n",
      "Epoch 14/20\n",
      "229/229 [==============================] - 1s 6ms/step - loss: 0.2025 - accuracy: 0.9188 - val_loss: 0.4270 - val_accuracy: 0.8465\n",
      "Epoch 15/20\n",
      "229/229 [==============================] - 1s 6ms/step - loss: 0.1938 - accuracy: 0.9226 - val_loss: 0.4493 - val_accuracy: 0.8470\n",
      "Epoch 16/20\n",
      "229/229 [==============================] - 1s 6ms/step - loss: 0.1852 - accuracy: 0.9271 - val_loss: 0.4685 - val_accuracy: 0.8440\n",
      "Epoch 17/20\n",
      "229/229 [==============================] - 1s 6ms/step - loss: 0.1777 - accuracy: 0.9304 - val_loss: 0.4729 - val_accuracy: 0.8437\n",
      "Epoch 18/20\n",
      "229/229 [==============================] - 1s 6ms/step - loss: 0.1709 - accuracy: 0.9333 - val_loss: 0.5040 - val_accuracy: 0.8429\n",
      "Epoch 19/20\n",
      "229/229 [==============================] - 1s 6ms/step - loss: 0.1647 - accuracy: 0.9359 - val_loss: 0.5556 - val_accuracy: 0.8421\n",
      "Epoch 20/20\n",
      "229/229 [==============================] - 1s 6ms/step - loss: 0.1614 - accuracy: 0.9376 - val_loss: 0.5516 - val_accuracy: 0.8408\n"
     ]
    }
   ],
   "source": [
    "model.compile(optimizer='adam',\n",
    "              loss='binary_crossentropy',\n",
    "              metrics=['accuracy'])\n",
    "              \n",
    "epochs=20  # 몇 epoch를 훈련하면 좋을지 결과를 보면서 바꾸어 봅시다. \n",
    "\n",
    "history = model.fit(partial_x_train,\n",
    "                    partial_y_train,\n",
    "                    epochs=epochs,\n",
    "                    batch_size=512,\n",
    "                    validation_data=(x_val, y_val),\n",
    "                    verbose=1)"
   ]
  },
  {
   "cell_type": "code",
   "execution_count": 194,
   "id": "786753fb",
   "metadata": {},
   "outputs": [
    {
     "name": "stdout",
     "output_type": "stream",
     "text": [
      "914/914 - 2s - loss: 0.5516 - accuracy: 0.8408\n",
      "[0.5516163110733032, 0.8408126831054688]\n"
     ]
    }
   ],
   "source": [
    "results = model.evaluate(x_val,  y_val, verbose=2)\n",
    "\n",
    "print(results)"
   ]
  },
  {
   "cell_type": "code",
   "execution_count": 195,
   "id": "b13b23fd",
   "metadata": {},
   "outputs": [
    {
     "name": "stdout",
     "output_type": "stream",
     "text": [
      "dict_keys(['loss', 'accuracy', 'val_loss', 'val_accuracy'])\n"
     ]
    }
   ],
   "source": [
    "history_dict = history.history\n",
    "print(history_dict.keys()) # epoch에 따른 그래프를 그려볼 수 있는 항목들"
   ]
  },
  {
   "cell_type": "code",
   "execution_count": 196,
   "id": "9d4141ec",
   "metadata": {},
   "outputs": [
    {
     "data": {
      "image/png": "[encoded data removed]",
      "text/plain": [
       "<Figure size 432x288 with 1 Axes>"
      ]
     },
     "metadata": {
      "needs_background": "light"
     },
     "output_type": "display_data"
    }
   ],
   "source": [
    "\n",
    "\n",
    "acc = history_dict['accuracy']\n",
    "val_acc = history_dict['val_accuracy']\n",
    "loss = history_dict['loss']\n",
    "val_loss = history_dict['val_loss']\n",
    "\n",
    "epochs = range(1, len(acc) + 1)\n",
    "\n",
    "# \"bo\"는 \"파란색 점\"입니다\n",
    "plt.plot(epochs, loss, 'bo', label='Training loss')\n",
    "# b는 \"파란 실선\"입니다\n",
    "plt.plot(epochs, val_loss, 'b', label='Validation loss')\n",
    "plt.title('Training and validation loss')\n",
    "plt.xlabel('Epochs')\n",
    "plt.ylabel('Loss')\n",
    "plt.legend()\n",
    "\n",
    "plt.show()"
   ]
  },
  {
   "cell_type": "code",
   "execution_count": 197,
   "id": "843a78c0",
   "metadata": {},
   "outputs": [
    {
     "data": {
      "image/png": "[encoded data removed]",
      "text/plain": [
       "<Figure size 432x288 with 1 Axes>"
      ]
     },
     "metadata": {
      "needs_background": "light"
     },
     "output_type": "display_data"
    }
   ],
   "source": [
    "plt.clf()   # 그림을 초기화합니다\n",
    "\n",
    "plt.plot(epochs, acc, 'bo', label='Training acc')\n",
    "plt.plot(epochs, val_acc, 'b', label='Validation acc')\n",
    "plt.title('Training and validation accuracy')\n",
    "plt.xlabel('Epochs')\n",
    "plt.ylabel('Accuracy')\n",
    "plt.legend()\n",
    "\n",
    "plt.show()"
   ]
  },
  {
   "cell_type": "code",
   "execution_count": 198,
   "id": "c8f41b3f",
   "metadata": {},
   "outputs": [],
   "source": [
    "y_pred = model.predict(X_test)"
   ]
  },
  {
   "cell_type": "code",
   "execution_count": 199,
   "id": "f544f13e",
   "metadata": {},
   "outputs": [
    {
     "data": {
      "text/plain": [
       "array([[9.7733468e-01],\n",
       "       [4.9031717e-01],\n",
       "       [6.5619749e-01],\n",
       "       ...,\n",
       "       [1.0189637e-01],\n",
       "       [5.2774125e-05],\n",
       "       [2.4412226e-02]], dtype=float32)"
      ]
     },
     "execution_count": 199,
     "metadata": {},
     "output_type": "execute_result"
    }
   ],
   "source": [
    "y_pred"
   ]
  },
  {
   "cell_type": "markdown",
   "id": "b29995e3",
   "metadata": {},
   "source": [
    "결과는 ~%의 정도로 긍정적임 을 나타내는 것으로 보입니다  \n",
    "0.5 이상이면 긍정으로 봐도 될까요?  \n",
    "이 수치를 threshold로 위아래로 구분하여 이진화시키면, 얼마나 비슷한 prediction을 했는지 알 수 있을 것 같습니다  "
   ]
  },
  {
   "cell_type": "code",
   "execution_count": 200,
   "id": "3f8da7d0",
   "metadata": {},
   "outputs": [
    {
     "data": {
      "text/plain": [
       "array([[1.],\n",
       "       [0.],\n",
       "       [1.],\n",
       "       ...,\n",
       "       [0.],\n",
       "       [0.],\n",
       "       [0.]], dtype=float32)"
      ]
     },
     "execution_count": 200,
     "metadata": {},
     "output_type": "execute_result"
    }
   ],
   "source": [
    "for i in range(len(y_pred)):\n",
    "    if(y_pred[i] > 0.5):\n",
    "        y_pred[i] = 1\n",
    "    else:\n",
    "        y_pred[i] = 0\n",
    "\n",
    "y_pred"
   ]
  },
  {
   "cell_type": "code",
   "execution_count": 201,
   "id": "a2e56569",
   "metadata": {},
   "outputs": [
    {
     "data": {
      "text/plain": [
       "array([[20430,  4016],\n",
       "       [ 4007, 20704]])"
      ]
     },
     "execution_count": 201,
     "metadata": {},
     "output_type": "execute_result"
    }
   ],
   "source": [
    "#http://www.gisdeveloper.co.kr/?p=9932 참고\n",
    "\n",
    "from sklearn.metrics import confusion_matrix\n",
    "from sklearn.metrics import accuracy_score, precision_score, recall_score, f1_score\n",
    "\n",
    "cf = confusion_matrix(y_test, y_pred)\n",
    "cf\n",
    "\n"
   ]
  },
  {
   "cell_type": "code",
   "execution_count": 202,
   "id": "90f9b830",
   "metadata": {},
   "outputs": [
    {
     "data": {
      "text/plain": [
       "0.8367882498931993"
      ]
     },
     "execution_count": 202,
     "metadata": {},
     "output_type": "execute_result"
    }
   ],
   "source": [
    "a = accuracy_score(y_test, y_pred)\n",
    "a"
   ]
  },
  {
   "cell_type": "markdown",
   "id": "d0f272d9",
   "metadata": {},
   "source": [
    "예측이 정답과 정확한가를 보여주는 accuracy는 83%"
   ]
  },
  {
   "cell_type": "code",
   "execution_count": 203,
   "id": "2f35a007",
   "metadata": {},
   "outputs": [
    {
     "data": {
      "text/plain": [
       "0.8375404530744337"
      ]
     },
     "execution_count": 203,
     "metadata": {},
     "output_type": "execute_result"
    }
   ],
   "source": [
    "p = precision_score(y_test, y_pred)\n",
    "p"
   ]
  },
  {
   "cell_type": "markdown",
   "id": "b2e8fa79",
   "metadata": {},
   "source": [
    "예측한 것들중에 정답의 비율을 보여주는 정밀도 precision은 83%을 보여줍니다"
   ]
  },
  {
   "cell_type": "code",
   "execution_count": 204,
   "id": "df257191",
   "metadata": {},
   "outputs": [
    {
     "data": {
      "text/plain": [
       "0.837845493909595"
      ]
     },
     "execution_count": 204,
     "metadata": {},
     "output_type": "execute_result"
    }
   ],
   "source": [
    "r = recall_score(y_test, y_pred)\n",
    "r"
   ]
  },
  {
   "cell_type": "markdown",
   "id": "edd1785b",
   "metadata": {},
   "source": [
    "재현률 또한 84%를 보여줬습니다 (찾아야 할 것들 중 실제로 찾은 비율)"
   ]
  },
  {
   "cell_type": "code",
   "execution_count": 205,
   "id": "a174bd2c",
   "metadata": {},
   "outputs": [
    {
     "data": {
      "text/plain": [
       "0.8376929457223201"
      ]
     },
     "execution_count": 205,
     "metadata": {},
     "output_type": "execute_result"
    }
   ],
   "source": [
    "f1 = f1_score(y_test, y_pred)\n",
    "f1"
   ]
  },
  {
   "cell_type": "markdown",
   "id": "d6958935",
   "metadata": {},
   "source": [
    "f1_score가 84%라고 하면, 성능이 낮지는 않다고 할 수 있겠습니다만, 개선의 여지가 충분히 있습니다"
   ]
  },
  {
   "cell_type": "code",
   "execution_count": null,
   "id": "71883c30",
   "metadata": {},
   "outputs": [],
   "source": []
  },
  {
   "cell_type": "markdown",
   "id": "db01e1bd",
   "metadata": {},
   "source": [
    "### CNN  \n",
    "NLP에서도 CNN이 이진 분류 성능이 좋다고 했습니다  \n",
    "테스트 해봅니다  "
   ]
  },
  {
   "cell_type": "code",
   "execution_count": 206,
   "id": "c96af1bf",
   "metadata": {},
   "outputs": [
    {
     "name": "stdout",
     "output_type": "stream",
     "text": [
      "Model: \"sequential_7\"\n",
      "_________________________________________________________________\n",
      "Layer (type)                 Output Shape              Param #   \n",
      "=================================================================\n",
      "embedding_7 (Embedding)      (None, None, 16)          160000    \n",
      "_________________________________________________________________\n",
      "conv1d_6 (Conv1D)            (None, None, 16)          2064      \n",
      "_________________________________________________________________\n",
      "max_pooling1d_3 (MaxPooling1 (None, None, 16)          0         \n",
      "_________________________________________________________________\n",
      "conv1d_7 (Conv1D)            (None, None, 16)          2064      \n",
      "_________________________________________________________________\n",
      "global_max_pooling1d_4 (Glob (None, 16)                0         \n",
      "_________________________________________________________________\n",
      "dense_14 (Dense)             (None, 8)                 136       \n",
      "_________________________________________________________________\n",
      "dense_15 (Dense)             (None, 1)                 9         \n",
      "=================================================================\n",
      "Total params: 164,273\n",
      "Trainable params: 164,273\n",
      "Non-trainable params: 0\n",
      "_________________________________________________________________\n"
     ]
    }
   ],
   "source": [
    "\n",
    "model2 = tf.keras.Sequential()\n",
    "model2.add(tf.keras.layers.Embedding(vocab_size, word_vector_dim, input_shape=(None,)))\n",
    "model2.add(tf.keras.layers.Conv1D(16, 8, activation='relu'))\n",
    "model2.add(tf.keras.layers.MaxPooling1D(4))\n",
    "model2.add(tf.keras.layers.Conv1D(16, 8, activation='relu'))\n",
    "model2.add(tf.keras.layers.GlobalMaxPooling1D())\n",
    "model2.add(tf.keras.layers.Dense(8, activation='relu'))\n",
    "model2.add(tf.keras.layers.Dense(1, activation='sigmoid'))  # 최종 출력은 긍정/부정을 나타내는 1dim 입니다.\n",
    "\n",
    "model2.summary()"
   ]
  },
  {
   "cell_type": "code",
   "execution_count": 207,
   "id": "43eb197c",
   "metadata": {},
   "outputs": [
    {
     "name": "stdout",
     "output_type": "stream",
     "text": [
      "Epoch 1/20\n",
      "229/229 [==============================] - 2s 6ms/step - loss: 0.5208 - accuracy: 0.7382 - val_loss: 0.3760 - val_accuracy: 0.8318\n",
      "Epoch 2/20\n",
      "229/229 [==============================] - 1s 5ms/step - loss: 0.3505 - accuracy: 0.8469 - val_loss: 0.3585 - val_accuracy: 0.8413\n",
      "Epoch 3/20\n",
      "229/229 [==============================] - 1s 5ms/step - loss: 0.3212 - accuracy: 0.8637 - val_loss: 0.3575 - val_accuracy: 0.8431\n",
      "Epoch 4/20\n",
      "229/229 [==============================] - 1s 5ms/step - loss: 0.2985 - accuracy: 0.8747 - val_loss: 0.3563 - val_accuracy: 0.8431\n",
      "Epoch 5/20\n",
      "229/229 [==============================] - 1s 5ms/step - loss: 0.2758 - accuracy: 0.8865 - val_loss: 0.3616 - val_accuracy: 0.8427\n",
      "Epoch 6/20\n",
      "229/229 [==============================] - 1s 5ms/step - loss: 0.2487 - accuracy: 0.9004 - val_loss: 0.3752 - val_accuracy: 0.8413\n",
      "Epoch 7/20\n",
      "229/229 [==============================] - 1s 5ms/step - loss: 0.2190 - accuracy: 0.9154 - val_loss: 0.4007 - val_accuracy: 0.8371\n",
      "Epoch 8/20\n",
      "229/229 [==============================] - 1s 5ms/step - loss: 0.1898 - accuracy: 0.9291 - val_loss: 0.4280 - val_accuracy: 0.8346\n",
      "Epoch 9/20\n",
      "229/229 [==============================] - 1s 5ms/step - loss: 0.1628 - accuracy: 0.9409 - val_loss: 0.4652 - val_accuracy: 0.8316\n",
      "Epoch 10/20\n",
      "229/229 [==============================] - 1s 5ms/step - loss: 0.1398 - accuracy: 0.9511 - val_loss: 0.4904 - val_accuracy: 0.8317\n",
      "Epoch 11/20\n",
      "229/229 [==============================] - 1s 5ms/step - loss: 0.1205 - accuracy: 0.9582 - val_loss: 0.5338 - val_accuracy: 0.8263\n",
      "Epoch 12/20\n",
      "229/229 [==============================] - 1s 5ms/step - loss: 0.1047 - accuracy: 0.9652 - val_loss: 0.5813 - val_accuracy: 0.8237\n",
      "Epoch 13/20\n",
      "229/229 [==============================] - 1s 5ms/step - loss: 0.0928 - accuracy: 0.9695 - val_loss: 0.6192 - val_accuracy: 0.8230\n",
      "Epoch 14/20\n",
      "229/229 [==============================] - 1s 5ms/step - loss: 0.0828 - accuracy: 0.9733 - val_loss: 0.6586 - val_accuracy: 0.8194\n",
      "Epoch 15/20\n",
      "229/229 [==============================] - 1s 5ms/step - loss: 0.0743 - accuracy: 0.9763 - val_loss: 0.6998 - val_accuracy: 0.8206\n",
      "Epoch 16/20\n",
      "229/229 [==============================] - 1s 5ms/step - loss: 0.0683 - accuracy: 0.9783 - val_loss: 0.7474 - val_accuracy: 0.8177\n",
      "Epoch 17/20\n",
      "229/229 [==============================] - 1s 5ms/step - loss: 0.0623 - accuracy: 0.9800 - val_loss: 0.7943 - val_accuracy: 0.8156\n",
      "Epoch 18/20\n",
      "229/229 [==============================] - 1s 5ms/step - loss: 0.0583 - accuracy: 0.9813 - val_loss: 0.8222 - val_accuracy: 0.8170\n",
      "Epoch 19/20\n",
      "229/229 [==============================] - 1s 5ms/step - loss: 0.0539 - accuracy: 0.9828 - val_loss: 0.8558 - val_accuracy: 0.8123\n",
      "Epoch 20/20\n",
      "229/229 [==============================] - 1s 5ms/step - loss: 0.0501 - accuracy: 0.9840 - val_loss: 0.9032 - val_accuracy: 0.8130\n"
     ]
    }
   ],
   "source": [
    "model2.compile(optimizer='adam',\n",
    "              loss='binary_crossentropy',\n",
    "              metrics=['accuracy'])\n",
    "              \n",
    "epochs=20  # 몇 epoch를 훈련하면 좋을지 결과를 보면서 바꾸어 봅시다. \n",
    "\n",
    "history2 = model2.fit(partial_x_train,\n",
    "                    partial_y_train,\n",
    "                    epochs=epochs,\n",
    "                    batch_size=512,\n",
    "                    validation_data=(x_val, y_val),\n",
    "                    verbose=1)"
   ]
  },
  {
   "cell_type": "code",
   "execution_count": 208,
   "id": "bbc65565",
   "metadata": {},
   "outputs": [
    {
     "name": "stdout",
     "output_type": "stream",
     "text": [
      "914/914 - 1s - loss: 0.9032 - accuracy: 0.8130\n",
      "[0.9032433032989502, 0.8129703402519226]\n"
     ]
    }
   ],
   "source": [
    "results2 = model2.evaluate(x_val,  y_val, verbose=2)\n",
    "\n",
    "print(results2)"
   ]
  },
  {
   "cell_type": "code",
   "execution_count": 209,
   "id": "b8723a28",
   "metadata": {},
   "outputs": [
    {
     "data": {
      "image/png": "[encoded data removed]",
      "text/plain": [
       "<Figure size 432x288 with 1 Axes>"
      ]
     },
     "metadata": {
      "needs_background": "light"
     },
     "output_type": "display_data"
    }
   ],
   "source": [
    "history_dict2 = history.history\n",
    "\n",
    "acc = history_dict2['accuracy']\n",
    "val_acc = history_dict2['val_accuracy']\n",
    "loss = history_dict2['loss']\n",
    "val_loss = history_dict2['val_loss']\n",
    "\n",
    "epochs = range(1, len(acc) + 1)\n",
    "\n",
    "# \"bo\"는 \"파란색 점\"입니다\n",
    "plt.plot(epochs, loss, 'bo', label='Training loss')\n",
    "# b는 \"파란 실선\"입니다\n",
    "plt.plot(epochs, val_loss, 'b', label='Validation loss')\n",
    "plt.title('Training and validation loss')\n",
    "plt.xlabel('Epochs')\n",
    "plt.ylabel('Loss')\n",
    "plt.legend()\n",
    "\n",
    "plt.show()"
   ]
  },
  {
   "cell_type": "code",
   "execution_count": 210,
   "id": "8fe7cd54",
   "metadata": {},
   "outputs": [
    {
     "data": {
      "image/png": "[encoded data removed]",
      "text/plain": [
       "<Figure size 432x288 with 1 Axes>"
      ]
     },
     "metadata": {
      "needs_background": "light"
     },
     "output_type": "display_data"
    }
   ],
   "source": [
    "plt.clf()   # 그림을 초기화합니다\n",
    "\n",
    "plt.plot(epochs, acc, 'bo', label='Training acc')\n",
    "plt.plot(epochs, val_acc, 'b', label='Validation acc')\n",
    "plt.title('Training and validation accuracy')\n",
    "plt.xlabel('Epochs')\n",
    "plt.ylabel('Accuracy')\n",
    "plt.legend()\n",
    "\n",
    "plt.show()"
   ]
  },
  {
   "cell_type": "markdown",
   "id": "4ffc919c",
   "metadata": {},
   "source": [
    "training acc가 엄청 높은것에 비해 val acc와 격차가 큽니다  \n",
    "엄청난 오버피팅이 일어났습니다  \n",
    "  \n",
    "프레딕션을 진행해보겠습니다  "
   ]
  },
  {
   "cell_type": "code",
   "execution_count": 211,
   "id": "48d7d49d",
   "metadata": {},
   "outputs": [],
   "source": [
    "y_pred2 = model2.predict(X_test)"
   ]
  },
  {
   "cell_type": "code",
   "execution_count": 212,
   "id": "a3fdc5a9",
   "metadata": {},
   "outputs": [],
   "source": [
    "#마찬가지로 이진분류를 위해 작업합니다\n",
    "for i in range(len(y_pred2)):\n",
    "    if(y_pred2[i] > 0.5):\n",
    "        y_pred2[i] = 1\n",
    "    else:\n",
    "        y_pred2[i] = 0"
   ]
  },
  {
   "cell_type": "code",
   "execution_count": 214,
   "id": "52af7809",
   "metadata": {},
   "outputs": [],
   "source": [
    "cf = confusion_matrix(y_test, y_pred2)\n",
    "a = accuracy_score(y_test, y_pred2)\n",
    "p = precision_score(y_test, y_pred2)\n",
    "r = recall_score(y_test, y_pred2)\n",
    "f1 = f1_score(y_test, y_pred2)"
   ]
  },
  {
   "cell_type": "code",
   "execution_count": 216,
   "id": "21c0afa7",
   "metadata": {},
   "outputs": [
    {
     "name": "stdout",
     "output_type": "stream",
     "text": [
      "confution matrix\n",
      "[[19756  4690]\n",
      " [ 4776 19935]]\n",
      "\n",
      "accuracy :  0.8074333258742397\n",
      "precision score :  0.8095431472081218\n",
      "recall score :  0.8067257496661406\n",
      "f1_score :  0.8081319928652506\n"
     ]
    }
   ],
   "source": [
    "\n",
    "print(\"confution matrix\")\n",
    "print(cf)\n",
    "print()\n",
    "print(\"accuracy : \", a)\n",
    "print(\"precision score : \", p)\n",
    "print(\"recall score : \", r)\n",
    "print(\"f1_score : \", f1)"
   ]
  },
  {
   "cell_type": "markdown",
   "id": "25e824f3",
   "metadata": {},
   "source": [
    "CNN의 train / test 속도는 체감상 더 빨랐지만, 성능은  RNN보다 전체적으로 떨어집니다"
   ]
  },
  {
   "cell_type": "code",
   "execution_count": null,
   "id": "5ab8294a",
   "metadata": {},
   "outputs": [],
   "source": []
  },
  {
   "cell_type": "code",
   "execution_count": null,
   "id": "aee8b9db",
   "metadata": {},
   "outputs": [],
   "source": []
  },
  {
   "cell_type": "markdown",
   "id": "1b9b75af",
   "metadata": {},
   "source": [
    "### CNN - Maxpooling 1D  \n",
    "Convolution 과정을 생략합니다  \n",
    "이 과정이 의외로 성능이 좋을수도 있다고 하여 기대됩니다  "
   ]
  },
  {
   "cell_type": "code",
   "execution_count": 217,
   "id": "db45089e",
   "metadata": {},
   "outputs": [
    {
     "name": "stdout",
     "output_type": "stream",
     "text": [
      "Model: \"sequential_8\"\n",
      "_________________________________________________________________\n",
      "Layer (type)                 Output Shape              Param #   \n",
      "=================================================================\n",
      "embedding_8 (Embedding)      (None, None, 16)          160000    \n",
      "_________________________________________________________________\n",
      "global_max_pooling1d_5 (Glob (None, 16)                0         \n",
      "_________________________________________________________________\n",
      "dense_16 (Dense)             (None, 8)                 136       \n",
      "_________________________________________________________________\n",
      "dense_17 (Dense)             (None, 1)                 9         \n",
      "=================================================================\n",
      "Total params: 160,145\n",
      "Trainable params: 160,145\n",
      "Non-trainable params: 0\n",
      "_________________________________________________________________\n"
     ]
    }
   ],
   "source": [
    "model3 = tf.keras.Sequential()\n",
    "model3.add(tf.keras.layers.Embedding(vocab_size, word_vector_dim, input_shape=(None,)))\n",
    "model3.add(tf.keras.layers.GlobalMaxPooling1D())\n",
    "model3.add(tf.keras.layers.Dense(8, activation='relu'))\n",
    "model3.add(tf.keras.layers.Dense(1, activation='sigmoid'))  # 최종 출력은 긍정/부정을 나타내는 1dim 입니다.\n",
    "\n",
    "model3.summary()"
   ]
  },
  {
   "cell_type": "code",
   "execution_count": 219,
   "id": "b1c8559d",
   "metadata": {},
   "outputs": [
    {
     "name": "stdout",
     "output_type": "stream",
     "text": [
      "Epoch 1/20\n",
      "229/229 [==============================] - 1s 4ms/step - loss: 0.5874 - accuracy: 0.7746 - val_loss: 0.4410 - val_accuracy: 0.8157\n",
      "Epoch 2/20\n",
      "229/229 [==============================] - 1s 4ms/step - loss: 0.3873 - accuracy: 0.8367 - val_loss: 0.3670 - val_accuracy: 0.8383\n",
      "Epoch 3/20\n",
      "229/229 [==============================] - 1s 4ms/step - loss: 0.3343 - accuracy: 0.8589 - val_loss: 0.3524 - val_accuracy: 0.8451\n",
      "Epoch 4/20\n",
      "229/229 [==============================] - 1s 4ms/step - loss: 0.3056 - accuracy: 0.8727 - val_loss: 0.3499 - val_accuracy: 0.8480\n",
      "Epoch 5/20\n",
      "229/229 [==============================] - 1s 4ms/step - loss: 0.2847 - accuracy: 0.8829 - val_loss: 0.3519 - val_accuracy: 0.8458\n",
      "Epoch 6/20\n",
      "229/229 [==============================] - 1s 4ms/step - loss: 0.2676 - accuracy: 0.8918 - val_loss: 0.3574 - val_accuracy: 0.8469\n",
      "Epoch 7/20\n",
      "229/229 [==============================] - 1s 4ms/step - loss: 0.2532 - accuracy: 0.8992 - val_loss: 0.3655 - val_accuracy: 0.8454\n",
      "Epoch 8/20\n",
      "229/229 [==============================] - 1s 4ms/step - loss: 0.2404 - accuracy: 0.9054 - val_loss: 0.3734 - val_accuracy: 0.8443\n",
      "Epoch 9/20\n",
      "229/229 [==============================] - 1s 4ms/step - loss: 0.2290 - accuracy: 0.9108 - val_loss: 0.3828 - val_accuracy: 0.8430\n",
      "Epoch 10/20\n",
      "229/229 [==============================] - 1s 4ms/step - loss: 0.2186 - accuracy: 0.9162 - val_loss: 0.3926 - val_accuracy: 0.8431\n",
      "Epoch 11/20\n",
      "229/229 [==============================] - 1s 4ms/step - loss: 0.2092 - accuracy: 0.9209 - val_loss: 0.4043 - val_accuracy: 0.8414\n",
      "Epoch 12/20\n",
      "229/229 [==============================] - 1s 4ms/step - loss: 0.2006 - accuracy: 0.9250 - val_loss: 0.4152 - val_accuracy: 0.8400\n",
      "Epoch 13/20\n",
      "229/229 [==============================] - 1s 4ms/step - loss: 0.1926 - accuracy: 0.9284 - val_loss: 0.4257 - val_accuracy: 0.8390\n",
      "Epoch 14/20\n",
      "229/229 [==============================] - 1s 4ms/step - loss: 0.1857 - accuracy: 0.9317 - val_loss: 0.4371 - val_accuracy: 0.8379\n",
      "Epoch 15/20\n",
      "229/229 [==============================] - 1s 4ms/step - loss: 0.1790 - accuracy: 0.9342 - val_loss: 0.4493 - val_accuracy: 0.8381\n",
      "Epoch 16/20\n",
      "229/229 [==============================] - 1s 4ms/step - loss: 0.1729 - accuracy: 0.9375 - val_loss: 0.4619 - val_accuracy: 0.8369\n",
      "Epoch 17/20\n",
      "229/229 [==============================] - 1s 4ms/step - loss: 0.1671 - accuracy: 0.9397 - val_loss: 0.4722 - val_accuracy: 0.8352\n",
      "Epoch 18/20\n",
      "229/229 [==============================] - 1s 4ms/step - loss: 0.1614 - accuracy: 0.9423 - val_loss: 0.4838 - val_accuracy: 0.8345\n",
      "Epoch 19/20\n",
      "229/229 [==============================] - 1s 4ms/step - loss: 0.1565 - accuracy: 0.9443 - val_loss: 0.4965 - val_accuracy: 0.8326\n",
      "Epoch 20/20\n",
      "229/229 [==============================] - 1s 4ms/step - loss: 0.1519 - accuracy: 0.9467 - val_loss: 0.5085 - val_accuracy: 0.8316\n"
     ]
    }
   ],
   "source": [
    "model3.compile(optimizer='adam',\n",
    "              loss='binary_crossentropy',\n",
    "              metrics=['accuracy'])\n",
    "              \n",
    "epochs=20  # 몇 epoch를 훈련하면 좋을지 결과를 보면서 바꾸어 봅시다. \n",
    "\n",
    "history3 = model3.fit(partial_x_train,\n",
    "                    partial_y_train,\n",
    "                    epochs=epochs,\n",
    "                    batch_size=512,\n",
    "                    validation_data=(x_val, y_val),\n",
    "                    verbose=1)"
   ]
  },
  {
   "cell_type": "code",
   "execution_count": 220,
   "id": "8ebb4a59",
   "metadata": {},
   "outputs": [
    {
     "name": "stdout",
     "output_type": "stream",
     "text": [
      "914/914 - 1s - loss: 0.5085 - accuracy: 0.8316\n",
      "[0.508488118648529, 0.831577479839325]\n"
     ]
    }
   ],
   "source": [
    "results3 = model3.evaluate(x_val,  y_val, verbose=2)\n",
    "\n",
    "print(results3)"
   ]
  },
  {
   "cell_type": "code",
   "execution_count": 221,
   "id": "ba562494",
   "metadata": {},
   "outputs": [
    {
     "data": {
      "image/png": "[encoded data removed]",
      "text/plain": [
       "<Figure size 432x288 with 1 Axes>"
      ]
     },
     "metadata": {
      "needs_background": "light"
     },
     "output_type": "display_data"
    }
   ],
   "source": [
    "history_dict3 = history.history\n",
    "\n",
    "acc = history_dict3['accuracy']\n",
    "val_acc = history_dict3['val_accuracy']\n",
    "loss = history_dict3['loss']\n",
    "val_loss = history_dict3['val_loss']\n",
    "\n",
    "epochs = range(1, len(acc) + 1)\n",
    "\n",
    "# \"bo\"는 \"파란색 점\"입니다\n",
    "plt.plot(epochs, loss, 'bo', label='Training loss')\n",
    "# b는 \"파란 실선\"입니다\n",
    "plt.plot(epochs, val_loss, 'b', label='Validation loss')\n",
    "plt.title('Training and validation loss')\n",
    "plt.xlabel('Epochs')\n",
    "plt.ylabel('Loss')\n",
    "plt.legend()\n",
    "\n",
    "plt.show()"
   ]
  },
  {
   "cell_type": "code",
   "execution_count": 222,
   "id": "4500b0cd",
   "metadata": {},
   "outputs": [
    {
     "data": {
      "image/png": "[encoded data removed]",
      "text/plain": [
       "<Figure size 432x288 with 1 Axes>"
      ]
     },
     "metadata": {
      "needs_background": "light"
     },
     "output_type": "display_data"
    }
   ],
   "source": [
    "plt.clf()   # 그림을 초기화합니다\n",
    "\n",
    "plt.plot(epochs, acc, 'bo', label='Training acc')\n",
    "plt.plot(epochs, val_acc, 'b', label='Validation acc')\n",
    "plt.title('Training and validation accuracy')\n",
    "plt.xlabel('Epochs')\n",
    "plt.ylabel('Accuracy')\n",
    "plt.legend()\n",
    "\n",
    "plt.show()"
   ]
  },
  {
   "cell_type": "markdown",
   "id": "42fb04e4",
   "metadata": {},
   "source": [
    "일반 CNN와 마찬가지로 overfittig이 일어났습니다  \n",
    "양측 그래프 추이를 보아하니 validation의 상승이 일어나지 않습니다  \n",
    "validation이 training시 parameter에 영향을 끼지지 못하는 듯 합니다  "
   ]
  },
  {
   "cell_type": "code",
   "execution_count": 223,
   "id": "497bfe0c",
   "metadata": {},
   "outputs": [],
   "source": [
    "y_pred3 = model3.predict(X_test)"
   ]
  },
  {
   "cell_type": "code",
   "execution_count": 224,
   "id": "9b6271d6",
   "metadata": {},
   "outputs": [],
   "source": [
    "#마찬가지로 이진분류를 위해 작업합니다\n",
    "for i in range(len(y_pred3)):\n",
    "    if(y_pred3[i] > 0.5):\n",
    "        y_pred3[i] = 1\n",
    "    else:\n",
    "        y_pred3[i] = 0"
   ]
  },
  {
   "cell_type": "code",
   "execution_count": 225,
   "id": "2c1a0a61",
   "metadata": {},
   "outputs": [],
   "source": [
    "cf = confusion_matrix(y_test, y_pred3)\n",
    "a = accuracy_score(y_test, y_pred3)\n",
    "p = precision_score(y_test, y_pred3)\n",
    "r = recall_score(y_test, y_pred3)\n",
    "f1 = f1_score(y_test, y_pred3)"
   ]
  },
  {
   "cell_type": "code",
   "execution_count": 226,
   "id": "894ee7ad",
   "metadata": {},
   "outputs": [
    {
     "name": "stdout",
     "output_type": "stream",
     "text": [
      "confution matrix\n",
      "[[20243  4203]\n",
      " [ 4315 20396]]\n",
      "\n",
      "accuracy :  0.8267184734625791\n",
      "precision score :  0.8291393959104029\n",
      "recall score :  0.8253814090890697\n",
      "f1_score :  0.8272561346582843\n"
     ]
    }
   ],
   "source": [
    "\n",
    "print(\"confution matrix\")\n",
    "print(cf)\n",
    "print()\n",
    "print(\"accuracy : \", a)\n",
    "print(\"precision score : \", p)\n",
    "print(\"recall score : \", r)\n",
    "print(\"f1_score : \", f1)"
   ]
  },
  {
   "cell_type": "markdown",
   "id": "ea52b8fd",
   "metadata": {},
   "source": [
    "일반 CNN보다는 약간의 성능이 올라갔습니다만, RNN에 비하면 성능이 부족한 듯 합니다"
   ]
  },
  {
   "cell_type": "code",
   "execution_count": null,
   "id": "c07aa6b3",
   "metadata": {},
   "outputs": [],
   "source": []
  },
  {
   "cell_type": "code",
   "execution_count": null,
   "id": "8cd50a56",
   "metadata": {},
   "outputs": [],
   "source": []
  },
  {
   "cell_type": "code",
   "execution_count": null,
   "id": "90273a31",
   "metadata": {},
   "outputs": [],
   "source": []
  },
  {
   "cell_type": "markdown",
   "id": "f9ddc289",
   "metadata": {},
   "source": [
    "## 회고  \n",
    "  \n",
    "일정관리를 하지 못해 프로젝트를 충분히 진행하지 못했습니다 많이 속상합니다  \n",
    "CV쪽에 관심이 막대하고, NLP쪽은 아무리해도 익숙하지 않아 이번 제출을 포기할까 했지만, \n",
    "한번 포기하기 시작하면 쭉 NLP에 관심을 가지지 않을 것 같아, 개인적으로는 무리해서 진행하게 되었습니다  \n",
    "  \n",
    "프로젝트를 하면서, 아직 복습할 것들이 많이 남았지만  NLP쪽에 대해 더 배우게 되고  \n",
    "또 해당분야에 가지던 막연한 두려움 또한 조금 극복한 듯 합니다  \n",
    "  \n",
    "### 개선사항 꼭 지키겠습니다  \n",
    "모델의 parameter를 바꾸어 학습  \n",
    "디테일한 전처리  \n",
    "여러 모델의 테스트 결과를 동시에 비교하는 평가  \n",
    "genism 및 word2vec의 활용  \n"
   ]
  },
  {
   "cell_type": "code",
   "execution_count": null,
   "id": "cafab032",
   "metadata": {},
   "outputs": [],
   "source": []
  },
  {
   "cell_type": "code",
   "execution_count": null,
   "id": "d73e0bca",
   "metadata": {},
   "outputs": [],
   "source": []
  },
  {
   "cell_type": "code",
   "execution_count": null,
   "id": "4767683e",
   "metadata": {},
   "outputs": [],
   "source": []
  },
  {
   "cell_type": "code",
   "execution_count": 126,
   "id": "8823c54c",
   "metadata": {},
   "outputs": [],
   "source": [
    "#추후에 진행할 내용"
   ]
  },
  {
   "cell_type": "code",
   "execution_count": 103,
   "id": "b526f77e",
   "metadata": {},
   "outputs": [
    {
     "data": {
      "text/plain": [
       "['아 더빙  진짜 짜증나네요 목소리',\n",
       " '흠  포스터보고 초딩영화줄  오버연기조차 가볍지 않구나',\n",
       " '너무재밓었다그래서보는것을추천한다',\n",
       " '교도소 이야기구먼  솔직히 재미는 없다 평점 조정',\n",
       " '사이몬페그의 익살스런 연기가 돋보였던 영화 스파이더맨에서 늙어보이기만 했던 커스틴 던스트가 너무나도 이뻐보였다',\n",
       " '막 걸음마 뗀 3세부터 초등학교 1학년생인 8살용영화    별반개도 아까움',\n",
       " '원작의 긴장감을 제대로 살려내지못했다',\n",
       " '별 반개도 아깝다 욕나온다 이응경 길용우 연기생활이몇년인지 정말 발로해도 그것보단 낫겟다 납치 감금만반복반복 이드라마는 가족도없다 연기못하는사람만모엿네',\n",
       " '액션이 없는데도 재미 있는 몇안되는 영화',\n",
       " '왜케 평점이 낮은건데 꽤 볼만한데  헐리우드식 화려함에만 너무 길들여져 있나',\n",
       " '걍인피니트가짱이다 진짜짱이다',\n",
       " '볼때마다 눈물나서 죽겠다90년대의 향수자극 허진호는 감성절제멜로의 달인이다',\n",
       " '울면서 손들고 횡단보도 건널때 뛰쳐나올뻔 이범수 연기 드럽게못해',\n",
       " '담백하고 깔끔해서 좋다 신문기사로만 보다 보면 자꾸 잊어버린다 그들도 사람이었다는 것을',\n",
       " '취향은 존중한다지만 진짜 내생에 극장에서 본 영화중 가장 노잼 노감동임 스토리도 어거지고 감동도 어거지',\n",
       " '냥 매번 긴장되고 재밋음',\n",
       " '참 사람들 웃긴게 바스코가 이기면 락스코라고 까고바비가 이기면 아이돌이라고 깐다 그냥 까고싶어서 안달난것처럼 보인다',\n",
       " '굿바이 레닌 표절인것은 이해하는데 왜 뒤로 갈수록 재미없어지냐',\n",
       " '이건 정말 깨알 캐스팅과 질퍽하지않은 산뜻한 내용구성이 잘 버무러진 깨알일드',\n",
       " '약탈자를 위한 변명 이라 저놈들은 착한놈들 절대 아닌걸요',\n",
       " '나름 심오한 뜻도 있는 듯 그냥 학생이 선생과 놀아나는 영화는 절대 아님',\n",
       " '보면서 웃지 않는 건 불가능하다',\n",
       " '재미없다 지루하고 같은 음식 영화인데도 바베트의 만찬하고 넘 차이남  바베트의 만찬은 이야기도 있고 음식 보는재미도 있는데  이건 볼게없다 음식도 별로 안나오고 핀란드 풍경이라도 구경할랫는데 그것도 별로 안나옴',\n",
       " '절대 평범한 영화가 아닌 수작이라는걸 말씀드립니다',\n",
       " '주제는 좋은데 중반부터 지루하다',\n",
       " '다 짤랐을꺼야 그래서 납득할 수 없었던거야  그럴꺼야  꼭 그랬던걸꺼야',\n",
       " 'kl2g 고추를 털어버려야 할텐데',\n",
       " '카밀라벨 발연기',\n",
       " '재밋는뎅',\n",
       " '센스있는 연출력 탁월한 캐스팅 90년대의 향수  그래서 9점',\n",
       " '엄포스의 위력을 다시 한번 깨닫게 해준 적 남 꽃검사님도 연기 정말 좋았어요 완전 명품드라마',\n",
       " '졸쓰레기 진부하고말도안됌  아 시간아까워',\n",
       " '재밌는데 별점이 왜이리 낮은고',\n",
       " '1 라도 기대했던 내가 죄인입니다 죄인입니다',\n",
       " '아직도 이 드라마는 내인생의 최고',\n",
       " '패션에 대한 열정 안나 윈투어',\n",
       " '키이라 나이틀리가 연기하고자 했던건 대체 정신장애일까 틱장애일까',\n",
       " '허허  원작가 정신나간 유령이라  재미있겠네요',\n",
       " '포스터는 있어보이는데 관객은 114명이네',\n",
       " '이 영화가 왜 이렇게 저평가 받는지 모르겠다',\n",
       " '단순하면서 은은한 매력의 영화',\n",
       " '다 알바생인가 내용도 없고 무서운거도 없고 웃긴거도 하나도 없음 완전 별싱거운 영화  내 시간 넘 아까움   완전 낚임',\n",
       " '오게두어라 서리한이 굶주렸다',\n",
       " '정말 맘에 들어요 그래서 또 보고싶은데 또 보는 방법이 없네',\n",
       " '윤제문이라는 멋진 배우를 발견하게 됐어요 소소한 일탈이 잔잔한 미소를 머금게 합니다 음악은 조금 아쉽네요  8점 주고 싶은데 평점 올리고 싶어 10점 줄게요',\n",
       " '평점에속지마시길시간낭비 돈낭비임',\n",
       " '리얼리티가 뛰어나긴 한데 큰 공감은 안간다 이민기캐릭터는 정신의학상 분노조절장애 초기 증상일거다 툭하면 사람패고 욕하고 물건 파손하고  조금 오바였음 극 초반엔 신선했는데 가면 갈수록 이민기 정신상태 공감불가',\n",
       " '마이너스는 왜없냐  뮤비 보고 영화수준 딱 알만하더군  북한에서 이런거 만들라고 돈 대주던',\n",
       " '난 우리영화를 사랑합니다',\n",
       " '데너리스 타르 가르엔  나도 용의주인이 되고 싶다  누이랑 근친상간이나 하고 다닐지라도 소설 속에선 제일 멋진 놈이 자이메 라니스터였는데 드라마속에선 드래곤 용 이 제일 멋지네 웃음 감독님 토르 2 다크 월드는 말아 잡수셨을지라도 기본 선방은 했음',\n",
       " '영화가 사람의 영혼을 어루만져 줄 수도 있군요 거친 세상사를 잠시 잊고 동화같은 영화에 행복했네요',\n",
       " '야 세르게이 작은고추의 매운맛을 보여주마 포퐁저그 콩진호가 간다',\n",
       " '이렇게 가슴시리게 본 드라마가 또 있을까 감동 그 자체',\n",
       " '난또 저 꼬마애가 무슨 원한이 깊길래  했더니 oo 그냥 혼자 나대다 oo걸 어쩌라고',\n",
       " '재미있어요',\n",
       " '전 좋아요',\n",
       " '최고',\n",
       " '너무 충격적이엇다 기분을 완전히 푹 꺼지게 하는 느낌  활력이라고는 하나도 없는 너무나도 무거운  지독하고 차갑고 무자비하다 그저 일본인들의 상상력은 정말 대단한거 같다는 생각이 든다',\n",
       " '심심한영화',\n",
       " '백봉기 언제나오나요',\n",
       " '보는내내 그대로 들어맞는 예측 카리스마 없는 악역',\n",
       " '불알이 나와서 당황  아무튼 영화가 중간에 끝나는 느낌',\n",
       " '평범함속에 녹아든 평범한 일상 조금 밋밋한게 흠',\n",
       " '보던거라 계속보고있는데 전개도 느리고 주인공인 은희는 한두컷 나오면서 소극적인모습에 짜증이  맨날 언제끝나나 기대만하고있어요 전개좀 빨리빨리',\n",
       " '사랑하고싶게하는 가슴속온감정을헤집어놓는영화예요정말최고',\n",
       " '많은 사람들이 이 다큐를 보고 우리나라 슬픈 현대사의 한 단면에 대해 깊이 생각하고 사죄하고 바로 잡기 위해 노력했으면 합니다 말로만 듣던 보도연맹 그 민간인 학살이 이정도 일 줄이야 이건 명백한 살인입니다 살인자들은 다 어디있나요',\n",
       " '예전 작품 캐릭터 에피소드 재탕 삼탕 사골우려먹듯 우리고 내용은 산으로 가고 시청률은 아예안나오고 이제 70회중반인데 120부작이라니',\n",
       " '김남길의 백점짜리 연기력과 초반 몰입도에도 불구하고 지루하고 손예진',\n",
       " '재밌네 비슷한 영화를 안보신 분들한테는 재미있을 듯',\n",
       " '노래실력으로뽑는게 맞냐 박시환이 mama나가면 진짜 망신이다',\n",
       " '아 일본영화 다이런건가  유치하다',\n",
       " '이틀만에 다 봤어요 재밌어요 근데 차 안에 물건 넣어 조작하려고 하면 차 안이 열려있다던지 집 안이 활짝 열려서 아무나 들어간다던가 문자를 조작하려고하면 비번이 안 걸려있고   그런 건 억지스러웠는데 그래도 내용 자체는 좋았어요',\n",
       " '졸작',\n",
       " '재밋네요 달팽이가 빨라서 더 재밌었어요',\n",
       " '어설픈 전개 어이없는 결말',\n",
       " '부패한 로마노프 왕조를 기리는 뭣같은 영화  온몸으로 항거했던 러시아 민중들이 그저 폭도냐',\n",
       " '내용전개는 무난한 편이였구 잘 보았습니다',\n",
       " '매우 실망',\n",
       " '한국영화 흥행코드 갈등 갈등 계 에속 갈등 화해 감동 평점 10점 남발 흥행 뻔하지 뭐',\n",
       " '아햏햏 아햏햏 아햏햏',\n",
       " '뭐냐 시작하고 3분만에 나왔다 리플릿 사진 보며 불안하더니만',\n",
       " '단연 최고라고 할수있지',\n",
       " '감독이 럼먹고 영화를 만들었나보다  관객에게 뭘 말하는지도 모르겠고 엉망진창 개진창이다',\n",
       " '이건 뭐냐 우뢰매냐',\n",
       " '정말쓰레기영화입니다',\n",
       " '진정 위대한 영화 최고임',\n",
       " '별루 였다',\n",
       " '내일이 기대되는',\n",
       " '근데 조미가 막문위 좋아한건가요',\n",
       " '진짜 골깜   눈 부라릴때 쓰러짐',\n",
       " '성룡영화중 최악인듯',\n",
       " '골때리네   걸스데이 이혜리 잘 되라',\n",
       " '서기가이뻐서',\n",
       " '완전 재밌어요   백인공주귀여움',\n",
       " '인상적인 영화였다',\n",
       " '어내스트와 셀레스틴 완전 강추에요 정말 재밌습니다',\n",
       " '재미있는영화입니다',\n",
       " '클라라볼라고화신본거아닌데',\n",
       " '진짜 보면서 너무 슬펐던 영화다',\n",
       " '설정이 재밌고 새로운 에피소드 내에서 메인 스토리도 차차 나오는게 재밌음',\n",
       " '신카이 마코토의 작화와 미유와 하나카나가 연기를 잘해줘서 더대박이였다',\n",
       " '재미없음 진심 1이훨나 캐스팅두못한듯',\n",
       " '잔잔한게 생각보다 볼만한 영화인거 같습니다',\n",
       " '감독님들 고은님 쓰면 영화안봅니다',\n",
       " '무섭지도 않았고 스토리도',\n",
       " '영화속 억지스럽고 노골적인 술광고를 좀 은은하고 센스있게 했으면 어땠을까',\n",
       " '킬링타임',\n",
       " '크리스마스하면 떠오르는영화',\n",
       " '재미있게 봤습니다 매력적인 행복이네요',\n",
       " '음악에 완전히 빠져서 볼 수 있었던 영화 쫌 산만하긴 하던데',\n",
       " '태어나서 처음으로 영화보다 중간에 나왔습니다  불륜이 로맨스냐',\n",
       " '왕짜증   아주 전개를 짬뽕으로 믹스했구나  음향만 무섭게하네 하아',\n",
       " '솔직히 난 별루더라 시간낭비느낌',\n",
       " '대박',\n",
       " '시청률 기준이 되는 패널가구들 머하는거지 명작드라마 다 망치네  내가 다 서운하다',\n",
       " '내용이 이상해',\n",
       " '몬스터 주식회사 3d 재밌게 봤다',\n",
       " '내용전개가 너무나 느리다',\n",
       " '소재는 흥미를 끌지만 이야기 전개가 투박해서 몰입이 안되는군',\n",
       " '절대 보지마라 쓰레기 영화',\n",
       " '중국인 특유의 과장 허풍  있어보이려고 안간힘 쓴 노력은 가상하나 고증과 현실감 떨어지는 설정이 거북스럽다  도대체 그들은 왜 이렇게까지 스스로를 과대포장하는 것인지',\n",
       " '그냥 불법체류자 때려잡는 영화면 좋았을텐데  무슨 우상화를 만든다고 미국의 따뜻한 설정  이건 뭥미',\n",
       " '2년의 삶속에 주인공의 생애가 전부 드러난 듯 하다',\n",
       " '별점10점가자',\n",
       " '별로다',\n",
       " '본지 꽤 지난 후에 남기지만  재미있었음',\n",
       " '아니 이게 왜 9점대 일까',\n",
       " '10년이 지나 다시 보게된 영화  다시봐도 그 순수한 사랑에 감동  숀펜의 연기또한',\n",
       " '올레에 공짜로있길래 봤음  헐   스토리가 문제가아니라 연기자들이 전혀 배역이랑 어울리지않음 그리고 상대배우들하고 다 따로 노는거같음  이건 연기자들도 문제있음 보아는 진심 완전 별로임 라미란하고 아들이 젤 볼만했음',\n",
       " '너무 욕심이 많았던 영화 어느 한 쪽만이라도 제대로 보여줬다면',\n",
       " '아 빵점',\n",
       " '베댓이 말을 아주 잘써놨네',\n",
       " '아주 모자라진 않다',\n",
       " '영화 도둑들이나 뫼비우스 하고 같은 나라에서 만들어졌다는게 믿어지냐',\n",
       " '온몸이  찌릿 짜릿 나두 용기를 가져야지',\n",
       " '정말재미있고 교훈적인 영화이네요',\n",
       " '당시의 상황과 주제를 주입식이 아닌 긴장감있고 재밌게 전하는 작품',\n",
       " '케이블에서 그만 나와줬으면',\n",
       " '다르덴 이냐리투 차이밍량이 하나도 안섞인채 짬뽕 그릇에 담겨있다',\n",
       " '여군 잼없음 뭐하는건지   잼없음 엠비씨 다잼없음 질린다이제',\n",
       " '좋구나',\n",
       " '한석규 김혜수 연기만 돋보인 영화 어딘지 모르게 많이 어설픈 영화',\n",
       " '솔직히 에볼라바이러스가 떠들석해서 보게된영화인데 작품성이나 어떤면에서도 20여년전 영화라고보기엔 믿기힘들정도로 정말 잘만들었다고본다 마지막후반부가 살짝 아쉽긴하지만 이정도면 수작이라고본다 시간이 아깝지않은영화',\n",
       " '볼만해',\n",
       " '재미있다고 허풍 떨지 마세요',\n",
       " '용가리 진짜짱짱맨이다',\n",
       " '이 영화를 이제서야 보다니  감히 내 인생 최고의 영화중 하나로 꼽을 수 있을만한 작품 어떻게 살아야할지 나를 위한 고민을 한번 더 하게 되는 시간 그리고 모건 프리먼은 나이가 들어도 여전히 섹시하다',\n",
       " '작가가별로다 내용이진짜별로임  맨날그냥기대하고 재방송하면 혹시나하고봐줘도 답없다진짜',\n",
       " '명작도 이런 명작이 있을까 싶다 보고 또 봐도 여운이 남는 영화',\n",
       " '아 진짜 조금만 더 손 좀 보면 왠만한 상업 영화 못지 않게 퀄리티 쩔게 만들어 질 수 있었는데 아쉽네요 그래도 충분히 재미있었습니다 개인적으로 조금만 더 잔인하게 더 자극적으로 노출씬도 화끈하게 했더라면 어땠을까 하는 국산영화라 많이 아낀 듯 보임',\n",
       " '그만좀 끌고 이제 끝내라 지겹다 지겨워',\n",
       " '아',\n",
       " '역시 드니로의 연기는 일품 나도 맥스가 샘을 죽이길 바랬다',\n",
       " '나름 괜찮은 작품입니다',\n",
       " '너무 좋은 영화',\n",
       " '정말 실망 스러웟음',\n",
       " '배우들은 지네들 안뜨니까 이런영화 찍을껀데  왜 안뜨는지 진짜 모르는거야 면상 딱 보면 알겠구만  왜 지네 자신들은 모를까',\n",
       " '어린이가 좋아할듯  내어릴적 동심은 멀리 떠낫나보다',\n",
       " '무술인이 왜 총을드나',\n",
       " '10점',\n",
       " '크리스토퍼왈츠와 타란티노의 조합이란',\n",
       " '한국에선유명한편은아니지만 외국에선 상상초월한 유명한 영화입니다',\n",
       " '오랜만에 재밋는영화봤네요',\n",
       " '종방되어 아쉬워요 오늘막방도 잘봤어요 방송대본이 꽤 완성도있다는 느낌받았고요 요즘 드라마들의 막장에 지쳐있었는데 수백향은 정말 바른드라마였던듯해요 악역들도 그리 심하게 어이없지도 않았고요 mbc화이팅',\n",
       " '평점조절위원회에서 나왔습니다 웃음 김혜선은 내일이 오면 의 김순정 순정이 역할이 제일이다 팜므파탈로써 그 정도까지 잘해낼 줄은 정말 의외였어  연기20년 한사람에게 요즘 사극에서 벌어지고 있는 그녀에 대한 연기논란은 왠지 코미디의한장면 같음 웃음',\n",
       " '영화 끝나갈때쯤에 멍하다가 다보고나면 한마디 나올거임  같다',\n",
       " '공유 존잘',\n",
       " '상쾌발랄한 영화다 말하기 껄끄런 성이란 소재를 유쾌하게 해설했다',\n",
       " '소파에 죽 치고 앉아 지켜 볼 이유가 없는 작품',\n",
       " '로큰롤',\n",
       " '주된 타겟이 어린이니 일반적인 논리가 통하지 않는 건 알겠다 하지만 게임은 흥미롭지 않고 요원이라는 주인공이 너무 무능력해서 별로 재미없다 cg 배경도 거슬린다',\n",
       " '뮤지컬 영화인데 사운드 녹음 엉망 남주는 춤도 못추고 내용은 뻔할뻔 주인공들 목소리도 너무 안어울리고 어제 cgv에서 뛰어 나가려다 참았습니다 진심 말리고 싶습니다 영국의 저예산 dvd용 영화뮤지컬영화 아닙니다 맘마미아 1 10도 안됨',\n",
       " '어린나이에 봤음에도 꽤나 좋아했던 로맨틱코미디',\n",
       " '게이물인줄 모르고 봤네',\n",
       " '알바는꺼저라',\n",
       " '이 영화 머임  내가 왜 받아 봤을까 그것이 알고싶다  이 영화는 배우들과 스텝들이 감독의 꼭두각시였음',\n",
       " '4대2라니  최악',\n",
       " '정말 아름다운 영화 입니다',\n",
       " '자극적인 것에 익숙해진 현대인이 봐도 눈을 떼기 힘든 연출력',\n",
       " '뻑 뻑 잘 읽어볼걸 나도 당했음',\n",
       " '정말 짜증의 극치를 보여주는영화 굉장히 언밸러스한 느낌 뚱뚱하고 못생긴 남자애의 발연기를 시종일관 봐야하는게 고역인듯 간간히 흘러나오는 잔잔한 클래식풍의 음악조차도 듣기싫어 짜증날정도로 상당히 싫은영화',\n",
       " '감동감동  정말 최고네요',\n",
       " '별점 주기도 아깝네요 얼마나 내용이 진부한지 욕 밖에 안나오네요보고 재밌다고 하는 사람 초딩들인가요 죄송해요 너무 화가나서 아무 것도 볼게 없습니다 보지 마세요 그냥 티비판짜집기 한거 같네요',\n",
       " '나 왠만해서 짜증안내는데',\n",
       " '돼지피먹고 닭목따는 장면에선 우웩 역시 무당은 아무나 하는게 아니다',\n",
       " '버려',\n",
       " '유치하고 지루하고 잠이 왔다',\n",
       " '3류풍 판타지 3점만 가져가',\n",
       " '윤종신 복귀는 좋았지만 이하늘은 도대체 왜 뽑혔는지 알수가없다 참가자 실력을 따지기 전에 심사위원 인격과 실력부터 쌓고 오시길  어하어허 그만좀 하고요',\n",
       " '광장한 작품 옛날것도 보고 싶다',\n",
       " '내 생의 최고의 영화',\n",
       " '어린시절 너무 무섭고 재미있게 봤던 추억의 판타지영화 절대 나쁜짓은 금물 지옥가요',\n",
       " '기존 멜로영화 형식을 탈피하려고 하였으나 감정의 절제가 지나쳐 너무 담백한 영화',\n",
       " '난 사랑비 서준에게 쏙 빠져버렸네 1 2 3초만에 쏙 난 절대잊지도않고후회도안할거야',\n",
       " '이영화를보니까 교훈을 주네요 나도 남은인생을 화려하게 살아야겟다  말밖에 안나오네요',\n",
       " '나름 추억에 젖어들고 좋았음 아무생각없이 가볍게 보고오기 추천요',\n",
       " '단순한 싸이코물을 벗어난',\n",
       " '이게 14년도에 만들어진건가요 아니면 예전에 만든거 다시개봉한건가요 너무 허접해요',\n",
       " '넘 사랑스러운 영화다  1보고 2 연이어 봤다  넘 귀여워',\n",
       " '청춘 영화만이 줄 수 있는 감성이 넘쳐난다 이 순간 지나가면 다시 돌아오지 않을테지만 그 순간만큼은 무한할 젊음이 줄 수 있는 그런 감성',\n",
       " 'tv용 건담 시리즈 중에서 아직까지도 최고봉',\n",
       " '개콘은 요즘 갈수록 코너들이 다노잼이고 웃음이안난다',\n",
       " '사다코의 한이 서린 우물펀치  감동',\n",
       " '후세와 사랑하게된 결정적 계기 그시간이 표현되지 않았으며 시람의 생명을 빼앗아야만하는이유등을 시노가 출현하는 연극으 로 더 알려주었으면 하는 생각이든다 또한 시노가 얼마나 본능을절제히면서 시랑을 하려고 노력하는지를 더 보여줬다면 좋았을뻔했다',\n",
       " '새벽시간에 하는 일본 영화들은 전부 개졸작이다 일본영화원래 다이래',\n",
       " '강수연의 나가있어 그리고 최정원의 신음신',\n",
       " '아 정말 김혜성 너무 예쁘네요 이현진도 웃는 거 정말  하',\n",
       " '가발 쓰고 싶다',\n",
       " '화려한여정이인상깊어요 재밋어요 배두나연기정말잘해요',\n",
       " '10대들을 위한 성적 호기심 영화',\n",
       " '감동적인 영화',\n",
       " '이건 말이 필요 없다 그냥 닥치고 봐라',\n",
       " '각기 다른 사람들의 재밌고 멋진 사랑영화',\n",
       " '역시 미국드라마의 파워 정말 알수없는 그 미묘함까지 사로잡아버렸다 최고',\n",
       " '너무너무 훈훈하네요',\n",
       " '이거 응답하라에서 은지원원도 스스로 욕하지 않앗나',\n",
       " '아 너무 웃기고 배꼽 빠질뻔했네  내 컴에 이 영화 있는데',\n",
       " '구성이 상당히 부실한 영화 역시 네이버 평점은 믿을수 없다',\n",
       " '장끌로드의 몰락을 가져온 오우삼 헐리우드 작품중 가장 재미없었던 졸작',\n",
       " '언제적 영웅본색 연출인지 현실성 제로인 영화',\n",
       " '작은거 하나에도 설레어했던 학창시절 그때 그느낌을 다시 느껴볼수있는시간이었다 장면 하나 하나 대사 하나 하나 배경음악 하나 하나 버릴게 없는 드라마',\n",
       " '진심 재미 없는데 너무 평점 높아서 화남',\n",
       " '더럽게 재미없다 어떤 형태로도 와 닿지 않는 허무하고 완벽히 지루한 영화고 영양가 하나도 없는 영화다',\n",
       " '이승기 정말 연기 잘하는  조연들도 연기 정말 잘하고',\n",
       " '현실은 꿈 꿈은 현실',\n",
       " '오늘 현충일특집프로로 보게되었습니다 1963년도의 매우 훌륭한 작품입니다',\n",
       " '판의미로와 동급 trash of the trash',\n",
       " '제대하고 보니까 더 재밌네요',\n",
       " '영화를 보는것만으로도 마음의 휴가를 다녀온 느낌 소박하지고 잔잔하지만 지루하지않은 그래서 다시 보고싶은 영화 햇살가득한 비이의 부엌과 요리도 인상적',\n",
       " '코믹한건 좋았는데 짜임새가 너무 허술하다',\n",
       " '1996년 그때 당시에는 우리 나라에 이런 판타지 로맨스가 없었다  아직도 신현준의 황장군 연기는 음  괜찮네     한석규의 전성시대가 열린 영화   이때 한석규한테 뿅 갔었다',\n",
       " '일단 재생하면 괴물같은 서스펜스 귀신같은 흡입력',\n",
       " '하 진짜 댓글보고 한번쯤볼만한 영화인거같아서봤지만 기가찬다 이게무슨버킷리스트인가 죽기직전에 소원들어주기 내가보기엔 죽기직전에 막 살자 인거같다 감동도없고  진짜 버킷리스트 란 영화에 발톱에 때만큼도 못따라가는쓰레기영화  완존실망',\n",
       " '이시간좀  밝고긍정적인드라마보고싶어서 보긴보는데  오버하는연기들이거슬리네요  연기인게너무표나요  홍혜정역이그나마도후련기도하고시원하고   나머진다들답답하네요  낼월요일인데  해피한것만보고싶네요',\n",
       " '정치인의 모순인가 정치범의 모순인가',\n",
       " '어떻게 이런 상상을 대단하다',\n",
       " '좀 어렵기도 하고 전쟁에 대한 묘사가  잘 모르겠다',\n",
       " '일본에서10주년 극장판만드는데 우리나라에선 10주년으로 재개봉하니이건 좀  아님',\n",
       " '한대희가 개그콘서트본다고 내전화끊음개그콘서트 없애주세요',\n",
       " '한물 간 동서양 두 배우의 싸움판',\n",
       " '푸하하하 이거 기대 안했지만  역시나 구만',\n",
       " '세계최초의 반공 애니매이션이라는 역사적 가치가 있다',\n",
       " '감각적인 시각으로  바라보는 색다른  느낌의  사랑  문학적이',\n",
       " '엄마는 무고한 지 딸을 감옥살이 시켜시켜 이해 안돼요',\n",
       " '이영화는 제발 책을보세여 감독이 미친겁니다 이따위로 만들어놓고 화가 날정도',\n",
       " '신나는 흑인음악과 아이스 큐브 뿐 남는게 없다',\n",
       " '드럽게 재미없네 시간이 돈이다 내 시간은 어쩔건데',\n",
       " '그저 한마디뿐 알리시아',\n",
       " '진짜 생생하게 느낄 수 있었다',\n",
       " '재밌는데 평점이 이상하다 싶을 정도로 낮다',\n",
       " '옥소리 프로필 사진에 1점남기고 갑니다        완전 대박이다 진짜 아우 짜증나',\n",
       " '드라마 너무 재밓당',\n",
       " '아진짜너무좋아요 짱짱',\n",
       " '연기 굿',\n",
       " '이런 영화 다시는 안나오겠지 그때 시절을 잘나타내주었던거같아요',\n",
       " '중간정도 부터 봤는데도 꽤나 대단하군요',\n",
       " '콩은 까야 제맛 콩은 까야 제맛',\n",
       " '이적의 소설 재미없다',\n",
       " '액션영화가 아니다 범죄 느와르 영화다 허나 범죄 느와르 영화로서도 실패작',\n",
       " '뭔가알수없는매력에빠져드는 영화',\n",
       " '모녀를 토막살해한 살인자가 부성애라니   말이되나  감동받은 사람들 본인들이 피해자가 되도 감동받았다고 할수있을까  진심 묻고싶습니다',\n",
       " '재밌는데 평점이 왜 이렇게 구리지',\n",
       " '아 ooo기  이걸 본 내눈이 아깝다  진짜 아놔 진짜 ooo기명작이네요',\n",
       " '필름값이 아깝다 재미 더럽게없다 2점부터 점수준것들 매미 oo',\n",
       " '또보고 싶은데 어디서 보죠',\n",
       " '영화 재미있드만',\n",
       " '남주인공 연기력 안습이네요  혀짧은 소리 듣기도 너무 힘들었네요 매니저역활분이 남주인공하는게 훨 좋았겠다는 생각이 들정도  영화 자체는 적당히 볼 만 합니다',\n",
       " '3점이 딱   액션 스릴러인데 액션과 스릴이 없다',\n",
       " '완전 스토리도 엉망이구 완전 비추',\n",
       " 'ooo영화 뭘전달하려는지모르겠네 오글거리고',\n",
       " '좋은영화',\n",
       " '더빙이 이상해요   할머니는 월래익숙한',\n",
       " '이게 2편이 나왔어',\n",
       " '모든게 2 씩 다 부족했다  아니 50 씩',\n",
       " '정말 말 그대로 쇼 하는 영화',\n",
       " '12년 전에 봐서 기억이 나질 않지만 진개가 천카이거 감독 이름 세 자는 기억해 두었던',\n",
       " '정은지 언니  연기 잘하구 노래도 잘부르시고 마지막회 웃으면서 즐겁게 봤습니다 트로트의 연인',\n",
       " '이게 웃겨',\n",
       " '망함',\n",
       " '아이의 시선으로 보는 전쟁  보는 내내 가슴이 먹먹했다는',\n",
       " '사람들이 재미없다고 해서 레알 기대 안했는데 생각보다 볼만함 근데 여자애랑 복순이랑 다투는 장면 그건 굳이 없어도 됐다고 생각함 몰입도 겁나 없애고 어색해보였음',\n",
       " '설정이 연속극같은 느낌이 든다 하지만 배우들의 연기가 뛰어나다',\n",
       " '여주인공 인터뷰할때 지루해죽는줄알았음  그냥저냥 킬링타임용 스릴러',\n",
       " '전미 박스 오피스1위  그냥 몰아주기 하는건가 어떻게 이런영화가 1위를 하지 옛날 80 90년대 우뢰매수준의 물폭탄싸움이네  손에서 빔나가나 손에서 물폭탄 나가나 다를게 뭐지',\n",
       " '감독이 여자다보니 기량이 많이 딸리네',\n",
       " '또 보고 또 울 었 다',\n",
       " '이런 영화는 하나의 개연성만 없어도 허무하게 만들어 버린다 조디포스터의 이쁜 모습만 남을 영화',\n",
       " '굳굳',\n",
       " '스토리도 말이 안되고 개막장 사랑이야기도 아니예요 이걸보고계신다면 당신의 시간과돈을 아낀거예요  휴 그래도 본다면 호구',\n",
       " '네놈을 살려두기엔 쌀이 아까워 세기의 명대사',\n",
       " '평점이 너무 높다 전혀 재미있지 않았다 쓸데없이 말만 많음 이런 류의 영화는 조연들의 뒷받침이 중요한데 조연들의 내용자체가 전혀 없음 또한 여배우도 별로 매력 없었다 이틀전에 저스트고위드잇의 애니스톤을 보고 이 영화를 봐서 그런가 실망했음',\n",
       " '맛깔 나는 드라마',\n",
       " '시베리아인가 거기가서 훈련할때나오는 ost 개작살',\n",
       " '이건 시종일관 질 질왜 제목이 야경꾼 일지냐고 지금 10회가 넘어가는데 즉 2달이 넘어가는데 앞에서 누군가가 얘기 하더만 이거 100부작이냐고 그러다 또 한 순간에 모든걸 훅진짜 지루함의 지존',\n",
       " '나이들수록 이해가 가는 영화',\n",
       " '슬픔',\n",
       " '장면 개연성도 없고 아역은 연기도 못하고 무슨 추노에 나오는 민폐언년 외국판인줄  초반만 그럴싸한 저급영화',\n",
       " '이 영화 정말 별루예요 결말이 이상해요',\n",
       " '딱히 재미는 없네요 킁',\n",
       " '송강호는 정말 연기를 하기위해 태어났고 그로인해 우리는 즐거움을 느낀다 역시 송강호는 연기파다',\n",
       " '일본영화 수입 금지 시절에도 비디오 테이프로 돌려봤던 불후의 명작 아 그립다',\n",
       " '살인을 소재로 한 영화가 이토록 재밌을 줄이야 살인에 대한 감독의 해석이 정말 재치있다 대 배우님들의 10여년전 모습도 새롭웠고   정말 유쾌하고 재밌다',\n",
       " '누미 라파스 신봉선 닮아서 안 본다',\n",
       " '케이블에서 그만 좀 재탕해라',\n",
       " '멋졌다 정말이지 멋지다는 말 이외엔 할 말이 없다',\n",
       " '98년에 어떻게 이런영화가 만들어졌는지 의문  당대 최고의 영화 지금봐도 퀄에서 결코 떨어지지 않아요',\n",
       " '지금 이거 티비로 돈내고 보고있는 내가한심하다',\n",
       " '쓰레기 연예인 재기의 장 그러나',\n",
       " '굿 좋아',\n",
       " '많은 감동을 준 드라마이다',\n",
       " '발로만든영화 지진나서 주인공 넘어지는데 뒤로 사람들 유유히 걸어다니고 있음 발cg  발연기  발시나리오   내용도 정말 뭐같음',\n",
       " '적당히 해야지 언제 끝나는것인가',\n",
       " '잊을 수 없는 안개낀 워터루 다리와 마스코트',\n",
       " '곤사토시 감독  2010년 안타깝게 돌아가셔서 가슴이 먹먹합니다  정말 천재적인 감독인데 암으로 가시다니   이제와서 다시봐도 모든 작품이 대작',\n",
       " '많은생각을 하게 됐습니다 예뼈지고 싶은 맘은 있었지만 과하면 독이겠네요',\n",
       " '아 츠무구만 없어지면 별 5개줄게',\n",
       " '어릴땐 조폭영화로 알다가 나이가들수록 이게 인생이구나 하고 뭉클해지는 영화 세상을 살아가면 갈수록 와닿는게 많아지네요  세상은 비정하지만 비정함마져도 따뜻해지는게 친구라고',\n",
       " '영상이 너무나도 멋지다',\n",
       " '비디오가 있어서 봤는데 1997년도인줄모를정도로 잘만들었습니다 긴장감도있고',\n",
       " '처 주',\n",
       " '2009년에 만들어진것치곤 재밌음 영화가 길어서 좀 다듬었으면  소재도 좋고 몰입감도 기대이상 매끄럽지 못한 부분도 있지만 연기는 둘 다 잘한듯',\n",
       " '철지난 조폭 코미디와 뼈대 있는 가문의 이야기를 섞었지만 둘 다 지루하다 박정아를 비롯해 배우들은 보기 민망한 연기를 펼치고 기억에 남는 건 하나도 없다',\n",
       " '군더더기 없이 잘 진행되는데 재미도 없는게 문제',\n",
       " '심심해서봤는데 재밌네요 탑연기 못할줄알았는데배우포스나고 잘하군요',\n",
       " '고다미 괜찮음',\n",
       " '아 지대짜증 아빠랑 봣는데 민망해 죽는줄',\n",
       " '0점은 못주냐',\n",
       " '빠순이 영화     훈훈하긔 재밋쎠',\n",
       " '최악의 애니메이션  지루하고 재미없고 스토리마저 진부하다',\n",
       " '좋은 의도와는 다르게 불쾌한 표현법',\n",
       " '줄리아로버츠 귀여운연인은 이거보다 5년전꺼다',\n",
       " '신선하네',\n",
       " '예술가로써의 한 사람의 인생과당시 시대적 상황을 질 느낄 수 있었던 명작',\n",
       " '관객수가 너무 아쉬운 영화  베테랑보다도 더 류승완감독의 역작이고 더 강한악역이다',\n",
       " '한창 핵펭귄이 남북 거짓평화로 전국민을 속이던때 만들어진 영화',\n",
       " '지금 티비에서 하는데  못 보겠다',\n",
       " '여자애 한명이잘 못해서몇명이죽는거야 답도없다',\n",
       " '성룡의 헐리웃작 중 단연 최고지',\n",
       " '안습',\n",
       " '감독의 의도를 전혀 알아차리지 못했다',\n",
       " '하나님이가정을온전히만든다 진리이신분이만든영화 눈으로만보지말고마음으로봐라',\n",
       " '2편도 나름 흥미진진한데 핀헤드가 죽은게 좀 아쉬운 점이랄까',\n",
       " '국산 코미디영화중에서 난 신라의달밤이 제일좋았음뭔가 푸근하고 따뜻함',\n",
       " '최악이다 영화보다가 잠오긴첨임 지루해둑을뻔',\n",
       " '탄탄한  배우들 될고 머하는 건지',\n",
       " '영화가 점점 끝을 달려갈수록 몰입도가 더 높아진 영화는 이번이 처음이네요',\n",
       " '결국 감독 자신이 하고 싶은 의견을 지존파 핑계삼아 하려고 한듯 지존파 살인은 정당화하고 정부탓이 였다는 사회탓이라는',\n",
       " '사실여부를 떠나 알고왔던 아더와 너무 매칭이 안돼더라 원탁기사중 실제 검술 최고수는 랜슬롯으로 알고 있는데 트리스탄보다 못하고 싸우는 검술은 마치 중국검술 흉내낸거 같은게  그리고 란슬롯이 실제는 쌍검였나 너무 매칭이 안대 하튼 기네비어역도 미스',\n",
       " '대한민국 영화 수준의 평균치를 하락시키기에 충분한 c급 영상물',\n",
       " '0점은 없나',\n",
       " '재밌는데',\n",
       " '재미없다  기대 완전 했는데   완전 못함  실망',\n",
       " '종착역 없는 인생의 대유 트레비스는 단지 흘러간다',\n",
       " '돈과 시간이 아까운 영화',\n",
       " '네러티브는 하나도 없는 예쁜 음악 동영상 취미로 영화만드는 것은 이걸로 끝나길  잘하는 음악에 올인하길',\n",
       " '배우들의 연기는 좋았는데  뭘 말 하려는 건지',\n",
       " '학위위조성범죄자 문제자들만 모아서 영화찍음 왜그랬으까 제작비 아끼려구 패자부활전 하냐',\n",
       " '솔직히',\n",
       " '완전재미있어요 애들도보기에알맞는듯',\n",
       " '잔인하기도 하고 무서웠어요 탑은 멋있더라구요',\n",
       " '무섭지도 않고 기분만 나쁘고 쩝',\n",
       " '군더더기 없는 깔끔한 그러나 강한 메세지 전달 뜻밖의 참좋은 영화',\n",
       " '이 영화는 최고다 그냥 최고야 그런 줄 알아',\n",
       " '그랜드 부다페스트 호텔과 시리즈 같네  캐스팅이 아까워',\n",
       " '빨리감기해서 봤음  투자비는 많이 들었을 것 같은데  영화사 망했네',\n",
       " '도대체 뭐가 재밌다는건지 모르겠네요 무슨 아이언맨 시리즈의 개그도 뛰어넘는다 하는데 어디서 웃어야할지도 모르겠고 내용도 뭔지 뜬금없는 히어로놀이는 또 뭔지  왜이렇게 평점이 높은지 모르겠습니다',\n",
       " '왜 극을 끌어가는 중심있는 캐릭터가 있어야 하는지 알게 된영화 살인마와 대적하는 그리고 사건을 해결하는 인물이 없고 그리고 왜 마지막에 다 탈출 해놓고 나서 잡히고 죽임을 당하는지 이해할수가 없다 대체 조달환 정유미는 왜 나옴',\n",
       " '진 짜 리얼 개 쓰레기 영화  다 보고 나면 정말 찝찝해지는 영화 절대보지마',\n",
       " '비록 로봇이지만 점차 인간의 감정을 가지고 자신에 대해 고민하면서 결국 인간이 되어 죽는 앤드류의 모습내가 봤던 영화 중에서도 최고의 감동을 선사한 영화',\n",
       " '영구와땡칠이시리즈는 레전드영화다',\n",
       " '초딩 때 친척형이 비디오로 빌려와서 봤던 기억이 난다  너무 재미 없었다 근데 나중에 우연히 다시보니 재밌더라 그 땐 왜 그렇게 재미가 없었을까  98년이면 내가 초등학교 2학년 때니까  사촌형이 당시 나름 최신 비디오를 빌려온거 같다',\n",
       " '지루할만큼 고요하고 서글픈 시선속에 머문 깊은 성찰과 사색',\n",
       " '영화 진짜 보고  펑펑울었습니다  너무슬픈거같아요',\n",
       " '누가 더 혀짧은가 내기하면 박빙일것같다',\n",
       " '애 둘 딸린 심은하의 그 눈부신 미모 아름다운 영상 메인 주제가',\n",
       " '3기 나오겠죠  아직 안풀린 이야기들이 많은데 극장판은 정말 시간가는줄도 모르고 봤네요 역시 싸패',\n",
       " '개노잼  뭔가 스토리도 부족하고 다이상함 진짜',\n",
       " '답없네 뭐하는건지',\n",
       " '절망과 슬픔 속에서도 자신을 챙겨야만하는 삶의 잔인함을 거부한 비참함에 대하여',\n",
       " '페이스 허거 같음',\n",
       " '시간이 흘러도 퇴색되지 않는 맛이 있는 영화',\n",
       " '진짜 어마어마한 여운을 주는 멜로 영화에요',\n",
       " '소피마르소와의 말같지도 않은 불륜이 내용 다 망침 물론 실제 역사에는 그런 똥같은 이야기는 전혀 없었음 주인공 죽을때 공주는 10살이었음 한마디 만약 미국인과 맞서 싸우는 아메리칸 원주민의 자유 투쟁기였으면 절대 아카데미상 못 받았음',\n",
       " '훈훈하고 따뜻한 부정을 느낄수잇엇음',\n",
       " '잼',\n",
       " '전 정말 재미있게 봤습니다',\n",
       " '어딘가에서 일어나고 일일것같은 느낌이 강하다 우베볼이 이런 영화를 만드는 이유는 누군가 실제로 따라 했으면 하고 바라는것 같은데 정장 월가 있는 애들이 보면 웃겠지',\n",
       " '림프비즈킷의 ost만 10점 개봉 당시 극장에서 봤는데 영화내내 오우삼 쥑이고 싶었던',\n",
       " '견자단 대박 엽문 시리즈는 계속된다',\n",
       " '정말 오월의 멜로는 정말로 보고보고 또봐도 계속 보고싶은 영화순위 1순위다하  늦은 밤이라 그런지 야릇한 느낌이 들었다',\n",
       " '흥미롭게 봤어요 여배우들 이쁘네요 반했음',\n",
       " '스토리 액션 그래픽 머 하나 건질게 없는 망작 그냥 게임으로나 즐기셔',\n",
       " '그냥 레전드다 레전드',\n",
       " '평론가 명치를 겁나 때리고 싶다 정말 이 영화 재미없을거라 생각했는데 재미도 있고 내 인생에 도움이 가장큰 영화입니다 본인이 깨달고 싶으면 꼭 보세요 인생을 바꿔줄겁니다',\n",
       " '키아누 리브스 최고의 액션 영화',\n",
       " '소재가 아름다운 영화 다소 아쉬운 부분들이 있는 이유는 이 영화는 영화스러운 극적 로맨스보단 좀 더 사실적으로 한 남자의 마음과 시선을 말하고 싶었기 때문 아닐까',\n",
       " '영화평론가는 아니지만 좋았다 한번보고마는 영화가 아닌 울림이있는영화',\n",
       " '역시 효느  역시 재밌다  재탕중',\n",
       " '4대강',\n",
       " '간첩색휘들 애쓴다 밥은 먹고 다니냐',\n",
       " '좀 검증된 애들좀 출현시켜라이탈리아 특집 장난하냐',\n",
       " '아 정말짜증나네 절때보지말껄욕나옴',\n",
       " '슬프다',\n",
       " '최악의 환경속에서 이런 만화라도 만든사람들에게 경의를 보낸다',\n",
       " 'what is this movie for',\n",
       " '여운이 엄청 길게 남는영화  이이경을 사랑하게하는 영화',\n",
       " '이딴게 한국 영화라니',\n",
       " '짜가인가 이게뭐여 뭔',\n",
       " '굿 10자 이상 가나다라',\n",
       " '짱이다 혼자자식키우며살아온엄마 그의아들 힘들게살아오면서 서로예민해지고날카로워질때도잇엇지만 결국  가족 아빠라는 사람도 생각보다최악이아니고 여자는 확실히 요구하면도와준다는 그말이 왠지짠하게와닿는다 나혼자괜히끙끙거리지말자 이런단순한생각이든다',\n",
       " 'cg도 별로고 전개도 별로고 연기도 별로고 한마디로 재미없다',\n",
       " '번지수 잃고 갈팡질팡',\n",
       " 'yesterday when i was young',\n",
       " '너무 사랑스럽고 감동적인 영화  정말 좋앗어요',\n",
       " '최고의영화',\n",
       " '13년전 영활 다시보니 공효진 코평수줄이고 콧대높였네  완전 못생겼어  호 권상우는 화산고때 왼쪽 팔자 심하더니 지금 사라지고 더 잘생겨졌고 장혁은 멋지게 늙었네   다시보니 웃겨',\n",
       " '말랑말랑',\n",
       " '공부 열심히 합시다 공부 안하면 저런 oo인생 삽니다',\n",
       " '그냥 최고다',\n",
       " '전쟁이후의 아픔을 잘 그린영화마지막 장면이 압권유대인줄 알아 더럽게 여기나 도움이 필요하니동행했던 토마스에게 더러운유태인이라고 말한장면 그러나 유대인인척한 사실 유대인가족사진을 보면서 미묘한 감정들을 사슴인형을 밟아까며 대변한다므찐영화',\n",
       " '오랜만에 동화다운 동화를 본 기분이다',\n",
       " '감사합니다 정말로 감사합니다',\n",
       " '걍 둘다 변태',\n",
       " '샤넬의 인생과 성공 이 아니라 샤넬과 그의 남자들',\n",
       " '영화가 내용이 없다',\n",
       " '십수년의 세월을 찰나의 순간처럼 찰나의 순간을 영원한 기억으로 남기는 시간의 상대성 이론에 관하여',\n",
       " '니노의 이중인격연기 두근거리네요',\n",
       " '보다가 울컥핫 영화  재미도 있고  먼가 감동적임',\n",
       " '열정만으로 돌진하고 싶게 만드는 영화',\n",
       " '연기력에서 유혹하지 못한다',\n",
       " '난감하다 재미도 없고 세상을 깜짝 놀라게 하는 센세이션도 없다',\n",
       " '아무리 노력했어도 차이나타운 을 대놓고 베낀 것은 용서가 안 됨',\n",
       " '신화 화이팅 에릭 화이팅  모두 힘내요',\n",
       " '엔딩이 넘 슬퍼요',\n",
       " '영화관에 가서 보면 더 좋았을걸  어린시절로 돌아간 느낌이들어 만감이',\n",
       " '정말 최고였어요  이민정씨와 신하균씨 연기 너무 좋았어요',\n",
       " '몇 안되는 재밌게 본 영화',\n",
       " '교양시간에 보고 좀 충격먹은 영화  마지막에 너무 슬펐다 빨갱이라 소리지르던 몬초가 갑자기 다른 단어를 말한건 선생님에대한 그리움 미안함 슬픔이었을까  몬초가 마지막에 좀 울먹인거 같기도 하고',\n",
       " '잘봤습니다',\n",
       " '안무서워  귀신이 애기라 그런건지  그냥 깜놀하기만할뿐이야',\n",
       " '뭐하자는건쥐  모든것이 다 어설프고',\n",
       " '배우들의 따뜻한 연기도 일상의 힘겨움을 그리는 현실감도 다 좋았어요',\n",
       " '남자배우들 정말 미스캐스팅 연기력 안습  조은숙 김유미 연기땜에 참고 봤다',\n",
       " '1차 세계대전  피고 진 청춘들 무기와 기술력은 20t세기 전쟁을 일으킨 정치인들과 전쟁을 지휘하는 고위 장교들의 생각은 19세기',\n",
       " '책과는 분명히 다른시선 괜찮네요',\n",
       " '내가 이거 왜 봤지 싶은데 한예슬이랑 김태희 나와서 본 듯 적월도 개 쌤',\n",
       " '솔직히 6점때가 뭐냐 약간 더러운 장면만빼면 7 5정도다',\n",
       " '와 이연서님 신인답지 않은 연기력 잘 봤습니다 다음 작품에서 또 뵙길 바랍니다',\n",
       " '반전이 전부가 아닌영화 몇 번을 봐도 또 보고 싶은 영화',\n",
       " '피해자만 있고 피의자는 없는',\n",
       " '개답답 먼주인공이 지혼자 복수도 못함 주변에서 해주길바라는 민폐녀 아직도 끌려다니고',\n",
       " '신선한 소재 화끈한 액션 스피디한 전개',\n",
       " '이 영화의 3박자는 디테일이었다  정말 시가전의 퀄리티는 완벽했고 남자의 사랑에 대한 묘사   작중에 한석규는 누군가를 사랑하는 마음은 정말 디테일이 대단했다  마지막 얘기의 완급조절이 완벽했다 이 영화가 정말 멋졌다',\n",
       " '탕웨이찡 그녀 만으로도 10점주기에 충분하다',\n",
       " '감동적인 영화다',\n",
       " '당시 대박쳤던 영화 괜찮다',\n",
       " '억지스러운 시나리오 지루한 전개  1편 보다 못한 구성등  2편은 안나오는게 나았다 망작 배우들이 영화보는 눈이 없어서 안타깝다',\n",
       " '반도 안되는 영화',\n",
       " '이 영화가 평점이 높은 이유를 모르겠어',\n",
       " '평생 기억할만한 영화 정상적인 소재는 아니지만',\n",
       " '요즘 상황 보고 이 영화가 생각났다',\n",
       " '많을 것을 생각하게 만드는 영화입니다 마지막에 사람들이 짐승으로 보이고 아수라가 사람같아 보였습니다',\n",
       " '진짜 재미 없는 영화 공통점  스포츠영화 군대영화 자막 나오는 영화',\n",
       " '로버트 드니로의 광기의 복수 연기를 만끽할수 있는 수작 서스펜스 스릴러물',\n",
       " '감동감동감동의 도가니탕',\n",
       " '세계 어디서나 정치 경제 문화 사회 전반에 걸쳐 변화가 절실한 상황이지만 변화를 가져올 방법이 없다는게 함정인 것 같다',\n",
       " '귀여운벤지  똑똑한 벤지 예쁘고 귀여운 친구  압삘럽',\n",
       " '당시 개봉날 보고 울면서 나왔다 돈아까워서',\n",
       " '정말 최고의 영화',\n",
       " '잔잔하게 숨막히는 영화  연출이 대단하다 곳곳에 숨어있는 복선 치밀하다 싶을정도로 섬세한 감정표현 거기에 김영애의 연기까지',\n",
       " 'once upon a dream',\n",
       " '시나리오 연출 연기 어느것 하나 갖추지 못한 시간이 넘 아까운 억지 싸구려 중국 신파 경극',\n",
       " '거부하는 몸짓으로 저 하늘을',\n",
       " '그만빙빙돌리고 밝혀지게하면안되나요 보려다아직도질질끌어짜증나 안봄 여기서또사고터져 또질질끌면진짜짜증날듯 빨리빨리밝혀질건밝혀지면서반전이있든지 작가님 이드라마사랑하고잼있는데 넘끌어짜증나요',\n",
       " '졸면서 봤다 왜이리 평정이 높은겨 내용도 별거 없고 아오 감수성 영화냐 이거',\n",
       " '기대하지 않았던 영화의 아름다움이 밀려온다 꽤 괜찮다았던 영화',\n",
       " '진짜 한번만더 이런영화 상영하면 용서하지 않는다지금 영화보면서 카톡하고잇음 아놔 진짜',\n",
       " '살아는 있지만 생동감을 잃은 박물관',\n",
       " '노땅들의 한심한 추억미화',\n",
       " '어릴적에 눈물흘리며 웃던기억에 간신히 찾아 다시 봤네요',\n",
       " '인종차별과 유괴라는 두주제의 불협화음',\n",
       " '고명환이 연기가 쩌냐 아니면 돈이 없어 쓴거냐 후자라면 볼가치가 없는영화',\n",
       " '속편에서는주인공이전작처럼앨빈의밴드였으면좋았을것같다 캐릭터추가로더이상해진듯',\n",
       " '혼자 보긴 너무 아깝다 2004년 올해의 영화',\n",
       " '마지막 결투씬 최고   폭풍눈물에 팝핀현준 할아버지',\n",
       " '5점대asfgsdlgkbjsjvb',\n",
       " '좋아 상술최고 아니 선거술 최고',\n",
       " '쓰레기 함부로 버리지 맙시다',\n",
       " '글쎄 나와는 안 맞는 성향의 영화 중 하나 ost는 들을 만함',\n",
       " '즐',\n",
       " '막장도 재미가있어야 보지 재미도 없고 짜증만 남남녀주인공이 어울리면 참고보겠는데 진짜 안어울리고웬만하면 다 재밌게 보는데 진짜 내가본것중 제일 최악이였음 무튼 주인공들부터시작해서 성격 개 이상함 조기종영이 답이다',\n",
       " '줄리델피는 나이가 들수록 멋지다',\n",
       " '내가 본 일드 중 쵝오    0',\n",
       " '역시 명작은 명작이다',\n",
       " '글쎄요   뭐랄까  영화 제목을 잘못 보고 착각한 내 잘못이랄까',\n",
       " '그냥 기독교영화네요 좀 더 깊이있는 내용을 기대했는데  실망입니다 영화도 뭔가 엉성해요',\n",
       " '그냥 책으로 읽는게 더 절절하게 다가온다 영화는 내용을 너무 비약하고 삭제해서 행간을 잃어버렸다 책에서 꽉 찼었던 느낌과 반대로 모든 것이 엉성하다',\n",
       " '너무나 감동적인 영화',\n",
       " '스킨헤드성님들이 이 영화를 싫어합니다',\n",
       " '자동차 매니아인 나의 평점은 5점 이하 속았다  아오',\n",
       " '나 이거 보고 인형 절대안삼',\n",
       " '정체성은 사치인가',\n",
       " '나이먹은아저씨들이 일찐놀이하는영화 개역겹다 알바풀었냐 현실감 개진짜 개제로',\n",
       " '남극은 왔는데 그만 길을 잃었다 오르지 못할 곳은 오르는 것이 아니다',\n",
       " '재밌음 귀엽고 신남',\n",
       " '포스터는 진심 개쩐다 엑소시스트를 능가하는 공포물 같지만 실상은 처키보다 못한영화',\n",
       " '시청률 44 는 개뿔  존11나 재미없어  이제보니 mbc가 사극너무못만드네',\n",
       " '요즘 재방보는데 넘 재밌는데  왜 시청률은 저조했을까 싶네요  둘다 귀요미',\n",
       " '연출 연기 영상이 아름다운 영화입니다 저예산영화인 관계로 스펙타클은 부족하지만 한국영화계에 새로운 바람 희망 다크호스가 될것임을 믿습니다 많은 응원부탁드리고 벌써부터 일찍 관람해주신분들 진심으로 감사합니다 new hope',\n",
       " '평점이왜이렇게낮지 난 이거 또다운받고있다 3번째  정말잼있던데  끝에 견자단하고 대빵하고싸울땐 정말 가슴이뜨거워졌다 난정말로 잼있게봤다  최근댓글이니 내가 알바아닌줄은 알거다',\n",
       " '이게 어떻게 평점이 낮을수가 있지',\n",
       " '블랙코미디 조롱 대상이 우린데 기분 드러워서 점수 주겠냐 성기 노출 등으로 어그로나 끌고서는',\n",
       " '촌동네 조폭삼류영화 가끔씩 툭툭들이미는 유머도 영쌩뚱맞구 촌스럽기까지하다',\n",
       " '10점 만들기',\n",
       " '스타뎀 형님의 얼굴에 먹칠을 한영화',\n",
       " '헐  남자몸매보면 기분 좋나',\n",
       " '안봐도 별점 한개 주고싶은 10류 영화 같다   심형래 아저씨와 동급감독인듯',\n",
       " '정말 완벽했다 최고의 영화중에 꼽히는 영화',\n",
       " '조잡하고 유치한 저예산 3류 b급 영화다  스토리에 깊이감도 없고 전체적으로 루즈하다',\n",
       " '진짜 뭐냐 민국이나 지아는 더빙 더이상시키면안되겠네 더빙이 얼마나중요한데 이런애들을시켜데뷔도안한애들을 연예인이해도 뭐라고하는판에',\n",
       " '그냥 재미가 없어요',\n",
       " '쇼를해라 쇼',\n",
       " '중심이 약하니 언저리 가지고 무리한 승부수를 띄운다',\n",
       " '주연배우들의 이름만 기억에 남',\n",
       " '그냥 안보는게 이득',\n",
       " '키기키기키기키기키기',\n",
       " '박얘쁜 빠수니 죄다 oo 없어져버려',\n",
       " '진짜 짜증나는 영화',\n",
       " '불은 잘 보이지도 않고 사람 죽어나갈 때는 엄청난 웅장한 음악만 나오고 전혀 마음에 와 닿지 않는 설정들',\n",
       " '망작',\n",
       " '상당히 재밌게 봤습니다',\n",
       " '내코끼리내놔가 더재밌음',\n",
       " '코믹은 코믹으로 봐라 패러디하고 카메오들보는 재미도 있다',\n",
       " '유치짬뽕이네  딱 초등3학년 영화다 초등학교 자녀 있는 가족분께 추천함',\n",
       " '후속 지금이라도 나와라 한국애니 좀 살려보자',\n",
       " 'ebs를 통해 봤는데  정말 재밌게 잘 봤어요 요 근래 본 영화 중 최고인듯',\n",
       " '기대않고 봤는데 찰지게 만든 토종느와르네  흥미진진하다',\n",
       " '성인영화를 가족영화로 만드려하는 멍청한 자막제작자가 마음에 안들어서 1점',\n",
       " '일본인 특유의 어색한 연기 여주인공 연기 너무 못해',\n",
       " '전반적으로 무거운 느낌의 영화네요 가비의향과맛처럼 씁쓸함이 느껴집니다 장윤현감독님께서 커피부분에관해 신경을 쓰시다보니 연출부분에있어서 좀 미흡하지않았나싶고 배우들연기력은 괜찮았습니다',\n",
       " '전작보다 100 재밌다 배우 내용 모두 세련됨',\n",
       " '진지하고 무거운 소재를 경쾌하고 재미있게 만들었다',\n",
       " '유럽작품상 탈만한 유럽에 중요한 얘기 또한 픽션',\n",
       " '풍정정은 어케된거지  과도한 압축으로 개연성없지만  배우들이 호화로워서',\n",
       " '이영화 구성좋다는분들  아마 친구랑 같이영화보고 님들이 영화 좋다고 재밌다하면 같이본 친구들은 이해하지 못할겁니다  진짜 최악 최저 스토리 주인공 행동 개연성없음캐릭간의 이해관계 최악  cia갘 이렇게 허접하게 표현된 영화 간만이라능',\n",
       " '이젠 그만 보고 싶은 막돼먹은 스토리텔링',\n",
       " '말이 필요 없다 로맨스 싫어하는 내가 봤을때 기절할 것 같았어',\n",
       " '제 취향적 이고 우울한 마음을 완전히 날려버리고 슬픈내용을 본뒤 마음을 정화시켜주네요',\n",
       " '영상미가 역시 최고네요',\n",
       " '끙',\n",
       " '역시 한국영화는 보지말아야돼',\n",
       " '괜찮은 영화',\n",
       " '요즘 재밌음',\n",
       " '소재는 참 좋아서 삼점준다 제작된 영화는 공포도 스릴러도 아닌 본분을 잊은 드라마아닌 드라마같은 느낌이다 연기 연출은 괜찮았다 다만 시작부터 끝까지 지루할 뿐이다 또 어떤 장면들은 살짝 유치했다',\n",
       " '남자인데 보는내내 울었다 딸 낳으면 잘해줘야지',\n",
       " '안타까울뿐 안타까울뿐',\n",
       " '영웅은 사람들이 원하기 때문에 만들어지는 또다른 희생자다',\n",
       " '그냥 평작 욕까진안나오고',\n",
       " '극장가서 안본 내머리를 깨버리고싶네요 제인생 최고의 영홥니다 키이라작품 중에서도 최고일듯 알럽키이라',\n",
       " '중고생들의 마마추어 포르노',\n",
       " '비디오 물이냐 동시상영물이냐  넌 정체가 모냐',\n",
       " '이건 말로 설명할 수 없는 유치함이다 진짜 필름이 아깝다',\n",
       " '이승연의 강렬함이 묻어나는 영화 그러나 홍경인은 너무 불쌍하게 나옴',\n",
       " '드릴브라 에서 뿜었다',\n",
       " '2 부족한 영화가아닌 98 부족한 영화감동이 있다길래 참고 끝까지 다봤는데   진심으로 이렇게 재미없다고 느끼는건 처음',\n",
       " '계몽영화의 한계를 고스란이 답습한다',\n",
       " '우와 정말 오랜만에 통쾌하게 웃었네요  내일이 기대됩니다',\n",
       " '청춘에는 마침표가 없다',\n",
       " '세얼간이 아줌마 나와서 한번 본건데 실망  신선한 반전을 주고싶었나 본데 개연성도 없구 뭐이런',\n",
       " '좋은 소재에 만족할 연출',\n",
       " '심혜진이 나와서 겨우 저정도라니 실망이다',\n",
       " '아들놈은 끝까지 아빠한테 미안한 감정 없어  소재가 신선했는데 영화 자체는 메시지도 모호하고 스토리가 짜임새 있지 않은 것 같다',\n",
       " '창업을 꿈꾸는가 좋은 아이템이 있어 사업을 하려하는가  그렇다면 기를 쓰고 이 영활 보기바란다  그 멀고 험한 여정에 스승이 될것이요 지침서가 될것이다  혹은 단념에 도움이 될지도  참 오랜만에 박장대소하며 본 독립영활세',\n",
       " '슬픈액션영화치고는실망이크다부자간의배신과원망으로끝나는것이너무허무하다',\n",
       " 'ebs 명화에서 이거보고 움 진짜감동적',\n",
       " '낰였다 티 프리미엄  인간적인 면이 쫌 맘에 들어서 2점줬다 근데 진짜 이선균 정재영 김상중 연기파배우들 불러노코 이딴 쓰레기 영화 찍냐  진짜 영화보는데 계쇠 지루하고 괴로웠다',\n",
       " '너무나 따뜻하고 감동적인 영화',\n",
       " 'c급영화도 안되는  일점도 아깝다  네이버는 마이너스 점수도 만들어 달라',\n",
       " '스토리의 부진은 액션의 재미까지 반감시킨다',\n",
       " '누구나 낄수 느덕을 영화화함  굿',\n",
       " '시종일관 오락가락 말하고자하는게 뭔지 모르겠다 감독자기만의 세계에 빠져 만든것같은 영화',\n",
       " '왠지모를 색다른 감동을 주는영화이다',\n",
       " '전주영화제에서봤었는데넘늦게개봉한듯  종교와업에대해한번더생각할수있게만든영화 저예산으로만들었으나감독의노력이느껴져큰박수를보내고싶다 화이팅',\n",
       " '보는내내 웃었습니다 재밌네요',\n",
       " '1',\n",
       " '사랑에 상처받으면 다시 치유될수 있을까 하는 생각이 드는 영화',\n",
       " '극장가서 본영화중 쓰디쓴아픔을 처음으로 느끼게해준 퍼스트',\n",
       " '최고 더 무슨평가가 필요한가  탑',\n",
       " '자신의삶에대해 다시한번 생각하게하는영화',\n",
       " '알바놈들 양심도 없냐  멀보고 십점주는거냐',\n",
       " '90년도로 돌아가게 해준다는',\n",
       " '끼워 맞추기 개쩔던데 반전 하나 보고 와 하는 인간들 이해 불가',\n",
       " '우웩 개랑 무슨짓을 했길래 후세가 태어나 일본놈들 진짜 정신상태 이상하네',\n",
       " '4',\n",
       " '이 영활 보고나면 흐뭇해진다  영화는 한국이 더 잘만든다는 걸 느끼게 되니까',\n",
       " '지들이 뭔데 대우를 까냐',\n",
       " '재밌고 짠하고 그게 매력입니다',\n",
       " '와  내머릿속지우개 이후에 진짜 슬픈영화였어요  마지막에 눈물폭발  오늘이후에도 또보고싶네요',\n",
       " '월요커플 짱짱  덕분에 아주 재미있게 보고 있습니당',\n",
       " '007 터키특집 액션은 스키추격이 기억에 남고 소피의 소피에 의한 소피를 위한 시리즈 로저무어 시절보다 재미는 조금 떨어진다',\n",
       " '수많은 최루성 멜로는 여기에서',\n",
       " '내평생 최고의 걸작 현실 건너편 세계를 잠시 엿본듯한 느낌',\n",
       " '내 인생 최고의 영화',\n",
       " '진짜 추천해요',\n",
       " '포스터가 사기 너무 현실적이어서 배우들은 심각한데 빵빵 터지는 화성남 금성녀 아 슈발 지는 혼자 내리면서 본전생각에 담배 피는 남편',\n",
       " '머가마술이라는거야 나죽기전에외계인만나볼수나있을지',\n",
       " '참 재밌는 영화',\n",
       " '빨리좀 끝나라  으이그 처음엔재밌는줄알았는데이게뭐야 이리재미없다',\n",
       " '극에 전혀 몰입안되는 장면 이어붙이기식 단순 진행 연출력이 형편없음',\n",
       " '자막제작자가 써놨듯이 막장임',\n",
       " '그리 무서운 수도승이 물에 쉽게 떠내려가네',\n",
       " '이게왜 주온보다 평점이높은지 이해가안간다 이영화 맨처음 여배우가 물대포쏠때부터 웃겻다 포스터가 더무섭다 영화상영시간내내 포스터만보여줘도 충분히지린다',\n",
       " '진짜 신기하다  라는 말밖에 안나와',\n",
       " '좋은 배우들을 데리고    작품의 부족함',\n",
       " '아니 왜 5점대라니 근래에 본 다크 히어로무비 중에서 최고였어요 아주 그냥 고스트라이더에게 걸리면 스치면 사망인거에요',\n",
       " '묵직하게 시작해서 우습게 끝남',\n",
       " '내용 전개가엉성하고지루할정도로 재미가없슴',\n",
       " '돈뭉치로 싸대기  명장면이다',\n",
       " '2 2고고하자',\n",
       " '쓰레기영화',\n",
       " '너무일찍슬픔을알게된제제가안쓰럽다 책으로읽고도눈물이났는데 영화도마찬가지다 어린나이의제제는슬픔을너무일찍알아버렸다',\n",
       " '정말 비디오마저 돈주고 보고 아깝다 최악',\n",
       " '말그대로 뚝방에서 볼영화',\n",
       " '내 인생 최고의 영화 10년이 다되가는데 아직도 아련하고 애틋한 기억',\n",
       " '감독 다신영화찍지마라',\n",
       " '육감적인 섹시한 여인들의 존재 자체가 이 영화의 전부',\n",
       " '영화 첫 도입부 부터 카메라 각도라든지 화질이라든지 겁나 구림  영화 아닌줄 알았음',\n",
       " '진정 좋은 영화란 볼때당시 잼있다  도 있지만  두고두고 기억나고생각나고 또 한번쯤 보고싶은 이런영화가 아닐런지요',\n",
       " '박사아들 정시현 정말 멋져요',\n",
       " '1편이 너무좋아서 2편이 너무묻힌다',\n",
       " '할 말이 없다',\n",
       " '난 별로던데',\n",
       " '이런 영화가 참 좋다',\n",
       " '곳곳에 번뜩이는 아이디어 아기자기한 구성이 돋보이는 수작',\n",
       " '우아  새벽에보니까 무섭네   미스터리와에로스와 스릴러를 겸비한 영화',\n",
       " '짧지만 정말 재밌게 잘봤어요  윤계상 능청연기 좋구 잘됬으면 하는 생각을 계속 했네요',\n",
       " '에린이 초반에 타던차 현대자동차 프레스토 네요 보면서 추억이세록세록',\n",
       " '남들이 철학적인 영화라고도 하지만 단순 액션용으로 봐도 이 정도 점수는 나와야된다',\n",
       " '4 444 444 444 444 44',\n",
       " '효과음이 기가막혔던 영화',\n",
       " '솔직히 평점 8점 이상은 되야되는거같다',\n",
       " '난강혜정이 일본가서 찍은건가 했네 닮은것같다는 생각이 들었을 뿐이고',\n",
       " '일본영화 좋아한다면 꼭 봐야할 영화',\n",
       " '진짜 이건 아님   액션영화좋아해서 액션영화만 다운받아서 꾸준히 본게 벌써 몇년인 사람임 근데 이건 진짴   아무리 점수 잘 줘도 100점 만점에 10점  돈주고봤는데너무아깝다진짜 그리고대체 왜 13구역 타이틀을 달고나왔는지 모르겠음 실망',\n",
       " '가슴이 먹먹하다 뷰욕을 왜 이제서야 알게됐을까',\n",
       " '커스틴 때문에 좋겠다',\n",
       " '보는내내 찝찝하고 영화가 끝나고 나서도 불쾌했다  중년의 남성이 이렇게까지 추잡해보일 수가 있을까',\n",
       " '진짜 퀵이유로 이렇게 어이없고 재미없는영화는 처음입니다 진짜 돈아까운적은 두번째라',\n",
       " '진짜재미없다 영화관에삼십분정도늦게들어갔는데사람이한명도없고 그이유를왠지알것같네  완전비추요',\n",
       " '2012년에 본영화인대 솜이랑 키작은남자 살아서 나감',\n",
       " '조금은 유치했지만 왕조현 주윤발 이것만으로도 충분히 볼만했다',\n",
       " '난 솔직히 재미없었어 코믹요소가 없어서',\n",
       " '싸구려 왜색 영화 키작고 교활한 일본원숭이들의 망상 사무라이 정신 토나온다',\n",
       " '재미있게봄 감동적이고',\n",
       " '아니 찍어놓고 모니터링 한번 안하나 어떻게 염치 업이 이런걸 극장에 걸수가 있지',\n",
       " '영화 산업 이라고 하잖는가 이딴식으로 홍보 해놓고 속여서 팔았다는 게 소비자 입장에서는 짜증난다 그나마 다행은 아주 싸구려를 상급품으로 속여판 게 아니라는 점 그래서 1점 차라리 연상호 감독 작품 처럼 홍보가 됐다면 그 비슷하게 만이라도 하지',\n",
       " '완전 감동이다  박신혜 짱이뻐요',\n",
       " '절망속에서 결국 빠져나온 눈물겨운 실화',\n",
       " '국민학교 다닐때 이거 동생이랑 보다가   눈물이',\n",
       " '욕망이라는 이름의 전차',\n",
       " '디 워 랑 같은 부류  저예산  저렴한 cg  마구잡이연출',\n",
       " '무기여 잘있거라는 보는 내내 손에 땀을 쥐고본 첫번째 애니',\n",
       " '배우들 연기력이 아깝다 별 한 개도 아깝다',\n",
       " '딱 90년대코미디영화',\n",
       " '어릴때 진짜 재미있게 봤음',\n",
       " '정말최고의영화고 마지막 아이들의 노래와 비행기가 정말 잊을수 없는 여운을 남긴다 이런 영화를 이제알게된것자체가 후회될정도로 잔잔하고 깊은 여운이 남는 영화',\n",
       " '보면서 어이없어서 헛웃음만 나던',\n",
       " '악역인 금단비가 더 주목받았다는것은 주연여배우들의 미스캐스팅을 의미한다',\n",
       " 'general',\n",
       " '보고 나서도 내내 여운이 남는 영화',\n",
       " '절대로 보지마라 보면 후회한다 이걸영화라고 만든거냐 볼사람은 뇌를 놓고보아라',\n",
       " '무슨 내용인지 도통 모르겠다  쓸데없이 특별해 보이려는 시도에만 열중이었던 영화',\n",
       " '기쁨 슬픔 생명 그리고 죽음 인간의 역사속에 거대한 하나님의 우주적 섭리가 느껴지는 영화 특별히 어머니의 역을 맡은 여배우의 여성미와 자애로움이 인상적이다 인생을 살면서 그런 존재가 된다면 영상미 예술이다',\n",
       " '이게뭔가요내용도없고',\n",
       " '평점 어마어마하게 높네   빨리 낮춰야 할듯 5점이 적당한 영화',\n",
       " '이야기도보통재미있고 10점정도는아니라고봐요 5점6점정도인데 고릴라제작한거도 잘했긴했고 하지만 감동은 보통 아쉬운결말',\n",
       " '솔직히 웬만한 공포영화는 다 섭렵할만큼 매니아인데 주온은 정말 무서웠었다 아직까지도 샤워하면서 머리감을때 공포를 느낀다 누가 나를 쳐다보고 있는 느낌이라서  이 느낌 나말고도 겪어본사람 있을거야 그만큼 당시에 대단했던 영화다',\n",
       " '아름다운 영화였어요',\n",
       " '정말 광해와 비슷한가',\n",
       " '조쉬 하트넷 특유의 여성들을 자극하는 나약한듯하면서도 남성적인 이미지를 작 부각한듯',\n",
       " '정말 속은느낌이다',\n",
       " '몸매 베드신 보기좋다고 한사람은 영화 안본사람',\n",
       " '잘봤어요 외모뿐만이 아니라 여러가지들을 따지며 사랑에 빠지는것이 아니라 하려고 하는 요즘 사람들에게 좋은 영화인거 같아요',\n",
       " '최악의 쓰레기 어설프려고 정말 노력했다',\n",
       " '콜린파렐 123412341234',\n",
       " '난이게 제일 재밌었는데',\n",
       " '난 좋았는데요   괜찮았어요',\n",
       " '영화보다 댓글이 더 재밌어',\n",
       " '에라이 미친 사이코 드라마야',\n",
       " '모든 일본문화가 들어가 있다고 할 수 있을까 최고의 사극',\n",
       " '엄청나게 기대를 하고 본게 아니라 괜찮았던듯',\n",
       " '더빙이 똥이야',\n",
       " '안타깝네 이해를 못하는사람들 속출 불교적이고 철학적인 작품',\n",
       " '진짜 이런 개 씨 1바 ooo 같은 영화 개 시간낭비 의미도없고 무섭지도않고 내가 왠만하면 공포영화는 즐겨보는데 이건 진짜 oooo같다',\n",
       " '색다르고 재밌는 영화였음 실제로도 이런 일이 있다면 참 재밌을 것 같음 막장 of 막장',\n",
       " '어캐봐여 꼬옥    보고싶내여',\n",
       " '정말 식상하다못해 촌스럽기까지',\n",
       " '종교적 분위기 물씬 풍기는 최루성 가족영화',\n",
       " '재밌다',\n",
       " '그냥 살지 그랬어  이성재만 멋짐',\n",
       " '음악영화라 나에겐 취향저격이지만  비긴어게인처럼 대중적으로 흥행하긴 힘들 영화네요  하지만 여주가 너무 매력적이에요',\n",
       " '별 0개 선택 왜없어요 솔직히 별 반개도 아깝다',\n",
       " '돈에 미친 남편과  아기에 미친 돈 있는 남자 그속에서 갈등 하는 여자 18',\n",
       " '어린이의 시점에서만 볼만하겠지 오로지 어린이의 시점',\n",
       " '잠을 청할 수 있었다',\n",
       " '좋아하는 사람의 뇌가 아니던가  완전 난해함  결말 왕실망임',\n",
       " '전작에 비해서 왠지 허탈하다 카이사르도 전작이 더 멋있는 듯 하고',\n",
       " '김민종 최고 더 잘되시요',\n",
       " '공격적인 재미 유순한 여성성 일기토 지략 삼국지의 그것과 맞짱',\n",
       " '점수를 주고 싶다 2003년에 이정도 밖에 못만들었다는게 충격',\n",
       " '비디오테잎으로 좍좍 감아가며 봤던 영화 가장 슬펐던 영화',\n",
       " '도입부를 제외하고는 따분 헬기에서 민간인을 마구 쏴 죽이는 미군 베트공 여성 스나이퍼 등 현실감 없는 극단적인 설정 라이언 일병에서의 업햄 그리고 이 영화 주인공인 조커 두 넘 모두 내가 싫어하는 캐릭터 착한척 하면서 주위에 피해를 주는 넘들',\n",
       " '재밌는데  나만 그런가 참고로 우리나라 까거나 하는건 하나도 안나옴 그냥 지들끼리 소설쓰고 지들끼리 자위하고 자위대도 등장하는데 그사람들도 자위나 하고 있음 일본 감정 다 떠나서 과학도로써 과학적으로 볼만한 영화였음 신선함',\n",
       " '제 취향은 아니네요',\n",
       " '평점 조절',\n",
       " '1점도 아까운 쓰레기영화 전작이 아까움',\n",
       " '일편에 비해 삽질하는 브리짓이 쪼 끔 짜증날 때도 있었지만 그래도 여전히 사랑스럽다 콜린 퍼스와 휴 그랜트를 한자리에 모아놓은 것 만으로도 10점줘야함',\n",
       " '지금까지본 아이리스 시리즈중 최악이다  이거해도 너무하는거아닌가  수치스럽다 연기고자시고 다 떠나 너무도허접합',\n",
       " '연기력때문에 할말이 없다 정우성과 고소영이 왜그토록 흥행작이 없는지 알고싶으면 비트에서 연기하는거 봐라',\n",
       " '전라도 노예 업주 처벌 안받았나요  이슈가안됐네요 그러고보니',\n",
       " '배우가 아깝다',\n",
       " '볼만 한데',\n",
       " '결말의 의미공자가 자연에 숨어사는 노자에게 말했지 짐승도 끼리끼리 사는데 사람이라고 따로 사냐고 진정 순수함은 더러운것사이에서도 그 빛을 유지하는것',\n",
       " '크리스 터커 짱이삼',\n",
       " '믿고보는 덴젤와싱턴 근데 모레쯔는 왜이렇게 후덕하지',\n",
       " '나오코 진짜 집중안된다',\n",
       " '감독이 밥은 먹고 다니는지 궁금하다 배틀로얄2 이후로 최고 쓰래기',\n",
       " '아 재미 너무 없네요  시간 아까워요',\n",
       " '난 잼있던데',\n",
       " '어떻게 상류층의 속물근성을 정당화시키면서미화시킨지 모르겠다 감독이 국회의원이나 사회적 강자한테 아부하고 싶은 가봐요 그리고 얼굴만 예쁘다고 왕되는것은 맞지만 드라마라도 도덕적으로 표현좀 해야되는게 아닌가요 감독님 정신차리세요',\n",
       " '가만히 보고만 있어도 씨익 웃음나는 행복한 가족의 이야기',\n",
       " '사고 후 잠시 정상인이 되었던 일탈',\n",
       " '좋은 영화',\n",
       " '이거예전에나온거같은데 재미네',\n",
       " '샬라샬라 나오다즁자쥬아',\n",
       " '감독의 옹졸함과 치졸함이 묻어나는 영화',\n",
       " '팔빠다',\n",
       " '재미없음',\n",
       " '무슨 생각으로 만든걸까',\n",
       " '스토리도 흥미롭고 배우들의 연기도 인상적이다 충분히 볼만하다',\n",
       " '내 인생 최고의 미드',\n",
       " '이 영화를 보고 사랑하고 싶다 라는 생각을 했습니다 청소년 관람불가임에도 선정적인 장면은 나오지 않았습니다 연인 혹은 솔로이신 분들에게 추천합니다',\n",
       " '일본공포영화는 링 주온 이후로 망했음',\n",
       " '지루하다  지루해',\n",
       " '625를 직접 겪은 어르신들 얘길 들어보면 그당시 잔인한 학살은 대부분 주민들 서로간에 주로 하층민들의 복수심에서 비롯된 또는 군 경이 빨치산 학살한다며 벌인 살인이었지 정작 북한군은 민간인들한테는 잘해줬다고 하던데',\n",
       " '그냥 다큐일뿐',\n",
       " '10점짜리 영화는아닌데 개인적으로는 평균평점 7점정도의 가치는 한다고 본다 스타일리쉬한 영화',\n",
       " '정말 질질끌고 작가님제발좀 적당히하시죠은희수역맡은 사람도 그만 나쁘게 만들지아침드라마가 막장이네',\n",
       " '으이구 괴물 그래픽이나 좀 다듬지 그게 머니 다 티나게 공포영화보다 웃은 건 첨이다',\n",
       " '대표적인 쓰레기 김치드라마',\n",
       " '네이버 별점 꽤 신뢰도가 높네요 5점 이하는 안보는게 좋을듯',\n",
       " '남주 헤어스타일 왜 저래   가게분신노찌쯔',\n",
       " '이런영화는 두번봐야지 안다 작은 일에도 크게 화를만드는 저나라의 국민이 인상깊다',\n",
       " '김명민이 약 구해서 차 탔을 때 진짜 설마설마 했음',\n",
       " '보지말아라 재미있든 재미없든 진짜 찝찝하고 기분 드러운 영화공포영화 싸이코 영화',\n",
       " '짝퉁쓰래기',\n",
       " '이거 시청률이 너무낮은대 명작이고만',\n",
       " '현실감 제로지만 배우들이 너무 좋았어요 특히 다니엘헤니를 많이 볼 수 있어 좋았어요 같은 남자지만 게이는 아닙니당 다니엘헤니 최고 설경구 씨두 최고',\n",
       " '프레디가 나에게 모욕감을 줬다 그래도 프레디라서4점준다',\n",
       " '잼없네요넘',\n",
       " '평점이 너무 높군요 원작으로 보심이 나을듯 짧은 러닝타임에 감사하다고 해야하나 주인공이 썰매를 타고 목적지에 가니 모든 사람들의 기억이 돌아온다는 황당한 설정이고 인간의 감정을 통제한다는건 데몰리션맨 이퀄리브리엄에서 봤기때문에 신선함도 없음',\n",
       " '막장 드라마의 원조격인 영화  근데 이 영화는 확실히 로즈번이 살린듯',\n",
       " '해군 출신이라 관심있게 본 영화',\n",
       " '파란색 슬픔이 영화에',\n",
       " '액션 완전 ooo기 차라리 유오성이 나오는 챔프를 보겠다',\n",
       " '폭풍오열  퓨',\n",
       " '착한영화  그리고  재미없습니다',\n",
       " '사소한 이야기조차 눈을 뗄수 없게 만들던 거장의 솜씨 예전 장이모우 그립다',\n",
       " '내가본영화중 베스트5안에 듬 진짜꼭보세요',\n",
       " '지금까지 본 페이크다큐영화중 제일 별로',\n",
       " '재미도 있고 공감도되는 누구나 즐길수있는 독립영화',\n",
       " '시미즈레이코의 만화책 비밀  에서 영향받은거 아냐 똑같애',\n",
       " '기존 한국 영화에서 느끼지 못한 색다른 느낌상업적이기 보다는 새로움에 도전한듯한',\n",
       " '장난하나 반전같은거 있을 줄 알고 끝까지 다 봤는데 진짜 아오 시간아까워',\n",
       " '예고편을 왜 하는건지 모르겠음  예고편에 나오는건 하나도 안나오고  예고편은 대판 쌈질 하는것마냥 나오더니 하하호호 하고 끝남  예고편이 무슨 뜻인지를 모르는건지  시청자들을 호구로 보는건지 낚시질좀 그만하시고 차라리 시청률 걱정되면 폐지해',\n",
       " '난 프랑스 영화가 이래서 좋다',\n",
       " '쓰레기쓰레기쓰레기쓰레기쓰레기쓰레기쓰레기쓰레기',\n",
       " '참 재밌게 봤는데  귀여운 지미',\n",
       " '시간이 지나서 또 봐도 정말 가슴애린 드라마',\n",
       " '사촌동생들 때문에 같이 보긴했는데 정말  사촌동생들도 재미없다고 하네요',\n",
       " '설득력없는 꼴통페미니즘 페미나치적인 마인드',\n",
       " 'b급을 지향하는 c급 작품',\n",
       " '음 잘 모르겠다 뭘 봐야 하는 건지 소녀 가장 이야기인가',\n",
       " '우리와 틀리다고 생각했던 장애인이 우리와 틀리지않단것을 알려주었다 10403',\n",
       " '재밌고 감각있고 쿨한 영화였는데 마지막 결말이 약간 아쉽지만',\n",
       " '그냥 재미없네 보던거니까 마저봐야지 이랬는데 갑자기 원주민생활하는건 진짜 어처구니가 없었음이건 그냥 영화가 아니다',\n",
       " '진짜 언제 90분이 지나갔는지 모를정도로 몰입해서보고 정말 너무 재미있게 봄  너무 아련해서 영화 평 정말 처음 남겨봄  진짜 내가 이 나이에 애니를 보며 이 밤중에 이렇게 울줄이야  에몽아',\n",
       " '사과해요 나한테',\n",
       " '골목상권에 들어온 대형슈퍼마켓이 생각난다',\n",
       " '평점 조절이 필요하다 라는 생각이 든다',\n",
       " '무협 멜로의 걸작   말해 모해',\n",
       " '너무재미있게 보았는데요 다시 볼수없을까요',\n",
       " '오글거리고 유치하고 완전최악이었음',\n",
       " '절대비추',\n",
       " '한국껀줄알앗는데 일본꺼엿네',\n",
       " '꽃 한송이 놓고 갑니다',\n",
       " '내 삶의 가장 의미있는 일 중 하나라면 바로 이 영화를 봤다는 것이다 살면서 죽기 전에 한번 꼭 봐야 할 영화',\n",
       " '생각보다 볼만했음 여주인공이 연기가 좋네여',\n",
       " '자꾸 뭘 설득할려하고 설교할려고하는게 보기거북하다 그리고결혼반지를 위해 범죄가담하다니 무슨 개역지설정이냐',\n",
       " '와',\n",
       " '제발 전문성우를 써주세요',\n",
       " '살면서 처음 접해본 장르라서 조금 당황스럽다 솔직히 영화 자체는 100 자신의 색깔에 충실했고 완성도 역시 뛰어난 편이지만  좋아하지도 이해하지도 못하겠다',\n",
       " '오늘 아이데리고 봤는데  아이는 좋아하데요   미취학 초등 어린이에게 추천',\n",
       " '이것을 끝까지 참고 본 내가 제일 자랑스럽습니다',\n",
       " '존내재밋습네다',\n",
       " '안봐도 되는 영화',\n",
       " '원작 망쳤네요',\n",
       " '그냥 주는거다 5점은 아닌 듯',\n",
       " '나쁘지 않으나 개인적으로는 지루했다는',\n",
       " '어의없는 스토리  여자죽을때 웃음나옴  로맨스영화냐',\n",
       " '순수함이 두근거려 좋았다 감독님은 관객들이 뭘원하는지 잘아는듯 여운이 많이 남는다',\n",
       " '기방난동사건이후 최악의 영화 재밌다는 사람들 믿고 봤더니 다 알바생인듯',\n",
       " '로맨스와 스릴러 짬뽕놔서 뭘 말하고 싶은건지  스토리도 허황된 느낌',\n",
       " '이건좀 아니잖아',\n",
       " '윤아은 안됨 원작자님 캐스팅에 참여해주세요작품 망치면 안되잖아요',\n",
       " '지금생각해도 내가본영화중에 이영화는 내생애 최고의영화였던것같다',\n",
       " '천녀유혼1 2에 비하면 뭐라 표현하기 힘든 퀭한 영화',\n",
       " '불륜을 미화한 영화 남은사람들은 어쩌라고 또 돈걱정 따위 안하는 사람들의 이야기를 공감하라고 강요하는 영화 음악이랑 영상미로 3점',\n",
       " '최고다    walk like a man 이란 노래는 원곡보다 영화속 노래가 훠 얼씬 좋아요',\n",
       " '소재가 굉장히 신선했다',\n",
       " '내사랑 키아누   리브스',\n",
       " '두말할 나위없이 최고의 작품 인생에 대해서 생각해보게 하는 깊이있는 영화 전 출연진과 제작진에게 큰박수를 보낸다',\n",
       " '솔직히 산만 하기만했다',\n",
       " '말이필요없지  성룡영화에선   무언가를다른것을느낄수있다',\n",
       " '화학을 해서 그런지 잼잇게 봣습니닼 옆에 친구 중간중간 노이해   나중에 해석  잼잇엇숩니다',\n",
       " '아직 준비되지 않는 젊은영화인들여 함부로 장편에 손대지 마라천천히 공부하고 나와라',\n",
       " '으엉 간만에 추억돋아서 봤는데사실 원작 자체도 두서없이 전개되는데영화감독은 내용앞뒤도없이 막 잘라서정신없음 배우들은 책읽고 특히 대사 그대로 살린거 오그리오그링  간만에 소설로 읽어야지',\n",
       " '개 쓰레기같은 것들아 감히 파라노말엑티비티를 팔아먹냐',\n",
       " '기억은 조작되기 마련  그사람이 아니고서는 함부러 말하지 말자',\n",
       " '재밌게 봤습니다  그저 문헌에 적힌 문란한 사도세자가 아닌 정조의 아버지로서 그 그릇이 어느 정도였는지 잘 보여준 작품이 아니었나 싶네요 시나리오도 시나리오지만 배우들 연기가 일품이었습니다',\n",
       " '휴일낮에 침대에누워서 티비보다가 영화채널에서 틀어주길래 어쩔수 없이 봤는데 나중에는 벌떡 앉아서 봤던 영화 완전 몰입되고 나름 스토리도 치밀하고 해리슨 포드다운 액션 좋습니다 저는 영화광도 영화 평론가도 아니고 영화 자주보는 일반 남자사람임',\n",
       " '절제의 미학이아니라  지루함의 극치가 되버린 안타갑다',\n",
       " '영화관에서 보기엔 돈아까웠다       솔직히 재미없었다',\n",
       " '인간의 솔직함을 보여 주고 싶었는가 이런 방법말고도 다른 방법이 충분이 있을텐데',\n",
       " '정말 사랑에 대해 다시생각한거같습니다 감동이에요',\n",
       " '내용은 교육적이나 정말지루해서요',\n",
       " '꿀잼 특히 소유랑 서인영  매력터져',\n",
       " '태어나서 본 영화중에 제일 재미없었음',\n",
       " '화면을 흑백으로 바꾸기만 하면 50년대 작',\n",
       " '쇼핑몰 안에서만 찍어서 너무 재미없고 답답한 내용도 없다',\n",
       " '진짜 쓰레기영화  돈아까워 죽는줄 알았다  여러분 보지 마세요',\n",
       " '와아오 두근두근 익스트림자체',\n",
       " '폭력영화 자극적이고 실험적이라고 예술인가',\n",
       " '일본영화랑 비슷한건 저만 느끼는건가요 수트입으면 미남으루 변하구 마지막에 평생입으라구 권유받구  창조가 이렇게까지 중복될수 있눈건지  잘 모르겠네여',\n",
       " '진짜 이렇게 재미도 없고 감동도 없는 영화는 처음이네특히나 박사고 나발이고 모든인물들이 컴퓨터 할때 손찍는데키보드 누르지도 않고  컴퓨터 화면들은 똑같은 파트만 무한 반복되고허접해도 너무 허접하네  배우들 연기도 개떡이고',\n",
       " '최고의 농촌드라마',\n",
       " '독립영화 실력자들의 스타 리그 옴니버스라는 피로감이 극복되는 수준이다  얼음강 은 단독 장편으로 만들었어도 좋았을 듯 주인공이 혹여  평소라면 1 도 공감 안되는  여호와의 증인이라도 납득이 될 정도로 감정을 설득하는 솜씨가 탁월하다',\n",
       " '좀비좀비 그러는데 좀비아닙니다 우주의 아름다움에 미쳐버린 인간일뿐 충분히 가능한 일이죠',\n",
       " '개재미없음 막장스토리 어거지',\n",
       " '뭐하나 흠잡을 것이 없다 최고',\n",
       " 'ost가 좋은 영화',\n",
       " '탁재훈나오믄재밌는데와이라지스토리중반부터너무쳐짐약해약해약해 지겨워뒈지는줄알',\n",
       " '서스펜스도 없고 스릴도 없다',\n",
       " '우리나라 정서하고 안맞다',\n",
       " '어디선가 많이 본 흔한 스토리',\n",
       " '최고의 드라마',\n",
       " '우리 모두는 누군가에게 섬머였다',\n",
       " '힘알이 하나 없는 주인공들 맥이 다 빠진다',\n",
       " '너무너무귀여운영화',\n",
       " '전형적인 일본식 엽기 괴짜 코메디 그 특이함에 끌리는건 왜지',\n",
       " '와 이걸 5점 이상 준 사람들은 뭐지 나루토 극장판 중에 가장 쓰래기',\n",
       " '정당한 노력이란 보상받게 마련이다 나름 일정 성취가 있고 좋은 결실을 거둔 작품',\n",
       " '아씨 울었다',\n",
       " '기적은 이미 일어났다',\n",
       " '아이들과 함께 보기 좋았지만 그냥 그래요',\n",
       " '전율을 느꼈다',\n",
       " '여기저기 지저분한내용에 이기적인 사람들의 역겨운 연애사  마지막으로 갈수록 시청률 안나오니까 막 갈겨쓴내용',\n",
       " '별로  완전별로  마지막빼고 넘 유치하고재미없고',\n",
       " '세월이 지나서 다시 보니 뭔가 먹먹함이 다르더군요 공감하는 사람이라면 가슴속에 명작으로 남을 듯',\n",
       " '아이들이 보기엔 좋을지도',\n",
       " '보니까 선정성이 좀 15세 같음   그래도 액션은 좋음',\n",
       " '카타르시스를 느끼기에 충분한  값진영화였다',\n",
       " '여주 린제이 로한 닮았다 전체적인 분위기나 배경은 좋았지만 내용은 지루했다',\n",
       " '당신이 솔로가 아니면 이 영화를 보지마세요',\n",
       " '남이 차안에서 전화통화 하는걸 90분 가까이 구경하고 있으라고 폰부스는 명작이라 생각하지만 이 영화는 진짜 장난하나',\n",
       " '전형적인 저질영화',\n",
       " '답을 알려고 하지마라',\n",
       " '재미잇음매우',\n",
       " '진짜 잘 만든 수작',\n",
       " '제발 2좀 찍어주세요 현기증 난단 말이에요',\n",
       " '너무나도 따뜻한 마음이 따뜻해지는  한번쯤 자신을 되돌아보게 만드는 영화',\n",
       " '뭔가 조금씩 부족한 영화 놀래킬려면 확 놀래키던지 어정쩡한',\n",
       " '이거 참  소재는 참 좋은데 내용전개가 개판  사람수도 많고 총도 있는데 그걸 지들끼리 서로 다 흩어져서 일방적으로 밀리네 거기다 식인종이라면서 표현을 좀비로 해놓으면 어쩌잔거야 식인으로 인해 인성이 말살되고 짐승화 되었다는 표현이라도 있던가',\n",
       " '포스터만 그럴싸하다 13구역이라는 이름만 가져다 쓴 영화 완전 졸작이다 액션 신도 개허술하고 스토리도 이상하다',\n",
       " '대체 왜 재미없다는거지 난 존나재밌던데',\n",
       " '늑대들의 여정이 너무 낭만적이었던 애니 스토리도 좋지만 음악은 일본 애니중에 탑으로 뛰어나다',\n",
       " '미국 흑인 민권운동사를 완벽하게 요약했다',\n",
       " '그가 뛰어내리지 않았다면 어떻게 되었을까',\n",
       " '8점대는 나와야지 그냥 단순한 액션공포물이 아닌데도 긴장감 공포감 연출 쩔고 음악도 좋고  몇년이 지나도 기억나는 인상적인 좀비물인데 평점 너무 짜서 10줌',\n",
       " '아역 연기는 좋았으나 내용은 쓰레기',\n",
       " '진짜  재미없다 극장에서 볼거없어서 걍 스릴러라길래봤는데     웃음밖에안나온다 혹시나해서라도 절대보지마라진짜제발',\n",
       " '평점은 믿지마셈 재밌음',\n",
       " '이거 좋다는 놈들은 뭐하는 것들이야',\n",
       " '이게 21c영화냐 90년도영화냐 쓰래기들아',\n",
       " 'ufo를 믿으려는 자들',\n",
       " '너무 구식으로 웃길려고 함 보는 내내 지겨움',\n",
       " '이런거 좋아하는 사람들 정신 세계가 궁금하다',\n",
       " '연예계의 현실을 알리고자 하는 마음은 알겠지만 영화의 재미는 없었다 지루해 죽을뻔 했음',\n",
       " '아주 재미있고 책으로봐도 정말재미있다',\n",
       " '끝내주게 재밌다',\n",
       " '유투브동영상을 돈내고 보는게 낫다는 생각이 들게한 영화',\n",
       " '아쉬운 점도 있지만 스토리에 맞는 분위기나 배경 지하철기관사의 삶 등을 잘 묘사',\n",
       " '스타워즈 1편과 맞아떨어지도록 잘 만든영화 최고의 에피소드 다스베이더의 탄생과 루크 레이어의 운명을 알수있는 레전드',\n",
       " '소희가 귀엽다 귀엽다 졸귀',\n",
       " '소문난 잔치 호화 캐스팅 에 먹을 건 없다',\n",
       " '주성치 영화 최고의 졸작',\n",
       " '구우우웃',\n",
       " '딱히 흠잡을 것도 두근거릴 것도 없는 교과서적 플레이',\n",
       " '영화의 중심은 역시 스토리인것을 반전의 반전 너무 재미있다',\n",
       " '8 3이 아니라 9 3 이 아닌가',\n",
       " '참 재미있었다 연기를 발로 하는 삼류배우들 얼굴보면서',\n",
       " '재밌군',\n",
       " '이것도 재밌는데',\n",
       " '1점도 아깝다 평쓰는 것도 귀찮다 보는 내내 오글거려서 손발사라지는 줄 알았다',\n",
       " '기대 안하고 봤는데  영화 보는 내내 몰입해서 재미있게 봤어요',\n",
       " '유쾌함과 스릴러적인 요소가 잘 어울려진 명작 후속작 보다 훨씬 매력있음 두고 두고 간직해두면서 꺼내보고 싶은 영화',\n",
       " '좋네 괜찮고',\n",
       " '명작 너무 좋았던 드라마 스토리 캐스팅 연기 음악 연출 모두 완벽했던',\n",
       " '괜찮은영화 영화도괜찮았지만 나영언니완전머싯고예뻤음',\n",
       " '일단 재미있다  고래 몇마리로 국가적으로 호들갑떠는게 오버스럽겠지만 그런 모습이 우리는 모두가 도와가며 살아야하는 지구의 생명이란 메세지는 참으로 감동적이다',\n",
       " '지금 첨봤는데 1회만 봐볼까하고 봤다가 주말 밤새완주하였다 여운이 많이 남는 드라마',\n",
       " '애니메이션 뮬란이 아쉽다 전쟁씬도 그렇고 연기도 그렇고 이야기도 그렇고그저 그래',\n",
       " '기대않 하고 봣는데 진짜 내용도 좋고 재미도 있네요',\n",
       " '좋았다',\n",
       " '슬픈 맑음 파문에 주목하라',\n",
       " '김윤진 좋아하니깐',\n",
       " '재밌따',\n",
       " '무리수가 되어버린 코미디 기획상품',\n",
       " '나홀로집에와더불어 나의최고의영화',\n",
       " '나는 떠올랐다 그옛날 국산애니 아마겟돈 의 악몽이',\n",
       " '완전 역겨운 쓰레기 영화다 기술적 수준을 떠나 각본이 무개념',\n",
       " 'sunday booldy sunday      고결한 신사들께서 무슨 짓을 하셧을까',\n",
       " '캬  개안음',\n",
       " '보는내내 너무너무 재미있었음',\n",
       " '김소현 팬됬습니다  너무 재밌음',\n",
       " '삐에로와 흑인남자와싸웠을때 재미있었다  아웃겨',\n",
       " '유럽영화가 이번정부에 많이 들어와 즐겁긴하다만 그 내용들이 왜 이리 진부한걸까              유럽영화를 욕되게 하고있단 소리다',\n",
       " '왠만한 허접영화도 재미있게보는데 이건 도를 넘어섰다',\n",
       " '어떤 누구도 다른 이의 삶과 죽음에 대해 왈가왈부 할 순 없다',\n",
       " '굿굿굿 또해라또해라 제발',\n",
       " '주님께서 부르셔서 제가 여기 있나이다',\n",
       " '미성년자가 돈많은 아저씨에게 순결을 바치고 데인후 결국 정신차리고 공부해거 명문대가는 진부한 결말',\n",
       " '정말 재밌게 봤고 빈센트도 꼬마도 연기 너무 잘하네요',\n",
       " '솔직히 원작보다 훨씬낫다 원작 무슨 인간이 말도못하게설정해놨어',\n",
       " '말이 필요없음  아 진심 개재밌다',\n",
       " '보니까 이양반이 다세포소녀 감독이네',\n",
       " '굿 잡  친구랑 또 보고 싶네요',\n",
       " '재미진짜 흥하네 근데 yang   이새끼 관종인가',\n",
       " '야경꾼보다 엉망지루함',\n",
       " '예원찡  그만울어',\n",
       " '근 5년동안 본 모든영화 통틀어서 최악의영화 시간이 남아돌때 봐도 시간이 아까운 역대급 쓰레기영화',\n",
       " '감동이다  참고로 이 영화 보신분들 마지막엔딩부분에 자막으로나오는부분잇죠   이게 영화상에서 실화라는거지 진짜 레알 현재 실제로 실화라는말이아니에요  전지현이 피디잔아요 다큐찍는거  그 다큐에서엔딩장면이지 진짜 실제가아니에여  쨋든',\n",
       " '달기지  미니어쳐 티 팍팍 나던데  우뢔매 보는줄 알았다  혹시 특수효과 감독이 심형래',\n",
       " '재미 드럽게 없다',\n",
       " '야 세르게이  작은 고추의 매운맛을 보여주마',\n",
       " '정여립과 정철 기축옥사까지  스토리 탄탄해서 좋습니다 배우들도 연기 참 잘하고 남녀주인공들 케미도 좋고 챙겨 볼 수 밖에 없는 드라마',\n",
       " '개oo영화네요  내용도없고 그냥심심해서만든영화가',\n",
       " '두개는 줄려고 했는데 알바가 많아서 아후 볼거없어서 채널 돌려도 다시 다른데로 돌리게만드는구나',\n",
       " '왜 0점은 줄 수 없나요',\n",
       " '영화사에 남을 작품 실험영화의 완성본',\n",
       " '자식을 그렇게 때리냐',\n",
       " '이게 대체 무슨 내용이야',\n",
       " '옛다 1점이나 처먹어랔    이게 7점급 이건 1점짜리 내용도 결말도 살다 살다 뭐 이딴',\n",
       " '감동적이였고 좋았습니다',\n",
       " '초반에 개재미없었는데 볼수록 점점 재밌어짐 외계인이 내가 알던 에일리언에 나오던 외계인이 아니야',\n",
       " '쇼핑백 잊혀지지 않는다',\n",
       " '의도는 좋지만 너무 몰입이 안되는걸 어떡해',\n",
       " '유치하지만 가볍게 볼만함',\n",
       " '화려한 색채때문에 눈이 아프지만 그 나름대로 화려연예계여자욕망에대해 표현해냈던거같다 보는내내 진짜 리리코심정가진 연옌들도 있을거같고 나를한번도보지못하고알지못하는사람들이날어떻게사랑하냐그런대사 나왔을때 소름돋더라 연예인들은 많은사랑받으면서도 참 허전할듯',\n",
       " '본지 수oo이 지나도 아직도 생생함 고양이 귀신의 복수가 진짜 무서웠지',\n",
       " '영상이 대학교 졸업작품같아서 그렇지 꽤나 많은걸 담아놓은 영화임에는 분명하다',\n",
       " '최강 전차부대',\n",
       " '',\n",
       " '진짜 어이없는 소재라고 생각하며 보는데 개 웃겨   남자로서는 솔직히 조금은 부러울수도 있는',\n",
       " 'tv 전기세가 아까웠다',\n",
       " '초등학교때 선생님이 보여주신 영화 시간이 흘러서 기억나는건 에이즈에 걸렸던 남자아이와 운동화였고 그때 봤던 영화가 뭐였을까 궁금했었는데 그 영화가 바로 굿바이마이프렌드였다 12년전이나 12년후나 명작은 시간이 흘러도 명작이다',\n",
       " '넘 재밌었어요',\n",
       " '설리 94년생인데 93년도 영화에 어떻게 나오져',\n",
       " '샷의 연결이 아닌 충돌만큼이나 거룩한 제목 또한 인상적이구려',\n",
       " '재미없음',\n",
       " '오오 난 여태까지 맷데이먼의 최고의영화는 본 얼티메이텀 라이언일병구하기 뿐인줄알았음 굿윌헌팅도쩐당',\n",
       " '이야기 자체가 흥미를 끌지 못하는군',\n",
       " '날 로그인하게 만들다니   청춘이여 영원하라',\n",
       " '현정언니 짱이죠 완전 잼잇어요',\n",
       " '영상미 예쁘고 좋지만 러닝타임이 2시간이 넘는데 초반 30분에 줄거리 다 나갔고 엄청 지루한 화보집 보는 기분 일본영화 특유의 그 이해못할 희한함이 있음',\n",
       " '스토리 연결 전혀 안되고 편집해서 끼워맞춘 드라마 말아먹은 작품',\n",
       " '여자 주인공이 예뻐서 끝까지 봤다',\n",
       " '지구를 지켜라  혹 이 작품을 보고 만든 건 아닌지',\n",
       " '저렇게 힘들게 영화를 만드는데 왜 한국영화는 다 쓰레기냐',\n",
       " '케릭터가 살아있었으며 미장센이 훌륭했다 이야기는 몰입도 있었고 불필요한 샷은 존재하지 않았다 노인을 위한나라는 없다 먼저 봤지만 코엔감독 매력적인영화를 만드는 멋있는 사람',\n",
       " '마지막이 좀황당했지만 좋은영화',\n",
       " '우연히 tv를 돌려보다가 사로잡혔다 최근 10년간 본 코미디 영화 중 최고',\n",
       " '연 기 굿 화이팅해요누나',\n",
       " '마이클베이 최근작을 볼때마다 느낀다 블록버스터 액션장르라도 탄탄한 시나리오는 영화의 필수라는것을 그리고 당신이 기대하던 메간폭스는 늙었다',\n",
       " '0점은없나 1점은 너무 후하네',\n",
       " '미달이는  연예계를 바라보는 태도를 고쳐야 한다',\n",
       " '파괴된 관객들',\n",
       " '알콜중독자들 덕에 평점이 낮은가',\n",
       " '중견배우들이 만들어놓은 긴장감이 나름 긴장감있게 싸워보려했던 도술사들에 의해 헛웃음나온다',\n",
       " '남자 주인공 늑대 인간으로 변하고 끝나네유 평점 보고 안 볼까 하다가 봤는디 재밌네유 cg보다 이런 실물 특수 효과가 더 보는 재미가 있어유 웃기기까지 하네유 근디 제목 번역은 어느 바보가 한거여 그냥 늑대 인간이 아니잖여',\n",
       " ...]"
      ]
     },
     "execution_count": 103,
     "metadata": {},
     "output_type": "execute_result"
    }
   ],
   "source": [
    "import re\n",
    "\n",
    "#train_data['Refined'] = [re.sub('[^A-Za-z0-9가-힣]', '', s) for s in train_data['document']]\n",
    "#test_data['Refined'] = [re.sub('[^A-Za-z0-9가-힣]', '', s) for s in train_data['document']]\n",
    "\n",
    "def preprocess_sentence(sentence):\n",
    "    sentence = sentence.lower().strip() # 1\n",
    "#    sentence = re.sub(r\"([?.!,¿])\", r\" \\1 \", sentence) # 2\n",
    "#    sentence = re.sub(r'[\" \"]+', \" \", sentence) # 3\n",
    "#    sentence = re.sub(r\"[^a-zA-Z?.!,¿]+\", \" \", sentence) # 4\n",
    "    sentence = re.sub(r\"[^A-Za-z0-9가-힣]\", \" \", sentence)\n",
    "    sentence = re.sub('  ',' ' , sentence)\n",
    "    sentence = sentence.strip() # 5\n",
    "#    sentence = ' <start> ' + sentence + ' <end> ' # 6\n",
    "    return sentence\n",
    "\n",
    "\n",
    "type(train_data['document'].values)\n",
    "tmp = train_data['document'].values\n",
    "\n",
    "tmp2 = []\n",
    "for s in tmp:\n",
    "    tmp2.append(preprocess_sentence(str(s)))\n",
    "\n",
    "tmp2\n",
    "\n",
    "\n",
    "\n",
    "#https://signing.tistory.com/74 참고"
   ]
  },
  {
   "cell_type": "code",
   "execution_count": 104,
   "id": "342b6c78",
   "metadata": {},
   "outputs": [
    {
     "data": {
      "text/plain": [
       "0                                        아 더빙  진짜 짜증나네요 목소리\n",
       "1                            흠  포스터보고 초딩영화줄  오버연기조차 가볍지 않구나\n",
       "2                                         너무재밓었다그래서보는것을추천한다\n",
       "3                               교도소 이야기구먼  솔직히 재미는 없다 평점 조정\n",
       "4         사이몬페그의 익살스런 연기가 돋보였던 영화 스파이더맨에서 늙어보이기만 했던 커스틴 ...\n",
       "                                ...                        \n",
       "149995                                     인간이 문제지  소는 뭔죄인가\n",
       "149996                                           평점이 너무 낮아서\n",
       "149997                        이게 뭐요 한국인은 거들먹거리고 필리핀 혼혈은 착하다\n",
       "149998                          청춘 영화의 최고봉 방황과 우울했던 날들의 자화상\n",
       "149999                             한국 영화 최초로 수간하는 내용이 담긴 영화\n",
       "Name: clean_doc, Length: 150000, dtype: object"
      ]
     },
     "execution_count": 104,
     "metadata": {},
     "output_type": "execute_result"
    }
   ],
   "source": [
    "train_data['clean_doc'] = tmp2\n",
    "train_data['clean_doc']"
   ]
  }
 ],
 "metadata": {
  "kernelspec": {
   "display_name": "Python 3 (ipykernel)",
   "language": "python",
   "name": "python3"
  },
  "language_info": {
   "codemirror_mode": {
    "name": "ipython",
    "version": 3
   },
   "file_extension": ".py",
   "mimetype": "text/x-python",
   "name": "python",
   "nbconvert_exporter": "python",
   "pygments_lexer": "ipython3",
   "version": "3.9.7"
  }
 },
 "nbformat": 4,
 "nbformat_minor": 5
}
