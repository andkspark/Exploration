{
 "cells": [
  {
   "cell_type": "markdown",
   "id": "ad2141d9",
   "metadata": {},
   "source": [
    "# ex12 뉴스 요약봇 만들기  \n",
    "  \n",
    "## Objective  \n",
    "1. Abstractive 모델 구성을 위한 텍스트 전처리 단계가 체계적으로 진행되었다.  \n",
    "분석단계, 정제단계, 정규화와 불용어 제거, 데이터셋 분리, 인코딩 과정이 빠짐없이 체계적으로 진행되었다.  \n",
    "  \n",
    "2. 텍스트 요약모델이 성공적으로 학습되었음을 확인하였다.  \n",
    "모델 학습이 진행되면서 train loss와 validation loss가 감소하는 경향을 그래프를 통해 확인했으며, 실제 요약문에 있는 핵심 단어들이 요약 문장 안에 포함되었다.  \n",
    "\n",
    "3. Extractive 요약을 시도해 보고 Abstractive 요약 결과과 함께 비교해 보았다.  \n",
    "두 요약 결과를 문법완성도 측면과 핵심단어 포함 측면으로 나누어 비교하고 분석 결과를 표로 정리하여 제시하였다.  \n",
    "  \n",
    "https://wikidocs.net/72820 "
   ]
  },
  {
   "cell_type": "markdown",
   "id": "6af2ea68",
   "metadata": {},
   "source": [
    "## 데이터 수집하기  "
   ]
  },
  {
   "cell_type": "code",
   "execution_count": 18,
   "id": "5107a1a5",
   "metadata": {},
   "outputs": [
    {
     "name": "stderr",
     "output_type": "stream",
     "text": [
      "[nltk_data] Downloading package stopwords to /aiffel/nltk_data...\n",
      "[nltk_data]   Package stopwords is already up-to-date!\n"
     ]
    }
   ],
   "source": [
    "from importlib.metadata import version\n",
    "import nltk\n",
    "nltk.download('stopwords')\n",
    "import tensorflow as tf\n",
    "import summa\n",
    "\n",
    "import pandas as pd\n",
    "import numpy as np\n",
    "import os\n",
    "import re\n",
    "import matplotlib.pyplot as plt\n",
    "from nltk.corpus import stopwords\n",
    "from bs4 import BeautifulSoup \n",
    "from tensorflow.keras.preprocessing.text import Tokenizer \n",
    "from tensorflow.keras.preprocessing.sequence import pad_sequences\n",
    "import urllib.request\n",
    "import warnings\n",
    "warnings.filterwarnings(\"ignore\", category=UserWarning, module='bs4')"
   ]
  },
  {
   "cell_type": "markdown",
   "id": "9bc46e0d",
   "metadata": {},
   "source": [
    "## 데이터 전처리하기 (추상적 요약)  \n",
    "중복 제거  \n",
    "결측치 제거  \n",
    "문맥에 따른 중복문자 제거  \n",
    "텍스트 정규화  \n",
    "불용어 제거  \n",
    "특수문자 제거  \n",
    "다시한번 결측치 제거  \n",
    "이상치 제거 (지나치게 긴 문장 등)  \n",
    "  \n",
    "이후 토크나이징을 실행한다고 학습했습니다  \n",
    "학습한 순서에 맞추어 데이터를 로드, 전처리를 진행합니다  \n",
    "  \n",
    "### 데이터 로드 및 중복/결측치 제거"
   ]
  },
  {
   "cell_type": "code",
   "execution_count": 19,
   "id": "0f2465a0",
   "metadata": {},
   "outputs": [],
   "source": [
    "import urllib.request\n",
    "urllib.request.urlretrieve(\"https://raw.githubusercontent.com/sunnysai12345/News_Summary/master/news_summary_more.csv\", filename=\"news_summary_more.csv\")\n",
    "data = pd.read_csv('news_summary_more.csv', encoding='iso-8859-1')"
   ]
  },
  {
   "cell_type": "code",
   "execution_count": 20,
   "id": "eb926be1",
   "metadata": {},
   "outputs": [
    {
     "data": {
      "text/plain": [
       "(98401, 2)"
      ]
     },
     "execution_count": 20,
     "metadata": {},
     "output_type": "execute_result"
    }
   ],
   "source": [
    "data.shape"
   ]
  },
  {
   "cell_type": "code",
   "execution_count": 21,
   "id": "137dbec0",
   "metadata": {},
   "outputs": [
    {
     "data": {
      "text/html": [
       "<div>\n",
       "<style scoped>\n",
       "    .dataframe tbody tr th:only-of-type {\n",
       "        vertical-align: middle;\n",
       "    }\n",
       "\n",
       "    .dataframe tbody tr th {\n",
       "        vertical-align: top;\n",
       "    }\n",
       "\n",
       "    .dataframe thead th {\n",
       "        text-align: right;\n",
       "    }\n",
       "</style>\n",
       "<table border=\"1\" class=\"dataframe\">\n",
       "  <thead>\n",
       "    <tr style=\"text-align: right;\">\n",
       "      <th></th>\n",
       "      <th>headlines</th>\n",
       "      <th>text</th>\n",
       "    </tr>\n",
       "  </thead>\n",
       "  <tbody>\n",
       "    <tr>\n",
       "      <th>8614</th>\n",
       "      <td>ICC pitches for Women's T20Is at Birmingham Co...</td>\n",
       "      <td>The International Cricket Council has pitched ...</td>\n",
       "    </tr>\n",
       "    <tr>\n",
       "      <th>12799</th>\n",
       "      <td>Saina in Denmark Open final after winning semi...</td>\n",
       "      <td>Indian shuttler Saina Nehwal reached the final...</td>\n",
       "    </tr>\n",
       "    <tr>\n",
       "      <th>69286</th>\n",
       "      <td>18 of 43 McDonald's outlets reopened in Delhi:...</td>\n",
       "      <td>McDonald's estranged partner Vikram Bakshi on ...</td>\n",
       "    </tr>\n",
       "    <tr>\n",
       "      <th>33496</th>\n",
       "      <td>Kalpana Chawla's husband denies rights to make...</td>\n",
       "      <td>Kalpana Chawla's husband Jean-Pierre Harrison ...</td>\n",
       "    </tr>\n",
       "    <tr>\n",
       "      <th>25229</th>\n",
       "      <td>Ex-South Korean President sentenced to 8 more ...</td>\n",
       "      <td>Former South Korean President Park Geun-hye wa...</td>\n",
       "    </tr>\n",
       "    <tr>\n",
       "      <th>73656</th>\n",
       "      <td>Man kills daughters, flees leaving suicide not...</td>\n",
       "      <td>A Bihar businessman reportedly shot dead his t...</td>\n",
       "    </tr>\n",
       "    <tr>\n",
       "      <th>10686</th>\n",
       "      <td>Thailand to waive visa-on-arrival fees for Ind...</td>\n",
       "      <td>Thailand's cabinet has approved a measure to t...</td>\n",
       "    </tr>\n",
       "    <tr>\n",
       "      <th>55789</th>\n",
       "      <td>US' new security strategy has imperial nature:...</td>\n",
       "      <td>Russian spokesperson Dmitry Peskov on Tuesday ...</td>\n",
       "    </tr>\n",
       "    <tr>\n",
       "      <th>77162</th>\n",
       "      <td>NASA jets to chase upcoming solar eclipse usin...</td>\n",
       "      <td>Two NASA jets would be chasing the moon's shad...</td>\n",
       "    </tr>\n",
       "    <tr>\n",
       "      <th>26409</th>\n",
       "      <td>BSNL becomes India's 1st network to launch 'in...</td>\n",
       "      <td>BSNL on Wednesday became the country's first t...</td>\n",
       "    </tr>\n",
       "  </tbody>\n",
       "</table>\n",
       "</div>"
      ],
      "text/plain": [
       "                                               headlines  \\\n",
       "8614   ICC pitches for Women's T20Is at Birmingham Co...   \n",
       "12799  Saina in Denmark Open final after winning semi...   \n",
       "69286  18 of 43 McDonald's outlets reopened in Delhi:...   \n",
       "33496  Kalpana Chawla's husband denies rights to make...   \n",
       "25229  Ex-South Korean President sentenced to 8 more ...   \n",
       "73656  Man kills daughters, flees leaving suicide not...   \n",
       "10686  Thailand to waive visa-on-arrival fees for Ind...   \n",
       "55789  US' new security strategy has imperial nature:...   \n",
       "77162  NASA jets to chase upcoming solar eclipse usin...   \n",
       "26409  BSNL becomes India's 1st network to launch 'in...   \n",
       "\n",
       "                                                    text  \n",
       "8614   The International Cricket Council has pitched ...  \n",
       "12799  Indian shuttler Saina Nehwal reached the final...  \n",
       "69286  McDonald's estranged partner Vikram Bakshi on ...  \n",
       "33496  Kalpana Chawla's husband Jean-Pierre Harrison ...  \n",
       "25229  Former South Korean President Park Geun-hye wa...  \n",
       "73656  A Bihar businessman reportedly shot dead his t...  \n",
       "10686  Thailand's cabinet has approved a measure to t...  \n",
       "55789  Russian spokesperson Dmitry Peskov on Tuesday ...  \n",
       "77162  Two NASA jets would be chasing the moon's shad...  \n",
       "26409  BSNL on Wednesday became the country's first t...  "
      ]
     },
     "execution_count": 21,
     "metadata": {},
     "output_type": "execute_result"
    }
   ],
   "source": [
    "data.sample(10)"
   ]
  },
  {
   "cell_type": "markdown",
   "id": "52b0d59d",
   "metadata": {},
   "source": [
    "데이터는 기사의 본문에 해당되는 text와 headlines 두 가지 열로 구성되어져 있습니다.  \n",
    "추상적 요약을 하는 경우에는 text를 본문, headlines를 이미 요약된 데이터로 삼아서 모델을 학습할 수 있습니다.  \n",
    "추출적 요약을 하는 경우에는 오직 text열만을 사용해야 합니다.  "
   ]
  },
  {
   "cell_type": "code",
   "execution_count": 22,
   "id": "9ad993e9",
   "metadata": {},
   "outputs": [
    {
     "name": "stdout",
     "output_type": "stream",
     "text": [
      "headlines 열에서 중복을 배제한 유일한 샘플의 수 : 98280\n",
      "text 열에서 중복을 배제한 유일한 샘플의 수 : 98360\n"
     ]
    }
   ],
   "source": [
    "print('headlines 열에서 중복을 배제한 유일한 샘플의 수 :', data['headlines'].nunique())\n",
    "print('text 열에서 중복을 배제한 유일한 샘플의 수 :', data['text'].nunique())"
   ]
  },
  {
   "cell_type": "markdown",
   "id": "022081da",
   "metadata": {},
   "source": [
    "전체 갯수 중 98400개 중, 41개의 text 중복이 있습니다  \n",
    "headline이 중복이어도 내용이 다를 수 있으니, text 중복을 제거해주도록 하겠습니다"
   ]
  },
  {
   "cell_type": "code",
   "execution_count": 23,
   "id": "48095a69",
   "metadata": {},
   "outputs": [
    {
     "data": {
      "text/plain": [
       "(98360, 2)"
      ]
     },
     "execution_count": 23,
     "metadata": {},
     "output_type": "execute_result"
    }
   ],
   "source": [
    "data.drop_duplicates(subset = ['text'], inplace=True)\n",
    "data.shape"
   ]
  },
  {
   "cell_type": "code",
   "execution_count": 24,
   "id": "beb3224f",
   "metadata": {},
   "outputs": [
    {
     "data": {
      "text/plain": [
       "headlines    0\n",
       "text         0\n",
       "dtype: int64"
      ]
     },
     "execution_count": 24,
     "metadata": {},
     "output_type": "execute_result"
    }
   ],
   "source": [
    "data.isna().sum()"
   ]
  },
  {
   "cell_type": "markdown",
   "id": "a147bc89",
   "metadata": {},
   "source": [
    "빈 데이터가 있다면 제거해줬어야 했을텐데, 다행히도 없었습니다 "
   ]
  },
  {
   "cell_type": "markdown",
   "id": "86e6ed41",
   "metadata": {},
   "source": [
    "### 텍스트 정규화, 불용어 제거  \n",
    "apostrophe등을 사용하는 다양한 문장의 표현을 단일화합니다  \n",
    "문맥에 크게 의미를 주지 않는 단어 (stopword)등을 제거합니다  \n",
    "  \n",
    "다만 개인적으로 우려되는 점은  \n",
    "https://wikidocs.net/21693  \n",
    "에 소개되어 있듯이, 고유명사등의 처리  \n",
    "예를 들어, 위 sample의 2번째인 Elon Musk-led 이런 부분, 고유명사와 하이픈으로 이어지는 부분등은 어떻게 처리해야 할지 고민이 됩니다  \n",
    "기존의 방식은 일괄 소문자화, 온점제거, 특수문자 제거를 해왔지만, 일괄적으로 수행할 시 문장의 의미를 잃어버리지 않을까 고심하게 되는 부분입니다  \n",
    "nltk에서 여러 방식의 토크나이저를 제공하는데, News in english에 대한 것은 찾지 못하였습니다  \n",
    "일단, 첫술에 완벽할 수는 없으므로, lms에 소개된 방향으로 진행 후 개선점을 탐색해보겠습니다  \n",
    "(나중에 https://datascienceschool.net/03%20machine%20learning/03.01.01%20NLTK%20%EC%9E%90%EC%97%B0%EC%96%B4%20%EC%B2%98%EB%A6%AC%20%ED%8C%A8%ED%82%A4%EC%A7%80.html  \n",
    "랑 https://excelsior-cjh.tistory.com/67  \n",
    "써볼수도 있을거 같습니다)  \n",
    "\n",
    "일단 하자!!  "
   ]
  },
  {
   "cell_type": "markdown",
   "id": "a0e7be9a",
   "metadata": {},
   "source": [
    "#### 정규화  \n",
    "특수문자 제거 전에 정규화를 먼저 해야, 단어의 의미를 잃어버리는 불상사를 방지할 수 있다는 걸 지금 깨달았습니다  "
   ]
  },
  {
   "cell_type": "code",
   "execution_count": 25,
   "id": "b77db830",
   "metadata": {},
   "outputs": [
    {
     "name": "stdout",
     "output_type": "stream",
     "text": [
      "정규화 사전의 수:  120\n"
     ]
    }
   ],
   "source": [
    "contractions = {\"ain't\": \"is not\", \"aren't\": \"are not\",\"can't\": \"cannot\", \"'cause\": \"because\", \"could've\": \"could have\", \"couldn't\": \"could not\",\n",
    "                           \"didn't\": \"did not\",  \"doesn't\": \"does not\", \"don't\": \"do not\", \"hadn't\": \"had not\", \"hasn't\": \"has not\", \"haven't\": \"have not\",\n",
    "                           \"he'd\": \"he would\",\"he'll\": \"he will\", \"he's\": \"he is\", \"how'd\": \"how did\", \"how'd'y\": \"how do you\", \"how'll\": \"how will\", \"how's\": \"how is\",\n",
    "                           \"I'd\": \"I would\", \"I'd've\": \"I would have\", \"I'll\": \"I will\", \"I'll've\": \"I will have\",\"I'm\": \"I am\", \"I've\": \"I have\", \"i'd\": \"i would\",\n",
    "                           \"i'd've\": \"i would have\", \"i'll\": \"i will\",  \"i'll've\": \"i will have\",\"i'm\": \"i am\", \"i've\": \"i have\", \"isn't\": \"is not\", \"it'd\": \"it would\",\n",
    "                           \"it'd've\": \"it would have\", \"it'll\": \"it will\", \"it'll've\": \"it will have\",\"it's\": \"it is\", \"let's\": \"let us\", \"ma'am\": \"madam\",\n",
    "                           \"mayn't\": \"may not\", \"might've\": \"might have\",\"mightn't\": \"might not\",\"mightn't've\": \"might not have\", \"must've\": \"must have\",\n",
    "                           \"mustn't\": \"must not\", \"mustn't've\": \"must not have\", \"needn't\": \"need not\", \"needn't've\": \"need not have\",\"o'clock\": \"of the clock\",\n",
    "                           \"oughtn't\": \"ought not\", \"oughtn't've\": \"ought not have\", \"shan't\": \"shall not\", \"sha'n't\": \"shall not\", \"shan't've\": \"shall not have\",\n",
    "                           \"she'd\": \"she would\", \"she'd've\": \"she would have\", \"she'll\": \"she will\", \"she'll've\": \"she will have\", \"she's\": \"she is\",\n",
    "                           \"should've\": \"should have\", \"shouldn't\": \"should not\", \"shouldn't've\": \"should not have\", \"so've\": \"so have\",\"so's\": \"so as\",\n",
    "                           \"this's\": \"this is\",\"that'd\": \"that would\", \"that'd've\": \"that would have\", \"that's\": \"that is\", \"there'd\": \"there would\",\n",
    "                           \"there'd've\": \"there would have\", \"there's\": \"there is\", \"here's\": \"here is\",\"they'd\": \"they would\", \"they'd've\": \"they would have\",\n",
    "                           \"they'll\": \"they will\", \"they'll've\": \"they will have\", \"they're\": \"they are\", \"they've\": \"they have\", \"to've\": \"to have\",\n",
    "                           \"wasn't\": \"was not\", \"we'd\": \"we would\", \"we'd've\": \"we would have\", \"we'll\": \"we will\", \"we'll've\": \"we will have\", \"we're\": \"we are\",\n",
    "                           \"we've\": \"we have\", \"weren't\": \"were not\", \"what'll\": \"what will\", \"what'll've\": \"what will have\", \"what're\": \"what are\",\n",
    "                           \"what's\": \"what is\", \"what've\": \"what have\", \"when's\": \"when is\", \"when've\": \"when have\", \"where'd\": \"where did\", \"where's\": \"where is\",\n",
    "                           \"where've\": \"where have\", \"who'll\": \"who will\", \"who'll've\": \"who will have\", \"who's\": \"who is\", \"who've\": \"who have\",\n",
    "                           \"why's\": \"why is\", \"why've\": \"why have\", \"will've\": \"will have\", \"won't\": \"will not\", \"won't've\": \"will not have\",\n",
    "                           \"would've\": \"would have\", \"wouldn't\": \"would not\", \"wouldn't've\": \"would not have\", \"y'all\": \"you all\",\n",
    "                           \"y'all'd\": \"you all would\",\"y'all'd've\": \"you all would have\",\"y'all're\": \"you all are\",\"y'all've\": \"you all have\",\n",
    "                           \"you'd\": \"you would\", \"you'd've\": \"you would have\", \"you'll\": \"you will\", \"you'll've\": \"you will have\",\n",
    "                           \"you're\": \"you are\", \"you've\": \"you have\"}\n",
    "\n",
    "print(\"정규화 사전의 수: \", len(contractions))"
   ]
  },
  {
   "cell_type": "code",
   "execution_count": 26,
   "id": "ad15407d",
   "metadata": {},
   "outputs": [
    {
     "name": "stdout",
     "output_type": "stream",
     "text": [
      "불용어 개수 : 179\n",
      "['i', 'me', 'my', 'myself', 'we', 'our', 'ours', 'ourselves', 'you', \"you're\", \"you've\", \"you'll\", \"you'd\", 'your', 'yours', 'yourself', 'yourselves', 'he', 'him', 'his', 'himself', 'she', \"she's\", 'her', 'hers', 'herself', 'it', \"it's\", 'its', 'itself', 'they', 'them', 'their', 'theirs', 'themselves', 'what', 'which', 'who', 'whom', 'this', 'that', \"that'll\", 'these', 'those', 'am', 'is', 'are', 'was', 'were', 'be', 'been', 'being', 'have', 'has', 'had', 'having', 'do', 'does', 'did', 'doing', 'a', 'an', 'the', 'and', 'but', 'if', 'or', 'because', 'as', 'until', 'while', 'of', 'at', 'by', 'for', 'with', 'about', 'against', 'between', 'into', 'through', 'during', 'before', 'after', 'above', 'below', 'to', 'from', 'up', 'down', 'in', 'out', 'on', 'off', 'over', 'under', 'again', 'further', 'then', 'once', 'here', 'there', 'when', 'where', 'why', 'how', 'all', 'any', 'both', 'each', 'few', 'more', 'most', 'other', 'some', 'such', 'no', 'nor', 'not', 'only', 'own', 'same', 'so', 'than', 'too', 'very', 's', 't', 'can', 'will', 'just', 'don', \"don't\", 'should', \"should've\", 'now', 'd', 'll', 'm', 'o', 're', 've', 'y', 'ain', 'aren', \"aren't\", 'couldn', \"couldn't\", 'didn', \"didn't\", 'doesn', \"doesn't\", 'hadn', \"hadn't\", 'hasn', \"hasn't\", 'haven', \"haven't\", 'isn', \"isn't\", 'ma', 'mightn', \"mightn't\", 'mustn', \"mustn't\", 'needn', \"needn't\", 'shan', \"shan't\", 'shouldn', \"shouldn't\", 'wasn', \"wasn't\", 'weren', \"weren't\", 'won', \"won't\", 'wouldn', \"wouldn't\"]\n"
     ]
    }
   ],
   "source": [
    "print('불용어 개수 :', len(stopwords.words('english') ))\n",
    "print(stopwords.words('english'))"
   ]
  },
  {
   "cell_type": "code",
   "execution_count": 27,
   "id": "5551b344",
   "metadata": {},
   "outputs": [],
   "source": [
    "# 데이터 전처리 함수\n",
    "def preprocess_sentence(sentence, remove_stopwords=True):\n",
    "    sentence = sentence.lower() # 텍스트 소문자화\n",
    "    sentence = BeautifulSoup(sentence, \"lxml\").text # <br />, <a href = ...> 등의 html 태그 제거\n",
    "    sentence = re.sub(r'\\([^)]*\\)', '', sentence) # 괄호로 닫힌 문자열 (...) 제거 Ex) my husband (and myself!) for => my husband for\n",
    "    sentence = re.sub('\"','', sentence) # 쌍따옴표 \" 제거\n",
    "    sentence = ' '.join([contractions[t] if t in contractions else t for t in sentence.split(\" \")]) # 약어 정규화\n",
    "    sentence = re.sub(r\"'s\\b\",\"\", sentence) # 소유격 제거. Ex) roland's -> roland\n",
    "    sentence = re.sub(\"[^a-zA-Z]\", \" \", sentence) # 영어 외 문자(숫자, 특수문자 등) 공백으로 변환\n",
    "    sentence = re.sub('[m]{2,}', 'mm', sentence) # m이 3개 이상이면 2개로 변경. Ex) ummmmmmm yeah -> umm yeah\n",
    "    \n",
    "    # 불용어 제거 (Text)\n",
    "    if remove_stopwords:\n",
    "        tokens = ' '.join(word for word in sentence.split() if not word in stopwords.words('english') if len(word) > 1)\n",
    "    # 불용어 미제거 (Summary)\n",
    "    else:\n",
    "        tokens = ' '.join(word for word in sentence.split() if len(word) > 1)\n",
    "    return tokens"
   ]
  },
  {
   "cell_type": "code",
   "execution_count": 28,
   "id": "2742119f",
   "metadata": {},
   "outputs": [
    {
     "name": "stdout",
     "output_type": "stream",
     "text": [
      "text:  everything bought great infact ordered twice third ordered wasfor mother father\n",
      "summary: great way to start the day\n"
     ]
    }
   ],
   "source": [
    "temp_text = 'Everything I bought was great, infact I ordered twice and the third ordered was<br />for my mother and father.'\n",
    "temp_summary = 'Great way to start (or finish) the day!!!'\n",
    "\n",
    "print(\"text: \", preprocess_sentence(temp_text))\n",
    "print(\"summary:\", preprocess_sentence(temp_summary, False))  # 불용어를 제거하지 않습니다."
   ]
  },
  {
   "cell_type": "markdown",
   "id": "0d6d004f",
   "metadata": {},
   "source": [
    "테스트 결과, 함수가 올바로 작동했습니다  \n",
    "데이터셋에 적용~"
   ]
  },
  {
   "cell_type": "code",
   "execution_count": 29,
   "id": "41e75c53",
   "metadata": {},
   "outputs": [
    {
     "data": {
      "text/html": [
       "<div>\n",
       "<style scoped>\n",
       "    .dataframe tbody tr th:only-of-type {\n",
       "        vertical-align: middle;\n",
       "    }\n",
       "\n",
       "    .dataframe tbody tr th {\n",
       "        vertical-align: top;\n",
       "    }\n",
       "\n",
       "    .dataframe thead th {\n",
       "        text-align: right;\n",
       "    }\n",
       "</style>\n",
       "<table border=\"1\" class=\"dataframe\">\n",
       "  <thead>\n",
       "    <tr style=\"text-align: right;\">\n",
       "      <th></th>\n",
       "      <th>headlines</th>\n",
       "      <th>text</th>\n",
       "    </tr>\n",
       "  </thead>\n",
       "  <tbody>\n",
       "    <tr>\n",
       "      <th>0</th>\n",
       "      <td>upGrad learner switches to career in ML &amp; Al w...</td>\n",
       "      <td>Saurav Kant, an alumnus of upGrad and IIIT-B's...</td>\n",
       "    </tr>\n",
       "    <tr>\n",
       "      <th>1</th>\n",
       "      <td>Delhi techie wins free food from Swiggy for on...</td>\n",
       "      <td>Kunal Shah's credit card bill payment platform...</td>\n",
       "    </tr>\n",
       "    <tr>\n",
       "      <th>2</th>\n",
       "      <td>New Zealand end Rohit Sharma-led India's 12-ma...</td>\n",
       "      <td>New Zealand defeated India by 8 wickets in the...</td>\n",
       "    </tr>\n",
       "    <tr>\n",
       "      <th>3</th>\n",
       "      <td>Aegon life iTerm insurance plan helps customer...</td>\n",
       "      <td>With Aegon Life iTerm Insurance plan, customer...</td>\n",
       "    </tr>\n",
       "    <tr>\n",
       "      <th>4</th>\n",
       "      <td>Have known Hirani for yrs, what if MeToo claim...</td>\n",
       "      <td>Speaking about the sexual harassment allegatio...</td>\n",
       "    </tr>\n",
       "    <tr>\n",
       "      <th>5</th>\n",
       "      <td>Rahat Fateh Ali Khan denies getting notice for...</td>\n",
       "      <td>Pakistani singer Rahat Fateh Ali Khan has deni...</td>\n",
       "    </tr>\n",
       "    <tr>\n",
       "      <th>6</th>\n",
       "      <td>India get all out for 92, their lowest ODI tot...</td>\n",
       "      <td>India recorded their lowest ODI total in New Z...</td>\n",
       "    </tr>\n",
       "    <tr>\n",
       "      <th>7</th>\n",
       "      <td>Govt directs Alok Verma to join work 1 day bef...</td>\n",
       "      <td>Weeks after ex-CBI Director Alok Verma told th...</td>\n",
       "    </tr>\n",
       "    <tr>\n",
       "      <th>8</th>\n",
       "      <td>Called PM Modi 'sir' 10 times to satisfy his e...</td>\n",
       "      <td>Andhra Pradesh CM N Chandrababu Naidu has said...</td>\n",
       "    </tr>\n",
       "    <tr>\n",
       "      <th>9</th>\n",
       "      <td>Cong wins Ramgarh bypoll in Rajasthan, takes t...</td>\n",
       "      <td>Congress candidate Shafia Zubair won the Ramga...</td>\n",
       "    </tr>\n",
       "    <tr>\n",
       "      <th>10</th>\n",
       "      <td>UP cousins fed human excreta for friendship wi...</td>\n",
       "      <td>Two minor cousins in Uttar Pradesh's Gorakhpur...</td>\n",
       "    </tr>\n",
       "    <tr>\n",
       "      <th>11</th>\n",
       "      <td>81-yr-old woman conducts physical training in ...</td>\n",
       "      <td>Isha Ghosh, an 81-year-old member of Bharat Sc...</td>\n",
       "    </tr>\n",
       "    <tr>\n",
       "      <th>12</th>\n",
       "      <td>Ram, Krishna didn't smoke, why should we: Ramd...</td>\n",
       "      <td>Urging saints and seers at the Kumbh Mela to q...</td>\n",
       "    </tr>\n",
       "    <tr>\n",
       "      <th>13</th>\n",
       "      <td>Pharma exec gave doctor a lap dance to sell me...</td>\n",
       "      <td>Former stripper and regional sales director of...</td>\n",
       "    </tr>\n",
       "    <tr>\n",
       "      <th>14</th>\n",
       "      <td>I only cried at my 'bidaai' as I felt peer pr...</td>\n",
       "      <td>Reliance Industries' Chairman Mukesh Ambani's ...</td>\n",
       "    </tr>\n",
       "    <tr>\n",
       "      <th>15</th>\n",
       "      <td>Louis Vuitton owner to stockpile 4 months of w...</td>\n",
       "      <td>Louis Vuitton owner LVMH, which makes high-end...</td>\n",
       "    </tr>\n",
       "    <tr>\n",
       "      <th>16</th>\n",
       "      <td>Karan Johar, Tabu turn showstoppers on opening...</td>\n",
       "      <td>Filmmaker Karan Johar and actress Tabu turned ...</td>\n",
       "    </tr>\n",
       "    <tr>\n",
       "      <th>17</th>\n",
       "      <td>Those on bail will go to jail: PM Modi takes j...</td>\n",
       "      <td>In a jibe at Congress President Rahul Gandhi, ...</td>\n",
       "    </tr>\n",
       "    <tr>\n",
       "      <th>18</th>\n",
       "      <td>How long can I tolerate Congress leaders' pots...</td>\n",
       "      <td>Days after he threatened to step down from his...</td>\n",
       "    </tr>\n",
       "    <tr>\n",
       "      <th>19</th>\n",
       "      <td>Odisha CM Patnaik controls mining mafia: Union...</td>\n",
       "      <td>Union Minister Dharmendra Pradhan on Wednesday...</td>\n",
       "    </tr>\n",
       "  </tbody>\n",
       "</table>\n",
       "</div>"
      ],
      "text/plain": [
       "                                            headlines  \\\n",
       "0   upGrad learner switches to career in ML & Al w...   \n",
       "1   Delhi techie wins free food from Swiggy for on...   \n",
       "2   New Zealand end Rohit Sharma-led India's 12-ma...   \n",
       "3   Aegon life iTerm insurance plan helps customer...   \n",
       "4   Have known Hirani for yrs, what if MeToo claim...   \n",
       "5   Rahat Fateh Ali Khan denies getting notice for...   \n",
       "6   India get all out for 92, their lowest ODI tot...   \n",
       "7   Govt directs Alok Verma to join work 1 day bef...   \n",
       "8   Called PM Modi 'sir' 10 times to satisfy his e...   \n",
       "9   Cong wins Ramgarh bypoll in Rajasthan, takes t...   \n",
       "10  UP cousins fed human excreta for friendship wi...   \n",
       "11  81-yr-old woman conducts physical training in ...   \n",
       "12  Ram, Krishna didn't smoke, why should we: Ramd...   \n",
       "13  Pharma exec gave doctor a lap dance to sell me...   \n",
       "14   I only cried at my 'bidaai' as I felt peer pr...   \n",
       "15  Louis Vuitton owner to stockpile 4 months of w...   \n",
       "16  Karan Johar, Tabu turn showstoppers on opening...   \n",
       "17  Those on bail will go to jail: PM Modi takes j...   \n",
       "18  How long can I tolerate Congress leaders' pots...   \n",
       "19  Odisha CM Patnaik controls mining mafia: Union...   \n",
       "\n",
       "                                                 text  \n",
       "0   Saurav Kant, an alumnus of upGrad and IIIT-B's...  \n",
       "1   Kunal Shah's credit card bill payment platform...  \n",
       "2   New Zealand defeated India by 8 wickets in the...  \n",
       "3   With Aegon Life iTerm Insurance plan, customer...  \n",
       "4   Speaking about the sexual harassment allegatio...  \n",
       "5   Pakistani singer Rahat Fateh Ali Khan has deni...  \n",
       "6   India recorded their lowest ODI total in New Z...  \n",
       "7   Weeks after ex-CBI Director Alok Verma told th...  \n",
       "8   Andhra Pradesh CM N Chandrababu Naidu has said...  \n",
       "9   Congress candidate Shafia Zubair won the Ramga...  \n",
       "10  Two minor cousins in Uttar Pradesh's Gorakhpur...  \n",
       "11  Isha Ghosh, an 81-year-old member of Bharat Sc...  \n",
       "12  Urging saints and seers at the Kumbh Mela to q...  \n",
       "13  Former stripper and regional sales director of...  \n",
       "14  Reliance Industries' Chairman Mukesh Ambani's ...  \n",
       "15  Louis Vuitton owner LVMH, which makes high-end...  \n",
       "16  Filmmaker Karan Johar and actress Tabu turned ...  \n",
       "17  In a jibe at Congress President Rahul Gandhi, ...  \n",
       "18  Days after he threatened to step down from his...  \n",
       "19  Union Minister Dharmendra Pradhan on Wednesday...  "
      ]
     },
     "execution_count": 29,
     "metadata": {},
     "output_type": "execute_result"
    }
   ],
   "source": [
    "data.head(20)"
   ]
  },
  {
   "cell_type": "code",
   "execution_count": 31,
   "id": "5bb9cb78",
   "metadata": {},
   "outputs": [
    {
     "data": {
      "text/html": [
       "<div>\n",
       "<style scoped>\n",
       "    .dataframe tbody tr th:only-of-type {\n",
       "        vertical-align: middle;\n",
       "    }\n",
       "\n",
       "    .dataframe tbody tr th {\n",
       "        vertical-align: top;\n",
       "    }\n",
       "\n",
       "    .dataframe thead th {\n",
       "        text-align: right;\n",
       "    }\n",
       "</style>\n",
       "<table border=\"1\" class=\"dataframe\">\n",
       "  <thead>\n",
       "    <tr style=\"text-align: right;\">\n",
       "      <th></th>\n",
       "      <th>headlines</th>\n",
       "      <th>text</th>\n",
       "    </tr>\n",
       "  </thead>\n",
       "  <tbody>\n",
       "    <tr>\n",
       "      <th>0</th>\n",
       "      <td>upgrad learner switches career ml al salary hike</td>\n",
       "      <td>saurav kant alumnus upgrad iiit pg program mac...</td>\n",
       "    </tr>\n",
       "    <tr>\n",
       "      <th>1</th>\n",
       "      <td>delhi techie wins free food swiggy one year cred</td>\n",
       "      <td>kunal shah credit card bill payment platform c...</td>\n",
       "    </tr>\n",
       "    <tr>\n",
       "      <th>2</th>\n",
       "      <td>new zealand end rohit sharma led india match w...</td>\n",
       "      <td>new zealand defeated india wickets fourth odi ...</td>\n",
       "    </tr>\n",
       "    <tr>\n",
       "      <th>3</th>\n",
       "      <td>aegon life iterm insurance plan helps customer...</td>\n",
       "      <td>aegon life iterm insurance plan customers enjo...</td>\n",
       "    </tr>\n",
       "    <tr>\n",
       "      <th>4</th>\n",
       "      <td>known hirani yrs metoo claims true sonam</td>\n",
       "      <td>speaking sexual harassment allegations rajkuma...</td>\n",
       "    </tr>\n",
       "    <tr>\n",
       "      <th>5</th>\n",
       "      <td>rahat fateh ali khan denies getting notice smu...</td>\n",
       "      <td>pakistani singer rahat fateh ali khan denied r...</td>\n",
       "    </tr>\n",
       "    <tr>\n",
       "      <th>6</th>\n",
       "      <td>india get lowest odi total new zealand</td>\n",
       "      <td>india recorded lowest odi total new zealand ge...</td>\n",
       "    </tr>\n",
       "    <tr>\n",
       "      <th>7</th>\n",
       "      <td>govt directs alok verma join work day retirement</td>\n",
       "      <td>weeks ex cbi director alok verma told departme...</td>\n",
       "    </tr>\n",
       "    <tr>\n",
       "      <th>8</th>\n",
       "      <td>called pm modi sir times satisfy ego andhra cm</td>\n",
       "      <td>andhra pradesh cm chandrababu naidu said met u...</td>\n",
       "    </tr>\n",
       "    <tr>\n",
       "      <th>9</th>\n",
       "      <td>cong wins ramgarh bypoll rajasthan takes total...</td>\n",
       "      <td>congress candidate shafia zubair ramgarh assem...</td>\n",
       "    </tr>\n",
       "    <tr>\n",
       "      <th>10</th>\n",
       "      <td>cousins fed human excreta friendship boys</td>\n",
       "      <td>two minor cousins uttar pradesh gorakhpur alle...</td>\n",
       "    </tr>\n",
       "    <tr>\n",
       "      <th>11</th>\n",
       "      <td>yr old woman conducts physical training khand ...</td>\n",
       "      <td>isha ghosh year old member bharat scouts guide...</td>\n",
       "    </tr>\n",
       "    <tr>\n",
       "      <th>12</th>\n",
       "      <td>ram krishna smoke ramdev sadhus kumbh</td>\n",
       "      <td>urging saints seers kumbh mela quit smoking yo...</td>\n",
       "    </tr>\n",
       "    <tr>\n",
       "      <th>13</th>\n",
       "      <td>pharma exec gave doctor lap dance sell medicin...</td>\n",
       "      <td>former stripper regional sales director pharma...</td>\n",
       "    </tr>\n",
       "    <tr>\n",
       "      <th>14</th>\n",
       "      <td>cried bidaai felt peer pressure isha ambani</td>\n",
       "      <td>reliance industries chairman mukesh ambani dau...</td>\n",
       "    </tr>\n",
       "    <tr>\n",
       "      <th>15</th>\n",
       "      <td>louis vuitton owner stockpile months wine spir...</td>\n",
       "      <td>louis vuitton owner lvmh makes high end bevera...</td>\n",
       "    </tr>\n",
       "    <tr>\n",
       "      <th>16</th>\n",
       "      <td>karan johar tabu turn showstoppers opening nig...</td>\n",
       "      <td>filmmaker karan johar actress tabu turned show...</td>\n",
       "    </tr>\n",
       "    <tr>\n",
       "      <th>17</th>\n",
       "      <td>bail go jail pm modi takes jibe rahul</td>\n",
       "      <td>jibe congress president rahul gandhi pm narend...</td>\n",
       "    </tr>\n",
       "    <tr>\n",
       "      <th>18</th>\n",
       "      <td>long tolerate congress leaders potshots taka cm</td>\n",
       "      <td>days threatened step post congress mlas contin...</td>\n",
       "    </tr>\n",
       "    <tr>\n",
       "      <th>19</th>\n",
       "      <td>odisha cm patnaik controls mining mafia union ...</td>\n",
       "      <td>union minister dharmendra pradhan wednesday cl...</td>\n",
       "    </tr>\n",
       "  </tbody>\n",
       "</table>\n",
       "</div>"
      ],
      "text/plain": [
       "                                            headlines  \\\n",
       "0    upgrad learner switches career ml al salary hike   \n",
       "1    delhi techie wins free food swiggy one year cred   \n",
       "2   new zealand end rohit sharma led india match w...   \n",
       "3   aegon life iterm insurance plan helps customer...   \n",
       "4            known hirani yrs metoo claims true sonam   \n",
       "5   rahat fateh ali khan denies getting notice smu...   \n",
       "6              india get lowest odi total new zealand   \n",
       "7    govt directs alok verma join work day retirement   \n",
       "8      called pm modi sir times satisfy ego andhra cm   \n",
       "9   cong wins ramgarh bypoll rajasthan takes total...   \n",
       "10          cousins fed human excreta friendship boys   \n",
       "11  yr old woman conducts physical training khand ...   \n",
       "12              ram krishna smoke ramdev sadhus kumbh   \n",
       "13  pharma exec gave doctor lap dance sell medicin...   \n",
       "14        cried bidaai felt peer pressure isha ambani   \n",
       "15  louis vuitton owner stockpile months wine spir...   \n",
       "16  karan johar tabu turn showstoppers opening nig...   \n",
       "17              bail go jail pm modi takes jibe rahul   \n",
       "18    long tolerate congress leaders potshots taka cm   \n",
       "19  odisha cm patnaik controls mining mafia union ...   \n",
       "\n",
       "                                                 text  \n",
       "0   saurav kant alumnus upgrad iiit pg program mac...  \n",
       "1   kunal shah credit card bill payment platform c...  \n",
       "2   new zealand defeated india wickets fourth odi ...  \n",
       "3   aegon life iterm insurance plan customers enjo...  \n",
       "4   speaking sexual harassment allegations rajkuma...  \n",
       "5   pakistani singer rahat fateh ali khan denied r...  \n",
       "6   india recorded lowest odi total new zealand ge...  \n",
       "7   weeks ex cbi director alok verma told departme...  \n",
       "8   andhra pradesh cm chandrababu naidu said met u...  \n",
       "9   congress candidate shafia zubair ramgarh assem...  \n",
       "10  two minor cousins uttar pradesh gorakhpur alle...  \n",
       "11  isha ghosh year old member bharat scouts guide...  \n",
       "12  urging saints seers kumbh mela quit smoking yo...  \n",
       "13  former stripper regional sales director pharma...  \n",
       "14  reliance industries chairman mukesh ambani dau...  \n",
       "15  louis vuitton owner lvmh makes high end bevera...  \n",
       "16  filmmaker karan johar actress tabu turned show...  \n",
       "17  jibe congress president rahul gandhi pm narend...  \n",
       "18  days threatened step post congress mlas contin...  \n",
       "19  union minister dharmendra pradhan wednesday cl...  "
      ]
     },
     "execution_count": 31,
     "metadata": {},
     "output_type": "execute_result"
    }
   ],
   "source": [
    "clean_df = data.copy()    #원본은 유지\n",
    "clean_df['headlines'] = clean_df['headlines'].apply(preprocess_sentence, args = (False))\n",
    "clean_df['text'] = clean_df['text'].apply(preprocess_sentence)\n",
    "clean_df.head(20)"
   ]
  },
  {
   "cell_type": "markdown",
   "id": "3cb6187d",
   "metadata": {},
   "source": [
    "전처리가 잘 되긴 했는데.. 대문자.. 고유명사.. 자꾸 신경이 쓰이는 건 어쩔수 없네요  \n",
    "  \n",
    "#### 결측치 확인  \n",
    "데이터 처리과정에서 새로 결측치가 나왔을 수도 있으니, 확인해보고 제거합니다  "
   ]
  },
  {
   "cell_type": "code",
   "execution_count": 32,
   "id": "74a9b6de",
   "metadata": {},
   "outputs": [
    {
     "data": {
      "text/plain": [
       "headlines    0\n",
       "text         0\n",
       "dtype: int64"
      ]
     },
     "execution_count": 32,
     "metadata": {},
     "output_type": "execute_result"
    }
   ],
   "source": [
    "clean_df.replace('', np.nan, inplace = True)\n",
    "clean_df.isna().sum()"
   ]
  },
  {
   "cell_type": "code",
   "execution_count": 43,
   "id": "e6ba4d6b",
   "metadata": {},
   "outputs": [],
   "source": [
    "#clean_df.dropna(axis=0, inplace = True)"
   ]
  },
  {
   "cell_type": "markdown",
   "id": "be2e4f1e",
   "metadata": {},
   "source": [
    "#### 이상치 제거  \n",
    "데이터셋 내에서 특정 문장이 너무 길 경우, 데이터셋 전체로 학습할 수 있다는 장점은 있지만  \n",
    "pad_sequence메서드를 사용할 때 학습에 사용된 문장의 최대 길이로 padding이 진행되어  \n",
    "대부분의 문장이 문장 길이보다 0이 더 많은 학습을 진행하게 됩니다 (피드백 감사합니다!)  \n",
    "추상적 분석의 결과물이 좋게 나오지 않게 우려되는 부분이므로, 일정 수치에서 너무 벗어나는 길이를 이상치로 규정하고 제거하도록 합니다  "
   ]
  },
  {
   "cell_type": "code",
   "execution_count": 51,
   "id": "bd37a325",
   "metadata": {},
   "outputs": [],
   "source": [
    "headlines_len = [len(s.split()) for s in clean_df['headlines']]\n",
    "text_len = [len(s.split()) for s in clean_df['text']]"
   ]
  },
  {
   "cell_type": "code",
   "execution_count": 56,
   "id": "03442080",
   "metadata": {},
   "outputs": [
    {
     "data": {
      "text/plain": [
       "[<matplotlib.lines.Line2D at 0x7f15656062b0>]"
      ]
     },
     "execution_count": 56,
     "metadata": {},
     "output_type": "execute_result"
    },
    {
     "data": {
      "image/png": "[encoded data removed]",
      "text/plain": [
       "<Figure size 864x432 with 2 Axes>"
      ]
     },
     "metadata": {
      "needs_background": "light"
     },
     "output_type": "display_data"
    }
   ],
   "source": [
    "headlines_len.sort()\n",
    "text_len.sort()\n",
    "\n",
    "fig = plt.figure(figsize = (12, 6))\n",
    "\n",
    "plt.subplot(1, 2, 1)\n",
    "plt.plot(headlines_len)\n",
    "\n",
    "plt.subplot(1, 2, 2)\n",
    "plt.plot(text_len)"
   ]
  },
  {
   "cell_type": "code",
   "execution_count": 67,
   "id": "f31c6c5b",
   "metadata": {},
   "outputs": [
    {
     "data": {
      "text/html": [
       "<div>\n",
       "<style scoped>\n",
       "    .dataframe tbody tr th:only-of-type {\n",
       "        vertical-align: middle;\n",
       "    }\n",
       "\n",
       "    .dataframe tbody tr th {\n",
       "        vertical-align: top;\n",
       "    }\n",
       "\n",
       "    .dataframe thead th {\n",
       "        text-align: right;\n",
       "    }\n",
       "</style>\n",
       "<table border=\"1\" class=\"dataframe\">\n",
       "  <thead>\n",
       "    <tr style=\"text-align: right;\">\n",
       "      <th></th>\n",
       "      <th>0</th>\n",
       "    </tr>\n",
       "  </thead>\n",
       "  <tbody>\n",
       "    <tr>\n",
       "      <th>count</th>\n",
       "      <td>98360.000000</td>\n",
       "    </tr>\n",
       "    <tr>\n",
       "      <th>mean</th>\n",
       "      <td>7.136183</td>\n",
       "    </tr>\n",
       "    <tr>\n",
       "      <th>std</th>\n",
       "      <td>1.162421</td>\n",
       "    </tr>\n",
       "    <tr>\n",
       "      <th>min</th>\n",
       "      <td>1.000000</td>\n",
       "    </tr>\n",
       "    <tr>\n",
       "      <th>25%</th>\n",
       "      <td>6.000000</td>\n",
       "    </tr>\n",
       "    <tr>\n",
       "      <th>50%</th>\n",
       "      <td>7.000000</td>\n",
       "    </tr>\n",
       "    <tr>\n",
       "      <th>75%</th>\n",
       "      <td>8.000000</td>\n",
       "    </tr>\n",
       "    <tr>\n",
       "      <th>max</th>\n",
       "      <td>13.000000</td>\n",
       "    </tr>\n",
       "  </tbody>\n",
       "</table>\n",
       "</div>"
      ],
      "text/plain": [
       "                  0\n",
       "count  98360.000000\n",
       "mean       7.136183\n",
       "std        1.162421\n",
       "min        1.000000\n",
       "25%        6.000000\n",
       "50%        7.000000\n",
       "75%        8.000000\n",
       "max       13.000000"
      ]
     },
     "execution_count": 67,
     "metadata": {},
     "output_type": "execute_result"
    }
   ],
   "source": [
    "pd.DataFrame(headlines_len).describe()"
   ]
  },
  {
   "cell_type": "code",
   "execution_count": 68,
   "id": "c0a97952",
   "metadata": {},
   "outputs": [
    {
     "data": {
      "text/html": [
       "<div>\n",
       "<style scoped>\n",
       "    .dataframe tbody tr th:only-of-type {\n",
       "        vertical-align: middle;\n",
       "    }\n",
       "\n",
       "    .dataframe tbody tr th {\n",
       "        vertical-align: top;\n",
       "    }\n",
       "\n",
       "    .dataframe thead th {\n",
       "        text-align: right;\n",
       "    }\n",
       "</style>\n",
       "<table border=\"1\" class=\"dataframe\">\n",
       "  <thead>\n",
       "    <tr style=\"text-align: right;\">\n",
       "      <th></th>\n",
       "      <th>0</th>\n",
       "    </tr>\n",
       "  </thead>\n",
       "  <tbody>\n",
       "    <tr>\n",
       "      <th>count</th>\n",
       "      <td>98360.000000</td>\n",
       "    </tr>\n",
       "    <tr>\n",
       "      <th>mean</th>\n",
       "      <td>35.099685</td>\n",
       "    </tr>\n",
       "    <tr>\n",
       "      <th>std</th>\n",
       "      <td>3.799406</td>\n",
       "    </tr>\n",
       "    <tr>\n",
       "      <th>min</th>\n",
       "      <td>1.000000</td>\n",
       "    </tr>\n",
       "    <tr>\n",
       "      <th>25%</th>\n",
       "      <td>33.000000</td>\n",
       "    </tr>\n",
       "    <tr>\n",
       "      <th>50%</th>\n",
       "      <td>35.000000</td>\n",
       "    </tr>\n",
       "    <tr>\n",
       "      <th>75%</th>\n",
       "      <td>38.000000</td>\n",
       "    </tr>\n",
       "    <tr>\n",
       "      <th>max</th>\n",
       "      <td>60.000000</td>\n",
       "    </tr>\n",
       "  </tbody>\n",
       "</table>\n",
       "</div>"
      ],
      "text/plain": [
       "                  0\n",
       "count  98360.000000\n",
       "mean      35.099685\n",
       "std        3.799406\n",
       "min        1.000000\n",
       "25%       33.000000\n",
       "50%       35.000000\n",
       "75%       38.000000\n",
       "max       60.000000"
      ]
     },
     "execution_count": 68,
     "metadata": {},
     "output_type": "execute_result"
    }
   ],
   "source": [
    "pd.DataFrame(text_len).describe()"
   ]
  },
  {
   "cell_type": "markdown",
   "id": "b39217d7",
   "metadata": {},
   "source": [
    "헤드라인은 min = 1 , mean = 7 , max = 13 입니다  \n",
    "텍스트의 mean은 35이지만, 1개의 단어로만 되어있는 텍스트도 있고, mean의 1.5배가 넘는 텍스트도 있습니다  \n",
    "  \n",
    "전체 데이터수가 98360개, 그 중"
   ]
  },
  {
   "cell_type": "code",
   "execution_count": 75,
   "id": "50790231",
   "metadata": {},
   "outputs": [
    {
     "name": "stdout",
     "output_type": "stream",
     "text": [
      "2 \t 20 \t 163 \t 998\n"
     ]
    }
   ],
   "source": [
    "print(headlines_len.count(1), \"\\t\", headlines_len.count(2), \"\\t\", headlines_len.count(3), \"\\t\", headlines_len.count(4))"
   ]
  },
  {
   "cell_type": "markdown",
   "id": "f96a3d79",
   "metadata": {},
   "source": [
    "headline의 단어가 1개 2개 인 경우는 전체 데이터에서 매우 적은 숫자를 가지고 있으므로, 제거하겠습니다  \n",
    "headline이 짧은 경우를 학습시키고 싶지 않아서 입니다"
   ]
  },
  {
   "cell_type": "code",
   "execution_count": 76,
   "id": "b25ed1d6",
   "metadata": {},
   "outputs": [
    {
     "name": "stdout",
     "output_type": "stream",
     "text": [
      "2 \t 23 \t 188 \t 1496\n"
     ]
    }
   ],
   "source": [
    "print(headlines_len.count(13), \"\\t\", headlines_len.count(12), \"\\t\", headlines_len.count(11), \"\\t\", headlines_len.count(10))"
   ]
  },
  {
   "cell_type": "markdown",
   "id": "bc317c0e",
   "metadata": {},
   "source": [
    "headline의 단어가 13개 12개 인 경우가 매우 적은 숫자를 가지므로, 제거하겠습니다  "
   ]
  },
  {
   "cell_type": "code",
   "execution_count": 80,
   "id": "c2fc5630",
   "metadata": {},
   "outputs": [
    {
     "data": {
      "text/plain": [
       "29"
      ]
     },
     "execution_count": 80,
     "metadata": {},
     "output_type": "execute_result"
    }
   ],
   "source": [
    "text_len[int(9836/2)]  #짧은쪽 5%의 경계값"
   ]
  },
  {
   "cell_type": "code",
   "execution_count": 81,
   "id": "b40d3907",
   "metadata": {},
   "outputs": [
    {
     "name": "stdout",
     "output_type": "stream",
     "text": [
      "1 \t 0 \t 0 \t 0\n"
     ]
    }
   ],
   "source": [
    "print(text_len.count(1), \"\\t\", text_len.count(2), \"\\t\", text_len.count(3), \"\\t\", text_len.count(4))"
   ]
  },
  {
   "cell_type": "markdown",
   "id": "fe9caf4e",
   "metadata": {},
   "source": [
    "텍스트는 단어가 한개인 경우가 단 하나, 나머지 결측치가 제대로 제거가 안되었던걸까요? lms에서는 문장 하나하나를 떼서 전처리를 수행했지만, 저는 apply함수를 사용하여 간략히 사용했습니다  \n",
    "확인하도록 하겠습니다  "
   ]
  },
  {
   "cell_type": "code",
   "execution_count": 104,
   "id": "9289498d",
   "metadata": {},
   "outputs": [
    {
     "name": "stdout",
     "output_type": "stream",
     "text": [
      "text\n"
     ]
    }
   ],
   "source": [
    "for s in clean_df['text']:\n",
    "    if(len(s.split()) == 1):\n",
    "        print(s)"
   ]
  },
  {
   "cell_type": "code",
   "execution_count": 105,
   "id": "00d1dbfb",
   "metadata": {},
   "outputs": [
    {
     "name": "stdout",
     "output_type": "stream",
     "text": [
      "    headlines  text\n",
      "52  headlines  text\n"
     ]
    }
   ],
   "source": [
    "print(clean_df.loc[clean_df['text'] == 'text'])"
   ]
  },
  {
   "cell_type": "code",
   "execution_count": 107,
   "id": "cd2537e9",
   "metadata": {},
   "outputs": [
    {
     "data": {
      "text/plain": [
       "headlines    headlines\n",
       "text              text\n",
       "Name: 52, dtype: object"
      ]
     },
     "execution_count": 107,
     "metadata": {},
     "output_type": "execute_result"
    }
   ],
   "source": [
    "clean_df.loc[52]"
   ]
  },
  {
   "cell_type": "markdown",
   "id": "54b4e26c",
   "metadata": {},
   "source": [
    "52행에 뭔가 웃기는 값이 들어가있네요 하 ㅎ ㅋㅋㅋㅋㅋㅋㅋㅋㅋㅋㅋㅋㅋ 어쩐지 전처리하는데 왜!!! ㅋㅋㅋㅋ     \n",
    "드롭해줍니다  "
   ]
  },
  {
   "cell_type": "code",
   "execution_count": 108,
   "id": "b6e0df62",
   "metadata": {},
   "outputs": [],
   "source": [
    "clean_df.drop(52, inplace=True)"
   ]
  },
  {
   "cell_type": "markdown",
   "id": "077cc38a",
   "metadata": {},
   "source": [
    "내용 길이분석을 위해, text_len list에서 1을 빼고 데이터를 다시 파악해보겠습니다"
   ]
  },
  {
   "cell_type": "code",
   "execution_count": 109,
   "id": "8a4bb155",
   "metadata": {},
   "outputs": [
    {
     "data": {
      "text/html": [
       "<div>\n",
       "<style scoped>\n",
       "    .dataframe tbody tr th:only-of-type {\n",
       "        vertical-align: middle;\n",
       "    }\n",
       "\n",
       "    .dataframe tbody tr th {\n",
       "        vertical-align: top;\n",
       "    }\n",
       "\n",
       "    .dataframe thead th {\n",
       "        text-align: right;\n",
       "    }\n",
       "</style>\n",
       "<table border=\"1\" class=\"dataframe\">\n",
       "  <thead>\n",
       "    <tr style=\"text-align: right;\">\n",
       "      <th></th>\n",
       "      <th>0</th>\n",
       "    </tr>\n",
       "  </thead>\n",
       "  <tbody>\n",
       "    <tr>\n",
       "      <th>count</th>\n",
       "      <td>98359.000000</td>\n",
       "    </tr>\n",
       "    <tr>\n",
       "      <th>mean</th>\n",
       "      <td>35.100032</td>\n",
       "    </tr>\n",
       "    <tr>\n",
       "      <th>std</th>\n",
       "      <td>3.797869</td>\n",
       "    </tr>\n",
       "    <tr>\n",
       "      <th>min</th>\n",
       "      <td>18.000000</td>\n",
       "    </tr>\n",
       "    <tr>\n",
       "      <th>25%</th>\n",
       "      <td>33.000000</td>\n",
       "    </tr>\n",
       "    <tr>\n",
       "      <th>50%</th>\n",
       "      <td>35.000000</td>\n",
       "    </tr>\n",
       "    <tr>\n",
       "      <th>75%</th>\n",
       "      <td>38.000000</td>\n",
       "    </tr>\n",
       "    <tr>\n",
       "      <th>max</th>\n",
       "      <td>60.000000</td>\n",
       "    </tr>\n",
       "  </tbody>\n",
       "</table>\n",
       "</div>"
      ],
      "text/plain": [
       "                  0\n",
       "count  98359.000000\n",
       "mean      35.100032\n",
       "std        3.797869\n",
       "min       18.000000\n",
       "25%       33.000000\n",
       "50%       35.000000\n",
       "75%       38.000000\n",
       "max       60.000000"
      ]
     },
     "execution_count": 109,
     "metadata": {},
     "output_type": "execute_result"
    }
   ],
   "source": [
    "text_len.remove(1)\n",
    "pd.DataFrame(text_len).describe()"
   ]
  },
  {
   "cell_type": "markdown",
   "id": "ecae9d9e",
   "metadata": {},
   "source": [
    "제일 짧은 내용은 18단어 였습니다  \n",
    "짧은 내용은 아무튼! 남겨주기로 하고 내용이 긴 경우를 보겠습니다"
   ]
  },
  {
   "cell_type": "code",
   "execution_count": 115,
   "id": "3989f8fe",
   "metadata": {},
   "outputs": [
    {
     "data": {
      "text/plain": [
       "47"
      ]
     },
     "execution_count": 115,
     "metadata": {},
     "output_type": "execute_result"
    }
   ],
   "source": [
    "text_len[-98]"
   ]
  },
  {
   "cell_type": "markdown",
   "id": "d4c2aab9",
   "metadata": {},
   "source": [
    "10% 상위로 제일 긴 값 9830개는 단어가 41개, 5%는 42개, 등등이었습니다  \n",
    "98개는 데이터의 0.1%, 47개입니다  "
   ]
  },
  {
   "cell_type": "code",
   "execution_count": 119,
   "id": "3288b919",
   "metadata": {},
   "outputs": [
    {
     "name": "stdout",
     "output_type": "stream",
     "text": [
      "14 \t 4 \t 4 \t 3\n"
     ]
    }
   ],
   "source": [
    "print(text_len.count(50), \"\\t\", text_len.count(51), \"\\t\", text_len.count(52), \"\\t\", text_len.count(53))"
   ]
  },
  {
   "cell_type": "markdown",
   "id": "13600b45",
   "metadata": {},
   "source": [
    "50개가 넘어가는 경우는 정말 희박하군요!!  \n",
    "길이를 정하고 정제하겠습니다  \n",
    "정해진 길이에 맞춰 자르는 것이 아니라, 정해진 길이보다 길면 제외하는 방법으로 데이터를 정제하겠습니다"
   ]
  },
  {
   "cell_type": "code",
   "execution_count": 123,
   "id": "2d36a1bf",
   "metadata": {},
   "outputs": [
    {
     "data": {
      "text/plain": [
       "(98322, 2)"
      ]
     },
     "execution_count": 123,
     "metadata": {},
     "output_type": "execute_result"
    }
   ],
   "source": [
    "headlines_min_len = 2    #2개 이하는 제거\n",
    "headlines_max_len = 12\n",
    "text_max_len = 50\n",
    "\n",
    "clean_df = clean_df[clean_df['text'].apply(lambda x: len(x.split()) <= text_max_len)]\n",
    "clean_df = clean_df[clean_df['headlines'].apply(lambda x: len(x.split()) <= headlines_max_len)]\n",
    "clean_df = clean_df[clean_df['headlines'].apply(lambda x: len(x.split()) > headlines_min_len)]\n",
    "\n",
    "clean_df.shape"
   ]
  },
  {
   "cell_type": "markdown",
   "id": "a772fce9",
   "metadata": {},
   "source": [
    "98360개 중 38개가 제거되었습니다"
   ]
  },
  {
   "cell_type": "code",
   "execution_count": 173,
   "id": "dcfb42ad",
   "metadata": {},
   "outputs": [
    {
     "data": {
      "text/plain": [
       "[<matplotlib.lines.Line2D at 0x7f15611eabe0>]"
      ]
     },
     "execution_count": 173,
     "metadata": {},
     "output_type": "execute_result"
    },
    {
     "data": {
      "image/png": "[encoded data removed]",
      "text/plain": [
       "<Figure size 864x432 with 2 Axes>"
      ]
     },
     "metadata": {
      "needs_background": "light"
     },
     "output_type": "display_data"
    }
   ],
   "source": [
    "headlines_len = [len(s.split()) for s in clean_df['headlines']]\n",
    "text_len = [len(s.split()) for s in clean_df['text']]\n",
    "\n",
    "headlines_len.sort()\n",
    "text_len.sort()\n",
    "\n",
    "fig = plt.figure(figsize = (12, 6))\n",
    "\n",
    "plt.subplot(1, 2, 1)\n",
    "plt.plot(headlines_len)\n",
    "\n",
    "plt.subplot(1, 2, 2)\n",
    "plt.plot(text_len)"
   ]
  },
  {
   "cell_type": "markdown",
   "id": "2e5a2b3a",
   "metadata": {},
   "source": [
    "데이터 분포 폭은 줄었지만, 사실 10만개에 가까운 데이터 중 20여개는 그렇게 큰 비중이 아닌지라,  \n",
    "내용을 많이 남긴것이 잘 선택한건지 모르겠긴합니다..  \n",
    "그래프에서 희박해보이는 시점을 기준으로 조금 더 쳐내고, 변화를 관찰하겠습니다"
   ]
  },
  {
   "cell_type": "code",
   "execution_count": 139,
   "id": "bddfb2bc",
   "metadata": {},
   "outputs": [],
   "source": [
    "headlines_min_len = 4    \n",
    "headlines_max_len = 10\n",
    "text_min_len = 26\n",
    "text_max_len = 42\n",
    "\n",
    "dataset = clean_df.copy()\n",
    "\n",
    "dataset = dataset[dataset['text'].apply(lambda x: len(x.split()) <= text_max_len)]\n",
    "dataset = dataset[dataset['text'].apply(lambda x: len(x.split()) > text_min_len)]\n",
    "dataset = dataset[dataset['headlines'].apply(lambda x: len(x.split()) <= headlines_max_len)]\n",
    "dataset = dataset[dataset['headlines'].apply(lambda x: len(x.split()) > headlines_min_len)]\n",
    "\n"
   ]
  },
  {
   "cell_type": "code",
   "execution_count": 140,
   "id": "1158e465",
   "metadata": {},
   "outputs": [
    {
     "data": {
      "text/plain": [
       "(93476, 2)"
      ]
     },
     "execution_count": 140,
     "metadata": {},
     "output_type": "execute_result"
    }
   ],
   "source": [
    "dataset.shape"
   ]
  },
  {
   "cell_type": "code",
   "execution_count": 174,
   "id": "8037128b",
   "metadata": {},
   "outputs": [
    {
     "data": {
      "text/plain": [
       "[<matplotlib.lines.Line2D at 0x7f15616166a0>]"
      ]
     },
     "execution_count": 174,
     "metadata": {},
     "output_type": "execute_result"
    },
    {
     "data": {
      "image/png": "[encoded data removed]",
      "text/plain": [
       "<Figure size 864x432 with 2 Axes>"
      ]
     },
     "metadata": {
      "needs_background": "light"
     },
     "output_type": "display_data"
    }
   ],
   "source": [
    "headlines_len = [len(s.split()) for s in dataset['headlines']]\n",
    "text_len = [len(s.split()) for s in dataset['text']]\n",
    "\n",
    "headlines_len.sort()\n",
    "text_len.sort()\n",
    "\n",
    "fig = plt.figure(figsize = (12, 6))\n",
    "\n",
    "plt.subplot(1, 2, 1)\n",
    "plt.plot(headlines_len)\n",
    "\n",
    "plt.subplot(1, 2, 2)\n",
    "plt.plot(text_len)"
   ]
  },
  {
   "cell_type": "markdown",
   "id": "a328b8d3",
   "metadata": {},
   "source": [
    "5000개 정도의 데이터가 사라졌군요! 5% 입니다  \n",
    "하지만 그래프가 예쁘네요.. 이걸로 사용하겠습니다  \n",
    "\n",
    "clean_df 와 dataset중 어느쪽이 바람직할지, 혹은 잘못된 전처리를 했다면 어떤식으로 했어야 했을지 피드백 꼭 부탁드립니다"
   ]
  },
  {
   "cell_type": "markdown",
   "id": "9b58ad4b",
   "metadata": {},
   "source": [
    "#### 토큰 추가하기  \n",
    "디코더에 들어갈 값에는 SOS와 EOS를 추가해줍니다  "
   ]
  },
  {
   "cell_type": "code",
   "execution_count": 143,
   "id": "6480a9d5",
   "metadata": {},
   "outputs": [
    {
     "data": {
      "text/html": [
       "<div>\n",
       "<style scoped>\n",
       "    .dataframe tbody tr th:only-of-type {\n",
       "        vertical-align: middle;\n",
       "    }\n",
       "\n",
       "    .dataframe tbody tr th {\n",
       "        vertical-align: top;\n",
       "    }\n",
       "\n",
       "    .dataframe thead th {\n",
       "        text-align: right;\n",
       "    }\n",
       "</style>\n",
       "<table border=\"1\" class=\"dataframe\">\n",
       "  <thead>\n",
       "    <tr style=\"text-align: right;\">\n",
       "      <th></th>\n",
       "      <th>headlines</th>\n",
       "      <th>text</th>\n",
       "      <th>decoder_input</th>\n",
       "      <th>decoder_target</th>\n",
       "    </tr>\n",
       "  </thead>\n",
       "  <tbody>\n",
       "    <tr>\n",
       "      <th>47944</th>\n",
       "      <td>uk team study ice shelf lost trillion tonne ic...</td>\n",
       "      <td>british antarctic survey led team investigate ...</td>\n",
       "      <td>sostoken uk team study ice shelf lost trillion...</td>\n",
       "      <td>uk team study ice shelf lost trillion tonne ic...</td>\n",
       "    </tr>\n",
       "    <tr>\n",
       "      <th>37076</th>\n",
       "      <td>bjp cell like frankenstein monster founder</td>\n",
       "      <td>founder bjp cell prodyut bora said cell become...</td>\n",
       "      <td>sostoken bjp cell like frankenstein monster fo...</td>\n",
       "      <td>bjp cell like frankenstein monster founder eos...</td>\n",
       "    </tr>\n",
       "    <tr>\n",
       "      <th>20274</th>\n",
       "      <td>chargesheet filed lalu family irctc hotels case</td>\n",
       "      <td>enforcement directorate filed first chargeshee...</td>\n",
       "      <td>sostoken chargesheet filed lalu family irctc h...</td>\n",
       "      <td>chargesheet filed lalu family irctc hotels cas...</td>\n",
       "    </tr>\n",
       "    <tr>\n",
       "      <th>5863</th>\n",
       "      <td>wheels justice moved badal sajjan kumar verdict</td>\n",
       "      <td>hailing delhi high court verdict convicting co...</td>\n",
       "      <td>sostoken wheels justice moved badal sajjan kum...</td>\n",
       "      <td>wheels justice moved badal sajjan kumar verdic...</td>\n",
       "    </tr>\n",
       "    <tr>\n",
       "      <th>14557</th>\n",
       "      <td>chetan bhagat accused harassing woman apologis...</td>\n",
       "      <td>author chetan bhagat today admitted screenshot...</td>\n",
       "      <td>sostoken chetan bhagat accused harassing woman...</td>\n",
       "      <td>chetan bhagat accused harassing woman apologis...</td>\n",
       "    </tr>\n",
       "    <tr>\n",
       "      <th>13292</th>\n",
       "      <td>yash raj films fires creative head films amid ...</td>\n",
       "      <td>yash raj films fired creative head films ashis...</td>\n",
       "      <td>sostoken yash raj films fires creative head fi...</td>\n",
       "      <td>yash raj films fires creative head films amid ...</td>\n",
       "    </tr>\n",
       "    <tr>\n",
       "      <th>7412</th>\n",
       "      <td>cardekho parent raise cr sequoia others report</td>\n",
       "      <td>jaipur based girnarsoft parent company online ...</td>\n",
       "      <td>sostoken cardekho parent raise cr sequoia othe...</td>\n",
       "      <td>cardekho parent raise cr sequoia others report...</td>\n",
       "    </tr>\n",
       "    <tr>\n",
       "      <th>89114</th>\n",
       "      <td>hp laptops found software record passwords</td>\n",
       "      <td>switzerland based cybersecurity company found ...</td>\n",
       "      <td>sostoken hp laptops found software record pass...</td>\n",
       "      <td>hp laptops found software record passwords eos...</td>\n",
       "    </tr>\n",
       "    <tr>\n",
       "      <th>1415</th>\n",
       "      <td>thought young something wrong shahid mira</td>\n",
       "      <td>recalling first time met mira rajput shahid ka...</td>\n",
       "      <td>sostoken thought young something wrong shahid ...</td>\n",
       "      <td>thought young something wrong shahid mira eost...</td>\n",
       "    </tr>\n",
       "    <tr>\n",
       "      <th>95251</th>\n",
       "      <td>govt planning deport rohingya muslims jammu</td>\n",
       "      <td>centre jammu kashmir government exploring ways...</td>\n",
       "      <td>sostoken govt planning deport rohingya muslims...</td>\n",
       "      <td>govt planning deport rohingya muslims jammu eo...</td>\n",
       "    </tr>\n",
       "    <tr>\n",
       "      <th>18494</th>\n",
       "      <td>former directors nirav modi firestar get sc re...</td>\n",
       "      <td>supreme court offered temporary relief three f...</td>\n",
       "      <td>sostoken former directors nirav modi firestar ...</td>\n",
       "      <td>former directors nirav modi firestar get sc re...</td>\n",
       "    </tr>\n",
       "    <tr>\n",
       "      <th>1174</th>\n",
       "      <td>yr old knocked federer reaches st aus open semis</td>\n",
       "      <td>greece year old stefanos tsitsipas knocked rog...</td>\n",
       "      <td>sostoken yr old knocked federer reaches st aus...</td>\n",
       "      <td>yr old knocked federer reaches st aus open sem...</td>\n",
       "    </tr>\n",
       "    <tr>\n",
       "      <th>51445</th>\n",
       "      <td>buzz aldrin claimed travel expenses moon trip</td>\n",
       "      <td>retired astronaut buzz aldrin turns today reve...</td>\n",
       "      <td>sostoken buzz aldrin claimed travel expenses m...</td>\n",
       "      <td>buzz aldrin claimed travel expenses moon trip ...</td>\n",
       "    </tr>\n",
       "    <tr>\n",
       "      <th>42230</th>\n",
       "      <td>france honours hero cop swapped hostage</td>\n",
       "      <td>france saturday honoured police officer swappe...</td>\n",
       "      <td>sostoken france honours hero cop swapped hostage</td>\n",
       "      <td>france honours hero cop swapped hostage eostoken</td>\n",
       "    </tr>\n",
       "    <tr>\n",
       "      <th>87003</th>\n",
       "      <td>features new one rupee note</td>\n",
       "      <td>rbi soon put circulation one rupee denominatio...</td>\n",
       "      <td>sostoken features new one rupee note</td>\n",
       "      <td>features new one rupee note eostoken</td>\n",
       "    </tr>\n",
       "    <tr>\n",
       "      <th>56393</th>\n",
       "      <td>priyanka paid crore min performance report</td>\n",
       "      <td>according reports priyanka chopra paid around ...</td>\n",
       "      <td>sostoken priyanka paid crore min performance r...</td>\n",
       "      <td>priyanka paid crore min performance report eos...</td>\n",
       "    </tr>\n",
       "    <tr>\n",
       "      <th>73556</th>\n",
       "      <td>taylor swift new song look made released</td>\n",
       "      <td>singer songwriter taylor swift friday released...</td>\n",
       "      <td>sostoken taylor swift new song look made released</td>\n",
       "      <td>taylor swift new song look made released eostoken</td>\n",
       "    </tr>\n",
       "    <tr>\n",
       "      <th>38569</th>\n",
       "      <td>great meaning north korea denuclearisation jap...</td>\n",
       "      <td>praising north korean leader kim jong un japan...</td>\n",
       "      <td>sostoken great meaning north korea denuclearis...</td>\n",
       "      <td>great meaning north korea denuclearisation jap...</td>\n",
       "    </tr>\n",
       "    <tr>\n",
       "      <th>81422</th>\n",
       "      <td>men assaulted transporting buffalo calves delhi</td>\n",
       "      <td>group locals thrashed six people vehicles foun...</td>\n",
       "      <td>sostoken men assaulted transporting buffalo ca...</td>\n",
       "      <td>men assaulted transporting buffalo calves delh...</td>\n",
       "    </tr>\n",
       "    <tr>\n",
       "      <th>87392</th>\n",
       "      <td>comments ms dhoni taken context harbhajan singh</td>\n",
       "      <td>spinner harbhajan singh failed make india cham...</td>\n",
       "      <td>sostoken comments ms dhoni taken context harbh...</td>\n",
       "      <td>comments ms dhoni taken context harbhajan sing...</td>\n",
       "    </tr>\n",
       "  </tbody>\n",
       "</table>\n",
       "</div>"
      ],
      "text/plain": [
       "                                               headlines  \\\n",
       "47944  uk team study ice shelf lost trillion tonne ic...   \n",
       "37076         bjp cell like frankenstein monster founder   \n",
       "20274    chargesheet filed lalu family irctc hotels case   \n",
       "5863     wheels justice moved badal sajjan kumar verdict   \n",
       "14557  chetan bhagat accused harassing woman apologis...   \n",
       "13292  yash raj films fires creative head films amid ...   \n",
       "7412      cardekho parent raise cr sequoia others report   \n",
       "89114         hp laptops found software record passwords   \n",
       "1415           thought young something wrong shahid mira   \n",
       "95251        govt planning deport rohingya muslims jammu   \n",
       "18494  former directors nirav modi firestar get sc re...   \n",
       "1174    yr old knocked federer reaches st aus open semis   \n",
       "51445      buzz aldrin claimed travel expenses moon trip   \n",
       "42230            france honours hero cop swapped hostage   \n",
       "87003                        features new one rupee note   \n",
       "56393         priyanka paid crore min performance report   \n",
       "73556           taylor swift new song look made released   \n",
       "38569  great meaning north korea denuclearisation jap...   \n",
       "81422    men assaulted transporting buffalo calves delhi   \n",
       "87392    comments ms dhoni taken context harbhajan singh   \n",
       "\n",
       "                                                    text  \\\n",
       "47944  british antarctic survey led team investigate ...   \n",
       "37076  founder bjp cell prodyut bora said cell become...   \n",
       "20274  enforcement directorate filed first chargeshee...   \n",
       "5863   hailing delhi high court verdict convicting co...   \n",
       "14557  author chetan bhagat today admitted screenshot...   \n",
       "13292  yash raj films fired creative head films ashis...   \n",
       "7412   jaipur based girnarsoft parent company online ...   \n",
       "89114  switzerland based cybersecurity company found ...   \n",
       "1415   recalling first time met mira rajput shahid ka...   \n",
       "95251  centre jammu kashmir government exploring ways...   \n",
       "18494  supreme court offered temporary relief three f...   \n",
       "1174   greece year old stefanos tsitsipas knocked rog...   \n",
       "51445  retired astronaut buzz aldrin turns today reve...   \n",
       "42230  france saturday honoured police officer swappe...   \n",
       "87003  rbi soon put circulation one rupee denominatio...   \n",
       "56393  according reports priyanka chopra paid around ...   \n",
       "73556  singer songwriter taylor swift friday released...   \n",
       "38569  praising north korean leader kim jong un japan...   \n",
       "81422  group locals thrashed six people vehicles foun...   \n",
       "87392  spinner harbhajan singh failed make india cham...   \n",
       "\n",
       "                                           decoder_input  \\\n",
       "47944  sostoken uk team study ice shelf lost trillion...   \n",
       "37076  sostoken bjp cell like frankenstein monster fo...   \n",
       "20274  sostoken chargesheet filed lalu family irctc h...   \n",
       "5863   sostoken wheels justice moved badal sajjan kum...   \n",
       "14557  sostoken chetan bhagat accused harassing woman...   \n",
       "13292  sostoken yash raj films fires creative head fi...   \n",
       "7412   sostoken cardekho parent raise cr sequoia othe...   \n",
       "89114  sostoken hp laptops found software record pass...   \n",
       "1415   sostoken thought young something wrong shahid ...   \n",
       "95251  sostoken govt planning deport rohingya muslims...   \n",
       "18494  sostoken former directors nirav modi firestar ...   \n",
       "1174   sostoken yr old knocked federer reaches st aus...   \n",
       "51445  sostoken buzz aldrin claimed travel expenses m...   \n",
       "42230   sostoken france honours hero cop swapped hostage   \n",
       "87003               sostoken features new one rupee note   \n",
       "56393  sostoken priyanka paid crore min performance r...   \n",
       "73556  sostoken taylor swift new song look made released   \n",
       "38569  sostoken great meaning north korea denuclearis...   \n",
       "81422  sostoken men assaulted transporting buffalo ca...   \n",
       "87392  sostoken comments ms dhoni taken context harbh...   \n",
       "\n",
       "                                          decoder_target  \n",
       "47944  uk team study ice shelf lost trillion tonne ic...  \n",
       "37076  bjp cell like frankenstein monster founder eos...  \n",
       "20274  chargesheet filed lalu family irctc hotels cas...  \n",
       "5863   wheels justice moved badal sajjan kumar verdic...  \n",
       "14557  chetan bhagat accused harassing woman apologis...  \n",
       "13292  yash raj films fires creative head films amid ...  \n",
       "7412   cardekho parent raise cr sequoia others report...  \n",
       "89114  hp laptops found software record passwords eos...  \n",
       "1415   thought young something wrong shahid mira eost...  \n",
       "95251  govt planning deport rohingya muslims jammu eo...  \n",
       "18494  former directors nirav modi firestar get sc re...  \n",
       "1174   yr old knocked federer reaches st aus open sem...  \n",
       "51445  buzz aldrin claimed travel expenses moon trip ...  \n",
       "42230   france honours hero cop swapped hostage eostoken  \n",
       "87003               features new one rupee note eostoken  \n",
       "56393  priyanka paid crore min performance report eos...  \n",
       "73556  taylor swift new song look made released eostoken  \n",
       "38569  great meaning north korea denuclearisation jap...  \n",
       "81422  men assaulted transporting buffalo calves delh...  \n",
       "87392  comments ms dhoni taken context harbhajan sing...  "
      ]
     },
     "execution_count": 143,
     "metadata": {},
     "output_type": "execute_result"
    }
   ],
   "source": [
    "dataset['decoder_input'] = dataset['headlines'].apply(lambda x : 'sostoken '+ x)\n",
    "dataset['decoder_target'] = dataset['headlines'].apply(lambda x : x + ' eostoken')\n",
    "dataset.sample(20)"
   ]
  },
  {
   "cell_type": "markdown",
   "id": "5570db60",
   "metadata": {},
   "source": [
    "87003 번째를 보니, 잘 적용된듯이 보입니다"
   ]
  },
  {
   "cell_type": "markdown",
   "id": "6e2d12e1",
   "metadata": {},
   "source": [
    "#### 데이터셋 분리  \n",
    "데이터셋을 train / validation / test용으로 분리합니다  "
   ]
  },
  {
   "cell_type": "code",
   "execution_count": 312,
   "id": "c84759fe",
   "metadata": {},
   "outputs": [],
   "source": [
    "encoder_input = np.array(dataset['text']) # 인코더의 입력\n",
    "decoder_input = np.array(dataset['decoder_input']) # 디코더의 입력\n",
    "decoder_target = np.array(dataset['decoder_target']) # 디코더의 레이블"
   ]
  },
  {
   "cell_type": "code",
   "execution_count": 313,
   "id": "61c754e5",
   "metadata": {},
   "outputs": [],
   "source": [
    "indices = np.arange(encoder_input.shape[0])\n",
    "np.random.shuffle(indices)\n",
    "\n",
    "#섞어주기\n",
    "encoder_input = encoder_input[indices]\n",
    "decoder_input = decoder_input[indices]\n",
    "decoder_target = decoder_target[indices]"
   ]
  },
  {
   "cell_type": "markdown",
   "id": "c2adf1db",
   "metadata": {},
   "source": [
    "전통적인 비율 6: 2 : 2로 데이터셋을 분리하여 train/validation/test로 사용합니다  "
   ]
  },
  {
   "cell_type": "code",
   "execution_count": 314,
   "id": "3f657a47",
   "metadata": {},
   "outputs": [
    {
     "name": "stdout",
     "output_type": "stream",
     "text": [
      "테스트 데이터의 수 : 18695\n"
     ]
    }
   ],
   "source": [
    "n_of_val = int(len(encoder_input)*0.2)\n",
    "print('테스트 데이터의 수 :', n_of_val)"
   ]
  },
  {
   "cell_type": "code",
   "execution_count": 315,
   "id": "842bcfc2",
   "metadata": {},
   "outputs": [
    {
     "name": "stdout",
     "output_type": "stream",
     "text": [
      "훈련 데이터의 개수 : 56086\n",
      "훈련 레이블의 개수 : 56086\n",
      "훈련 레이블의 개수 : 56086\n",
      "검증 데이터의 개수 : 18695\n",
      "검증 레이블의 개수 : 18695\n",
      "검증 레이블의 개수 : 18695\n",
      "테스트 데이터의 개수 : 18695\n",
      "테스트 레이블의 개수 : 18695\n",
      "테스트 레이블의 개수 : 18695\n"
     ]
    }
   ],
   "source": [
    "encoder_input_train = encoder_input[:-2*(n_of_val)]\n",
    "decoder_input_train = decoder_input[:-2*(n_of_val)]\n",
    "decoder_target_train = decoder_target[:-2*(n_of_val)]\n",
    "\n",
    "encoder_input_valid = encoder_input[-2*(n_of_val):-n_of_val]\n",
    "decoder_input_valid = decoder_input[-2*(n_of_val):-n_of_val]\n",
    "decoder_target_valid = decoder_target[-2*(n_of_val):-n_of_val]\n",
    "\n",
    "encoder_input_test = encoder_input[-n_of_val:]\n",
    "decoder_input_test = decoder_input[-n_of_val:]\n",
    "decoder_target_test = decoder_target[-n_of_val:]\n",
    "\n",
    "print('훈련 데이터의 개수 :', len(encoder_input_train))\n",
    "print('훈련 레이블의 개수 :', len(decoder_input_train))\n",
    "print('훈련 레이블의 개수 :', len(decoder_target_train))\n",
    "\n",
    "print('검증 데이터의 개수 :', len(encoder_input_valid))\n",
    "print('검증 레이블의 개수 :', len(decoder_input_valid))\n",
    "print('검증 레이블의 개수 :', len(decoder_target_valid))\n",
    "\n",
    "print('테스트 데이터의 개수 :', len(encoder_input_test))\n",
    "print('테스트 레이블의 개수 :', len(decoder_input_test))\n",
    "print('테스트 레이블의 개수 :', len(decoder_target_test))"
   ]
  },
  {
   "cell_type": "markdown",
   "id": "d8741ca9",
   "metadata": {},
   "source": [
    "#### 단어 집합 (vocab) 생성 정수 인코딩!!  \n",
    "#### 소스편"
   ]
  },
  {
   "cell_type": "code",
   "execution_count": 316,
   "id": "834e524f",
   "metadata": {},
   "outputs": [],
   "source": [
    "src_tokenizer = Tokenizer() # 토크나이저 정의\n",
    "src_tokenizer.fit_on_texts(encoder_input_train) # 입력된 데이터로부터 단어 집합 생성"
   ]
  },
  {
   "cell_type": "markdown",
   "id": "369dd6f3",
   "metadata": {},
   "source": [
    "빈도수가 낮은 단어들은 훈련 데이터에서 제외하기 위해, 희소 단어의 갯수를 조사합니다"
   ]
  },
  {
   "cell_type": "code",
   "execution_count": 317,
   "id": "e612ed4e",
   "metadata": {},
   "outputs": [],
   "source": [
    "def check_rares(tokenizer, threshold):\n",
    "\n",
    "    total_cnt = len(tokenizer.word_index) # 단어의 수\n",
    "    rare_cnt = 0 # 등장 빈도수가 threshold보다 작은 단어의 개수를 카운트\n",
    "    total_freq = 0 # 훈련 데이터의 전체 단어 빈도수 총 합\n",
    "    rare_freq = 0 # 등장 빈도수가 threshold보다 작은 단어의 등장 빈도수의 총 합\n",
    "\n",
    "    # 단어와 빈도수의 쌍(pair)을 key와 value로 받는다.\n",
    "    for key, value in tokenizer.word_counts.items():\n",
    "        total_freq = total_freq + value\n",
    "\n",
    "        # 단어의 등장 빈도수가 threshold보다 작으면\n",
    "        if(value < threshold):\n",
    "            rare_cnt = rare_cnt + 1\n",
    "            rare_freq = rare_freq + value\n",
    "\n",
    "    print('단어 집합(vocabulary)의 크기 :', total_cnt)\n",
    "    print('등장 빈도가 %s번 이하인 희귀 단어의 수: %s'%(threshold - 1, rare_cnt))\n",
    "    print('단어 집합에서 희귀 단어를 제외시킬 경우의 단어 집합의 크기 %s'%(total_cnt - rare_cnt))\n",
    "    print(\"단어 집합에서 희귀 단어의 비율:\", (rare_cnt / total_cnt)*100)\n",
    "    print(\"전체 등장 빈도에서 희귀 단어 등장 빈도 비율:\", (rare_freq / total_freq)*100)"
   ]
  },
  {
   "cell_type": "code",
   "execution_count": 318,
   "id": "959a6236",
   "metadata": {},
   "outputs": [
    {
     "name": "stdout",
     "output_type": "stream",
     "text": [
      "단어 집합(vocabulary)의 크기 : 59864\n",
      "등장 빈도가 4번 이하인 희귀 단어의 수: 37339\n",
      "단어 집합에서 희귀 단어를 제외시킬 경우의 단어 집합의 크기 22525\n",
      "단어 집합에서 희귀 단어의 비율: 62.37304556995858\n",
      "전체 등장 빈도에서 희귀 단어 등장 빈도 비율: 3.239616965184121\n",
      "\n",
      "단어 집합(vocabulary)의 크기 : 59864\n",
      "등장 빈도가 5번 이하인 희귀 단어의 수: 39389\n",
      "단어 집합에서 희귀 단어를 제외시킬 경우의 단어 집합의 크기 20475\n",
      "단어 집합에서 희귀 단어의 비율: 65.79747427502338\n",
      "전체 등장 빈도에서 희귀 단어 등장 빈도 비율: 3.7620947229236736\n",
      "\n",
      "단어 집합(vocabulary)의 크기 : 59864\n",
      "등장 빈도가 6번 이하인 희귀 단어의 수: 41033\n",
      "단어 집합에서 희귀 단어를 제외시킬 경우의 단어 집합의 크기 18831\n",
      "단어 집합에서 희귀 단어의 비율: 68.54369905118268\n",
      "전체 등장 빈도에서 희귀 단어 등장 빈도 비율: 4.26489673290835\n",
      "\n",
      "단어 집합(vocabulary)의 크기 : 59864\n",
      "등장 빈도가 7번 이하인 희귀 단어의 수: 42382\n",
      "단어 집합에서 희귀 단어를 제외시킬 경우의 단어 집합의 크기 17482\n",
      "단어 집합에서 희귀 단어의 비율: 70.79714018441801\n",
      "전체 등장 빈도에서 희귀 단어 등장 빈도 비율: 4.746238924745872\n",
      "\n",
      "단어 집합(vocabulary)의 크기 : 59864\n",
      "등장 빈도가 8번 이하인 희귀 단어의 수: 43478\n",
      "단어 집합에서 희귀 단어를 제외시킬 경우의 단어 집합의 크기 16386\n",
      "단어 집합에서 희귀 단어의 비율: 72.62795670185754\n",
      "전체 등장 빈도에서 희귀 단어 등장 빈도 비율: 5.193174044732252\n",
      "\n",
      "단어 집합(vocabulary)의 크기 : 59864\n",
      "등장 빈도가 9번 이하인 희귀 단어의 수: 44407\n",
      "단어 집합에서 희귀 단어를 제외시킬 경우의 단어 집합의 크기 15457\n",
      "단어 집합에서 희귀 단어의 비율: 74.17980756381131\n",
      "전체 등장 빈도에서 희귀 단어 등장 빈도 비율: 5.619362974728388\n"
     ]
    }
   ],
   "source": [
    "check_rares(src_tokenizer, 5)\n",
    "print()\n",
    "check_rares(src_tokenizer,6)\n",
    "print()\n",
    "check_rares(src_tokenizer,7)\n",
    "print()\n",
    "check_rares(src_tokenizer,8)\n",
    "print()\n",
    "check_rares(src_tokenizer,9)\n",
    "print()\n",
    "check_rares(src_tokenizer,10)"
   ]
  },
  {
   "cell_type": "markdown",
   "id": "fd743ba0",
   "metadata": {},
   "source": [
    "전체적으로 드라마틱한 변화가 있는 구간은 없습니다  \n",
    "threshold는 8을 사용하겠습니다  \n",
    "vocab은 17000개로 제한하겠습니다  "
   ]
  },
  {
   "cell_type": "code",
   "execution_count": 319,
   "id": "c9872777",
   "metadata": {},
   "outputs": [],
   "source": [
    "threshold = 8\n",
    "src_vocab = 17000"
   ]
  },
  {
   "cell_type": "code",
   "execution_count": 320,
   "id": "603eaccc",
   "metadata": {},
   "outputs": [],
   "source": [
    "src_tokenizer = Tokenizer(num_words=src_vocab) # 단어 집합의 크기를 20000으로 제한\n",
    "src_tokenizer.fit_on_texts(encoder_input_train) # 단어 집합 재생성"
   ]
  },
  {
   "cell_type": "code",
   "execution_count": 321,
   "id": "ea7b4e4c",
   "metadata": {},
   "outputs": [
    {
     "name": "stdout",
     "output_type": "stream",
     "text": [
      "input\n",
      "[[148, 109, 529, 127, 57, 89, 435, 1598, 3599, 2753, 227, 9206, 106, 1559, 5387, 32, 1, 435, 10977, 699, 106, 1389, 2002, 97, 106, 347, 2816, 127, 700, 3599, 225, 435], [222, 1162, 621, 24, 68, 8, 9207, 14644, 4481, 1656, 2221, 14645, 1348, 1301, 578, 128, 1094, 30, 1, 8, 348, 333, 9207, 14644, 62, 58, 454, 2301, 39], [5, 16, 123, 45, 54, 314, 10613, 1258, 7022, 613, 4115, 1026, 906, 20, 197, 1801, 5, 1141, 1606, 22, 5060, 319, 614, 374, 11783, 5, 1801, 45, 96, 134, 10978, 1540, 1026, 1801]]\n",
      "valid\n",
      "[[2384, 26, 8340, 468, 271, 2376, 4164, 6964, 142, 209, 124, 116, 189, 2384, 8502, 1075, 11, 9164, 44, 6, 271, 9164, 35, 116, 616, 6009, 11, 5637, 2916, 260, 1417], [26, 293, 89, 7, 629, 383, 9244, 7308, 305, 629, 24, 917, 1911, 2347, 3436, 335, 833, 52, 7, 629, 3436, 335, 833, 787, 4880, 3464, 629, 12391, 866, 8673, 857, 29, 3, 305, 629], [3836, 89, 2117, 174, 577, 322, 4304, 14, 49, 160, 340, 480, 354, 85, 11707, 4724, 5091, 278, 7600, 378, 1069, 372, 49, 1148, 160, 3130, 14]]\n",
      "test\n",
      "[[953, 301, 573, 285, 1765, 28, 1095, 106, 1095, 70, 279, 285, 29, 31, 194, 285, 6470, 32, 1, 62, 953, 951, 15295, 127, 1674, 28, 1095, 211, 5452, 1949, 4274, 10394, 28, 1095, 70, 279], [3842, 410, 3263, 738, 5145, 114, 7100, 342, 55, 410, 9, 371, 7214, 1722, 139, 1019, 80, 1, 3842, 3263, 738, 818, 9, 4], [200, 824, 1958, 3912, 1092, 156, 14, 207, 11024, 5142, 89, 129, 4274, 1781, 362, 2023, 2697, 542, 13667, 341, 380, 3948, 200, 13667, 1878, 6331, 3260, 2697, 89, 200, 824, 214, 2023, 590, 33, 3]]\n"
     ]
    }
   ],
   "source": [
    "# 텍스트 시퀀스를 정수 시퀀스로 변환\n",
    "encoder_input_train = src_tokenizer.texts_to_sequences(encoder_input_train) \n",
    "encoder_input_valid = src_tokenizer.texts_to_sequences(encoder_input_valid) \n",
    "encoder_input_test = src_tokenizer.texts_to_sequences(encoder_input_test)\n",
    "\n",
    "# 잘 진행되었는지 샘플 출력\n",
    "print(\"input\")\n",
    "print(encoder_input_train[:3])\n",
    "print(\"valid\")\n",
    "print(encoder_input_valid[:3])\n",
    "print(\"test\")\n",
    "print(encoder_input_test[:3])"
   ]
  },
  {
   "cell_type": "markdown",
   "id": "ea4d1379",
   "metadata": {},
   "source": [
    "#### 타겟편"
   ]
  },
  {
   "cell_type": "code",
   "execution_count": 322,
   "id": "11b8c6ed",
   "metadata": {},
   "outputs": [],
   "source": [
    "tar_tokenizer = Tokenizer()\n",
    "tar_tokenizer.fit_on_texts(decoder_input_train)"
   ]
  },
  {
   "cell_type": "code",
   "execution_count": 323,
   "id": "179f4d4e",
   "metadata": {},
   "outputs": [
    {
     "name": "stdout",
     "output_type": "stream",
     "text": [
      "단어 집합(vocabulary)의 크기 : 26305\n",
      "등장 빈도가 4번 이하인 희귀 단어의 수: 16683\n",
      "단어 집합에서 희귀 단어를 제외시킬 경우의 단어 집합의 크기 9622\n",
      "단어 집합에서 희귀 단어의 비율: 63.4214027751378\n",
      "전체 등장 빈도에서 희귀 단어 등장 빈도 비율: 6.286463741188044\n",
      "\n",
      "단어 집합(vocabulary)의 크기 : 26305\n",
      "등장 빈도가 5번 이하인 희귀 단어의 수: 17706\n",
      "단어 집합에서 희귀 단어를 제외시킬 경우의 단어 집합의 크기 8599\n",
      "단어 집합에서 희귀 단어의 비율: 67.31039726287777\n",
      "전체 등장 빈도에서 희귀 단어 등장 빈도 비율: 7.404557626099787\n",
      "\n",
      "단어 집합(vocabulary)의 크기 : 26305\n",
      "등장 빈도가 6번 이하인 희귀 단어의 수: 18530\n",
      "단어 집합에서 희귀 단어를 제외시킬 경우의 단어 집합의 크기 7775\n",
      "단어 집합에서 희귀 단어의 비율: 70.44288158144839\n",
      "전체 등장 빈도에서 희귀 단어 등장 빈도 비율: 8.485272419257884\n",
      "\n",
      "단어 집합(vocabulary)의 크기 : 26305\n",
      "등장 빈도가 7번 이하인 희귀 단어의 수: 19159\n",
      "단어 집합에서 희귀 단어를 제외시킬 경우의 단어 집합의 크기 7146\n",
      "단어 집합에서 희귀 단어의 비율: 72.83406196540582\n",
      "전체 등장 빈도에서 희귀 단어 등장 빈도 비율: 9.44772938411935\n",
      "\n",
      "단어 집합(vocabulary)의 크기 : 26305\n",
      "등장 빈도가 8번 이하인 희귀 단어의 수: 19677\n",
      "단어 집합에서 희귀 단어를 제외시킬 경우의 단어 집합의 크기 6628\n",
      "단어 집합에서 희귀 단어의 비율: 74.80326934042958\n",
      "전체 등장 빈도에서 희귀 단어 등장 빈도 비율: 10.353571233400732\n",
      "\n",
      "단어 집합(vocabulary)의 크기 : 26305\n",
      "등장 빈도가 9번 이하인 희귀 단어의 수: 20151\n",
      "단어 집합에서 희귀 단어를 제외시킬 경우의 단어 집합의 크기 6154\n",
      "단어 집합에서 희귀 단어의 비율: 76.60520813533549\n",
      "전체 등장 빈도에서 희귀 단어 등장 빈도 비율: 11.286081206623312\n"
     ]
    }
   ],
   "source": [
    "check_rares(tar_tokenizer, 5)\n",
    "print()\n",
    "check_rares(tar_tokenizer,6)\n",
    "print()\n",
    "check_rares(tar_tokenizer,7)\n",
    "print()\n",
    "check_rares(tar_tokenizer,8)\n",
    "print()\n",
    "check_rares(tar_tokenizer,9)\n",
    "print()\n",
    "check_rares(tar_tokenizer,10)"
   ]
  },
  {
   "cell_type": "markdown",
   "id": "581423e5",
   "metadata": {},
   "source": [
    "전체적으로 드라마틱한 변화가 있는 구간은 없습니다  \n",
    "threshold는 7을 사용하겠습니다  \n",
    "vocab은 7000개로 제한하겠습니다  "
   ]
  },
  {
   "cell_type": "code",
   "execution_count": 298,
   "id": "2722e667",
   "metadata": {},
   "outputs": [],
   "source": [
    "tar_vocab = 7000\n",
    "threshold = 7"
   ]
  },
  {
   "cell_type": "code",
   "execution_count": 324,
   "id": "874ccc6b",
   "metadata": {},
   "outputs": [
    {
     "name": "stdout",
     "output_type": "stream",
     "text": [
      "input\n",
      "input  [[1, 106, 1610, 91, 1258], [1, 1676, 1871, 2080, 3, 6156, 7], [1, 12, 519, 1049, 820, 4, 596, 8, 157, 1178], [1, 367, 2242, 6630, 133, 283, 1524, 597], [1, 727, 2182, 6157, 2735, 82, 1086]]\n",
      "valid\n",
      "valid  [[1, 1084, 96, 603, 292, 6466, 4276, 81, 1377], [1, 9, 694, 323, 22, 316, 312], [1, 2584, 323, 2900, 364, 651, 1935], [1, 4819, 2142, 2298, 3041, 346, 389], [1, 494, 659, 327, 146, 205, 104]]\n",
      "target\n",
      "decoder  [[106, 1610, 91, 1258, 2], [1676, 1871, 2080, 3, 6156, 7, 2], [12, 519, 1049, 820, 4, 596, 8, 157, 1178, 2], [367, 2242, 6630, 133, 283, 1524, 597, 2], [727, 2182, 6157, 2735, 82, 1086, 2]]\n"
     ]
    }
   ],
   "source": [
    "tar_tokenizer = Tokenizer(num_words=tar_vocab) \n",
    "tar_tokenizer.fit_on_texts(decoder_input_train)\n",
    "tar_tokenizer.fit_on_texts(decoder_target_train)\n",
    "\n",
    "# 텍스트 시퀀스를 정수 시퀀스로 변환\n",
    "decoder_input_train = tar_tokenizer.texts_to_sequences(decoder_input_train) \n",
    "decoder_target_train = tar_tokenizer.texts_to_sequences(decoder_target_train)\n",
    "\n",
    "decoder_input_valid = tar_tokenizer.texts_to_sequences(decoder_input_valid) \n",
    "decoder_target_valid = tar_tokenizer.texts_to_sequences(decoder_target_valid)\n",
    "\n",
    "decoder_input_test = tar_tokenizer.texts_to_sequences(decoder_input_test)\n",
    "decoder_target_test = tar_tokenizer.texts_to_sequences(decoder_target_test)\n",
    "\n",
    "# 잘 변환되었는지 확인\n",
    "print('input')\n",
    "print('input ',decoder_input_train[:5])\n",
    "print('valid')\n",
    "print('valid ',decoder_input_valid[:5])\n",
    "print('target')\n",
    "print('decoder ',decoder_target_train[:5])"
   ]
  },
  {
   "cell_type": "markdown",
   "id": "ea2d139d",
   "metadata": {},
   "source": [
    "내부적으로는 값이 다르긴 한데, 발리데이션 왜 처음부터 계속 1 이나오는걸까요 몇번을 해봐도 똑같습니다 이상해요"
   ]
  },
  {
   "cell_type": "markdown",
   "id": "cd08feb2",
   "metadata": {},
   "source": [
    "특히 헤드라인에서, 낮은 빈도수의 단어들을 삭제하는 과정 중 내용이 없이 토큰만 남은 빈 샘플이 생겼을 가능성이 있습니다  \n",
    "해당 케이스를 input / output에서 삭제하도록 합니다"
   ]
  },
  {
   "cell_type": "code",
   "execution_count": 325,
   "id": "4975a105",
   "metadata": {},
   "outputs": [
    {
     "name": "stdout",
     "output_type": "stream",
     "text": [
      "삭제할 훈련 데이터의 개수 : 1\n",
      "삭제할 평가 데이터의 개수 : 0\n",
      "삭제할 테스트 데이터의 개수 : 0\n",
      "훈련 데이터의 개수 : 56085\n",
      "훈련 레이블의 개수 : 56085\n",
      "평가 데이터의 개수 : 18695\n",
      "평가 레이블의 개수 : 18695\n",
      "테스트 데이터의 개수 : 18695\n",
      "테스트 레이블의 개수 : 18695\n"
     ]
    }
   ],
   "source": [
    "drop_train = [index for index, sentence in enumerate(decoder_input_train) if len(sentence) == 1]\n",
    "drop_valid = [index for index, sentence in enumerate(decoder_input_valid) if len(sentence) == 1]\n",
    "drop_test = [index for index, sentence in enumerate(decoder_input_test) if len(sentence) == 1]\n",
    "\n",
    "print('삭제할 훈련 데이터의 개수 :', len(drop_train))\n",
    "print('삭제할 평가 데이터의 개수 :', len(drop_valid))\n",
    "print('삭제할 테스트 데이터의 개수 :', len(drop_test))\n",
    "\n",
    "encoder_input_train = [sentence for index, sentence in enumerate(encoder_input_train) if index not in drop_train]\n",
    "decoder_input_train = [sentence for index, sentence in enumerate(decoder_input_train) if index not in drop_train]\n",
    "decoder_target_train = [sentence for index, sentence in enumerate(decoder_target_train) if index not in drop_train]\n",
    "\n",
    "encoder_input_vaild = [sentence for index, sentence in enumerate(encoder_input_valid) if index not in drop_valid]\n",
    "decoder_input_vaild = [sentence for index, sentence in enumerate(decoder_input_valid) if index not in drop_valid]\n",
    "decoder_target_vaild = [sentence for index, sentence in enumerate(decoder_target_valid) if index not in drop_valid]\n",
    "\n",
    "encoder_input_test = [sentence for index, sentence in enumerate(encoder_input_test) if index not in drop_test]\n",
    "decoder_input_test = [sentence for index, sentence in enumerate(decoder_input_test) if index not in drop_test]\n",
    "decoder_target_test = [sentence for index, sentence in enumerate(decoder_target_test) if index not in drop_test]\n",
    "\n",
    "print('훈련 데이터의 개수 :', len(encoder_input_train))\n",
    "print('훈련 레이블의 개수 :', len(decoder_input_train))\n",
    "print('평가 데이터의 개수 :', len(encoder_input_vaild))\n",
    "print('평가 레이블의 개수 :', len(decoder_input_vaild))\n",
    "print('테스트 데이터의 개수 :', len(encoder_input_test))\n",
    "print('테스트 레이블의 개수 :', len(decoder_input_test))"
   ]
  },
  {
   "cell_type": "markdown",
   "id": "967abd98",
   "metadata": {},
   "source": [
    "실제로 제거된 데이터가 없었습니다  \n",
    "모두 의미가 있었군요  "
   ]
  },
  {
   "cell_type": "markdown",
   "id": "c4b8794b",
   "metadata": {},
   "source": [
    "### 패딩  \n",
    "숫자 0을 넣어 짧은 문장의 뒤쪽을 최대 길이까지 0으로 채워줍니다  \n",
    "모든 문장이 같은 길이를 가질때까지!!  "
   ]
  },
  {
   "cell_type": "code",
   "execution_count": 326,
   "id": "4f08edc5",
   "metadata": {},
   "outputs": [],
   "source": [
    "encoder_input_train = pad_sequences(encoder_input_train, maxlen=text_max_len, padding='post')\n",
    "encoder_input_valid = pad_sequences(encoder_input_valid, maxlen=text_max_len, padding='post')\n",
    "encoder_input_test = pad_sequences(encoder_input_test, maxlen=text_max_len, padding='post')\n",
    "\n",
    "decoder_input_train = pad_sequences(decoder_input_train, maxlen=headlines_max_len, padding='post')\n",
    "decoder_input_valid = pad_sequences(decoder_input_valid, maxlen=headlines_max_len, padding='post')\n",
    "decoder_input_test = pad_sequences(decoder_input_test, maxlen=headlines_max_len, padding='post')\n",
    "\n",
    "decoder_target_train = pad_sequences(decoder_target_train, maxlen=headlines_max_len, padding='post')\n",
    "decoder_target_valid = pad_sequences(decoder_target_valid, maxlen=headlines_max_len, padding='post')\n",
    "decoder_target_test = pad_sequences(decoder_target_test, maxlen=headlines_max_len, padding='post')"
   ]
  },
  {
   "cell_type": "markdown",
   "id": "74a446d8",
   "metadata": {},
   "source": [
    "## 어텐션 매커니즘 사용하기  (추상적 요약)  \n",
    "어텐션 매커니즘을 활용한 seq2seq을 설계합니다 "
   ]
  },
  {
   "cell_type": "markdown",
   "id": "31f515f0",
   "metadata": {},
   "source": [
    "### 인코더 설계하기"
   ]
  },
  {
   "cell_type": "code",
   "execution_count": 327,
   "id": "34975740",
   "metadata": {},
   "outputs": [],
   "source": [
    "from tensorflow.keras.layers import Input, LSTM, Embedding, Dense, Concatenate, TimeDistributed\n",
    "from tensorflow.keras.models import Model\n",
    "from tensorflow.keras.callbacks import EarlyStopping, ModelCheckpoint\n",
    "\n",
    "\n",
    "# 인코더 설계 시작\n",
    "embedding_dim = 128\n",
    "hidden_size = 256\n",
    "\n",
    "# 인코더\n",
    "encoder_inputs = Input(shape=(text_max_len,))\n",
    "\n",
    "# 인코더의 임베딩 층\n",
    "enc_emb = Embedding(src_vocab, embedding_dim)(encoder_inputs)\n",
    "\n",
    "# 인코더의 LSTM 1\n",
    "# encoder_lstm1 = LSTM(hidden_size, return_sequences=True, return_state=True ,dropout = 0.4, recurrent_dropout = 0.4)\n",
    "encoder_lstm1 = LSTM(hidden_size, return_sequences=True, return_state=True ,dropout = 0.4)\n",
    "encoder_output1, state_h1, state_c1 = encoder_lstm1(enc_emb)\n",
    "\n",
    "# 인코더의 LSTM 2\n",
    "# encoder_lstm2 = LSTM(hidden_size, return_sequences=True, return_state=True, dropout=0.4, recurrent_dropout=0.4)\n",
    "encoder_lstm2 = LSTM(hidden_size, return_sequences=True, return_state=True, dropout=0.4)\n",
    "encoder_output2, state_h2, state_c2 = encoder_lstm2(encoder_output1)\n",
    "\n",
    "# 인코더의 LSTM 3\n",
    "# encoder_lstm3 = LSTM(hidden_size, return_state=True, return_sequences=True, dropout=0.4, recurrent_dropout=0.4)\n",
    "encoder_lstm3 = LSTM(hidden_size, return_state=True, return_sequences=True, dropout=0.4)\n",
    "encoder_outputs, state_h, state_c= encoder_lstm3(encoder_output2)"
   ]
  },
  {
   "cell_type": "markdown",
   "id": "af087ac0",
   "metadata": {},
   "source": [
    "### 디코더 설계하기"
   ]
  },
  {
   "cell_type": "code",
   "execution_count": 328,
   "id": "dacf6b33",
   "metadata": {},
   "outputs": [],
   "source": [
    "# 디코더 설계\n",
    "decoder_inputs = Input(shape=(None,))\n",
    "\n",
    "# 디코더의 임베딩 층\n",
    "dec_emb_layer = Embedding(tar_vocab, embedding_dim)\n",
    "dec_emb = dec_emb_layer(decoder_inputs)\n",
    "\n",
    "# 디코더의 LSTM\n",
    "# decoder_lstm = LSTM(hidden_size, return_sequences=True, return_state=True, dropout=0.4, recurrent_dropout=0.2)\n",
    "decoder_lstm = LSTM(hidden_size, return_sequences=True, return_state=True, dropout=0.4)\n",
    "decoder_outputs, _, _ = decoder_lstm(dec_emb, initial_state=[state_h, state_c])"
   ]
  },
  {
   "cell_type": "markdown",
   "id": "0e72b291",
   "metadata": {},
   "source": [
    "### 어텐션 매커니즘 구성"
   ]
  },
  {
   "cell_type": "code",
   "execution_count": 330,
   "id": "d5713c88",
   "metadata": {},
   "outputs": [
    {
     "name": "stdout",
     "output_type": "stream",
     "text": [
      "Model: \"model_5\"\n",
      "__________________________________________________________________________________________________\n",
      "Layer (type)                    Output Shape         Param #     Connected to                     \n",
      "==================================================================================================\n",
      "input_6 (InputLayer)            [(None, 42)]         0                                            \n",
      "__________________________________________________________________________________________________\n",
      "embedding_5 (Embedding)         (None, 42, 128)      2176000     input_6[0][0]                    \n",
      "__________________________________________________________________________________________________\n",
      "lstm_11 (LSTM)                  [(None, 42, 256), (N 394240      embedding_5[0][0]                \n",
      "__________________________________________________________________________________________________\n",
      "input_7 (InputLayer)            [(None, None)]       0                                            \n",
      "__________________________________________________________________________________________________\n",
      "lstm_12 (LSTM)                  [(None, 42, 256), (N 525312      lstm_11[0][0]                    \n",
      "__________________________________________________________________________________________________\n",
      "embedding_6 (Embedding)         (None, None, 128)    896000      input_7[0][0]                    \n",
      "__________________________________________________________________________________________________\n",
      "lstm_13 (LSTM)                  [(None, 42, 256), (N 525312      lstm_12[0][0]                    \n",
      "__________________________________________________________________________________________________\n",
      "lstm_14 (LSTM)                  [(None, None, 256),  394240      embedding_6[0][0]                \n",
      "                                                                 lstm_13[0][1]                    \n",
      "                                                                 lstm_13[0][2]                    \n",
      "__________________________________________________________________________________________________\n",
      "attention_layer (AdditiveAttent (None, None, 256)    256         lstm_14[0][0]                    \n",
      "                                                                 lstm_13[0][0]                    \n",
      "__________________________________________________________________________________________________\n",
      "concat_layer (Concatenate)      (None, None, 512)    0           lstm_14[0][0]                    \n",
      "                                                                 attention_layer[0][0]            \n",
      "__________________________________________________________________________________________________\n",
      "dense_6 (Dense)                 (None, None, 7000)   3591000     concat_layer[0][0]               \n",
      "==================================================================================================\n",
      "Total params: 8,502,360\n",
      "Trainable params: 8,502,360\n",
      "Non-trainable params: 0\n",
      "__________________________________________________________________________________________________\n"
     ]
    }
   ],
   "source": [
    "from tensorflow.keras.layers import AdditiveAttention\n",
    "\n",
    "# 어텐션 층(어텐션 함수)\n",
    "attn_layer = AdditiveAttention(name='attention_layer')\n",
    "\n",
    "# 인코더와 디코더의 모든 time step의 hidden state를 어텐션 층에 전달하고 결과를 리턴\n",
    "attn_out = attn_layer([decoder_outputs, encoder_outputs])\n",
    "\n",
    "\n",
    "# 어텐션의 결과와 디코더의 hidden state들을 연결\n",
    "decoder_concat_input = Concatenate(axis=-1, name='concat_layer')([decoder_outputs, attn_out])\n",
    "\n",
    "# 디코더의 출력층\n",
    "decoder_softmax_layer = Dense(tar_vocab, activation='softmax')\n",
    "decoder_softmax_outputs = decoder_softmax_layer(decoder_concat_input)\n",
    "\n",
    "# 모델 정의\n",
    "model = Model([encoder_inputs, decoder_inputs], decoder_softmax_outputs)\n",
    "model.summary()"
   ]
  },
  {
   "cell_type": "code",
   "execution_count": 331,
   "id": "b6230705",
   "metadata": {},
   "outputs": [
    {
     "name": "stdout",
     "output_type": "stream",
     "text": [
      "Epoch 1/50\n",
      "220/220 [==============================] - 25s 88ms/step - loss: 5.3774 - val_loss: 5.0746\n",
      "Epoch 2/50\n",
      "220/220 [==============================] - 18s 83ms/step - loss: 4.9278 - val_loss: 4.7690\n",
      "Epoch 3/50\n",
      "220/220 [==============================] - 18s 82ms/step - loss: 4.6185 - val_loss: 4.5283\n",
      "Epoch 4/50\n",
      "220/220 [==============================] - 18s 81ms/step - loss: 4.3802 - val_loss: 4.3940\n",
      "Epoch 5/50\n",
      "220/220 [==============================] - 18s 82ms/step - loss: 4.1873 - val_loss: 4.2996\n",
      "Epoch 6/50\n",
      "220/220 [==============================] - 18s 82ms/step - loss: 4.0204 - val_loss: 4.1438\n",
      "Epoch 7/50\n",
      "220/220 [==============================] - 18s 82ms/step - loss: 3.8695 - val_loss: 4.0384\n",
      "Epoch 8/50\n",
      "220/220 [==============================] - 18s 82ms/step - loss: 3.7356 - val_loss: 3.9798\n",
      "Epoch 9/50\n",
      "220/220 [==============================] - 18s 82ms/step - loss: 3.6165 - val_loss: 3.9252\n",
      "Epoch 10/50\n",
      "220/220 [==============================] - 18s 82ms/step - loss: 3.5076 - val_loss: 3.8845\n",
      "Epoch 11/50\n",
      "220/220 [==============================] - 18s 82ms/step - loss: 3.4096 - val_loss: 3.8506\n",
      "Epoch 12/50\n",
      "220/220 [==============================] - 18s 82ms/step - loss: 3.3179 - val_loss: 3.8216\n",
      "Epoch 13/50\n",
      "220/220 [==============================] - 18s 82ms/step - loss: 3.2326 - val_loss: 3.7919\n",
      "Epoch 14/50\n",
      "220/220 [==============================] - 18s 81ms/step - loss: 3.1523 - val_loss: 3.7882\n",
      "Epoch 15/50\n",
      "220/220 [==============================] - 18s 81ms/step - loss: 3.0752 - val_loss: 3.7565\n",
      "Epoch 16/50\n",
      "220/220 [==============================] - 18s 82ms/step - loss: 3.0038 - val_loss: 3.7542\n",
      "Epoch 17/50\n",
      "220/220 [==============================] - 18s 82ms/step - loss: 2.9348 - val_loss: 3.7428\n",
      "Epoch 18/50\n",
      "220/220 [==============================] - 18s 82ms/step - loss: 2.8067 - val_loss: 3.7376\n",
      "Epoch 20/50\n",
      "220/220 [==============================] - 18s 82ms/step - loss: 2.7485 - val_loss: 3.7475\n",
      "Epoch 00020: early stopping\n"
     ]
    }
   ],
   "source": [
    "model.compile(optimizer='rmsprop', loss='sparse_categorical_crossentropy')\n",
    "es = EarlyStopping(monitor='val_loss', patience=2, verbose=1)\n",
    "history = model.fit(x=[encoder_input_train, decoder_input_train], y= decoder_target_train, \\\n",
    "          validation_data=([encoder_input_valid, decoder_input_valid], decoder_target_valid), \\\n",
    "          batch_size=256, callbacks=[es], epochs=50)"
   ]
  },
  {
   "cell_type": "markdown",
   "id": "27df506c",
   "metadata": {},
   "source": [
    "20 에폭 후 train이 멈췄습니다  "
   ]
  },
  {
   "cell_type": "code",
   "execution_count": 335,
   "id": "581ea4fc",
   "metadata": {},
   "outputs": [
    {
     "data": {
      "text/plain": [
       "{'loss': [5.377357482910156,\n",
       "  4.927772045135498,\n",
       "  4.618518829345703,\n",
       "  4.3802313804626465,\n",
       "  4.1873369216918945,\n",
       "  4.020374298095703,\n",
       "  3.8694634437561035,\n",
       "  3.735577344894409,\n",
       "  3.616530179977417,\n",
       "  3.507593870162964,\n",
       "  3.4096479415893555,\n",
       "  3.3179471492767334,\n",
       "  3.23258113861084,\n",
       "  3.1523165702819824,\n",
       "  3.075193405151367,\n",
       "  3.0037882328033447,\n",
       "  2.9348223209381104,\n",
       "  2.868922233581543,\n",
       "  2.806713104248047,\n",
       "  2.7484514713287354],\n",
       " 'val_loss': [5.074603080749512,\n",
       "  4.769033908843994,\n",
       "  4.528320789337158,\n",
       "  4.393971920013428,\n",
       "  4.299627304077148,\n",
       "  4.143764972686768,\n",
       "  4.038407325744629,\n",
       "  3.979778528213501,\n",
       "  3.9252068996429443,\n",
       "  3.8845274448394775,\n",
       "  3.850630521774292,\n",
       "  3.8215832710266113,\n",
       "  3.791858196258545,\n",
       "  3.788174867630005,\n",
       "  3.7565135955810547,\n",
       "  3.7542035579681396,\n",
       "  3.7427754402160645,\n",
       "  3.733210325241089,\n",
       "  3.7375969886779785,\n",
       "  3.74752140045166]}"
      ]
     },
     "execution_count": 335,
     "metadata": {},
     "output_type": "execute_result"
    }
   ],
   "source": [
    "history.history"
   ]
  },
  {
   "cell_type": "markdown",
   "id": "ca67bdf7",
   "metadata": {},
   "source": [
    "loss밖에 기록이 남지 않았군요.. accuracy가 안찍히길래 확인해봤습니다"
   ]
  },
  {
   "cell_type": "code",
   "execution_count": 336,
   "id": "4148ef07",
   "metadata": {},
   "outputs": [
    {
     "data": {
      "image/png": "[encoded data removed]",
      "text/plain": [
       "<Figure size 864x432 with 1 Axes>"
      ]
     },
     "metadata": {
      "needs_background": "light"
     },
     "output_type": "display_data"
    }
   ],
   "source": [
    "fig = plt.figure(figsize = (12, 6))\n",
    "\n",
    "plt.plot(history.history['loss'], label='train')\n",
    "plt.plot(history.history['val_loss'], label='valid')\n",
    "plt.title('loss')\n",
    "plt.legend()\n",
    "plt.show()"
   ]
  },
  {
   "cell_type": "markdown",
   "id": "b9961638",
   "metadata": {},
   "source": [
    "train의 loss는 점점 줄어듬을, validation loss는 어느 순간부터 줄어들지 않으며 train과 점차 격차가 커짐을 확인했습니다"
   ]
  },
  {
   "cell_type": "markdown",
   "id": "e99dd433",
   "metadata": {},
   "source": [
    "## 실제 결과와 요약문 비교하기 (추상적 요약)  \n",
    "인퍼런스 모델을 설계, 추상적 요약을 시도합니다  "
   ]
  },
  {
   "cell_type": "markdown",
   "id": "06c4932d",
   "metadata": {},
   "source": [
    "Seq2Seq는 훈련과정과 동작과정의 방식이 달라, 모델을 별개로 진행해야합니다  \n",
    "먼저 복원을 위해 단어사전을 준비합니다  "
   ]
  },
  {
   "cell_type": "code",
   "execution_count": 337,
   "id": "1a42f320",
   "metadata": {},
   "outputs": [],
   "source": [
    "src_index_to_word = src_tokenizer.index_word # 원문 단어 집합에서 정수 -> 단어를 얻음\n",
    "tar_word_to_index = tar_tokenizer.word_index # 요약 단어 집합에서 단어 -> 정수를 얻음\n",
    "tar_index_to_word = tar_tokenizer.index_word # 요약 단어 집합에서 정수 -> 단어를 얻음"
   ]
  },
  {
   "cell_type": "markdown",
   "id": "b44d1633",
   "metadata": {},
   "source": [
    "인퍼런스 모델을 설계합니다  \n",
    "훈련과정과 다르게, 분리해서 설계합니다"
   ]
  },
  {
   "cell_type": "code",
   "execution_count": 338,
   "id": "09073020",
   "metadata": {},
   "outputs": [],
   "source": [
    "# 인코더 설계\n",
    "encoder_model = Model(inputs=encoder_inputs, outputs=[encoder_outputs, state_h, state_c])\n",
    "\n",
    "# 이전 시점의 상태들을 저장하는 텐서\n",
    "decoder_state_input_h = Input(shape=(hidden_size,))\n",
    "decoder_state_input_c = Input(shape=(hidden_size,))\n",
    "\n",
    "dec_emb2 = dec_emb_layer(decoder_inputs)\n",
    "\n",
    "# 문장의 다음 단어를 예측하기 위해서 초기 상태(initial_state)를 이전 시점의 상태로 사용. 이는 뒤의 함수 decode_sequence()에 구현\n",
    "# 훈련 과정에서와 달리 LSTM의 리턴하는 은닉 상태와 셀 상태인 state_h와 state_c를 버리지 않음.\n",
    "decoder_outputs2, state_h2, state_c2 = decoder_lstm(dec_emb2, initial_state=[decoder_state_input_h, decoder_state_input_c])\n"
   ]
  },
  {
   "cell_type": "code",
   "execution_count": 339,
   "id": "4a10f442",
   "metadata": {},
   "outputs": [],
   "source": [
    "# 어텐션 함수\n",
    "decoder_hidden_state_input = Input(shape=(text_max_len, hidden_size))\n",
    "attn_out_inf = attn_layer([decoder_outputs2, decoder_hidden_state_input])\n",
    "decoder_inf_concat = Concatenate(axis=-1, name='concat')([decoder_outputs2, attn_out_inf])\n",
    "\n",
    "# 디코더의 출력층\n",
    "decoder_outputs2 = decoder_softmax_layer(decoder_inf_concat) \n",
    "\n",
    "# 최종 디코더 모델\n",
    "decoder_model = Model(\n",
    "    [decoder_inputs] + [decoder_hidden_state_input,decoder_state_input_h, decoder_state_input_c],\n",
    "    [decoder_outputs2] + [state_h2, state_c2])"
   ]
  },
  {
   "cell_type": "markdown",
   "id": "3f403bb7",
   "metadata": {},
   "source": [
    "인퍼런스 단계에서, 단어 시퀀스를 완성하는 함수입니다"
   ]
  },
  {
   "cell_type": "code",
   "execution_count": 344,
   "id": "494fd2a8",
   "metadata": {},
   "outputs": [],
   "source": [
    "def decode_sequence(input_seq):\n",
    "    # 입력으로부터 인코더의 상태를 얻음\n",
    "    e_out, e_h, e_c = encoder_model.predict(input_seq)\n",
    "\n",
    "     # <SOS>에 해당하는 토큰 생성\n",
    "    target_seq = np.zeros((1,1))\n",
    "    target_seq[0, 0] = tar_word_to_index['sostoken']\n",
    "\n",
    "    stop_condition = False\n",
    "    decoded_sentence = ''\n",
    "    while not stop_condition: # stop_condition이 True가 될 때까지 루프 반복\n",
    "\n",
    "        output_tokens, h, c = decoder_model.predict([target_seq] + [e_out, e_h, e_c])\n",
    "        sampled_token_index = np.argmax(output_tokens[0, -1, :])\n",
    "        sampled_token = tar_index_to_word[sampled_token_index]\n",
    "\n",
    "        if (sampled_token!='eostoken'):\n",
    "            decoded_sentence += ' '+sampled_token\n",
    "\n",
    "        #  <eos>에 도달하거나 최대 길이를 넘으면 중단.\n",
    "        if (sampled_token == 'eostoken'  or len(decoded_sentence.split()) >= (headlines_max_len-1)):\n",
    "            stop_condition = True\n",
    "\n",
    "        # 길이가 1인 타겟 시퀀스를 업데이트\n",
    "        target_seq = np.zeros((1,1))\n",
    "        target_seq[0, 0] = sampled_token_index\n",
    "\n",
    "        # 상태를 업데이트 합니다.\n",
    "        e_h, e_c = h, c\n",
    "\n",
    "    return decoded_sentence"
   ]
  },
  {
   "cell_type": "markdown",
   "id": "908d615a",
   "metadata": {},
   "source": [
    "테스트를 위한 함수입니다"
   ]
  },
  {
   "cell_type": "code",
   "execution_count": 342,
   "id": "7b9dc7ca",
   "metadata": {},
   "outputs": [],
   "source": [
    "# 원문의 정수 시퀀스를 텍스트 시퀀스로 변환\n",
    "def seq2text(input_seq):\n",
    "    temp=''\n",
    "    for i in input_seq:\n",
    "        if (i!=0):\n",
    "            temp = temp + src_index_to_word[i]+' '\n",
    "    return temp\n",
    "\n",
    "# 요약문의 정수 시퀀스를 텍스트 시퀀스로 변환\n",
    "def seq2summary(input_seq):\n",
    "    temp=''\n",
    "    for i in input_seq:\n",
    "        if ((i!=0 and i!=tar_word_to_index['sostoken']) and i!=tar_word_to_index['eostoken']):\n",
    "            temp = temp + tar_index_to_word[i] + ' '\n",
    "    return temp"
   ]
  },
  {
   "cell_type": "code",
   "execution_count": 349,
   "id": "457b3bb1",
   "metadata": {},
   "outputs": [
    {
     "name": "stdout",
     "output_type": "stream",
     "text": [
      "원문 : whatsapp top mobile app overall time spent users spent billion hours app last three months app analytics company said monday whatsapp followed wechat facebook terms time spent among gaming apps clash garnered time spent billion hours \n",
      "실제 요약 : users spent billion hours whatsapp last months \n",
      "예측 요약 :  google rolls feature maps users\n",
      "\n",
      "\n",
      "원문 : youths bihar kidnapped forced marriages part custom known according bihar police cases gunpoint threats life families officials said youths kidnapped forced marriage police added \n",
      "실제 요약 : bihar men kidnapped forced marriage \n",
      "예측 요약 :  police arrest hindu hindu hindu\n",
      "\n",
      "\n",
      "원문 : release date ajay devgn ranbir kapoor film director luv ranjan announced set clash box office hrithik roshan starrer krrish films scheduled christmas release krrish franchise creator rakesh roshan announced release date son hrithik birthday earlier year \n",
      "실제 요약 : ajay ranbir film clash hrithik \n",
      "예측 요약 :  ranbir release date postponed postponed reports\n",
      "\n",
      "\n",
      "원문 : angelina jolie talking brad pitt children said children good streak wonderful want perfectly behaved little people say absolutely appropriate say find added jolie six children \n",
      "실제 요약 : kids good streak jolie \n",
      "예측 요약 :  want love love god\n",
      "\n",
      "\n",
      "원문 : speaking sexual harassment allegations rajkumar hirani sonam kapoor said known hirani many years true metoo movement get derailed metoo movement always believe woman case need reserve judgment added hirani accused assistant worked sanju \n",
      "실제 요약 : known hirani yrs metoo claims true sonam \n",
      "예측 요약 :  kangana ranaut hirani\n",
      "\n",
      "\n",
      "원문 : launched expressing contest stand chance win participating choose theme upload picture describes theme beautifully winning moment wins many well \n",
      "실제 요약 : show contest \n",
      "예측 요약 :  man creates debut\n",
      "\n",
      "\n",
      "원문 : khosla university claimed lord discovered dinosaurs anyone else also documented khosla conducting research years existence dinosaurs india added dinosaur named originated india india dinosaur evolution breeding extinction added \n",
      "실제 요약 : lord discovered dinosaurs university \n",
      "예측 요약 :  study finds\n",
      "\n",
      "\n",
      "원문 : praising us president donald trump brave correct move withdraw iran nuclear deal israeli prime minister benjamin netanyahu called agreement recipe disaster last month netanyahu accused iran violating agreement presented claimed new proof iran hidden nuclear weapons \n",
      "실제 요약 : iran deal disaster israel us exit \n",
      "예측 요약 :  iran threatens iran supreme prez\n",
      "\n",
      "\n",
      "원문 : addressing event monday congress president rahul gandhi hit bjp government saying institutions including media attack bjp regime said national covering cricket entertainment news neglecting core issues corruption farmers plight election results answer bjp government added \n",
      "실제 요약 : including media attack rahul gandhi \n",
      "예측 요약 :  bjp leader calls rahul gandhi\n",
      "\n",
      "\n",
      "원문 : part volunteer based organisation robin hood army urging come together take stand hunger independence day organisation feed million people august asking citizens come together reach national figures social media build hunger free india \n",
      "실제 요약 : army urges citizens fight hunger day \n",
      "예측 요약 :  army chief return\n",
      "\n",
      "\n"
     ]
    }
   ],
   "source": [
    "for i in range(10):\n",
    "    print(\"원문 :\", seq2text(encoder_input_test[i]))\n",
    "    print(\"실제 요약 :\", seq2summary(decoder_input_test[i]))\n",
    "    print(\"예측 요약 :\", decode_sequence(encoder_input_test[i].reshape(1, text_max_len)))\n",
    "    print(\"\\n\")"
   ]
  },
  {
   "cell_type": "markdown",
   "id": "383e463a",
   "metadata": {},
   "source": [
    "결과가 놀랍도록 안좋네요......... 그렇지만 정말 재밌습니다!!"
   ]
  },
  {
   "cell_type": "markdown",
   "id": "4c3d1597",
   "metadata": {},
   "source": [
    "## 추출적 요약 해보기  \n",
    "패키지 summa를 사용하여 추출요약을 시행 후 비교해봅니다"
   ]
  },
  {
   "cell_type": "code",
   "execution_count": 378,
   "id": "22c2f208",
   "metadata": {},
   "outputs": [],
   "source": [
    "from summa.summarizer import summarize"
   ]
  },
  {
   "cell_type": "markdown",
   "id": "9d8b922c",
   "metadata": {},
   "source": [
    "ㅋㅋㅋㅋ 참 쉽죠? "
   ]
  },
  {
   "cell_type": "code",
   "execution_count": 388,
   "id": "4d65ecab",
   "metadata": {},
   "outputs": [
    {
     "name": "stdout",
     "output_type": "stream",
     "text": [
      "원문 : whatsapp top mobile app overall time spent users spent billion hours app last three months app analytics company said monday whatsapp followed wechat facebook terms time spent among gaming apps clash garnered time spent billion hours \n",
      "실제 요약 : users spent billion hours whatsapp last months \n",
      "예측 요약 : \n",
      "\n",
      "\n",
      "원문 : youths bihar kidnapped forced marriages part custom known according bihar police cases gunpoint threats life families officials said youths kidnapped forced marriage police added \n",
      "실제 요약 : bihar men kidnapped forced marriage \n",
      "예측 요약 : \n",
      "\n",
      "\n",
      "원문 : release date ajay devgn ranbir kapoor film director luv ranjan announced set clash box office hrithik roshan starrer krrish films scheduled christmas release krrish franchise creator rakesh roshan announced release date son hrithik birthday earlier year \n",
      "실제 요약 : ajay ranbir film clash hrithik \n",
      "예측 요약 : \n",
      "\n",
      "\n",
      "원문 : angelina jolie talking brad pitt children said children good streak wonderful want perfectly behaved little people say absolutely appropriate say find added jolie six children \n",
      "실제 요약 : kids good streak jolie \n",
      "예측 요약 : \n",
      "\n",
      "\n",
      "원문 : speaking sexual harassment allegations rajkumar hirani sonam kapoor said known hirani many years true metoo movement get derailed metoo movement always believe woman case need reserve judgment added hirani accused assistant worked sanju \n",
      "실제 요약 : known hirani yrs metoo claims true sonam \n",
      "예측 요약 : \n",
      "\n",
      "\n",
      "원문 : launched expressing contest stand chance win participating choose theme upload picture describes theme beautifully winning moment wins many well \n",
      "실제 요약 : show contest \n",
      "예측 요약 : \n",
      "\n",
      "\n",
      "원문 : khosla university claimed lord discovered dinosaurs anyone else also documented khosla conducting research years existence dinosaurs india added dinosaur named originated india india dinosaur evolution breeding extinction added \n",
      "실제 요약 : lord discovered dinosaurs university \n",
      "예측 요약 : \n",
      "\n",
      "\n",
      "원문 : praising us president donald trump brave correct move withdraw iran nuclear deal israeli prime minister benjamin netanyahu called agreement recipe disaster last month netanyahu accused iran violating agreement presented claimed new proof iran hidden nuclear weapons \n",
      "실제 요약 : iran deal disaster israel us exit \n",
      "예측 요약 : \n",
      "\n",
      "\n",
      "원문 : addressing event monday congress president rahul gandhi hit bjp government saying institutions including media attack bjp regime said national covering cricket entertainment news neglecting core issues corruption farmers plight election results answer bjp government added \n",
      "실제 요약 : including media attack rahul gandhi \n",
      "예측 요약 : \n",
      "\n",
      "\n",
      "원문 : part volunteer based organisation robin hood army urging come together take stand hunger independence day organisation feed million people august asking citizens come together reach national figures social media build hunger free india \n",
      "실제 요약 : army urges citizens fight hunger day \n",
      "예측 요약 : \n",
      "\n",
      "\n"
     ]
    }
   ],
   "source": [
    "for i in range(10):\n",
    "    print(\"원문 :\", seq2text(encoder_input_test[i]))\n",
    "    print(\"실제 요약 :\", seq2summary(decoder_input_test[i]))\n",
    "    #복원한 원문을 다시 넣어줍니다\n",
    "    #encoder_input_test 선언당시의 원본데이터 지켰어야했는데ㅠㅠ\n",
    "    print(\"예측 요약 :\" , summarize(seq2text(encoder_input_test[i]), ratio=0.005))   \n",
    "\n",
    "    print(\"\\n\")\n",
    "    \n",
    "    contents"
   ]
  },
  {
   "cell_type": "markdown",
   "id": "651d6717",
   "metadata": {},
   "source": [
    "? 안나오네요?"
   ]
  },
  {
   "cell_type": "code",
   "execution_count": 389,
   "id": "423ce879",
   "metadata": {},
   "outputs": [
    {
     "name": "stdout",
     "output_type": "stream",
     "text": [
      "contents : whatsapp top mobile app overall time spent users spent billion hours app last three months app analytics company said monday whatsapp followed wechat facebook terms time spent among gaming apps clash garnered time spent billion hours \n",
      "type : <class 'str'>\n"
     ]
    }
   ],
   "source": [
    "contents = seq2text(encoder_input_test[0])\n",
    "print(\"contents :\" , contents)\n",
    "print(\"type :\" , type(contents))"
   ]
  },
  {
   "cell_type": "code",
   "execution_count": 390,
   "id": "b08b0dff",
   "metadata": {},
   "outputs": [
    {
     "data": {
      "text/plain": [
       "''"
      ]
     },
     "execution_count": 390,
     "metadata": {},
     "output_type": "execute_result"
    }
   ],
   "source": [
    "summarize(contents)"
   ]
  },
  {
   "cell_type": "markdown",
   "id": "58829414",
   "metadata": {},
   "source": [
    "타입도 맞는데, 요약이 안됩니다  \n",
    "뭔가 오류있는 모듈을 쓰는것일까?  \n",
    "lms에서 수행했던 예문으로 해보겠습니다"
   ]
  },
  {
   "cell_type": "code",
   "execution_count": 391,
   "id": "e1aa0d06",
   "metadata": {},
   "outputs": [
    {
     "data": {
      "text/plain": [
       "str"
      ]
     },
     "execution_count": 391,
     "metadata": {},
     "output_type": "execute_result"
    }
   ],
   "source": [
    "import requests\n",
    "text = requests.get('http://rare-technologies.com/the_matrix_synopsis.txt').text\n",
    "type(text)"
   ]
  },
  {
   "cell_type": "code",
   "execution_count": 392,
   "id": "89ec158e",
   "metadata": {},
   "outputs": [
    {
     "name": "stdout",
     "output_type": "stream",
     "text": [
      "The screen is filled with green, cascading code which gives way to the title, The Matrix.\r\n",
      "\r\n",
      "A phone rings and text appears on the screen: \"Call trans opt: received. 2-19-98 13:24:18 REC: Log>\" As a conversation takes place between Trinity (Carrie-Anne Moss) and Cypher (Joe Pantoliano), two free humans, a table of random green numbers are being scanned and individual numbers selected, creating a series of digits not unlike an ordinary phone number, as if a code is being deciphered or a call is being traced.\r\n",
      "\r\n",
      "Trinity discusses some unknown person. Cypher taunts Trinity, suggesting she enjoys watching him. Trinity counters that \"Morpheus (Laurence Fishburne) says he may be 'the One',\" just as the sound of a number being selected alerts Trinity that someone may be tracing their call. She ends the call.\r\n",
      "\r\n",
      "Armed policemen move down a darkened, decrepit hallway in the Heart O' the City Hotel, their flashlight beam bouncing just ahead of them. They come to room 303, kick down the door and find a woman dressed in black, facing away from them. It's Trinity. She brings her hands up from the laptop she's working on at their command.\r\n",
      "\r\n",
      "Outside the hotel a car drives up and three agents appear in neatly pressed black suits. They are Agent Smith (Hugo Weaving), Agent Brown (Paul Goddard), and Agent Jones (Robert Taylor). Agent Smith and the presiding police lieutenant argue. Agent Smith admonishes the policeman that they were given specific orders to contact the agents first, for their\n"
     ]
    }
   ],
   "source": [
    "print(text[:1500])"
   ]
  },
  {
   "cell_type": "code",
   "execution_count": 393,
   "id": "fe06e329",
   "metadata": {},
   "outputs": [
    {
     "name": "stdout",
     "output_type": "stream",
     "text": [
      "Summary:\n",
      "Morpheus, Trinity, Neo, Apoc, Switch, Mouse and Cypher are jacked into the Matrix.\n",
      "Trinity brings the helicopter down to the floor that Morpheus is on and Neo opens fire on the three Agents.\n"
     ]
    }
   ],
   "source": [
    "print('Summary:')\n",
    "print(summarize(text, ratio=0.005))"
   ]
  },
  {
   "cell_type": "markdown",
   "id": "70c2ab8a",
   "metadata": {},
   "source": [
    "#### 외부에서 가져온 문자열은 잘 파싱이 됩니다"
   ]
  },
  {
   "cell_type": "code",
   "execution_count": 396,
   "id": "957071a4",
   "metadata": {},
   "outputs": [
    {
     "name": "stdout",
     "output_type": "stream",
     "text": [
      "문자열 직접 넣으면 ? :  \n"
     ]
    }
   ],
   "source": [
    "print(\"문자열 직접 넣으면 ? : \", summarize('whatsapp top mobile app overall time spent users spent billion hours app last three months app analytics company said monday whatsapp followed wechat facebook terms time spent among gaming apps clash garnered time spent billion hours', ratio=0.005))"
   ]
  },
  {
   "cell_type": "markdown",
   "id": "3ab64f13",
   "metadata": {},
   "source": [
    "#### 직접 복사를 해서 써봐도 안됩니다   \n",
    "#### 복원된 데이터가 아닌, 원본 데이터를 사용해서 확인   "
   ]
  },
  {
   "cell_type": "code",
   "execution_count": 421,
   "id": "6eeb66aa",
   "metadata": {},
   "outputs": [
    {
     "data": {
      "text/plain": [
       "['saurav kant alumnus upgrad iiit pg program machine learning artificial intelligence sr systems engineer infosys almost years work experience program upgrad degree career support helped transition data scientist tech mahindra salary hike upgrad online power learning powered lakh careers',\n",
       " 'new zealand defeated india wickets fourth odi hamilton thursday win first match five match odi series india lost international match rohit sharma captaincy consecutive victories dating back march match witnessed india getting seventh lowest total odi cricket history',\n",
       " 'aegon life iterm insurance plan customers enjoy tax benefits premiums paid save taxes plan provides life cover age years also customers options insure critical illnesses disability accidental death benefit rider life cover age years',\n",
       " 'speaking sexual harassment allegations rajkumar hirani sonam kapoor said known hirani many years true metoo movement get derailed metoo movement always believe woman case need reserve judgment added hirani accused assistant worked sanju',\n",
       " 'pakistani singer rahat fateh ali khan denied receiving notice enforcement directorate allegedly smuggling foreign currency india would better authorities would served notice first publicised reads press release issued behalf rahat statement called allegation bizarre']"
      ]
     },
     "execution_count": 421,
     "metadata": {},
     "output_type": "execute_result"
    }
   ],
   "source": [
    "orig = dataset['text'].copy().values.tolist()\n",
    "orig[0:5]"
   ]
  },
  {
   "cell_type": "code",
   "execution_count": 422,
   "id": "388e5839",
   "metadata": {},
   "outputs": [
    {
     "name": "stdout",
     "output_type": "stream",
     "text": [
      "원문 : social media giant facebook tuesday announced feature uses facial recognition technology notify users photos tagged company said feature optional allow users protect privacy however users give consent facebook keep facial template use feature\n",
      "예측 요약 : \n",
      "\n",
      "\n",
      "원문 : ministry external affairs reportedly asked government antigua barbuda confirm presence territory detain prevent movement land air sea reports said government meeting authorities antigua barbuda monday comes news choksi country\n",
      "예측 요약 : \n",
      "\n",
      "\n",
      "원문 : us president donald trump friday issued veiled threat warn nations opposing joint fifa world cup bid us canada mexico would shame countries always support lobby us bid trump wrote twitter morocco rival joint bid\n",
      "예측 요약 : \n",
      "\n",
      "\n",
      "원문 : evaluated answer sheets class bihar school examination board went missing week ago found scrap dealer following arrest confessed police peon ss balika high school sold peon selling answer sheets scrap dealer since\n",
      "예측 요약 : \n",
      "\n",
      "\n",
      "원문 : india largest lender state bank india said hire people customer support sales functions comes bank employee strength gone current fiscal merger associate banks introduction digital banking reportedly reduced requirement administrative staff\n",
      "예측 요약 : \n",
      "\n",
      "\n",
      "원문 : early trends showed bjp leading tripura party general secretary ram madhav said results three northeastern states tripura meghalaya nagaland good party adding hopeful confident bjp form government tripura said nagaland alliance well\n",
      "예측 요약 : \n",
      "\n",
      "\n",
      "원문 : bcci lost around crore due former board presidents srinivasan anurag thakur former ipl chief lalit modi alleged instagram post modi said losses resulted cancelling champions league terminating kochi tuskers kerala sahara pune warriors india franchises indian premier league\n",
      "예측 요약 : \n",
      "\n",
      "\n",
      "원문 : former ranji cricketer rajesh ghodge represented goa two first class matches eight list matches collapsed died aged batting local match ghodge non striker end collapsed pronounced dead hospital later sunday secretary margao cricket club poorv bhembre said\n",
      "예측 요약 : \n",
      "\n",
      "\n",
      "원문 : year winter session parliament scheduled begin today end th january proposed sittings per government data available sittings lowest winter session since opposition parties alleged bjp trying delay winter session avoid discussions demonetisation gst\n",
      "예측 요약 : \n",
      "\n",
      "\n",
      "원문 : italian football club fiorentina owner della valle family announced willing consider offers club following dissatisfaction club fans della valle family acquired italian club guided team serie group stage champions league seasons\n",
      "예측 요약 : \n",
      "\n",
      "\n"
     ]
    }
   ],
   "source": [
    "#범위가 달라서 비교할 수 없습니다. 일단 출력이 되는 것을 우선으로\n",
    "\n",
    "for i in range(10):\n",
    "    print(\"원문 :\", orig_input[i])\n",
    "    print(\"예측 요약 :\" , (summarize(orig_input[i], ratio=0.005))) \n",
    "    print(\"\\n\")\n",
    "    "
   ]
  },
  {
   "cell_type": "markdown",
   "id": "0408a37e",
   "metadata": {},
   "source": [
    "### 또 예측실패"
   ]
  },
  {
   "cell_type": "code",
   "execution_count": 405,
   "id": "52438fde",
   "metadata": {},
   "outputs": [
    {
     "data": {
      "text/plain": [
       "str"
      ]
     },
     "execution_count": 405,
     "metadata": {},
     "output_type": "execute_result"
    }
   ],
   "source": [
    "type(orig_input[0])"
   ]
  },
  {
   "cell_type": "markdown",
   "id": "85dc238c",
   "metadata": {},
   "source": [
    "분명히 str인데 예측실패.."
   ]
  },
  {
   "cell_type": "markdown",
   "id": "6ca15c8d",
   "metadata": {},
   "source": [
    "### 문장을 여러개 붙이면 어떨까요?"
   ]
  },
  {
   "cell_type": "code",
   "execution_count": 408,
   "id": "2b61e956",
   "metadata": {},
   "outputs": [],
   "source": [
    "test_txt = ''\n",
    "for i in range(100):\n",
    "    test_txt += orig_input[0] #0번째 문장 100번 붙여주는거 맞습니다\n",
    "    test_txt += ' '"
   ]
  },
  {
   "cell_type": "code",
   "execution_count": 410,
   "id": "6f13f258",
   "metadata": {},
   "outputs": [
    {
     "name": "stdout",
     "output_type": "stream",
     "text": [
      "예측 요약 : \n"
     ]
    }
   ],
   "source": [
    "print(\"예측 요약 :\" , summarize(test_txt, ratio=0.005))"
   ]
  },
  {
   "cell_type": "markdown",
   "id": "df0f543a",
   "metadata": {},
   "source": [
    "그래도 안되는군요"
   ]
  },
  {
   "cell_type": "code",
   "execution_count": 411,
   "id": "8880d3d8",
   "metadata": {},
   "outputs": [
    {
     "name": "stdout",
     "output_type": "stream",
     "text": [
      "Help on function summarize in module summa.summarizer:\n",
      "\n",
      "summarize(text, ratio=0.2, words=None, language='english', split=False, scores=False, additional_stopwords=None)\n",
      "\n"
     ]
    }
   ],
   "source": [
    "help(summarize)"
   ]
  },
  {
   "cell_type": "markdown",
   "id": "439bc39e",
   "metadata": {},
   "source": [
    "아쉽지만 다음 차례에 꼭 시도해보도록 합니다 그런데 진짜 왜 안될까요? 이 부분도 피드백 꼭 부탁드리겠습니다"
   ]
  },
  {
   "cell_type": "markdown",
   "id": "fe17abf6",
   "metadata": {},
   "source": [
    "## 회고  \n",
    "\n",
    "스스로 vision people 이라고 생각했는데 nlp가 재밌어져서 큰입입니다 ㅎㅎ 물론 이쪽 공부 또한 이어나갈 생각입니다  \n",
    "\n",
    "이미지도 전처리를 이렇게 디테일하게 할 일이 있었을까? 하면 잘 모르겠습니다  \n",
    "(앞으로 많이 생길 것 같긴 합니다)  \n",
    "전처리의 적정선이 궁금해지는 프로젝트 진행이었습니다  \n",
    "\n",
    "아직 어텐션 알고리즘이나, nlp에 익숙하지 않아, 공부할것이 더 있다고 느낀 노드이긴 했지만,  \n",
    "첫 걱정, 첫 시작보다는 그래도 nlp에 대한 것들을 배워나가는 느낌입니다\n",
    "\n",
    "### 프로젝트 관련\n",
    "\n",
    "다른 그루분들께 하신 feedback 부분에, nlp는 엄청나게 많은 문장을 모아야 좋은 퍼포먼스를 낸다는 이야기를 남기신 걸 봤어서 ㅎㅎ;\n",
    "문장이 적고, 학습을 충분히 한것 같지 않아 성능이 아쉽습니다  \n",
    "  \n",
    "https://jrc-park.tistory.com/27 3에 소개된 방법에 따르면, 추상적 요약을 점수를 매기는 기준이 있다고 합니다  \n",
    "추출적 요약 알고리즘에서 정성적으로도 괜찮은 퍼포먼스를 확인할 수 있을때, 꼭 써볼 생각입니다"
   ]
  },
  {
   "cell_type": "markdown",
   "id": "8f1350e6",
   "metadata": {},
   "source": []
  }
 ],
 "metadata": {
  "kernelspec": {
   "display_name": "Python 3 (ipykernel)",
   "language": "python",
   "name": "python3"
  },
  "language_info": {
   "codemirror_mode": {
    "name": "ipython",
    "version": 3
   },
   "file_extension": ".py",
   "mimetype": "text/x-python",
   "name": "python",
   "nbconvert_exporter": "python",
   "pygments_lexer": "ipython3",
   "version": "3.9.7"
  }
 },
 "nbformat": 4,
 "nbformat_minor": 5
}
