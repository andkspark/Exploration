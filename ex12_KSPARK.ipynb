{
 "cells": [
  {
   "cell_type": "markdown",
   "id": "3e928e15",
   "metadata": {},
   "source": [
    "# ex12 뉴스 요약봇 만들기  \n",
    "  \n",
    "## Objective  \n",
    "1. Abstractive 모델 구성을 위한 텍스트 전처리 단계가 체계적으로 진행되었다.  \n",
    "분석단계, 정제단계, 정규화와 불용어 제거, 데이터셋 분리, 인코딩 과정이 빠짐없이 체계적으로 진행되었다.  \n",
    "  \n",
    "2. 텍스트 요약모델이 성공적으로 학습되었음을 확인하였다.  \n",
    "모델 학습이 진행되면서 train loss와 validation loss가 감소하는 경향을 그래프를 통해 확인했으며, 실제 요약문에 있는 핵심 단어들이 요약 문장 안에 포함되었다.  \n",
    "\n",
    "3. Extractive 요약을 시도해 보고 Abstractive 요약 결과과 함께 비교해 보았다.  \n",
    "두 요약 결과를 문법완성도 측면과 핵심단어 포함 측면으로 나누어 비교하고 분석 결과를 표로 정리하여 제시하였다.  \n",
    "  \n",
    "https://wikidocs.net/72820 "
   ]
  },
  {
   "cell_type": "markdown",
   "id": "9e705513",
   "metadata": {},
   "source": [
    "## 데이터 수집하기  "
   ]
  },
  {
   "cell_type": "code",
   "execution_count": 18,
   "id": "55a63dcd",
   "metadata": {},
   "outputs": [
    {
     "name": "stderr",
     "output_type": "stream",
     "text": [
      "[nltk_data] Downloading package stopwords to /aiffel/nltk_data...\n",
      "[nltk_data]   Package stopwords is already up-to-date!\n"
     ]
    }
   ],
   "source": [
    "from importlib.metadata import version\n",
    "import nltk\n",
    "nltk.download('stopwords')\n",
    "import tensorflow as tf\n",
    "import summa\n",
    "\n",
    "import pandas as pd\n",
    "import numpy as np\n",
    "import os\n",
    "import re\n",
    "import matplotlib.pyplot as plt\n",
    "from nltk.corpus import stopwords\n",
    "from bs4 import BeautifulSoup \n",
    "from tensorflow.keras.preprocessing.text import Tokenizer \n",
    "from tensorflow.keras.preprocessing.sequence import pad_sequences\n",
    "import urllib.request\n",
    "import warnings\n",
    "warnings.filterwarnings(\"ignore\", category=UserWarning, module='bs4')"
   ]
  },
  {
   "cell_type": "markdown",
   "id": "79ba687a",
   "metadata": {},
   "source": [
    "## 데이터 전처리하기 (추상적 요약)  \n",
    "중복 제거  \n",
    "결측치 제거  \n",
    "문맥에 따른 중복문자 제거  \n",
    "텍스트 정규화  \n",
    "불용어 제거  \n",
    "특수문자 제거  \n",
    "다시한번 결측치 제거  \n",
    "이상치 제거 (지나치게 긴 문장 등)  \n",
    "  \n",
    "이후 토크나이징을 실행한다고 학습했습니다  \n",
    "학습한 순서에 맞추어 데이터를 로드, 전처리를 진행합니다  \n",
    "  \n",
    "### 데이터 로드 및 중복/결측치 제거"
   ]
  },
  {
   "cell_type": "code",
   "execution_count": 19,
   "id": "e531d6b4",
   "metadata": {},
   "outputs": [],
   "source": [
    "import urllib.request\n",
    "urllib.request.urlretrieve(\"https://raw.githubusercontent.com/sunnysai12345/News_Summary/master/news_summary_more.csv\", filename=\"news_summary_more.csv\")\n",
    "data = pd.read_csv('news_summary_more.csv', encoding='iso-8859-1')"
   ]
  },
  {
   "cell_type": "code",
   "execution_count": 20,
   "id": "454a769a",
   "metadata": {},
   "outputs": [
    {
     "data": {
      "text/plain": [
       "(98401, 2)"
      ]
     },
     "execution_count": 20,
     "metadata": {},
     "output_type": "execute_result"
    }
   ],
   "source": [
    "data.shape"
   ]
  },
  {
   "cell_type": "code",
   "execution_count": 21,
   "id": "c3930ebe",
   "metadata": {},
   "outputs": [
    {
     "data": {
      "text/html": [
       "<div>\n",
       "<style scoped>\n",
       "    .dataframe tbody tr th:only-of-type {\n",
       "        vertical-align: middle;\n",
       "    }\n",
       "\n",
       "    .dataframe tbody tr th {\n",
       "        vertical-align: top;\n",
       "    }\n",
       "\n",
       "    .dataframe thead th {\n",
       "        text-align: right;\n",
       "    }\n",
       "</style>\n",
       "<table border=\"1\" class=\"dataframe\">\n",
       "  <thead>\n",
       "    <tr style=\"text-align: right;\">\n",
       "      <th></th>\n",
       "      <th>headlines</th>\n",
       "      <th>text</th>\n",
       "    </tr>\n",
       "  </thead>\n",
       "  <tbody>\n",
       "    <tr>\n",
       "      <th>8614</th>\n",
       "      <td>ICC pitches for Women's T20Is at Birmingham Co...</td>\n",
       "      <td>The International Cricket Council has pitched ...</td>\n",
       "    </tr>\n",
       "    <tr>\n",
       "      <th>12799</th>\n",
       "      <td>Saina in Denmark Open final after winning semi...</td>\n",
       "      <td>Indian shuttler Saina Nehwal reached the final...</td>\n",
       "    </tr>\n",
       "    <tr>\n",
       "      <th>69286</th>\n",
       "      <td>18 of 43 McDonald's outlets reopened in Delhi:...</td>\n",
       "      <td>McDonald's estranged partner Vikram Bakshi on ...</td>\n",
       "    </tr>\n",
       "    <tr>\n",
       "      <th>33496</th>\n",
       "      <td>Kalpana Chawla's husband denies rights to make...</td>\n",
       "      <td>Kalpana Chawla's husband Jean-Pierre Harrison ...</td>\n",
       "    </tr>\n",
       "    <tr>\n",
       "      <th>25229</th>\n",
       "      <td>Ex-South Korean President sentenced to 8 more ...</td>\n",
       "      <td>Former South Korean President Park Geun-hye wa...</td>\n",
       "    </tr>\n",
       "    <tr>\n",
       "      <th>73656</th>\n",
       "      <td>Man kills daughters, flees leaving suicide not...</td>\n",
       "      <td>A Bihar businessman reportedly shot dead his t...</td>\n",
       "    </tr>\n",
       "    <tr>\n",
       "      <th>10686</th>\n",
       "      <td>Thailand to waive visa-on-arrival fees for Ind...</td>\n",
       "      <td>Thailand's cabinet has approved a measure to t...</td>\n",
       "    </tr>\n",
       "    <tr>\n",
       "      <th>55789</th>\n",
       "      <td>US' new security strategy has imperial nature:...</td>\n",
       "      <td>Russian spokesperson Dmitry Peskov on Tuesday ...</td>\n",
       "    </tr>\n",
       "    <tr>\n",
       "      <th>77162</th>\n",
       "      <td>NASA jets to chase upcoming solar eclipse usin...</td>\n",
       "      <td>Two NASA jets would be chasing the moon's shad...</td>\n",
       "    </tr>\n",
       "    <tr>\n",
       "      <th>26409</th>\n",
       "      <td>BSNL becomes India's 1st network to launch 'in...</td>\n",
       "      <td>BSNL on Wednesday became the country's first t...</td>\n",
       "    </tr>\n",
       "  </tbody>\n",
       "</table>\n",
       "</div>"
      ],
      "text/plain": [
       "                                               headlines  \\\n",
       "8614   ICC pitches for Women's T20Is at Birmingham Co...   \n",
       "12799  Saina in Denmark Open final after winning semi...   \n",
       "69286  18 of 43 McDonald's outlets reopened in Delhi:...   \n",
       "33496  Kalpana Chawla's husband denies rights to make...   \n",
       "25229  Ex-South Korean President sentenced to 8 more ...   \n",
       "73656  Man kills daughters, flees leaving suicide not...   \n",
       "10686  Thailand to waive visa-on-arrival fees for Ind...   \n",
       "55789  US' new security strategy has imperial nature:...   \n",
       "77162  NASA jets to chase upcoming solar eclipse usin...   \n",
       "26409  BSNL becomes India's 1st network to launch 'in...   \n",
       "\n",
       "                                                    text  \n",
       "8614   The International Cricket Council has pitched ...  \n",
       "12799  Indian shuttler Saina Nehwal reached the final...  \n",
       "69286  McDonald's estranged partner Vikram Bakshi on ...  \n",
       "33496  Kalpana Chawla's husband Jean-Pierre Harrison ...  \n",
       "25229  Former South Korean President Park Geun-hye wa...  \n",
       "73656  A Bihar businessman reportedly shot dead his t...  \n",
       "10686  Thailand's cabinet has approved a measure to t...  \n",
       "55789  Russian spokesperson Dmitry Peskov on Tuesday ...  \n",
       "77162  Two NASA jets would be chasing the moon's shad...  \n",
       "26409  BSNL on Wednesday became the country's first t...  "
      ]
     },
     "execution_count": 21,
     "metadata": {},
     "output_type": "execute_result"
    }
   ],
   "source": [
    "data.sample(10)"
   ]
  },
  {
   "cell_type": "markdown",
   "id": "cfc16fe7",
   "metadata": {},
   "source": [
    "데이터는 기사의 본문에 해당되는 text와 headlines 두 가지 열로 구성되어져 있습니다.  \n",
    "추상적 요약을 하는 경우에는 text를 본문, headlines를 이미 요약된 데이터로 삼아서 모델을 학습할 수 있습니다.  \n",
    "추출적 요약을 하는 경우에는 오직 text열만을 사용해야 합니다.  "
   ]
  },
  {
   "cell_type": "code",
   "execution_count": 22,
   "id": "14c0d826",
   "metadata": {},
   "outputs": [
    {
     "name": "stdout",
     "output_type": "stream",
     "text": [
      "headlines 열에서 중복을 배제한 유일한 샘플의 수 : 98280\n",
      "text 열에서 중복을 배제한 유일한 샘플의 수 : 98360\n"
     ]
    }
   ],
   "source": [
    "print('headlines 열에서 중복을 배제한 유일한 샘플의 수 :', data['headlines'].nunique())\n",
    "print('text 열에서 중복을 배제한 유일한 샘플의 수 :', data['text'].nunique())"
   ]
  },
  {
   "cell_type": "markdown",
   "id": "63cef35b",
   "metadata": {},
   "source": [
    "전체 갯수 중 98400개 중, 41개의 text 중복이 있습니다  \n",
    "headline이 중복이어도 내용이 다를 수 있으니, text 중복을 제거해주도록 하겠습니다"
   ]
  },
  {
   "cell_type": "code",
   "execution_count": 23,
   "id": "ac0e8e38",
   "metadata": {},
   "outputs": [
    {
     "data": {
      "text/plain": [
       "(98360, 2)"
      ]
     },
     "execution_count": 23,
     "metadata": {},
     "output_type": "execute_result"
    }
   ],
   "source": [
    "data.drop_duplicates(subset = ['text'], inplace=True)\n",
    "data.shape"
   ]
  },
  {
   "cell_type": "code",
   "execution_count": 24,
   "id": "32fb1b46",
   "metadata": {},
   "outputs": [
    {
     "data": {
      "text/plain": [
       "headlines    0\n",
       "text         0\n",
       "dtype: int64"
      ]
     },
     "execution_count": 24,
     "metadata": {},
     "output_type": "execute_result"
    }
   ],
   "source": [
    "data.isna().sum()"
   ]
  },
  {
   "cell_type": "markdown",
   "id": "cfb4d4aa",
   "metadata": {},
   "source": [
    "빈 데이터가 있다면 제거해줬어야 했을텐데, 다행히도 없었습니다 "
   ]
  },
  {
   "cell_type": "markdown",
   "id": "4b7fda26",
   "metadata": {},
   "source": [
    "### 텍스트 정규화, 불용어 제거  \n",
    "apostrophe등을 사용하는 다양한 문장의 표현을 단일화합니다  \n",
    "문맥에 크게 의미를 주지 않는 단어 (stopword)등을 제거합니다  \n",
    "  \n",
    "다만 개인적으로 우려되는 점은  \n",
    "https://wikidocs.net/21693  \n",
    "에 소개되어 있듯이, 고유명사등의 처리  \n",
    "예를 들어, 위 sample의 2번째인 Elon Musk-led 이런 부분, 고유명사와 하이픈으로 이어지는 부분등은 어떻게 처리해야 할지 고민이 됩니다  \n",
    "기존의 방식은 일괄 소문자화, 온점제거, 특수문자 제거를 해왔지만, 일괄적으로 수행할 시 문장의 의미를 잃어버리지 않을까 고심하게 되는 부분입니다  \n",
    "nltk에서 여러 방식의 토크나이저를 제공하는데, News in english에 대한 것은 찾지 못하였습니다  \n",
    "일단, 첫술에 완벽할 수는 없으므로, lms에 소개된 방향으로 진행 후 개선점을 탐색해보겠습니다  \n",
    "(나중에 https://datascienceschool.net/03%20machine%20learning/03.01.01%20NLTK%20%EC%9E%90%EC%97%B0%EC%96%B4%20%EC%B2%98%EB%A6%AC%20%ED%8C%A8%ED%82%A4%EC%A7%80.html  \n",
    "랑 https://excelsior-cjh.tistory.com/67  \n",
    "써볼수도 있을거 같습니다)  \n",
    "\n",
    "일단 하자!!  "
   ]
  },
  {
   "cell_type": "markdown",
   "id": "777551ea",
   "metadata": {},
   "source": [
    "#### 정규화  \n",
    "특수문자 제거 전에 정규화를 먼저 해야, 단어의 의미를 잃어버리는 불상사를 방지할 수 있다는 걸 지금 깨달았습니다  "
   ]
  },
  {
   "cell_type": "code",
   "execution_count": 25,
   "id": "d4eefe96",
   "metadata": {},
   "outputs": [
    {
     "name": "stdout",
     "output_type": "stream",
     "text": [
      "정규화 사전의 수:  120\n"
     ]
    }
   ],
   "source": [
    "contractions = {\"ain't\": \"is not\", \"aren't\": \"are not\",\"can't\": \"cannot\", \"'cause\": \"because\", \"could've\": \"could have\", \"couldn't\": \"could not\",\n",
    "                           \"didn't\": \"did not\",  \"doesn't\": \"does not\", \"don't\": \"do not\", \"hadn't\": \"had not\", \"hasn't\": \"has not\", \"haven't\": \"have not\",\n",
    "                           \"he'd\": \"he would\",\"he'll\": \"he will\", \"he's\": \"he is\", \"how'd\": \"how did\", \"how'd'y\": \"how do you\", \"how'll\": \"how will\", \"how's\": \"how is\",\n",
    "                           \"I'd\": \"I would\", \"I'd've\": \"I would have\", \"I'll\": \"I will\", \"I'll've\": \"I will have\",\"I'm\": \"I am\", \"I've\": \"I have\", \"i'd\": \"i would\",\n",
    "                           \"i'd've\": \"i would have\", \"i'll\": \"i will\",  \"i'll've\": \"i will have\",\"i'm\": \"i am\", \"i've\": \"i have\", \"isn't\": \"is not\", \"it'd\": \"it would\",\n",
    "                           \"it'd've\": \"it would have\", \"it'll\": \"it will\", \"it'll've\": \"it will have\",\"it's\": \"it is\", \"let's\": \"let us\", \"ma'am\": \"madam\",\n",
    "                           \"mayn't\": \"may not\", \"might've\": \"might have\",\"mightn't\": \"might not\",\"mightn't've\": \"might not have\", \"must've\": \"must have\",\n",
    "                           \"mustn't\": \"must not\", \"mustn't've\": \"must not have\", \"needn't\": \"need not\", \"needn't've\": \"need not have\",\"o'clock\": \"of the clock\",\n",
    "                           \"oughtn't\": \"ought not\", \"oughtn't've\": \"ought not have\", \"shan't\": \"shall not\", \"sha'n't\": \"shall not\", \"shan't've\": \"shall not have\",\n",
    "                           \"she'd\": \"she would\", \"she'd've\": \"she would have\", \"she'll\": \"she will\", \"she'll've\": \"she will have\", \"she's\": \"she is\",\n",
    "                           \"should've\": \"should have\", \"shouldn't\": \"should not\", \"shouldn't've\": \"should not have\", \"so've\": \"so have\",\"so's\": \"so as\",\n",
    "                           \"this's\": \"this is\",\"that'd\": \"that would\", \"that'd've\": \"that would have\", \"that's\": \"that is\", \"there'd\": \"there would\",\n",
    "                           \"there'd've\": \"there would have\", \"there's\": \"there is\", \"here's\": \"here is\",\"they'd\": \"they would\", \"they'd've\": \"they would have\",\n",
    "                           \"they'll\": \"they will\", \"they'll've\": \"they will have\", \"they're\": \"they are\", \"they've\": \"they have\", \"to've\": \"to have\",\n",
    "                           \"wasn't\": \"was not\", \"we'd\": \"we would\", \"we'd've\": \"we would have\", \"we'll\": \"we will\", \"we'll've\": \"we will have\", \"we're\": \"we are\",\n",
    "                           \"we've\": \"we have\", \"weren't\": \"were not\", \"what'll\": \"what will\", \"what'll've\": \"what will have\", \"what're\": \"what are\",\n",
    "                           \"what's\": \"what is\", \"what've\": \"what have\", \"when's\": \"when is\", \"when've\": \"when have\", \"where'd\": \"where did\", \"where's\": \"where is\",\n",
    "                           \"where've\": \"where have\", \"who'll\": \"who will\", \"who'll've\": \"who will have\", \"who's\": \"who is\", \"who've\": \"who have\",\n",
    "                           \"why's\": \"why is\", \"why've\": \"why have\", \"will've\": \"will have\", \"won't\": \"will not\", \"won't've\": \"will not have\",\n",
    "                           \"would've\": \"would have\", \"wouldn't\": \"would not\", \"wouldn't've\": \"would not have\", \"y'all\": \"you all\",\n",
    "                           \"y'all'd\": \"you all would\",\"y'all'd've\": \"you all would have\",\"y'all're\": \"you all are\",\"y'all've\": \"you all have\",\n",
    "                           \"you'd\": \"you would\", \"you'd've\": \"you would have\", \"you'll\": \"you will\", \"you'll've\": \"you will have\",\n",
    "                           \"you're\": \"you are\", \"you've\": \"you have\"}\n",
    "\n",
    "print(\"정규화 사전의 수: \", len(contractions))"
   ]
  },
  {
   "cell_type": "code",
   "execution_count": 26,
   "id": "c962ae5f",
   "metadata": {},
   "outputs": [
    {
     "name": "stdout",
     "output_type": "stream",
     "text": [
      "불용어 개수 : 179\n",
      "['i', 'me', 'my', 'myself', 'we', 'our', 'ours', 'ourselves', 'you', \"you're\", \"you've\", \"you'll\", \"you'd\", 'your', 'yours', 'yourself', 'yourselves', 'he', 'him', 'his', 'himself', 'she', \"she's\", 'her', 'hers', 'herself', 'it', \"it's\", 'its', 'itself', 'they', 'them', 'their', 'theirs', 'themselves', 'what', 'which', 'who', 'whom', 'this', 'that', \"that'll\", 'these', 'those', 'am', 'is', 'are', 'was', 'were', 'be', 'been', 'being', 'have', 'has', 'had', 'having', 'do', 'does', 'did', 'doing', 'a', 'an', 'the', 'and', 'but', 'if', 'or', 'because', 'as', 'until', 'while', 'of', 'at', 'by', 'for', 'with', 'about', 'against', 'between', 'into', 'through', 'during', 'before', 'after', 'above', 'below', 'to', 'from', 'up', 'down', 'in', 'out', 'on', 'off', 'over', 'under', 'again', 'further', 'then', 'once', 'here', 'there', 'when', 'where', 'why', 'how', 'all', 'any', 'both', 'each', 'few', 'more', 'most', 'other', 'some', 'such', 'no', 'nor', 'not', 'only', 'own', 'same', 'so', 'than', 'too', 'very', 's', 't', 'can', 'will', 'just', 'don', \"don't\", 'should', \"should've\", 'now', 'd', 'll', 'm', 'o', 're', 've', 'y', 'ain', 'aren', \"aren't\", 'couldn', \"couldn't\", 'didn', \"didn't\", 'doesn', \"doesn't\", 'hadn', \"hadn't\", 'hasn', \"hasn't\", 'haven', \"haven't\", 'isn', \"isn't\", 'ma', 'mightn', \"mightn't\", 'mustn', \"mustn't\", 'needn', \"needn't\", 'shan', \"shan't\", 'shouldn', \"shouldn't\", 'wasn', \"wasn't\", 'weren', \"weren't\", 'won', \"won't\", 'wouldn', \"wouldn't\"]\n"
     ]
    }
   ],
   "source": [
    "print('불용어 개수 :', len(stopwords.words('english') ))\n",
    "print(stopwords.words('english'))"
   ]
  },
  {
   "cell_type": "code",
   "execution_count": 27,
   "id": "ad75fe3d",
   "metadata": {},
   "outputs": [],
   "source": [
    "# 데이터 전처리 함수\n",
    "def preprocess_sentence(sentence, remove_stopwords=True):\n",
    "    sentence = sentence.lower() # 텍스트 소문자화\n",
    "    sentence = BeautifulSoup(sentence, \"lxml\").text # <br />, <a href = ...> 등의 html 태그 제거\n",
    "    sentence = re.sub(r'\\([^)]*\\)', '', sentence) # 괄호로 닫힌 문자열 (...) 제거 Ex) my husband (and myself!) for => my husband for\n",
    "    sentence = re.sub('\"','', sentence) # 쌍따옴표 \" 제거\n",
    "    sentence = ' '.join([contractions[t] if t in contractions else t for t in sentence.split(\" \")]) # 약어 정규화\n",
    "    sentence = re.sub(r\"'s\\b\",\"\", sentence) # 소유격 제거. Ex) roland's -> roland\n",
    "    sentence = re.sub(\"[^a-zA-Z]\", \" \", sentence) # 영어 외 문자(숫자, 특수문자 등) 공백으로 변환\n",
    "    sentence = re.sub('[m]{2,}', 'mm', sentence) # m이 3개 이상이면 2개로 변경. Ex) ummmmmmm yeah -> umm yeah\n",
    "    \n",
    "    # 불용어 제거 (Text)\n",
    "    if remove_stopwords:\n",
    "        tokens = ' '.join(word for word in sentence.split() if not word in stopwords.words('english') if len(word) > 1)\n",
    "    # 불용어 미제거 (Summary)\n",
    "    else:\n",
    "        tokens = ' '.join(word for word in sentence.split() if len(word) > 1)\n",
    "    return tokens"
   ]
  },
  {
   "cell_type": "code",
   "execution_count": 28,
   "id": "15bdf16f",
   "metadata": {},
   "outputs": [
    {
     "name": "stdout",
     "output_type": "stream",
     "text": [
      "text:  everything bought great infact ordered twice third ordered wasfor mother father\n",
      "summary: great way to start the day\n"
     ]
    }
   ],
   "source": [
    "temp_text = 'Everything I bought was great, infact I ordered twice and the third ordered was<br />for my mother and father.'\n",
    "temp_summary = 'Great way to start (or finish) the day!!!'\n",
    "\n",
    "print(\"text: \", preprocess_sentence(temp_text))\n",
    "print(\"summary:\", preprocess_sentence(temp_summary, False))  # 불용어를 제거하지 않습니다."
   ]
  },
  {
   "cell_type": "markdown",
   "id": "65fa576c",
   "metadata": {},
   "source": [
    "테스트 결과, 함수가 올바로 작동했습니다  \n",
    "데이터셋에 적용~"
   ]
  },
  {
   "cell_type": "code",
   "execution_count": 29,
   "id": "08dca2ae",
   "metadata": {},
   "outputs": [
    {
     "data": {
      "text/html": [
       "<div>\n",
       "<style scoped>\n",
       "    .dataframe tbody tr th:only-of-type {\n",
       "        vertical-align: middle;\n",
       "    }\n",
       "\n",
       "    .dataframe tbody tr th {\n",
       "        vertical-align: top;\n",
       "    }\n",
       "\n",
       "    .dataframe thead th {\n",
       "        text-align: right;\n",
       "    }\n",
       "</style>\n",
       "<table border=\"1\" class=\"dataframe\">\n",
       "  <thead>\n",
       "    <tr style=\"text-align: right;\">\n",
       "      <th></th>\n",
       "      <th>headlines</th>\n",
       "      <th>text</th>\n",
       "    </tr>\n",
       "  </thead>\n",
       "  <tbody>\n",
       "    <tr>\n",
       "      <th>0</th>\n",
       "      <td>upGrad learner switches to career in ML &amp; Al w...</td>\n",
       "      <td>Saurav Kant, an alumnus of upGrad and IIIT-B's...</td>\n",
       "    </tr>\n",
       "    <tr>\n",
       "      <th>1</th>\n",
       "      <td>Delhi techie wins free food from Swiggy for on...</td>\n",
       "      <td>Kunal Shah's credit card bill payment platform...</td>\n",
       "    </tr>\n",
       "    <tr>\n",
       "      <th>2</th>\n",
       "      <td>New Zealand end Rohit Sharma-led India's 12-ma...</td>\n",
       "      <td>New Zealand defeated India by 8 wickets in the...</td>\n",
       "    </tr>\n",
       "    <tr>\n",
       "      <th>3</th>\n",
       "      <td>Aegon life iTerm insurance plan helps customer...</td>\n",
       "      <td>With Aegon Life iTerm Insurance plan, customer...</td>\n",
       "    </tr>\n",
       "    <tr>\n",
       "      <th>4</th>\n",
       "      <td>Have known Hirani for yrs, what if MeToo claim...</td>\n",
       "      <td>Speaking about the sexual harassment allegatio...</td>\n",
       "    </tr>\n",
       "    <tr>\n",
       "      <th>5</th>\n",
       "      <td>Rahat Fateh Ali Khan denies getting notice for...</td>\n",
       "      <td>Pakistani singer Rahat Fateh Ali Khan has deni...</td>\n",
       "    </tr>\n",
       "    <tr>\n",
       "      <th>6</th>\n",
       "      <td>India get all out for 92, their lowest ODI tot...</td>\n",
       "      <td>India recorded their lowest ODI total in New Z...</td>\n",
       "    </tr>\n",
       "    <tr>\n",
       "      <th>7</th>\n",
       "      <td>Govt directs Alok Verma to join work 1 day bef...</td>\n",
       "      <td>Weeks after ex-CBI Director Alok Verma told th...</td>\n",
       "    </tr>\n",
       "    <tr>\n",
       "      <th>8</th>\n",
       "      <td>Called PM Modi 'sir' 10 times to satisfy his e...</td>\n",
       "      <td>Andhra Pradesh CM N Chandrababu Naidu has said...</td>\n",
       "    </tr>\n",
       "    <tr>\n",
       "      <th>9</th>\n",
       "      <td>Cong wins Ramgarh bypoll in Rajasthan, takes t...</td>\n",
       "      <td>Congress candidate Shafia Zubair won the Ramga...</td>\n",
       "    </tr>\n",
       "    <tr>\n",
       "      <th>10</th>\n",
       "      <td>UP cousins fed human excreta for friendship wi...</td>\n",
       "      <td>Two minor cousins in Uttar Pradesh's Gorakhpur...</td>\n",
       "    </tr>\n",
       "    <tr>\n",
       "      <th>11</th>\n",
       "      <td>81-yr-old woman conducts physical training in ...</td>\n",
       "      <td>Isha Ghosh, an 81-year-old member of Bharat Sc...</td>\n",
       "    </tr>\n",
       "    <tr>\n",
       "      <th>12</th>\n",
       "      <td>Ram, Krishna didn't smoke, why should we: Ramd...</td>\n",
       "      <td>Urging saints and seers at the Kumbh Mela to q...</td>\n",
       "    </tr>\n",
       "    <tr>\n",
       "      <th>13</th>\n",
       "      <td>Pharma exec gave doctor a lap dance to sell me...</td>\n",
       "      <td>Former stripper and regional sales director of...</td>\n",
       "    </tr>\n",
       "    <tr>\n",
       "      <th>14</th>\n",
       "      <td>I only cried at my 'bidaai' as I felt peer pr...</td>\n",
       "      <td>Reliance Industries' Chairman Mukesh Ambani's ...</td>\n",
       "    </tr>\n",
       "    <tr>\n",
       "      <th>15</th>\n",
       "      <td>Louis Vuitton owner to stockpile 4 months of w...</td>\n",
       "      <td>Louis Vuitton owner LVMH, which makes high-end...</td>\n",
       "    </tr>\n",
       "    <tr>\n",
       "      <th>16</th>\n",
       "      <td>Karan Johar, Tabu turn showstoppers on opening...</td>\n",
       "      <td>Filmmaker Karan Johar and actress Tabu turned ...</td>\n",
       "    </tr>\n",
       "    <tr>\n",
       "      <th>17</th>\n",
       "      <td>Those on bail will go to jail: PM Modi takes j...</td>\n",
       "      <td>In a jibe at Congress President Rahul Gandhi, ...</td>\n",
       "    </tr>\n",
       "    <tr>\n",
       "      <th>18</th>\n",
       "      <td>How long can I tolerate Congress leaders' pots...</td>\n",
       "      <td>Days after he threatened to step down from his...</td>\n",
       "    </tr>\n",
       "    <tr>\n",
       "      <th>19</th>\n",
       "      <td>Odisha CM Patnaik controls mining mafia: Union...</td>\n",
       "      <td>Union Minister Dharmendra Pradhan on Wednesday...</td>\n",
       "    </tr>\n",
       "  </tbody>\n",
       "</table>\n",
       "</div>"
      ],
      "text/plain": [
       "                                            headlines  \\\n",
       "0   upGrad learner switches to career in ML & Al w...   \n",
       "1   Delhi techie wins free food from Swiggy for on...   \n",
       "2   New Zealand end Rohit Sharma-led India's 12-ma...   \n",
       "3   Aegon life iTerm insurance plan helps customer...   \n",
       "4   Have known Hirani for yrs, what if MeToo claim...   \n",
       "5   Rahat Fateh Ali Khan denies getting notice for...   \n",
       "6   India get all out for 92, their lowest ODI tot...   \n",
       "7   Govt directs Alok Verma to join work 1 day bef...   \n",
       "8   Called PM Modi 'sir' 10 times to satisfy his e...   \n",
       "9   Cong wins Ramgarh bypoll in Rajasthan, takes t...   \n",
       "10  UP cousins fed human excreta for friendship wi...   \n",
       "11  81-yr-old woman conducts physical training in ...   \n",
       "12  Ram, Krishna didn't smoke, why should we: Ramd...   \n",
       "13  Pharma exec gave doctor a lap dance to sell me...   \n",
       "14   I only cried at my 'bidaai' as I felt peer pr...   \n",
       "15  Louis Vuitton owner to stockpile 4 months of w...   \n",
       "16  Karan Johar, Tabu turn showstoppers on opening...   \n",
       "17  Those on bail will go to jail: PM Modi takes j...   \n",
       "18  How long can I tolerate Congress leaders' pots...   \n",
       "19  Odisha CM Patnaik controls mining mafia: Union...   \n",
       "\n",
       "                                                 text  \n",
       "0   Saurav Kant, an alumnus of upGrad and IIIT-B's...  \n",
       "1   Kunal Shah's credit card bill payment platform...  \n",
       "2   New Zealand defeated India by 8 wickets in the...  \n",
       "3   With Aegon Life iTerm Insurance plan, customer...  \n",
       "4   Speaking about the sexual harassment allegatio...  \n",
       "5   Pakistani singer Rahat Fateh Ali Khan has deni...  \n",
       "6   India recorded their lowest ODI total in New Z...  \n",
       "7   Weeks after ex-CBI Director Alok Verma told th...  \n",
       "8   Andhra Pradesh CM N Chandrababu Naidu has said...  \n",
       "9   Congress candidate Shafia Zubair won the Ramga...  \n",
       "10  Two minor cousins in Uttar Pradesh's Gorakhpur...  \n",
       "11  Isha Ghosh, an 81-year-old member of Bharat Sc...  \n",
       "12  Urging saints and seers at the Kumbh Mela to q...  \n",
       "13  Former stripper and regional sales director of...  \n",
       "14  Reliance Industries' Chairman Mukesh Ambani's ...  \n",
       "15  Louis Vuitton owner LVMH, which makes high-end...  \n",
       "16  Filmmaker Karan Johar and actress Tabu turned ...  \n",
       "17  In a jibe at Congress President Rahul Gandhi, ...  \n",
       "18  Days after he threatened to step down from his...  \n",
       "19  Union Minister Dharmendra Pradhan on Wednesday...  "
      ]
     },
     "execution_count": 29,
     "metadata": {},
     "output_type": "execute_result"
    }
   ],
   "source": [
    "data.head(20)"
   ]
  },
  {
   "cell_type": "code",
   "execution_count": 31,
   "id": "e066c5a4",
   "metadata": {},
   "outputs": [
    {
     "data": {
      "text/html": [
       "<div>\n",
       "<style scoped>\n",
       "    .dataframe tbody tr th:only-of-type {\n",
       "        vertical-align: middle;\n",
       "    }\n",
       "\n",
       "    .dataframe tbody tr th {\n",
       "        vertical-align: top;\n",
       "    }\n",
       "\n",
       "    .dataframe thead th {\n",
       "        text-align: right;\n",
       "    }\n",
       "</style>\n",
       "<table border=\"1\" class=\"dataframe\">\n",
       "  <thead>\n",
       "    <tr style=\"text-align: right;\">\n",
       "      <th></th>\n",
       "      <th>headlines</th>\n",
       "      <th>text</th>\n",
       "    </tr>\n",
       "  </thead>\n",
       "  <tbody>\n",
       "    <tr>\n",
       "      <th>0</th>\n",
       "      <td>upgrad learner switches career ml al salary hike</td>\n",
       "      <td>saurav kant alumnus upgrad iiit pg program mac...</td>\n",
       "    </tr>\n",
       "    <tr>\n",
       "      <th>1</th>\n",
       "      <td>delhi techie wins free food swiggy one year cred</td>\n",
       "      <td>kunal shah credit card bill payment platform c...</td>\n",
       "    </tr>\n",
       "    <tr>\n",
       "      <th>2</th>\n",
       "      <td>new zealand end rohit sharma led india match w...</td>\n",
       "      <td>new zealand defeated india wickets fourth odi ...</td>\n",
       "    </tr>\n",
       "    <tr>\n",
       "      <th>3</th>\n",
       "      <td>aegon life iterm insurance plan helps customer...</td>\n",
       "      <td>aegon life iterm insurance plan customers enjo...</td>\n",
       "    </tr>\n",
       "    <tr>\n",
       "      <th>4</th>\n",
       "      <td>known hirani yrs metoo claims true sonam</td>\n",
       "      <td>speaking sexual harassment allegations rajkuma...</td>\n",
       "    </tr>\n",
       "    <tr>\n",
       "      <th>5</th>\n",
       "      <td>rahat fateh ali khan denies getting notice smu...</td>\n",
       "      <td>pakistani singer rahat fateh ali khan denied r...</td>\n",
       "    </tr>\n",
       "    <tr>\n",
       "      <th>6</th>\n",
       "      <td>india get lowest odi total new zealand</td>\n",
       "      <td>india recorded lowest odi total new zealand ge...</td>\n",
       "    </tr>\n",
       "    <tr>\n",
       "      <th>7</th>\n",
       "      <td>govt directs alok verma join work day retirement</td>\n",
       "      <td>weeks ex cbi director alok verma told departme...</td>\n",
       "    </tr>\n",
       "    <tr>\n",
       "      <th>8</th>\n",
       "      <td>called pm modi sir times satisfy ego andhra cm</td>\n",
       "      <td>andhra pradesh cm chandrababu naidu said met u...</td>\n",
       "    </tr>\n",
       "    <tr>\n",
       "      <th>9</th>\n",
       "      <td>cong wins ramgarh bypoll rajasthan takes total...</td>\n",
       "      <td>congress candidate shafia zubair ramgarh assem...</td>\n",
       "    </tr>\n",
       "    <tr>\n",
       "      <th>10</th>\n",
       "      <td>cousins fed human excreta friendship boys</td>\n",
       "      <td>two minor cousins uttar pradesh gorakhpur alle...</td>\n",
       "    </tr>\n",
       "    <tr>\n",
       "      <th>11</th>\n",
       "      <td>yr old woman conducts physical training khand ...</td>\n",
       "      <td>isha ghosh year old member bharat scouts guide...</td>\n",
       "    </tr>\n",
       "    <tr>\n",
       "      <th>12</th>\n",
       "      <td>ram krishna smoke ramdev sadhus kumbh</td>\n",
       "      <td>urging saints seers kumbh mela quit smoking yo...</td>\n",
       "    </tr>\n",
       "    <tr>\n",
       "      <th>13</th>\n",
       "      <td>pharma exec gave doctor lap dance sell medicin...</td>\n",
       "      <td>former stripper regional sales director pharma...</td>\n",
       "    </tr>\n",
       "    <tr>\n",
       "      <th>14</th>\n",
       "      <td>cried bidaai felt peer pressure isha ambani</td>\n",
       "      <td>reliance industries chairman mukesh ambani dau...</td>\n",
       "    </tr>\n",
       "    <tr>\n",
       "      <th>15</th>\n",
       "      <td>louis vuitton owner stockpile months wine spir...</td>\n",
       "      <td>louis vuitton owner lvmh makes high end bevera...</td>\n",
       "    </tr>\n",
       "    <tr>\n",
       "      <th>16</th>\n",
       "      <td>karan johar tabu turn showstoppers opening nig...</td>\n",
       "      <td>filmmaker karan johar actress tabu turned show...</td>\n",
       "    </tr>\n",
       "    <tr>\n",
       "      <th>17</th>\n",
       "      <td>bail go jail pm modi takes jibe rahul</td>\n",
       "      <td>jibe congress president rahul gandhi pm narend...</td>\n",
       "    </tr>\n",
       "    <tr>\n",
       "      <th>18</th>\n",
       "      <td>long tolerate congress leaders potshots taka cm</td>\n",
       "      <td>days threatened step post congress mlas contin...</td>\n",
       "    </tr>\n",
       "    <tr>\n",
       "      <th>19</th>\n",
       "      <td>odisha cm patnaik controls mining mafia union ...</td>\n",
       "      <td>union minister dharmendra pradhan wednesday cl...</td>\n",
       "    </tr>\n",
       "  </tbody>\n",
       "</table>\n",
       "</div>"
      ],
      "text/plain": [
       "                                            headlines  \\\n",
       "0    upgrad learner switches career ml al salary hike   \n",
       "1    delhi techie wins free food swiggy one year cred   \n",
       "2   new zealand end rohit sharma led india match w...   \n",
       "3   aegon life iterm insurance plan helps customer...   \n",
       "4            known hirani yrs metoo claims true sonam   \n",
       "5   rahat fateh ali khan denies getting notice smu...   \n",
       "6              india get lowest odi total new zealand   \n",
       "7    govt directs alok verma join work day retirement   \n",
       "8      called pm modi sir times satisfy ego andhra cm   \n",
       "9   cong wins ramgarh bypoll rajasthan takes total...   \n",
       "10          cousins fed human excreta friendship boys   \n",
       "11  yr old woman conducts physical training khand ...   \n",
       "12              ram krishna smoke ramdev sadhus kumbh   \n",
       "13  pharma exec gave doctor lap dance sell medicin...   \n",
       "14        cried bidaai felt peer pressure isha ambani   \n",
       "15  louis vuitton owner stockpile months wine spir...   \n",
       "16  karan johar tabu turn showstoppers opening nig...   \n",
       "17              bail go jail pm modi takes jibe rahul   \n",
       "18    long tolerate congress leaders potshots taka cm   \n",
       "19  odisha cm patnaik controls mining mafia union ...   \n",
       "\n",
       "                                                 text  \n",
       "0   saurav kant alumnus upgrad iiit pg program mac...  \n",
       "1   kunal shah credit card bill payment platform c...  \n",
       "2   new zealand defeated india wickets fourth odi ...  \n",
       "3   aegon life iterm insurance plan customers enjo...  \n",
       "4   speaking sexual harassment allegations rajkuma...  \n",
       "5   pakistani singer rahat fateh ali khan denied r...  \n",
       "6   india recorded lowest odi total new zealand ge...  \n",
       "7   weeks ex cbi director alok verma told departme...  \n",
       "8   andhra pradesh cm chandrababu naidu said met u...  \n",
       "9   congress candidate shafia zubair ramgarh assem...  \n",
       "10  two minor cousins uttar pradesh gorakhpur alle...  \n",
       "11  isha ghosh year old member bharat scouts guide...  \n",
       "12  urging saints seers kumbh mela quit smoking yo...  \n",
       "13  former stripper regional sales director pharma...  \n",
       "14  reliance industries chairman mukesh ambani dau...  \n",
       "15  louis vuitton owner lvmh makes high end bevera...  \n",
       "16  filmmaker karan johar actress tabu turned show...  \n",
       "17  jibe congress president rahul gandhi pm narend...  \n",
       "18  days threatened step post congress mlas contin...  \n",
       "19  union minister dharmendra pradhan wednesday cl...  "
      ]
     },
     "execution_count": 31,
     "metadata": {},
     "output_type": "execute_result"
    }
   ],
   "source": [
    "clean_df = data.copy()    #원본은 유지\n",
    "clean_df['headlines'] = clean_df['headlines'].apply(preprocess_sentence, args = (False))\n",
    "clean_df['text'] = clean_df['text'].apply(preprocess_sentence)\n",
    "clean_df.head(20)"
   ]
  },
  {
   "cell_type": "markdown",
   "id": "5bc939c8",
   "metadata": {},
   "source": [
    "전처리가 잘 되긴 했는데.. 대문자.. 고유명사.. 자꾸 신경이 쓰이는 건 어쩔수 없네요  \n",
    "  \n",
    "#### 결측치 확인  \n",
    "데이터 처리과정에서 새로 결측치가 나왔을 수도 있으니, 확인해보고 제거합니다  "
   ]
  },
  {
   "cell_type": "code",
   "execution_count": 32,
   "id": "c6d05acf",
   "metadata": {},
   "outputs": [
    {
     "data": {
      "text/plain": [
       "headlines    0\n",
       "text         0\n",
       "dtype: int64"
      ]
     },
     "execution_count": 32,
     "metadata": {},
     "output_type": "execute_result"
    }
   ],
   "source": [
    "clean_df.replace('', np.nan, inplace = True)\n",
    "clean_df.isna().sum()"
   ]
  },
  {
   "cell_type": "code",
   "execution_count": 43,
   "id": "341d095b",
   "metadata": {},
   "outputs": [],
   "source": [
    "#clean_df.dropna(axis=0, inplace = True)"
   ]
  },
  {
   "cell_type": "markdown",
   "id": "1f545069",
   "metadata": {},
   "source": [
    "#### 이상치 제거  \n",
    "데이터셋 내에서 특정 문장이 너무 길 경우, 데이터셋 전체로 학습할 수 있다는 장점은 있지만  \n",
    "pad_sequence메서드를 사용할 때 학습에 사용된 문장의 최대 길이로 padding이 진행되어  \n",
    "대부분의 문장이 문장 길이보다 0이 더 많은 학습을 진행하게 됩니다 (피드백 감사합니다!)  \n",
    "추상적 분석의 결과물이 좋게 나오지 않게 우려되는 부분이므로, 일정 수치에서 너무 벗어나는 길이를 이상치로 규정하고 제거하도록 합니다  "
   ]
  },
  {
   "cell_type": "code",
   "execution_count": 51,
   "id": "b696e5bb",
   "metadata": {},
   "outputs": [],
   "source": [
    "headlines_len = [len(s.split()) for s in clean_df['headlines']]\n",
    "text_len = [len(s.split()) for s in clean_df['text']]"
   ]
  },
  {
   "cell_type": "code",
   "execution_count": 56,
   "id": "140a468b",
   "metadata": {},
   "outputs": [
    {
     "data": {
      "text/plain": [
       "[<matplotlib.lines.Line2D at 0x7f15656062b0>]"
      ]
     },
     "execution_count": 56,
     "metadata": {},
     "output_type": "execute_result"
    },
    {
     "data": {
      "image/png": "[encoded data removed]",
      "text/plain": [
       "<Figure size 864x432 with 2 Axes>"
      ]
     },
     "metadata": {
      "needs_background": "light"
     },
     "output_type": "display_data"
    }
   ],
   "source": [
    "headlines_len.sort()\n",
    "text_len.sort()\n",
    "\n",
    "fig = plt.figure(figsize = (12, 6))\n",
    "\n",
    "plt.subplot(1, 2, 1)\n",
    "plt.plot(headlines_len)\n",
    "\n",
    "plt.subplot(1, 2, 2)\n",
    "plt.plot(text_len)"
   ]
  },
  {
   "cell_type": "code",
   "execution_count": 67,
   "id": "c8fdc4b6",
   "metadata": {},
   "outputs": [
    {
     "data": {
      "text/html": [
       "<div>\n",
       "<style scoped>\n",
       "    .dataframe tbody tr th:only-of-type {\n",
       "        vertical-align: middle;\n",
       "    }\n",
       "\n",
       "    .dataframe tbody tr th {\n",
       "        vertical-align: top;\n",
       "    }\n",
       "\n",
       "    .dataframe thead th {\n",
       "        text-align: right;\n",
       "    }\n",
       "</style>\n",
       "<table border=\"1\" class=\"dataframe\">\n",
       "  <thead>\n",
       "    <tr style=\"text-align: right;\">\n",
       "      <th></th>\n",
       "      <th>0</th>\n",
       "    </tr>\n",
       "  </thead>\n",
       "  <tbody>\n",
       "    <tr>\n",
       "      <th>count</th>\n",
       "      <td>98360.000000</td>\n",
       "    </tr>\n",
       "    <tr>\n",
       "      <th>mean</th>\n",
       "      <td>7.136183</td>\n",
       "    </tr>\n",
       "    <tr>\n",
       "      <th>std</th>\n",
       "      <td>1.162421</td>\n",
       "    </tr>\n",
       "    <tr>\n",
       "      <th>min</th>\n",
       "      <td>1.000000</td>\n",
       "    </tr>\n",
       "    <tr>\n",
       "      <th>25%</th>\n",
       "      <td>6.000000</td>\n",
       "    </tr>\n",
       "    <tr>\n",
       "      <th>50%</th>\n",
       "      <td>7.000000</td>\n",
       "    </tr>\n",
       "    <tr>\n",
       "      <th>75%</th>\n",
       "      <td>8.000000</td>\n",
       "    </tr>\n",
       "    <tr>\n",
       "      <th>max</th>\n",
       "      <td>13.000000</td>\n",
       "    </tr>\n",
       "  </tbody>\n",
       "</table>\n",
       "</div>"
      ],
      "text/plain": [
       "                  0\n",
       "count  98360.000000\n",
       "mean       7.136183\n",
       "std        1.162421\n",
       "min        1.000000\n",
       "25%        6.000000\n",
       "50%        7.000000\n",
       "75%        8.000000\n",
       "max       13.000000"
      ]
     },
     "execution_count": 67,
     "metadata": {},
     "output_type": "execute_result"
    }
   ],
   "source": [
    "pd.DataFrame(headlines_len).describe()"
   ]
  },
  {
   "cell_type": "code",
   "execution_count": 68,
   "id": "0580423e",
   "metadata": {},
   "outputs": [
    {
     "data": {
      "text/html": [
       "<div>\n",
       "<style scoped>\n",
       "    .dataframe tbody tr th:only-of-type {\n",
       "        vertical-align: middle;\n",
       "    }\n",
       "\n",
       "    .dataframe tbody tr th {\n",
       "        vertical-align: top;\n",
       "    }\n",
       "\n",
       "    .dataframe thead th {\n",
       "        text-align: right;\n",
       "    }\n",
       "</style>\n",
       "<table border=\"1\" class=\"dataframe\">\n",
       "  <thead>\n",
       "    <tr style=\"text-align: right;\">\n",
       "      <th></th>\n",
       "      <th>0</th>\n",
       "    </tr>\n",
       "  </thead>\n",
       "  <tbody>\n",
       "    <tr>\n",
       "      <th>count</th>\n",
       "      <td>98360.000000</td>\n",
       "    </tr>\n",
       "    <tr>\n",
       "      <th>mean</th>\n",
       "      <td>35.099685</td>\n",
       "    </tr>\n",
       "    <tr>\n",
       "      <th>std</th>\n",
       "      <td>3.799406</td>\n",
       "    </tr>\n",
       "    <tr>\n",
       "      <th>min</th>\n",
       "      <td>1.000000</td>\n",
       "    </tr>\n",
       "    <tr>\n",
       "      <th>25%</th>\n",
       "      <td>33.000000</td>\n",
       "    </tr>\n",
       "    <tr>\n",
       "      <th>50%</th>\n",
       "      <td>35.000000</td>\n",
       "    </tr>\n",
       "    <tr>\n",
       "      <th>75%</th>\n",
       "      <td>38.000000</td>\n",
       "    </tr>\n",
       "    <tr>\n",
       "      <th>max</th>\n",
       "      <td>60.000000</td>\n",
       "    </tr>\n",
       "  </tbody>\n",
       "</table>\n",
       "</div>"
      ],
      "text/plain": [
       "                  0\n",
       "count  98360.000000\n",
       "mean      35.099685\n",
       "std        3.799406\n",
       "min        1.000000\n",
       "25%       33.000000\n",
       "50%       35.000000\n",
       "75%       38.000000\n",
       "max       60.000000"
      ]
     },
     "execution_count": 68,
     "metadata": {},
     "output_type": "execute_result"
    }
   ],
   "source": [
    "pd.DataFrame(text_len).describe()"
   ]
  },
  {
   "cell_type": "markdown",
   "id": "dc7cf206",
   "metadata": {},
   "source": [
    "헤드라인은 min = 1 , mean = 7 , max = 13 입니다  \n",
    "텍스트의 mean은 35이지만, 1개의 단어로만 되어있는 텍스트도 있고, mean의 1.5배가 넘는 텍스트도 있습니다  \n",
    "  \n",
    "전체 데이터수가 98360개, 그 중"
   ]
  },
  {
   "cell_type": "code",
   "execution_count": 75,
   "id": "e92b9efa",
   "metadata": {},
   "outputs": [
    {
     "name": "stdout",
     "output_type": "stream",
     "text": [
      "2 \t 20 \t 163 \t 998\n"
     ]
    }
   ],
   "source": [
    "print(headlines_len.count(1), \"\\t\", headlines_len.count(2), \"\\t\", headlines_len.count(3), \"\\t\", headlines_len.count(4))"
   ]
  },
  {
   "cell_type": "markdown",
   "id": "a660f731",
   "metadata": {},
   "source": [
    "headline의 단어가 1개 2개 인 경우는 전체 데이터에서 매우 적은 숫자를 가지고 있으므로, 제거하겠습니다  \n",
    "headline이 짧은 경우를 학습시키고 싶지 않아서 입니다"
   ]
  },
  {
   "cell_type": "code",
   "execution_count": 76,
   "id": "4a9cbd69",
   "metadata": {},
   "outputs": [
    {
     "name": "stdout",
     "output_type": "stream",
     "text": [
      "2 \t 23 \t 188 \t 1496\n"
     ]
    }
   ],
   "source": [
    "print(headlines_len.count(13), \"\\t\", headlines_len.count(12), \"\\t\", headlines_len.count(11), \"\\t\", headlines_len.count(10))"
   ]
  },
  {
   "cell_type": "markdown",
   "id": "8a5065ee",
   "metadata": {},
   "source": [
    "headline의 단어가 13개 12개 인 경우가 매우 적은 숫자를 가지므로, 제거하겠습니다  "
   ]
  },
  {
   "cell_type": "code",
   "execution_count": 80,
   "id": "ea5e6c31",
   "metadata": {},
   "outputs": [
    {
     "data": {
      "text/plain": [
       "29"
      ]
     },
     "execution_count": 80,
     "metadata": {},
     "output_type": "execute_result"
    }
   ],
   "source": [
    "text_len[int(9836/2)]  #짧은쪽 5%의 경계값"
   ]
  },
  {
   "cell_type": "code",
   "execution_count": 81,
   "id": "cd88b9ed",
   "metadata": {},
   "outputs": [
    {
     "name": "stdout",
     "output_type": "stream",
     "text": [
      "1 \t 0 \t 0 \t 0\n"
     ]
    }
   ],
   "source": [
    "print(text_len.count(1), \"\\t\", text_len.count(2), \"\\t\", text_len.count(3), \"\\t\", text_len.count(4))"
   ]
  },
  {
   "cell_type": "markdown",
   "id": "5882992a",
   "metadata": {},
   "source": [
    "텍스트는 단어가 한개인 경우가 단 하나, 나머지 결측치가 제대로 제거가 안되었던걸까요? lms에서는 문장 하나하나를 떼서 전처리를 수행했지만, 저는 apply함수를 사용하여 간략히 사용했습니다  \n",
    "확인하도록 하겠습니다  "
   ]
  },
  {
   "cell_type": "code",
   "execution_count": 104,
   "id": "af4365a5",
   "metadata": {},
   "outputs": [
    {
     "name": "stdout",
     "output_type": "stream",
     "text": [
      "text\n"
     ]
    }
   ],
   "source": [
    "for s in clean_df['text']:\n",
    "    if(len(s.split()) == 1):\n",
    "        print(s)"
   ]
  },
  {
   "cell_type": "code",
   "execution_count": 105,
   "id": "37eb153a",
   "metadata": {},
   "outputs": [
    {
     "name": "stdout",
     "output_type": "stream",
     "text": [
      "    headlines  text\n",
      "52  headlines  text\n"
     ]
    }
   ],
   "source": [
    "print(clean_df.loc[clean_df['text'] == 'text'])"
   ]
  },
  {
   "cell_type": "code",
   "execution_count": 107,
   "id": "43f7f63b",
   "metadata": {},
   "outputs": [
    {
     "data": {
      "text/plain": [
       "headlines    headlines\n",
       "text              text\n",
       "Name: 52, dtype: object"
      ]
     },
     "execution_count": 107,
     "metadata": {},
     "output_type": "execute_result"
    }
   ],
   "source": [
    "clean_df.loc[52]"
   ]
  },
  {
   "cell_type": "markdown",
   "id": "c02113c9",
   "metadata": {},
   "source": [
    "52행에 뭔가 웃기는 값이 들어가있네요 하 ㅎ ㅋㅋㅋㅋㅋㅋㅋㅋㅋㅋㅋㅋㅋ 어쩐지 전처리하는데 왜!!! ㅋㅋㅋㅋ     \n",
    "드롭해줍니다  "
   ]
  },
  {
   "cell_type": "code",
   "execution_count": 108,
   "id": "df74aad7",
   "metadata": {},
   "outputs": [],
   "source": [
    "clean_df.drop(52, inplace=True)"
   ]
  },
  {
   "cell_type": "markdown",
   "id": "4315c8b8",
   "metadata": {},
   "source": [
    "내용 길이분석을 위해, text_len list에서 1을 빼고 데이터를 다시 파악해보겠습니다"
   ]
  },
  {
   "cell_type": "code",
   "execution_count": 109,
   "id": "8105af6e",
   "metadata": {},
   "outputs": [
    {
     "data": {
      "text/html": [
       "<div>\n",
       "<style scoped>\n",
       "    .dataframe tbody tr th:only-of-type {\n",
       "        vertical-align: middle;\n",
       "    }\n",
       "\n",
       "    .dataframe tbody tr th {\n",
       "        vertical-align: top;\n",
       "    }\n",
       "\n",
       "    .dataframe thead th {\n",
       "        text-align: right;\n",
       "    }\n",
       "</style>\n",
       "<table border=\"1\" class=\"dataframe\">\n",
       "  <thead>\n",
       "    <tr style=\"text-align: right;\">\n",
       "      <th></th>\n",
       "      <th>0</th>\n",
       "    </tr>\n",
       "  </thead>\n",
       "  <tbody>\n",
       "    <tr>\n",
       "      <th>count</th>\n",
       "      <td>98359.000000</td>\n",
       "    </tr>\n",
       "    <tr>\n",
       "      <th>mean</th>\n",
       "      <td>35.100032</td>\n",
       "    </tr>\n",
       "    <tr>\n",
       "      <th>std</th>\n",
       "      <td>3.797869</td>\n",
       "    </tr>\n",
       "    <tr>\n",
       "      <th>min</th>\n",
       "      <td>18.000000</td>\n",
       "    </tr>\n",
       "    <tr>\n",
       "      <th>25%</th>\n",
       "      <td>33.000000</td>\n",
       "    </tr>\n",
       "    <tr>\n",
       "      <th>50%</th>\n",
       "      <td>35.000000</td>\n",
       "    </tr>\n",
       "    <tr>\n",
       "      <th>75%</th>\n",
       "      <td>38.000000</td>\n",
       "    </tr>\n",
       "    <tr>\n",
       "      <th>max</th>\n",
       "      <td>60.000000</td>\n",
       "    </tr>\n",
       "  </tbody>\n",
       "</table>\n",
       "</div>"
      ],
      "text/plain": [
       "                  0\n",
       "count  98359.000000\n",
       "mean      35.100032\n",
       "std        3.797869\n",
       "min       18.000000\n",
       "25%       33.000000\n",
       "50%       35.000000\n",
       "75%       38.000000\n",
       "max       60.000000"
      ]
     },
     "execution_count": 109,
     "metadata": {},
     "output_type": "execute_result"
    }
   ],
   "source": [
    "text_len.remove(1)\n",
    "pd.DataFrame(text_len).describe()"
   ]
  },
  {
   "cell_type": "markdown",
   "id": "bfeced5f",
   "metadata": {},
   "source": [
    "제일 짧은 내용은 18단어 였습니다  \n",
    "짧은 내용은 아무튼! 남겨주기로 하고 내용이 긴 경우를 보겠습니다"
   ]
  },
  {
   "cell_type": "code",
   "execution_count": 115,
   "id": "129b0b70",
   "metadata": {},
   "outputs": [
    {
     "data": {
      "text/plain": [
       "47"
      ]
     },
     "execution_count": 115,
     "metadata": {},
     "output_type": "execute_result"
    }
   ],
   "source": [
    "text_len[-98]"
   ]
  },
  {
   "cell_type": "markdown",
   "id": "f322cdb2",
   "metadata": {},
   "source": [
    "10% 상위로 제일 긴 값 9830개는 단어가 41개, 5%는 42개, 등등이었습니다  \n",
    "98개는 데이터의 0.1%, 47개입니다  "
   ]
  },
  {
   "cell_type": "code",
   "execution_count": 119,
   "id": "8776a02d",
   "metadata": {},
   "outputs": [
    {
     "name": "stdout",
     "output_type": "stream",
     "text": [
      "14 \t 4 \t 4 \t 3\n"
     ]
    }
   ],
   "source": [
    "print(text_len.count(50), \"\\t\", text_len.count(51), \"\\t\", text_len.count(52), \"\\t\", text_len.count(53))"
   ]
  },
  {
   "cell_type": "markdown",
   "id": "20ec2cd6",
   "metadata": {},
   "source": [
    "50개가 넘어가는 경우는 정말 희박하군요!!  \n",
    "길이를 정하고 정제하겠습니다  \n",
    "정해진 길이에 맞춰 자르는 것이 아니라, 정해진 길이보다 길면 제외하는 방법으로 데이터를 정제하겠습니다"
   ]
  },
  {
   "cell_type": "code",
   "execution_count": 123,
   "id": "764f8a0d",
   "metadata": {},
   "outputs": [
    {
     "data": {
      "text/plain": [
       "(98322, 2)"
      ]
     },
     "execution_count": 123,
     "metadata": {},
     "output_type": "execute_result"
    }
   ],
   "source": [
    "headlines_min_len = 2    #2개 이하는 제거\n",
    "headlines_max_len = 12\n",
    "text_max_len = 50\n",
    "\n",
    "clean_df = clean_df[clean_df['text'].apply(lambda x: len(x.split()) <= text_max_len)]\n",
    "clean_df = clean_df[clean_df['headlines'].apply(lambda x: len(x.split()) <= headlines_max_len)]\n",
    "clean_df = clean_df[clean_df['headlines'].apply(lambda x: len(x.split()) > headlines_min_len)]\n",
    "\n",
    "clean_df.shape"
   ]
  },
  {
   "cell_type": "markdown",
   "id": "58996e64",
   "metadata": {},
   "source": [
    "98360개 중 38개가 제거되었습니다"
   ]
  },
  {
   "cell_type": "code",
   "execution_count": 124,
   "id": "18ff8c62",
   "metadata": {},
   "outputs": [
    {
     "data": {
      "text/plain": [
       "[<matplotlib.lines.Line2D at 0x7f156df8c670>]"
      ]
     },
     "execution_count": 124,
     "metadata": {},
     "output_type": "execute_result"
    },
    {
     "data": {
      "image/png": "[encoded data removed]",
      "text/plain": [
       "<Figure size 864x432 with 2 Axes>"
      ]
     },
     "metadata": {
      "needs_background": "light"
     },
     "output_type": "display_data"
    }
   ],
   "source": [
    "headlines_len = [len(s.split()) for s in clean_df['headlines']]\n",
    "text_len = [len(s.split()) for s in clean_df['text']]\n",
    "\n",
    "headlines_len.sort()\n",
    "text_len.sort()\n",
    "\n",
    "fig = plt.figure(figsize = (12, 6))\n",
    "\n",
    "plt.subplot(1, 2, 1)\n",
    "plt.plot(headlines_len)\n",
    "\n",
    "plt.subplot(1, 2, 2)\n",
    "plt.plot(text_len)"
   ]
  },
  {
   "cell_type": "markdown",
   "id": "a6e069bd",
   "metadata": {},
   "source": [
    "데이터 분포 폭은 줄었지만, 사실 10만개에 가까운 데이터 중 20여개는 그렇게 큰 비중이 아닌지라,  \n",
    "내용을 많이 남긴것이 잘 선택한건지 모르겠긴합니다..  \n",
    "그래프에서 희박해보이는 시점을 기준으로 조금 더 쳐내고, 변화를 관찰하겠습니다"
   ]
  },
  {
   "cell_type": "code",
   "execution_count": 139,
   "id": "9c2350b3",
   "metadata": {},
   "outputs": [],
   "source": [
    "headlines_min_len = 4    \n",
    "headlines_max_len = 10\n",
    "text_min_len = 26\n",
    "text_max_len = 42\n",
    "\n",
    "dataset = clean_df.copy()\n",
    "\n",
    "dataset = dataset[dataset['text'].apply(lambda x: len(x.split()) <= text_max_len)]\n",
    "dataset = dataset[dataset['text'].apply(lambda x: len(x.split()) > text_min_len)]\n",
    "dataset = dataset[dataset['headlines'].apply(lambda x: len(x.split()) <= headlines_max_len)]\n",
    "dataset = dataset[dataset['headlines'].apply(lambda x: len(x.split()) > headlines_min_len)]\n",
    "\n"
   ]
  },
  {
   "cell_type": "code",
   "execution_count": 140,
   "id": "231141bc",
   "metadata": {},
   "outputs": [
    {
     "data": {
      "text/plain": [
       "(93476, 2)"
      ]
     },
     "execution_count": 140,
     "metadata": {},
     "output_type": "execute_result"
    }
   ],
   "source": [
    "dataset.shape"
   ]
  },
  {
   "cell_type": "code",
   "execution_count": 141,
   "id": "3fabc26d",
   "metadata": {},
   "outputs": [
    {
     "data": {
      "text/plain": [
       "[<matplotlib.lines.Line2D at 0x7f1572f995e0>]"
      ]
     },
     "execution_count": 141,
     "metadata": {},
     "output_type": "execute_result"
    },
    {
     "data": {
      "image/png": "[encoded data removed]",
      "text/plain": [
       "<Figure size 864x432 with 2 Axes>"
      ]
     },
     "metadata": {
      "needs_background": "light"
     },
     "output_type": "display_data"
    }
   ],
   "source": [
    "headlines_len = [len(s.split()) for s in dataset['headlines']]\n",
    "text_len = [len(s.split()) for s in dataset['text']]\n",
    "\n",
    "headlines_len.sort()\n",
    "text_len.sort()\n",
    "\n",
    "fig = plt.figure(figsize = (12, 6))\n",
    "\n",
    "plt.subplot(1, 2, 1)\n",
    "plt.plot(headlines_len)\n",
    "\n",
    "plt.subplot(1, 2, 2)\n",
    "plt.plot(text_len)"
   ]
  },
  {
   "cell_type": "markdown",
   "id": "50c0c5c1",
   "metadata": {},
   "source": [
    "5000개 정도의 데이터가 사라졌군요! 5% 입니다  \n",
    "하지만 그래프가 예쁘네요.. 이걸로 사용하겠습니다  \n",
    "clean_df 와 dataset중 어느쪽이 바람직할지, 혹은 잘못된 전처리를 했다면 어떤식으로 했어야 했을지 피드백 꼭 부탁드립니다"
   ]
  },
  {
   "cell_type": "markdown",
   "id": "103d403a",
   "metadata": {},
   "source": [
    "#### 토큰 추가하기  \n",
    "디코더에 들어갈 값에는 SOS와 EOS를 추가해줍니다  "
   ]
  },
  {
   "cell_type": "code",
   "execution_count": 143,
   "id": "d9b8be09",
   "metadata": {},
   "outputs": [
    {
     "data": {
      "text/html": [
       "<div>\n",
       "<style scoped>\n",
       "    .dataframe tbody tr th:only-of-type {\n",
       "        vertical-align: middle;\n",
       "    }\n",
       "\n",
       "    .dataframe tbody tr th {\n",
       "        vertical-align: top;\n",
       "    }\n",
       "\n",
       "    .dataframe thead th {\n",
       "        text-align: right;\n",
       "    }\n",
       "</style>\n",
       "<table border=\"1\" class=\"dataframe\">\n",
       "  <thead>\n",
       "    <tr style=\"text-align: right;\">\n",
       "      <th></th>\n",
       "      <th>headlines</th>\n",
       "      <th>text</th>\n",
       "      <th>decoder_input</th>\n",
       "      <th>decoder_target</th>\n",
       "    </tr>\n",
       "  </thead>\n",
       "  <tbody>\n",
       "    <tr>\n",
       "      <th>47944</th>\n",
       "      <td>uk team study ice shelf lost trillion tonne ic...</td>\n",
       "      <td>british antarctic survey led team investigate ...</td>\n",
       "      <td>sostoken uk team study ice shelf lost trillion...</td>\n",
       "      <td>uk team study ice shelf lost trillion tonne ic...</td>\n",
       "    </tr>\n",
       "    <tr>\n",
       "      <th>37076</th>\n",
       "      <td>bjp cell like frankenstein monster founder</td>\n",
       "      <td>founder bjp cell prodyut bora said cell become...</td>\n",
       "      <td>sostoken bjp cell like frankenstein monster fo...</td>\n",
       "      <td>bjp cell like frankenstein monster founder eos...</td>\n",
       "    </tr>\n",
       "    <tr>\n",
       "      <th>20274</th>\n",
       "      <td>chargesheet filed lalu family irctc hotels case</td>\n",
       "      <td>enforcement directorate filed first chargeshee...</td>\n",
       "      <td>sostoken chargesheet filed lalu family irctc h...</td>\n",
       "      <td>chargesheet filed lalu family irctc hotels cas...</td>\n",
       "    </tr>\n",
       "    <tr>\n",
       "      <th>5863</th>\n",
       "      <td>wheels justice moved badal sajjan kumar verdict</td>\n",
       "      <td>hailing delhi high court verdict convicting co...</td>\n",
       "      <td>sostoken wheels justice moved badal sajjan kum...</td>\n",
       "      <td>wheels justice moved badal sajjan kumar verdic...</td>\n",
       "    </tr>\n",
       "    <tr>\n",
       "      <th>14557</th>\n",
       "      <td>chetan bhagat accused harassing woman apologis...</td>\n",
       "      <td>author chetan bhagat today admitted screenshot...</td>\n",
       "      <td>sostoken chetan bhagat accused harassing woman...</td>\n",
       "      <td>chetan bhagat accused harassing woman apologis...</td>\n",
       "    </tr>\n",
       "    <tr>\n",
       "      <th>13292</th>\n",
       "      <td>yash raj films fires creative head films amid ...</td>\n",
       "      <td>yash raj films fired creative head films ashis...</td>\n",
       "      <td>sostoken yash raj films fires creative head fi...</td>\n",
       "      <td>yash raj films fires creative head films amid ...</td>\n",
       "    </tr>\n",
       "    <tr>\n",
       "      <th>7412</th>\n",
       "      <td>cardekho parent raise cr sequoia others report</td>\n",
       "      <td>jaipur based girnarsoft parent company online ...</td>\n",
       "      <td>sostoken cardekho parent raise cr sequoia othe...</td>\n",
       "      <td>cardekho parent raise cr sequoia others report...</td>\n",
       "    </tr>\n",
       "    <tr>\n",
       "      <th>89114</th>\n",
       "      <td>hp laptops found software record passwords</td>\n",
       "      <td>switzerland based cybersecurity company found ...</td>\n",
       "      <td>sostoken hp laptops found software record pass...</td>\n",
       "      <td>hp laptops found software record passwords eos...</td>\n",
       "    </tr>\n",
       "    <tr>\n",
       "      <th>1415</th>\n",
       "      <td>thought young something wrong shahid mira</td>\n",
       "      <td>recalling first time met mira rajput shahid ka...</td>\n",
       "      <td>sostoken thought young something wrong shahid ...</td>\n",
       "      <td>thought young something wrong shahid mira eost...</td>\n",
       "    </tr>\n",
       "    <tr>\n",
       "      <th>95251</th>\n",
       "      <td>govt planning deport rohingya muslims jammu</td>\n",
       "      <td>centre jammu kashmir government exploring ways...</td>\n",
       "      <td>sostoken govt planning deport rohingya muslims...</td>\n",
       "      <td>govt planning deport rohingya muslims jammu eo...</td>\n",
       "    </tr>\n",
       "    <tr>\n",
       "      <th>18494</th>\n",
       "      <td>former directors nirav modi firestar get sc re...</td>\n",
       "      <td>supreme court offered temporary relief three f...</td>\n",
       "      <td>sostoken former directors nirav modi firestar ...</td>\n",
       "      <td>former directors nirav modi firestar get sc re...</td>\n",
       "    </tr>\n",
       "    <tr>\n",
       "      <th>1174</th>\n",
       "      <td>yr old knocked federer reaches st aus open semis</td>\n",
       "      <td>greece year old stefanos tsitsipas knocked rog...</td>\n",
       "      <td>sostoken yr old knocked federer reaches st aus...</td>\n",
       "      <td>yr old knocked federer reaches st aus open sem...</td>\n",
       "    </tr>\n",
       "    <tr>\n",
       "      <th>51445</th>\n",
       "      <td>buzz aldrin claimed travel expenses moon trip</td>\n",
       "      <td>retired astronaut buzz aldrin turns today reve...</td>\n",
       "      <td>sostoken buzz aldrin claimed travel expenses m...</td>\n",
       "      <td>buzz aldrin claimed travel expenses moon trip ...</td>\n",
       "    </tr>\n",
       "    <tr>\n",
       "      <th>42230</th>\n",
       "      <td>france honours hero cop swapped hostage</td>\n",
       "      <td>france saturday honoured police officer swappe...</td>\n",
       "      <td>sostoken france honours hero cop swapped hostage</td>\n",
       "      <td>france honours hero cop swapped hostage eostoken</td>\n",
       "    </tr>\n",
       "    <tr>\n",
       "      <th>87003</th>\n",
       "      <td>features new one rupee note</td>\n",
       "      <td>rbi soon put circulation one rupee denominatio...</td>\n",
       "      <td>sostoken features new one rupee note</td>\n",
       "      <td>features new one rupee note eostoken</td>\n",
       "    </tr>\n",
       "    <tr>\n",
       "      <th>56393</th>\n",
       "      <td>priyanka paid crore min performance report</td>\n",
       "      <td>according reports priyanka chopra paid around ...</td>\n",
       "      <td>sostoken priyanka paid crore min performance r...</td>\n",
       "      <td>priyanka paid crore min performance report eos...</td>\n",
       "    </tr>\n",
       "    <tr>\n",
       "      <th>73556</th>\n",
       "      <td>taylor swift new song look made released</td>\n",
       "      <td>singer songwriter taylor swift friday released...</td>\n",
       "      <td>sostoken taylor swift new song look made released</td>\n",
       "      <td>taylor swift new song look made released eostoken</td>\n",
       "    </tr>\n",
       "    <tr>\n",
       "      <th>38569</th>\n",
       "      <td>great meaning north korea denuclearisation jap...</td>\n",
       "      <td>praising north korean leader kim jong un japan...</td>\n",
       "      <td>sostoken great meaning north korea denuclearis...</td>\n",
       "      <td>great meaning north korea denuclearisation jap...</td>\n",
       "    </tr>\n",
       "    <tr>\n",
       "      <th>81422</th>\n",
       "      <td>men assaulted transporting buffalo calves delhi</td>\n",
       "      <td>group locals thrashed six people vehicles foun...</td>\n",
       "      <td>sostoken men assaulted transporting buffalo ca...</td>\n",
       "      <td>men assaulted transporting buffalo calves delh...</td>\n",
       "    </tr>\n",
       "    <tr>\n",
       "      <th>87392</th>\n",
       "      <td>comments ms dhoni taken context harbhajan singh</td>\n",
       "      <td>spinner harbhajan singh failed make india cham...</td>\n",
       "      <td>sostoken comments ms dhoni taken context harbh...</td>\n",
       "      <td>comments ms dhoni taken context harbhajan sing...</td>\n",
       "    </tr>\n",
       "  </tbody>\n",
       "</table>\n",
       "</div>"
      ],
      "text/plain": [
       "                                               headlines  \\\n",
       "47944  uk team study ice shelf lost trillion tonne ic...   \n",
       "37076         bjp cell like frankenstein monster founder   \n",
       "20274    chargesheet filed lalu family irctc hotels case   \n",
       "5863     wheels justice moved badal sajjan kumar verdict   \n",
       "14557  chetan bhagat accused harassing woman apologis...   \n",
       "13292  yash raj films fires creative head films amid ...   \n",
       "7412      cardekho parent raise cr sequoia others report   \n",
       "89114         hp laptops found software record passwords   \n",
       "1415           thought young something wrong shahid mira   \n",
       "95251        govt planning deport rohingya muslims jammu   \n",
       "18494  former directors nirav modi firestar get sc re...   \n",
       "1174    yr old knocked federer reaches st aus open semis   \n",
       "51445      buzz aldrin claimed travel expenses moon trip   \n",
       "42230            france honours hero cop swapped hostage   \n",
       "87003                        features new one rupee note   \n",
       "56393         priyanka paid crore min performance report   \n",
       "73556           taylor swift new song look made released   \n",
       "38569  great meaning north korea denuclearisation jap...   \n",
       "81422    men assaulted transporting buffalo calves delhi   \n",
       "87392    comments ms dhoni taken context harbhajan singh   \n",
       "\n",
       "                                                    text  \\\n",
       "47944  british antarctic survey led team investigate ...   \n",
       "37076  founder bjp cell prodyut bora said cell become...   \n",
       "20274  enforcement directorate filed first chargeshee...   \n",
       "5863   hailing delhi high court verdict convicting co...   \n",
       "14557  author chetan bhagat today admitted screenshot...   \n",
       "13292  yash raj films fired creative head films ashis...   \n",
       "7412   jaipur based girnarsoft parent company online ...   \n",
       "89114  switzerland based cybersecurity company found ...   \n",
       "1415   recalling first time met mira rajput shahid ka...   \n",
       "95251  centre jammu kashmir government exploring ways...   \n",
       "18494  supreme court offered temporary relief three f...   \n",
       "1174   greece year old stefanos tsitsipas knocked rog...   \n",
       "51445  retired astronaut buzz aldrin turns today reve...   \n",
       "42230  france saturday honoured police officer swappe...   \n",
       "87003  rbi soon put circulation one rupee denominatio...   \n",
       "56393  according reports priyanka chopra paid around ...   \n",
       "73556  singer songwriter taylor swift friday released...   \n",
       "38569  praising north korean leader kim jong un japan...   \n",
       "81422  group locals thrashed six people vehicles foun...   \n",
       "87392  spinner harbhajan singh failed make india cham...   \n",
       "\n",
       "                                           decoder_input  \\\n",
       "47944  sostoken uk team study ice shelf lost trillion...   \n",
       "37076  sostoken bjp cell like frankenstein monster fo...   \n",
       "20274  sostoken chargesheet filed lalu family irctc h...   \n",
       "5863   sostoken wheels justice moved badal sajjan kum...   \n",
       "14557  sostoken chetan bhagat accused harassing woman...   \n",
       "13292  sostoken yash raj films fires creative head fi...   \n",
       "7412   sostoken cardekho parent raise cr sequoia othe...   \n",
       "89114  sostoken hp laptops found software record pass...   \n",
       "1415   sostoken thought young something wrong shahid ...   \n",
       "95251  sostoken govt planning deport rohingya muslims...   \n",
       "18494  sostoken former directors nirav modi firestar ...   \n",
       "1174   sostoken yr old knocked federer reaches st aus...   \n",
       "51445  sostoken buzz aldrin claimed travel expenses m...   \n",
       "42230   sostoken france honours hero cop swapped hostage   \n",
       "87003               sostoken features new one rupee note   \n",
       "56393  sostoken priyanka paid crore min performance r...   \n",
       "73556  sostoken taylor swift new song look made released   \n",
       "38569  sostoken great meaning north korea denuclearis...   \n",
       "81422  sostoken men assaulted transporting buffalo ca...   \n",
       "87392  sostoken comments ms dhoni taken context harbh...   \n",
       "\n",
       "                                          decoder_target  \n",
       "47944  uk team study ice shelf lost trillion tonne ic...  \n",
       "37076  bjp cell like frankenstein monster founder eos...  \n",
       "20274  chargesheet filed lalu family irctc hotels cas...  \n",
       "5863   wheels justice moved badal sajjan kumar verdic...  \n",
       "14557  chetan bhagat accused harassing woman apologis...  \n",
       "13292  yash raj films fires creative head films amid ...  \n",
       "7412   cardekho parent raise cr sequoia others report...  \n",
       "89114  hp laptops found software record passwords eos...  \n",
       "1415   thought young something wrong shahid mira eost...  \n",
       "95251  govt planning deport rohingya muslims jammu eo...  \n",
       "18494  former directors nirav modi firestar get sc re...  \n",
       "1174   yr old knocked federer reaches st aus open sem...  \n",
       "51445  buzz aldrin claimed travel expenses moon trip ...  \n",
       "42230   france honours hero cop swapped hostage eostoken  \n",
       "87003               features new one rupee note eostoken  \n",
       "56393  priyanka paid crore min performance report eos...  \n",
       "73556  taylor swift new song look made released eostoken  \n",
       "38569  great meaning north korea denuclearisation jap...  \n",
       "81422  men assaulted transporting buffalo calves delh...  \n",
       "87392  comments ms dhoni taken context harbhajan sing...  "
      ]
     },
     "execution_count": 143,
     "metadata": {},
     "output_type": "execute_result"
    }
   ],
   "source": [
    "dataset['decoder_input'] = dataset['headlines'].apply(lambda x : 'sostoken '+ x)\n",
    "dataset['decoder_target'] = dataset['headlines'].apply(lambda x : x + ' eostoken')\n",
    "dataset.sample(20)"
   ]
  },
  {
   "cell_type": "markdown",
   "id": "de51fd56",
   "metadata": {},
   "source": [
    "87003 번째를 보니, 잘 적용된듯이 보입니다"
   ]
  },
  {
   "cell_type": "markdown",
   "id": "b84bbf0d",
   "metadata": {},
   "source": [
    "#### 데이터셋 분리  \n",
    "데이터셋을 train용과 test용으로 분리합니다  "
   ]
  },
  {
   "cell_type": "code",
   "execution_count": 144,
   "id": "d1ad96bc",
   "metadata": {},
   "outputs": [],
   "source": [
    "encoder_input = np.array(dataset['text']) # 인코더의 입력\n",
    "decoder_input = np.array(dataset['decoder_input']) # 디코더의 입력\n",
    "decoder_target = np.array(dataset['decoder_target']) # 디코더의 레이블"
   ]
  },
  {
   "cell_type": "code",
   "execution_count": 146,
   "id": "35d78757",
   "metadata": {},
   "outputs": [],
   "source": [
    "indices = np.arange(encoder_input.shape[0])\n",
    "np.random.shuffle(indices)\n",
    "\n",
    "#섞어주기\n",
    "encoder_input = encoder_input[indices]\n",
    "decoder_input = decoder_input[indices]\n",
    "decoder_target = decoder_target[indices]"
   ]
  },
  {
   "cell_type": "markdown",
   "id": "23fc9bf3",
   "metadata": {},
   "source": [
    "8 : 2로 데이터셋을 분리하여 train/test로 사용합니다  "
   ]
  },
  {
   "cell_type": "code",
   "execution_count": 147,
   "id": "50b5895e",
   "metadata": {},
   "outputs": [
    {
     "name": "stdout",
     "output_type": "stream",
     "text": [
      "테스트 데이터의 수 : 18695\n"
     ]
    }
   ],
   "source": [
    "n_of_val = int(len(encoder_input)*0.2)\n",
    "print('테스트 데이터의 수 :', n_of_val)"
   ]
  },
  {
   "cell_type": "code",
   "execution_count": 148,
   "id": "d9eba295",
   "metadata": {},
   "outputs": [
    {
     "name": "stdout",
     "output_type": "stream",
     "text": [
      "훈련 데이터의 개수 : 74781\n",
      "훈련 레이블의 개수 : 74781\n",
      "테스트 데이터의 개수 : 18695\n",
      "테스트 레이블의 개수 : 18695\n"
     ]
    }
   ],
   "source": [
    "encoder_input_train = encoder_input[:-n_of_val]\n",
    "decoder_input_train = decoder_input[:-n_of_val]\n",
    "decoder_target_train = decoder_target[:-n_of_val]\n",
    "\n",
    "encoder_input_test = encoder_input[-n_of_val:]\n",
    "decoder_input_test = decoder_input[-n_of_val:]\n",
    "decoder_target_test = decoder_target[-n_of_val:]\n",
    "\n",
    "print('훈련 데이터의 개수 :', len(encoder_input_train))\n",
    "print('훈련 레이블의 개수 :', len(decoder_input_train))\n",
    "print('테스트 데이터의 개수 :', len(encoder_input_test))\n",
    "print('테스트 레이블의 개수 :', len(decoder_input_test))"
   ]
  },
  {
   "cell_type": "markdown",
   "id": "519fd211",
   "metadata": {},
   "source": [
    "#### 단어 집합 (vocab) 생성 정수 인코딩!!"
   ]
  },
  {
   "cell_type": "code",
   "execution_count": 149,
   "id": "88fa67ab",
   "metadata": {},
   "outputs": [],
   "source": [
    "src_tokenizer = Tokenizer() # 토크나이저 정의\n",
    "src_tokenizer.fit_on_texts(encoder_input_train) # 입력된 데이터로부터 단어 집합 생성"
   ]
  },
  {
   "cell_type": "markdown",
   "id": "4245ae93",
   "metadata": {},
   "source": [
    "빈도수가 낮은 단어들은 훈련 데이터에서 제외하기 위해, 희소 단어의 갯수를 조사합니다"
   ]
  },
  {
   "cell_type": "code",
   "execution_count": 159,
   "id": "0260267f",
   "metadata": {},
   "outputs": [],
   "source": [
    "def check_rares(tokenizer, threshold):\n",
    "\n",
    "    total_cnt = len(tokenizer.word_index) # 단어의 수\n",
    "    rare_cnt = 0 # 등장 빈도수가 threshold보다 작은 단어의 개수를 카운트\n",
    "    total_freq = 0 # 훈련 데이터의 전체 단어 빈도수 총 합\n",
    "    rare_freq = 0 # 등장 빈도수가 threshold보다 작은 단어의 등장 빈도수의 총 합\n",
    "\n",
    "    # 단어와 빈도수의 쌍(pair)을 key와 value로 받는다.\n",
    "    for key, value in tokenizer.word_counts.items():\n",
    "        total_freq = total_freq + value\n",
    "\n",
    "        # 단어의 등장 빈도수가 threshold보다 작으면\n",
    "        if(value < threshold):\n",
    "            rare_cnt = rare_cnt + 1\n",
    "            rare_freq = rare_freq + value\n",
    "\n",
    "    print('단어 집합(vocabulary)의 크기 :', total_cnt)\n",
    "    print('등장 빈도가 %s번 이하인 희귀 단어의 수: %s'%(threshold - 1, rare_cnt))\n",
    "    print('단어 집합에서 희귀 단어를 제외시킬 경우의 단어 집합의 크기 %s'%(total_cnt - rare_cnt))\n",
    "    print(\"단어 집합에서 희귀 단어의 비율:\", (rare_cnt / total_cnt)*100)\n",
    "    print(\"전체 등장 빈도에서 희귀 단어 등장 빈도 비율:\", (rare_freq / total_freq)*100)"
   ]
  },
  {
   "cell_type": "code",
   "execution_count": 161,
   "id": "8d2d80e7",
   "metadata": {},
   "outputs": [
    {
     "name": "stdout",
     "output_type": "stream",
     "text": [
      "단어 집합(vocabulary)의 크기 : 67591\n",
      "등장 빈도가 4번 이하인 희귀 단어의 수: 42022\n",
      "단어 집합에서 희귀 단어를 제외시킬 경우의 단어 집합의 크기 25569\n",
      "단어 집합에서 희귀 단어의 비율: 62.17099909751298\n",
      "전체 등장 빈도에서 희귀 단어 등장 빈도 비율: 2.732076527183015\n",
      "\n",
      "단어 집합(vocabulary)의 크기 : 67591\n",
      "등장 빈도가 5번 이하인 희귀 단어의 수: 44298\n",
      "단어 집합에서 희귀 단어를 제외시킬 경우의 단어 집합의 크기 23293\n",
      "단어 집합에서 희귀 단어의 비율: 65.53831131363643\n",
      "전체 등장 빈도에서 희귀 단어 등장 빈도 비율: 3.166916119901095\n",
      "\n",
      "단어 집합(vocabulary)의 크기 : 67591\n",
      "등장 빈도가 6번 이하인 희귀 단어의 수: 46067\n",
      "단어 집합에서 희귀 단어를 제외시킬 경우의 단어 집합의 크기 21524\n",
      "단어 집합에서 희귀 단어의 비율: 68.15552366439319\n",
      "전체 등장 빈도에서 희귀 단어 등장 빈도 비율: 3.572486193460823\n",
      "\n",
      "단어 집합(vocabulary)의 크기 : 67591\n",
      "등장 빈도가 7번 이하인 희귀 단어의 수: 47498\n",
      "단어 집합에서 희귀 단어를 제외시킬 경우의 단어 집합의 크기 20093\n",
      "단어 집합에서 희귀 단어의 비율: 70.27266943823882\n",
      "전체 등장 빈도에서 희귀 단어 등장 빈도 비율: 3.9552443832900854\n",
      "\n",
      "단어 집합(vocabulary)의 크기 : 67591\n",
      "등장 빈도가 8번 이하인 희귀 단어의 수: 48715\n",
      "단어 집합에서 희귀 단어를 제외시킬 경우의 단어 집합의 크기 18876\n",
      "단어 집합에서 희귀 단어의 비율: 72.07320501250166\n",
      "전체 등장 빈도에서 희귀 단어 등장 빈도 비율: 4.327265321313216\n",
      "\n",
      "단어 집합(vocabulary)의 크기 : 67591\n",
      "등장 빈도가 9번 이하인 희귀 단어의 수: 49722\n",
      "단어 집합에서 희귀 단어를 제외시킬 경우의 단어 집합의 크기 17869\n",
      "단어 집합에서 희귀 단어의 비율: 73.56304833483748\n",
      "전체 등장 빈도에서 희귀 단어 등장 빈도 비율: 4.673570350206358\n"
     ]
    }
   ],
   "source": [
    "check_rares(src_tokenizer, 5)\n",
    "print()\n",
    "check_rares(src_tokenizer,6)\n",
    "print()\n",
    "check_rares(src_tokenizer,7)\n",
    "print()\n",
    "check_rares(src_tokenizer,8)\n",
    "print()\n",
    "check_rares(src_tokenizer,9)\n",
    "print()\n",
    "check_rares(src_tokenizer,10)"
   ]
  },
  {
   "cell_type": "markdown",
   "id": "34a6807b",
   "metadata": {},
   "source": [
    "전체적으로 드라마틱한 변화가 있는 구간은 없습니다  \n",
    "threshold는 8을 사용하겠습니다  \n",
    "vocab은 20000개로 제한하겠습니다  "
   ]
  },
  {
   "cell_type": "code",
   "execution_count": null,
   "id": "c02cde41",
   "metadata": {},
   "outputs": [],
   "source": []
  }
 ],
 "metadata": {
  "kernelspec": {
   "display_name": "Python 3 (ipykernel)",
   "language": "python",
   "name": "python3"
  },
  "language_info": {
   "codemirror_mode": {
    "name": "ipython",
    "version": 3
   },
   "file_extension": ".py",
   "mimetype": "text/x-python",
   "name": "python",
   "nbconvert_exporter": "python",
   "pygments_lexer": "ipython3",
   "version": "3.9.7"
  }
 },
 "nbformat": 4,
 "nbformat_minor": 5
}
