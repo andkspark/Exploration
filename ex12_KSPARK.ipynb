{
 "cells": [
  {
   "cell_type": "markdown",
   "id": "82cb6292",
   "metadata": {},
   "source": [
    "# ex12 뉴스 요약봇 만들기  \n",
    "  \n",
    "## Objective  \n",
    "1. Abstractive 모델 구성을 위한 텍스트 전처리 단계가 체계적으로 진행되었다.  \n",
    "분석단계, 정제단계, 정규화와 불용어 제거, 데이터셋 분리, 인코딩 과정이 빠짐없이 체계적으로 진행되었다.  \n",
    "  \n",
    "2. 텍스트 요약모델이 성공적으로 학습되었음을 확인하였다.  \n",
    "모델 학습이 진행되면서 train loss와 validation loss가 감소하는 경향을 그래프를 통해 확인했으며, 실제 요약문에 있는 핵심 단어들이 요약 문장 안에 포함되었다.  \n",
    "\n",
    "3. Extractive 요약을 시도해 보고 Abstractive 요약 결과과 함께 비교해 보았다.  \n",
    "두 요약 결과를 문법완성도 측면과 핵심단어 포함 측면으로 나누어 비교하고 분석 결과를 표로 정리하여 제시하였다.  \n",
    "  \n",
    "https://wikidocs.net/72820 "
   ]
  },
  {
   "cell_type": "markdown",
   "id": "2ed79a1d",
   "metadata": {},
   "source": [
    "## 데이터 수집하기  "
   ]
  },
  {
   "cell_type": "code",
   "execution_count": 1,
   "id": "2f78197b",
   "metadata": {},
   "outputs": [
    {
     "name": "stderr",
     "output_type": "stream",
     "text": [
      "[nltk_data] Downloading package stopwords to /aiffel/nltk_data...\n",
      "[nltk_data]   Package stopwords is already up-to-date!\n"
     ]
    }
   ],
   "source": [
    "from importlib.metadata import version\n",
    "import nltk\n",
    "nltk.download('stopwords')\n",
    "import tensorflow as tf\n",
    "import summa\n",
    "\n",
    "import pandas as pd\n",
    "import numpy as np\n",
    "import os\n",
    "import re\n",
    "import matplotlib.pyplot as plt\n",
    "from nltk.corpus import stopwords\n",
    "from bs4 import BeautifulSoup \n",
    "from tensorflow.keras.preprocessing.text import Tokenizer \n",
    "from tensorflow.keras.preprocessing.sequence import pad_sequences\n",
    "import urllib.request\n",
    "import warnings\n",
    "warnings.filterwarnings(\"ignore\", category=UserWarning, module='bs4')"
   ]
  },
  {
   "cell_type": "markdown",
   "id": "1e9a85aa",
   "metadata": {},
   "source": [
    "## 데이터 전처리하기 (추상적 요약)  \n",
    "중복 제거  \n",
    "결측치 제거  \n",
    "문맥에 따른 중복문자 제거  \n",
    "텍스트 정규화  \n",
    "불용어 제거  \n",
    "특수문자 제거  \n",
    "다시한번 결측치 제거  \n",
    "이상치 제거 (지나치게 긴 문장 등)  \n",
    "  \n",
    "이후 토크나이징을 실행한다고 학습했습니다  \n",
    "학습한 순서에 맞추어 데이터를 로드, 전처리를 진행합니다  \n",
    "  \n",
    "### 데이터 로드 및 중복/결측치 제거"
   ]
  },
  {
   "cell_type": "code",
   "execution_count": 2,
   "id": "7e4587a2",
   "metadata": {},
   "outputs": [],
   "source": [
    "import urllib.request\n",
    "urllib.request.urlretrieve(\"https://raw.githubusercontent.com/sunnysai12345/News_Summary/master/news_summary_more.csv\", filename=\"news_summary_more.csv\")\n",
    "data = pd.read_csv('news_summary_more.csv', encoding='iso-8859-1')"
   ]
  },
  {
   "cell_type": "code",
   "execution_count": 3,
   "id": "258cfb68",
   "metadata": {},
   "outputs": [
    {
     "data": {
      "text/plain": [
       "(98401, 2)"
      ]
     },
     "execution_count": 3,
     "metadata": {},
     "output_type": "execute_result"
    }
   ],
   "source": [
    "data.shape"
   ]
  },
  {
   "cell_type": "code",
   "execution_count": 4,
   "id": "d9a15875",
   "metadata": {},
   "outputs": [
    {
     "data": {
      "text/html": [
       "<div>\n",
       "<style scoped>\n",
       "    .dataframe tbody tr th:only-of-type {\n",
       "        vertical-align: middle;\n",
       "    }\n",
       "\n",
       "    .dataframe tbody tr th {\n",
       "        vertical-align: top;\n",
       "    }\n",
       "\n",
       "    .dataframe thead th {\n",
       "        text-align: right;\n",
       "    }\n",
       "</style>\n",
       "<table border=\"1\" class=\"dataframe\">\n",
       "  <thead>\n",
       "    <tr style=\"text-align: right;\">\n",
       "      <th></th>\n",
       "      <th>headlines</th>\n",
       "      <th>text</th>\n",
       "    </tr>\n",
       "  </thead>\n",
       "  <tbody>\n",
       "    <tr>\n",
       "      <th>48421</th>\n",
       "      <td>1 killed, 129 injured in twin Libya mosque blasts</td>\n",
       "      <td>At least one person was killed and 129 others ...</td>\n",
       "    </tr>\n",
       "    <tr>\n",
       "      <th>58588</th>\n",
       "      <td>Hizbul chief's son injured in scuffle with Tih...</td>\n",
       "      <td>Hizbul Mujahideen chief Syed Salahuddin's son,...</td>\n",
       "    </tr>\n",
       "    <tr>\n",
       "      <th>4806</th>\n",
       "      <td>Virat Kohli praises Nathan Lyon, terms him 'da...</td>\n",
       "      <td>Speaking about spinner Nathan Lyon, Indian cap...</td>\n",
       "    </tr>\n",
       "    <tr>\n",
       "      <th>91819</th>\n",
       "      <td>Startup apologises for using hospital network ...</td>\n",
       "      <td>Cybersecurity startup Tanium, last valued at $...</td>\n",
       "    </tr>\n",
       "    <tr>\n",
       "      <th>21723</th>\n",
       "      <td>Airbus' solar aircraft sets record, stays alof...</td>\n",
       "      <td>Airbus has announced its solar-powered Zephyr ...</td>\n",
       "    </tr>\n",
       "    <tr>\n",
       "      <th>11830</th>\n",
       "      <td>Japan launches rocket carrying 1st UAE-made sa...</td>\n",
       "      <td>Japan Aerospace Exploration Agency (JAXA) and ...</td>\n",
       "    </tr>\n",
       "    <tr>\n",
       "      <th>47469</th>\n",
       "      <td>AI device gives electric shock to make user cl...</td>\n",
       "      <td>Germany-based Peter Buczkowski has developed a...</td>\n",
       "    </tr>\n",
       "    <tr>\n",
       "      <th>25149</th>\n",
       "      <td>Sri Lankan cricketer punished over 'night out'...</td>\n",
       "      <td>Sri Lanka leg-spinner Jeffrey Vandersay has be...</td>\n",
       "    </tr>\n",
       "    <tr>\n",
       "      <th>41745</th>\n",
       "      <td>Punishment doesn't fit the crime: Warne on Smi...</td>\n",
       "      <td>Former Australian spinner Shane Warne has said...</td>\n",
       "    </tr>\n",
       "    <tr>\n",
       "      <th>17872</th>\n",
       "      <td>Paris walks ramp at New York Fashion Week as D...</td>\n",
       "      <td>Paris Hilton walked the ramp along with her do...</td>\n",
       "    </tr>\n",
       "  </tbody>\n",
       "</table>\n",
       "</div>"
      ],
      "text/plain": [
       "                                               headlines  \\\n",
       "48421  1 killed, 129 injured in twin Libya mosque blasts   \n",
       "58588  Hizbul chief's son injured in scuffle with Tih...   \n",
       "4806   Virat Kohli praises Nathan Lyon, terms him 'da...   \n",
       "91819  Startup apologises for using hospital network ...   \n",
       "21723  Airbus' solar aircraft sets record, stays alof...   \n",
       "11830  Japan launches rocket carrying 1st UAE-made sa...   \n",
       "47469  AI device gives electric shock to make user cl...   \n",
       "25149  Sri Lankan cricketer punished over 'night out'...   \n",
       "41745  Punishment doesn't fit the crime: Warne on Smi...   \n",
       "17872  Paris walks ramp at New York Fashion Week as D...   \n",
       "\n",
       "                                                    text  \n",
       "48421  At least one person was killed and 129 others ...  \n",
       "58588  Hizbul Mujahideen chief Syed Salahuddin's son,...  \n",
       "4806   Speaking about spinner Nathan Lyon, Indian cap...  \n",
       "91819  Cybersecurity startup Tanium, last valued at $...  \n",
       "21723  Airbus has announced its solar-powered Zephyr ...  \n",
       "11830  Japan Aerospace Exploration Agency (JAXA) and ...  \n",
       "47469  Germany-based Peter Buczkowski has developed a...  \n",
       "25149  Sri Lanka leg-spinner Jeffrey Vandersay has be...  \n",
       "41745  Former Australian spinner Shane Warne has said...  \n",
       "17872  Paris Hilton walked the ramp along with her do...  "
      ]
     },
     "execution_count": 4,
     "metadata": {},
     "output_type": "execute_result"
    }
   ],
   "source": [
    "data.sample(10)"
   ]
  },
  {
   "cell_type": "markdown",
   "id": "33155dfc",
   "metadata": {},
   "source": [
    "데이터는 기사의 본문에 해당되는 text와 headlines 두 가지 열로 구성되어져 있습니다.  \n",
    "추상적 요약을 하는 경우에는 text를 본문, headlines를 이미 요약된 데이터로 삼아서 모델을 학습할 수 있습니다.  \n",
    "추출적 요약을 하는 경우에는 오직 text열만을 사용해야 합니다.  "
   ]
  },
  {
   "cell_type": "code",
   "execution_count": 5,
   "id": "21a14e72",
   "metadata": {},
   "outputs": [
    {
     "name": "stdout",
     "output_type": "stream",
     "text": [
      "headlines 열에서 중복을 배제한 유일한 샘플의 수 : 98280\n",
      "text 열에서 중복을 배제한 유일한 샘플의 수 : 98360\n"
     ]
    }
   ],
   "source": [
    "print('headlines 열에서 중복을 배제한 유일한 샘플의 수 :', data['headlines'].nunique())\n",
    "print('text 열에서 중복을 배제한 유일한 샘플의 수 :', data['text'].nunique())"
   ]
  },
  {
   "cell_type": "markdown",
   "id": "00168485",
   "metadata": {},
   "source": [
    "전체 갯수 중 98400개 중, 41개의 text 중복이 있습니다  \n",
    "headline이 중복이어도 내용이 다를 수 있으니, text 중복을 제거해주도록 하겠습니다"
   ]
  },
  {
   "cell_type": "code",
   "execution_count": 6,
   "id": "17a139c3",
   "metadata": {},
   "outputs": [
    {
     "data": {
      "text/plain": [
       "(98360, 2)"
      ]
     },
     "execution_count": 6,
     "metadata": {},
     "output_type": "execute_result"
    }
   ],
   "source": [
    "data.drop_duplicates(subset = ['text'], inplace=True)\n",
    "data.shape"
   ]
  },
  {
   "cell_type": "code",
   "execution_count": 7,
   "id": "10c71481",
   "metadata": {},
   "outputs": [
    {
     "data": {
      "text/plain": [
       "headlines    0\n",
       "text         0\n",
       "dtype: int64"
      ]
     },
     "execution_count": 7,
     "metadata": {},
     "output_type": "execute_result"
    }
   ],
   "source": [
    "data.isna().sum()"
   ]
  },
  {
   "cell_type": "markdown",
   "id": "4e87561c",
   "metadata": {},
   "source": [
    "빈 데이터가 있다면 제거해줬어야 했을텐데, 다행히도 없었습니다 "
   ]
  },
  {
   "cell_type": "markdown",
   "id": "078d5216",
   "metadata": {},
   "source": [
    "### 텍스트 정규화, 불용어 제거  \n",
    "apostrophe등을 사용하는 다양한 문장의 표현을 단일화합니다  \n",
    "문맥에 크게 의미를 주지 않는 단어 (stopword)등을 제거합니다  \n",
    "  \n",
    "다만 개인적으로 우려되는 점은  \n",
    "https://wikidocs.net/21693  \n",
    "에 소개되어 있듯이, 고유명사등의 처리  \n",
    "예를 들어, 위 sample의 2번째인 Elon Musk-led 이런 부분, 고유명사와 하이픈으로 이어지는 부분등은 어떻게 처리해야 할지 고민이 됩니다  \n",
    "기존의 방식은 일괄 소문자화, 온점제거, 특수문자 제거를 해왔지만, 일괄적으로 수행할 시 문장의 의미를 잃어버리지 않을까 고심하게 되는 부분입니다  \n",
    "nltk에서 여러 방식의 토크나이저를 제공하는데, News in english에 대한 것은 찾지 못하였습니다  \n",
    "일단, 첫술에 완벽할 수는 없으므로, lms에 소개된 방향으로 진행 후 개선점을 탐색해보겠습니다  \n",
    "(나중에 https://datascienceschool.net/03%20machine%20learning/03.01.01%20NLTK%20%EC%9E%90%EC%97%B0%EC%96%B4%20%EC%B2%98%EB%A6%AC%20%ED%8C%A8%ED%82%A4%EC%A7%80.html  \n",
    "랑 https://excelsior-cjh.tistory.com/67  \n",
    "써볼수도 있을거 같습니다)  \n",
    "\n",
    "일단 하자!!  "
   ]
  },
  {
   "cell_type": "markdown",
   "id": "7372c87b",
   "metadata": {},
   "source": [
    "#### 정규화  \n",
    "특수문자 제거 전에 정규화를 먼저 해야, 단어의 의미를 잃어버리는 불상사를 방지할 수 있다는 걸 지금 깨달았습니다  "
   ]
  },
  {
   "cell_type": "code",
   "execution_count": 8,
   "id": "916c46ed",
   "metadata": {},
   "outputs": [
    {
     "name": "stdout",
     "output_type": "stream",
     "text": [
      "정규화 사전의 수:  120\n"
     ]
    }
   ],
   "source": [
    "contractions = {\"ain't\": \"is not\", \"aren't\": \"are not\",\"can't\": \"cannot\", \"'cause\": \"because\", \"could've\": \"could have\", \"couldn't\": \"could not\",\n",
    "                           \"didn't\": \"did not\",  \"doesn't\": \"does not\", \"don't\": \"do not\", \"hadn't\": \"had not\", \"hasn't\": \"has not\", \"haven't\": \"have not\",\n",
    "                           \"he'd\": \"he would\",\"he'll\": \"he will\", \"he's\": \"he is\", \"how'd\": \"how did\", \"how'd'y\": \"how do you\", \"how'll\": \"how will\", \"how's\": \"how is\",\n",
    "                           \"I'd\": \"I would\", \"I'd've\": \"I would have\", \"I'll\": \"I will\", \"I'll've\": \"I will have\",\"I'm\": \"I am\", \"I've\": \"I have\", \"i'd\": \"i would\",\n",
    "                           \"i'd've\": \"i would have\", \"i'll\": \"i will\",  \"i'll've\": \"i will have\",\"i'm\": \"i am\", \"i've\": \"i have\", \"isn't\": \"is not\", \"it'd\": \"it would\",\n",
    "                           \"it'd've\": \"it would have\", \"it'll\": \"it will\", \"it'll've\": \"it will have\",\"it's\": \"it is\", \"let's\": \"let us\", \"ma'am\": \"madam\",\n",
    "                           \"mayn't\": \"may not\", \"might've\": \"might have\",\"mightn't\": \"might not\",\"mightn't've\": \"might not have\", \"must've\": \"must have\",\n",
    "                           \"mustn't\": \"must not\", \"mustn't've\": \"must not have\", \"needn't\": \"need not\", \"needn't've\": \"need not have\",\"o'clock\": \"of the clock\",\n",
    "                           \"oughtn't\": \"ought not\", \"oughtn't've\": \"ought not have\", \"shan't\": \"shall not\", \"sha'n't\": \"shall not\", \"shan't've\": \"shall not have\",\n",
    "                           \"she'd\": \"she would\", \"she'd've\": \"she would have\", \"she'll\": \"she will\", \"she'll've\": \"she will have\", \"she's\": \"she is\",\n",
    "                           \"should've\": \"should have\", \"shouldn't\": \"should not\", \"shouldn't've\": \"should not have\", \"so've\": \"so have\",\"so's\": \"so as\",\n",
    "                           \"this's\": \"this is\",\"that'd\": \"that would\", \"that'd've\": \"that would have\", \"that's\": \"that is\", \"there'd\": \"there would\",\n",
    "                           \"there'd've\": \"there would have\", \"there's\": \"there is\", \"here's\": \"here is\",\"they'd\": \"they would\", \"they'd've\": \"they would have\",\n",
    "                           \"they'll\": \"they will\", \"they'll've\": \"they will have\", \"they're\": \"they are\", \"they've\": \"they have\", \"to've\": \"to have\",\n",
    "                           \"wasn't\": \"was not\", \"we'd\": \"we would\", \"we'd've\": \"we would have\", \"we'll\": \"we will\", \"we'll've\": \"we will have\", \"we're\": \"we are\",\n",
    "                           \"we've\": \"we have\", \"weren't\": \"were not\", \"what'll\": \"what will\", \"what'll've\": \"what will have\", \"what're\": \"what are\",\n",
    "                           \"what's\": \"what is\", \"what've\": \"what have\", \"when's\": \"when is\", \"when've\": \"when have\", \"where'd\": \"where did\", \"where's\": \"where is\",\n",
    "                           \"where've\": \"where have\", \"who'll\": \"who will\", \"who'll've\": \"who will have\", \"who's\": \"who is\", \"who've\": \"who have\",\n",
    "                           \"why's\": \"why is\", \"why've\": \"why have\", \"will've\": \"will have\", \"won't\": \"will not\", \"won't've\": \"will not have\",\n",
    "                           \"would've\": \"would have\", \"wouldn't\": \"would not\", \"wouldn't've\": \"would not have\", \"y'all\": \"you all\",\n",
    "                           \"y'all'd\": \"you all would\",\"y'all'd've\": \"you all would have\",\"y'all're\": \"you all are\",\"y'all've\": \"you all have\",\n",
    "                           \"you'd\": \"you would\", \"you'd've\": \"you would have\", \"you'll\": \"you will\", \"you'll've\": \"you will have\",\n",
    "                           \"you're\": \"you are\", \"you've\": \"you have\"}\n",
    "\n",
    "print(\"정규화 사전의 수: \", len(contractions))"
   ]
  },
  {
   "cell_type": "code",
   "execution_count": 9,
   "id": "ac0e8775",
   "metadata": {},
   "outputs": [
    {
     "name": "stdout",
     "output_type": "stream",
     "text": [
      "불용어 개수 : 179\n",
      "['i', 'me', 'my', 'myself', 'we', 'our', 'ours', 'ourselves', 'you', \"you're\", \"you've\", \"you'll\", \"you'd\", 'your', 'yours', 'yourself', 'yourselves', 'he', 'him', 'his', 'himself', 'she', \"she's\", 'her', 'hers', 'herself', 'it', \"it's\", 'its', 'itself', 'they', 'them', 'their', 'theirs', 'themselves', 'what', 'which', 'who', 'whom', 'this', 'that', \"that'll\", 'these', 'those', 'am', 'is', 'are', 'was', 'were', 'be', 'been', 'being', 'have', 'has', 'had', 'having', 'do', 'does', 'did', 'doing', 'a', 'an', 'the', 'and', 'but', 'if', 'or', 'because', 'as', 'until', 'while', 'of', 'at', 'by', 'for', 'with', 'about', 'against', 'between', 'into', 'through', 'during', 'before', 'after', 'above', 'below', 'to', 'from', 'up', 'down', 'in', 'out', 'on', 'off', 'over', 'under', 'again', 'further', 'then', 'once', 'here', 'there', 'when', 'where', 'why', 'how', 'all', 'any', 'both', 'each', 'few', 'more', 'most', 'other', 'some', 'such', 'no', 'nor', 'not', 'only', 'own', 'same', 'so', 'than', 'too', 'very', 's', 't', 'can', 'will', 'just', 'don', \"don't\", 'should', \"should've\", 'now', 'd', 'll', 'm', 'o', 're', 've', 'y', 'ain', 'aren', \"aren't\", 'couldn', \"couldn't\", 'didn', \"didn't\", 'doesn', \"doesn't\", 'hadn', \"hadn't\", 'hasn', \"hasn't\", 'haven', \"haven't\", 'isn', \"isn't\", 'ma', 'mightn', \"mightn't\", 'mustn', \"mustn't\", 'needn', \"needn't\", 'shan', \"shan't\", 'shouldn', \"shouldn't\", 'wasn', \"wasn't\", 'weren', \"weren't\", 'won', \"won't\", 'wouldn', \"wouldn't\"]\n"
     ]
    }
   ],
   "source": [
    "print('불용어 개수 :', len(stopwords.words('english') ))\n",
    "print(stopwords.words('english'))"
   ]
  },
  {
   "cell_type": "code",
   "execution_count": 10,
   "id": "233fba2b",
   "metadata": {},
   "outputs": [],
   "source": [
    "# 데이터 전처리 함수\n",
    "def preprocess_sentence(sentence, remove_stopwords=True):\n",
    "    sentence = sentence.lower() # 텍스트 소문자화\n",
    "    sentence = BeautifulSoup(sentence, \"lxml\").text # <br />, <a href = ...> 등의 html 태그 제거\n",
    "    sentence = re.sub(r'\\([^)]*\\)', '', sentence) # 괄호로 닫힌 문자열 (...) 제거 Ex) my husband (and myself!) for => my husband for\n",
    "    sentence = re.sub('\"','', sentence) # 쌍따옴표 \" 제거\n",
    "    sentence = ' '.join([contractions[t] if t in contractions else t for t in sentence.split(\" \")]) # 약어 정규화\n",
    "    sentence = re.sub(r\"'s\\b\",\"\", sentence) # 소유격 제거. Ex) roland's -> roland\n",
    "    sentence = re.sub(\"[^a-zA-Z]\", \" \", sentence) # 영어 외 문자(숫자, 특수문자 등) 공백으로 변환\n",
    "    sentence = re.sub('[m]{2,}', 'mm', sentence) # m이 3개 이상이면 2개로 변경. Ex) ummmmmmm yeah -> umm yeah\n",
    "    \n",
    "    # 불용어 제거 (Text)\n",
    "    if remove_stopwords:\n",
    "        tokens = ' '.join(word for word in sentence.split() if not word in stopwords.words('english') if len(word) > 1)\n",
    "    # 불용어 미제거 (Summary)\n",
    "    else:\n",
    "        tokens = ' '.join(word for word in sentence.split() if len(word) > 1)\n",
    "    return tokens"
   ]
  },
  {
   "cell_type": "code",
   "execution_count": 11,
   "id": "b93862ac",
   "metadata": {},
   "outputs": [
    {
     "name": "stdout",
     "output_type": "stream",
     "text": [
      "text:  everything bought great infact ordered twice third ordered wasfor mother father\n",
      "summary: great way to start the day\n"
     ]
    }
   ],
   "source": [
    "temp_text = 'Everything I bought was great, infact I ordered twice and the third ordered was<br />for my mother and father.'\n",
    "temp_summary = 'Great way to start (or finish) the day!!!'\n",
    "\n",
    "print(\"text: \", preprocess_sentence(temp_text))\n",
    "print(\"summary:\", preprocess_sentence(temp_summary, False))  # 불용어를 제거하지 않습니다."
   ]
  },
  {
   "cell_type": "markdown",
   "id": "c4b6e8e6",
   "metadata": {},
   "source": [
    "테스트 결과, 함수가 올바로 작동했습니다  \n",
    "데이터셋에 적용~"
   ]
  },
  {
   "cell_type": "code",
   "execution_count": 12,
   "id": "2b076112",
   "metadata": {},
   "outputs": [
    {
     "data": {
      "text/html": [
       "<div>\n",
       "<style scoped>\n",
       "    .dataframe tbody tr th:only-of-type {\n",
       "        vertical-align: middle;\n",
       "    }\n",
       "\n",
       "    .dataframe tbody tr th {\n",
       "        vertical-align: top;\n",
       "    }\n",
       "\n",
       "    .dataframe thead th {\n",
       "        text-align: right;\n",
       "    }\n",
       "</style>\n",
       "<table border=\"1\" class=\"dataframe\">\n",
       "  <thead>\n",
       "    <tr style=\"text-align: right;\">\n",
       "      <th></th>\n",
       "      <th>headlines</th>\n",
       "      <th>text</th>\n",
       "    </tr>\n",
       "  </thead>\n",
       "  <tbody>\n",
       "    <tr>\n",
       "      <th>0</th>\n",
       "      <td>upGrad learner switches to career in ML &amp; Al w...</td>\n",
       "      <td>Saurav Kant, an alumnus of upGrad and IIIT-B's...</td>\n",
       "    </tr>\n",
       "    <tr>\n",
       "      <th>1</th>\n",
       "      <td>Delhi techie wins free food from Swiggy for on...</td>\n",
       "      <td>Kunal Shah's credit card bill payment platform...</td>\n",
       "    </tr>\n",
       "    <tr>\n",
       "      <th>2</th>\n",
       "      <td>New Zealand end Rohit Sharma-led India's 12-ma...</td>\n",
       "      <td>New Zealand defeated India by 8 wickets in the...</td>\n",
       "    </tr>\n",
       "    <tr>\n",
       "      <th>3</th>\n",
       "      <td>Aegon life iTerm insurance plan helps customer...</td>\n",
       "      <td>With Aegon Life iTerm Insurance plan, customer...</td>\n",
       "    </tr>\n",
       "    <tr>\n",
       "      <th>4</th>\n",
       "      <td>Have known Hirani for yrs, what if MeToo claim...</td>\n",
       "      <td>Speaking about the sexual harassment allegatio...</td>\n",
       "    </tr>\n",
       "    <tr>\n",
       "      <th>5</th>\n",
       "      <td>Rahat Fateh Ali Khan denies getting notice for...</td>\n",
       "      <td>Pakistani singer Rahat Fateh Ali Khan has deni...</td>\n",
       "    </tr>\n",
       "    <tr>\n",
       "      <th>6</th>\n",
       "      <td>India get all out for 92, their lowest ODI tot...</td>\n",
       "      <td>India recorded their lowest ODI total in New Z...</td>\n",
       "    </tr>\n",
       "    <tr>\n",
       "      <th>7</th>\n",
       "      <td>Govt directs Alok Verma to join work 1 day bef...</td>\n",
       "      <td>Weeks after ex-CBI Director Alok Verma told th...</td>\n",
       "    </tr>\n",
       "    <tr>\n",
       "      <th>8</th>\n",
       "      <td>Called PM Modi 'sir' 10 times to satisfy his e...</td>\n",
       "      <td>Andhra Pradesh CM N Chandrababu Naidu has said...</td>\n",
       "    </tr>\n",
       "    <tr>\n",
       "      <th>9</th>\n",
       "      <td>Cong wins Ramgarh bypoll in Rajasthan, takes t...</td>\n",
       "      <td>Congress candidate Shafia Zubair won the Ramga...</td>\n",
       "    </tr>\n",
       "    <tr>\n",
       "      <th>10</th>\n",
       "      <td>UP cousins fed human excreta for friendship wi...</td>\n",
       "      <td>Two minor cousins in Uttar Pradesh's Gorakhpur...</td>\n",
       "    </tr>\n",
       "    <tr>\n",
       "      <th>11</th>\n",
       "      <td>81-yr-old woman conducts physical training in ...</td>\n",
       "      <td>Isha Ghosh, an 81-year-old member of Bharat Sc...</td>\n",
       "    </tr>\n",
       "    <tr>\n",
       "      <th>12</th>\n",
       "      <td>Ram, Krishna didn't smoke, why should we: Ramd...</td>\n",
       "      <td>Urging saints and seers at the Kumbh Mela to q...</td>\n",
       "    </tr>\n",
       "    <tr>\n",
       "      <th>13</th>\n",
       "      <td>Pharma exec gave doctor a lap dance to sell me...</td>\n",
       "      <td>Former stripper and regional sales director of...</td>\n",
       "    </tr>\n",
       "    <tr>\n",
       "      <th>14</th>\n",
       "      <td>I only cried at my 'bidaai' as I felt peer pr...</td>\n",
       "      <td>Reliance Industries' Chairman Mukesh Ambani's ...</td>\n",
       "    </tr>\n",
       "    <tr>\n",
       "      <th>15</th>\n",
       "      <td>Louis Vuitton owner to stockpile 4 months of w...</td>\n",
       "      <td>Louis Vuitton owner LVMH, which makes high-end...</td>\n",
       "    </tr>\n",
       "    <tr>\n",
       "      <th>16</th>\n",
       "      <td>Karan Johar, Tabu turn showstoppers on opening...</td>\n",
       "      <td>Filmmaker Karan Johar and actress Tabu turned ...</td>\n",
       "    </tr>\n",
       "    <tr>\n",
       "      <th>17</th>\n",
       "      <td>Those on bail will go to jail: PM Modi takes j...</td>\n",
       "      <td>In a jibe at Congress President Rahul Gandhi, ...</td>\n",
       "    </tr>\n",
       "    <tr>\n",
       "      <th>18</th>\n",
       "      <td>How long can I tolerate Congress leaders' pots...</td>\n",
       "      <td>Days after he threatened to step down from his...</td>\n",
       "    </tr>\n",
       "    <tr>\n",
       "      <th>19</th>\n",
       "      <td>Odisha CM Patnaik controls mining mafia: Union...</td>\n",
       "      <td>Union Minister Dharmendra Pradhan on Wednesday...</td>\n",
       "    </tr>\n",
       "  </tbody>\n",
       "</table>\n",
       "</div>"
      ],
      "text/plain": [
       "                                            headlines  \\\n",
       "0   upGrad learner switches to career in ML & Al w...   \n",
       "1   Delhi techie wins free food from Swiggy for on...   \n",
       "2   New Zealand end Rohit Sharma-led India's 12-ma...   \n",
       "3   Aegon life iTerm insurance plan helps customer...   \n",
       "4   Have known Hirani for yrs, what if MeToo claim...   \n",
       "5   Rahat Fateh Ali Khan denies getting notice for...   \n",
       "6   India get all out for 92, their lowest ODI tot...   \n",
       "7   Govt directs Alok Verma to join work 1 day bef...   \n",
       "8   Called PM Modi 'sir' 10 times to satisfy his e...   \n",
       "9   Cong wins Ramgarh bypoll in Rajasthan, takes t...   \n",
       "10  UP cousins fed human excreta for friendship wi...   \n",
       "11  81-yr-old woman conducts physical training in ...   \n",
       "12  Ram, Krishna didn't smoke, why should we: Ramd...   \n",
       "13  Pharma exec gave doctor a lap dance to sell me...   \n",
       "14   I only cried at my 'bidaai' as I felt peer pr...   \n",
       "15  Louis Vuitton owner to stockpile 4 months of w...   \n",
       "16  Karan Johar, Tabu turn showstoppers on opening...   \n",
       "17  Those on bail will go to jail: PM Modi takes j...   \n",
       "18  How long can I tolerate Congress leaders' pots...   \n",
       "19  Odisha CM Patnaik controls mining mafia: Union...   \n",
       "\n",
       "                                                 text  \n",
       "0   Saurav Kant, an alumnus of upGrad and IIIT-B's...  \n",
       "1   Kunal Shah's credit card bill payment platform...  \n",
       "2   New Zealand defeated India by 8 wickets in the...  \n",
       "3   With Aegon Life iTerm Insurance plan, customer...  \n",
       "4   Speaking about the sexual harassment allegatio...  \n",
       "5   Pakistani singer Rahat Fateh Ali Khan has deni...  \n",
       "6   India recorded their lowest ODI total in New Z...  \n",
       "7   Weeks after ex-CBI Director Alok Verma told th...  \n",
       "8   Andhra Pradesh CM N Chandrababu Naidu has said...  \n",
       "9   Congress candidate Shafia Zubair won the Ramga...  \n",
       "10  Two minor cousins in Uttar Pradesh's Gorakhpur...  \n",
       "11  Isha Ghosh, an 81-year-old member of Bharat Sc...  \n",
       "12  Urging saints and seers at the Kumbh Mela to q...  \n",
       "13  Former stripper and regional sales director of...  \n",
       "14  Reliance Industries' Chairman Mukesh Ambani's ...  \n",
       "15  Louis Vuitton owner LVMH, which makes high-end...  \n",
       "16  Filmmaker Karan Johar and actress Tabu turned ...  \n",
       "17  In a jibe at Congress President Rahul Gandhi, ...  \n",
       "18  Days after he threatened to step down from his...  \n",
       "19  Union Minister Dharmendra Pradhan on Wednesday...  "
      ]
     },
     "execution_count": 12,
     "metadata": {},
     "output_type": "execute_result"
    }
   ],
   "source": [
    "data.head(20)"
   ]
  },
  {
   "cell_type": "code",
   "execution_count": 13,
   "id": "cb1ee256",
   "metadata": {},
   "outputs": [
    {
     "data": {
      "text/html": [
       "<div>\n",
       "<style scoped>\n",
       "    .dataframe tbody tr th:only-of-type {\n",
       "        vertical-align: middle;\n",
       "    }\n",
       "\n",
       "    .dataframe tbody tr th {\n",
       "        vertical-align: top;\n",
       "    }\n",
       "\n",
       "    .dataframe thead th {\n",
       "        text-align: right;\n",
       "    }\n",
       "</style>\n",
       "<table border=\"1\" class=\"dataframe\">\n",
       "  <thead>\n",
       "    <tr style=\"text-align: right;\">\n",
       "      <th></th>\n",
       "      <th>headlines</th>\n",
       "      <th>text</th>\n",
       "    </tr>\n",
       "  </thead>\n",
       "  <tbody>\n",
       "    <tr>\n",
       "      <th>0</th>\n",
       "      <td>upgrad learner switches career ml al salary hike</td>\n",
       "      <td>saurav kant alumnus upgrad iiit pg program mac...</td>\n",
       "    </tr>\n",
       "    <tr>\n",
       "      <th>1</th>\n",
       "      <td>delhi techie wins free food swiggy one year cred</td>\n",
       "      <td>kunal shah credit card bill payment platform c...</td>\n",
       "    </tr>\n",
       "    <tr>\n",
       "      <th>2</th>\n",
       "      <td>new zealand end rohit sharma led india match w...</td>\n",
       "      <td>new zealand defeated india wickets fourth odi ...</td>\n",
       "    </tr>\n",
       "    <tr>\n",
       "      <th>3</th>\n",
       "      <td>aegon life iterm insurance plan helps customer...</td>\n",
       "      <td>aegon life iterm insurance plan customers enjo...</td>\n",
       "    </tr>\n",
       "    <tr>\n",
       "      <th>4</th>\n",
       "      <td>known hirani yrs metoo claims true sonam</td>\n",
       "      <td>speaking sexual harassment allegations rajkuma...</td>\n",
       "    </tr>\n",
       "    <tr>\n",
       "      <th>5</th>\n",
       "      <td>rahat fateh ali khan denies getting notice smu...</td>\n",
       "      <td>pakistani singer rahat fateh ali khan denied r...</td>\n",
       "    </tr>\n",
       "    <tr>\n",
       "      <th>6</th>\n",
       "      <td>india get lowest odi total new zealand</td>\n",
       "      <td>india recorded lowest odi total new zealand ge...</td>\n",
       "    </tr>\n",
       "    <tr>\n",
       "      <th>7</th>\n",
       "      <td>govt directs alok verma join work day retirement</td>\n",
       "      <td>weeks ex cbi director alok verma told departme...</td>\n",
       "    </tr>\n",
       "    <tr>\n",
       "      <th>8</th>\n",
       "      <td>called pm modi sir times satisfy ego andhra cm</td>\n",
       "      <td>andhra pradesh cm chandrababu naidu said met u...</td>\n",
       "    </tr>\n",
       "    <tr>\n",
       "      <th>9</th>\n",
       "      <td>cong wins ramgarh bypoll rajasthan takes total...</td>\n",
       "      <td>congress candidate shafia zubair ramgarh assem...</td>\n",
       "    </tr>\n",
       "    <tr>\n",
       "      <th>10</th>\n",
       "      <td>cousins fed human excreta friendship boys</td>\n",
       "      <td>two minor cousins uttar pradesh gorakhpur alle...</td>\n",
       "    </tr>\n",
       "    <tr>\n",
       "      <th>11</th>\n",
       "      <td>yr old woman conducts physical training khand ...</td>\n",
       "      <td>isha ghosh year old member bharat scouts guide...</td>\n",
       "    </tr>\n",
       "    <tr>\n",
       "      <th>12</th>\n",
       "      <td>ram krishna smoke ramdev sadhus kumbh</td>\n",
       "      <td>urging saints seers kumbh mela quit smoking yo...</td>\n",
       "    </tr>\n",
       "    <tr>\n",
       "      <th>13</th>\n",
       "      <td>pharma exec gave doctor lap dance sell medicin...</td>\n",
       "      <td>former stripper regional sales director pharma...</td>\n",
       "    </tr>\n",
       "    <tr>\n",
       "      <th>14</th>\n",
       "      <td>cried bidaai felt peer pressure isha ambani</td>\n",
       "      <td>reliance industries chairman mukesh ambani dau...</td>\n",
       "    </tr>\n",
       "    <tr>\n",
       "      <th>15</th>\n",
       "      <td>louis vuitton owner stockpile months wine spir...</td>\n",
       "      <td>louis vuitton owner lvmh makes high end bevera...</td>\n",
       "    </tr>\n",
       "    <tr>\n",
       "      <th>16</th>\n",
       "      <td>karan johar tabu turn showstoppers opening nig...</td>\n",
       "      <td>filmmaker karan johar actress tabu turned show...</td>\n",
       "    </tr>\n",
       "    <tr>\n",
       "      <th>17</th>\n",
       "      <td>bail go jail pm modi takes jibe rahul</td>\n",
       "      <td>jibe congress president rahul gandhi pm narend...</td>\n",
       "    </tr>\n",
       "    <tr>\n",
       "      <th>18</th>\n",
       "      <td>long tolerate congress leaders potshots taka cm</td>\n",
       "      <td>days threatened step post congress mlas contin...</td>\n",
       "    </tr>\n",
       "    <tr>\n",
       "      <th>19</th>\n",
       "      <td>odisha cm patnaik controls mining mafia union ...</td>\n",
       "      <td>union minister dharmendra pradhan wednesday cl...</td>\n",
       "    </tr>\n",
       "  </tbody>\n",
       "</table>\n",
       "</div>"
      ],
      "text/plain": [
       "                                            headlines  \\\n",
       "0    upgrad learner switches career ml al salary hike   \n",
       "1    delhi techie wins free food swiggy one year cred   \n",
       "2   new zealand end rohit sharma led india match w...   \n",
       "3   aegon life iterm insurance plan helps customer...   \n",
       "4            known hirani yrs metoo claims true sonam   \n",
       "5   rahat fateh ali khan denies getting notice smu...   \n",
       "6              india get lowest odi total new zealand   \n",
       "7    govt directs alok verma join work day retirement   \n",
       "8      called pm modi sir times satisfy ego andhra cm   \n",
       "9   cong wins ramgarh bypoll rajasthan takes total...   \n",
       "10          cousins fed human excreta friendship boys   \n",
       "11  yr old woman conducts physical training khand ...   \n",
       "12              ram krishna smoke ramdev sadhus kumbh   \n",
       "13  pharma exec gave doctor lap dance sell medicin...   \n",
       "14        cried bidaai felt peer pressure isha ambani   \n",
       "15  louis vuitton owner stockpile months wine spir...   \n",
       "16  karan johar tabu turn showstoppers opening nig...   \n",
       "17              bail go jail pm modi takes jibe rahul   \n",
       "18    long tolerate congress leaders potshots taka cm   \n",
       "19  odisha cm patnaik controls mining mafia union ...   \n",
       "\n",
       "                                                 text  \n",
       "0   saurav kant alumnus upgrad iiit pg program mac...  \n",
       "1   kunal shah credit card bill payment platform c...  \n",
       "2   new zealand defeated india wickets fourth odi ...  \n",
       "3   aegon life iterm insurance plan customers enjo...  \n",
       "4   speaking sexual harassment allegations rajkuma...  \n",
       "5   pakistani singer rahat fateh ali khan denied r...  \n",
       "6   india recorded lowest odi total new zealand ge...  \n",
       "7   weeks ex cbi director alok verma told departme...  \n",
       "8   andhra pradesh cm chandrababu naidu said met u...  \n",
       "9   congress candidate shafia zubair ramgarh assem...  \n",
       "10  two minor cousins uttar pradesh gorakhpur alle...  \n",
       "11  isha ghosh year old member bharat scouts guide...  \n",
       "12  urging saints seers kumbh mela quit smoking yo...  \n",
       "13  former stripper regional sales director pharma...  \n",
       "14  reliance industries chairman mukesh ambani dau...  \n",
       "15  louis vuitton owner lvmh makes high end bevera...  \n",
       "16  filmmaker karan johar actress tabu turned show...  \n",
       "17  jibe congress president rahul gandhi pm narend...  \n",
       "18  days threatened step post congress mlas contin...  \n",
       "19  union minister dharmendra pradhan wednesday cl...  "
      ]
     },
     "execution_count": 13,
     "metadata": {},
     "output_type": "execute_result"
    }
   ],
   "source": [
    "clean_df = data.copy()    #원본은 유지\n",
    "clean_df['headlines'] = clean_df['headlines'].apply(preprocess_sentence, args = (False))\n",
    "clean_df['text'] = clean_df['text'].apply(preprocess_sentence)\n",
    "clean_df.head(20)"
   ]
  },
  {
   "cell_type": "markdown",
   "id": "25fd5fb8",
   "metadata": {},
   "source": [
    "전처리가 잘 되긴 했는데.. 대문자.. 고유명사.. 자꾸 신경이 쓰이는 건 어쩔수 없네요  \n",
    "  \n",
    "#### 결측치 확인  \n",
    "데이터 처리과정에서 새로 결측치가 나왔을 수도 있으니, 확인해보고 제거합니다  "
   ]
  },
  {
   "cell_type": "code",
   "execution_count": 14,
   "id": "0351faaf",
   "metadata": {},
   "outputs": [
    {
     "data": {
      "text/plain": [
       "headlines    0\n",
       "text         0\n",
       "dtype: int64"
      ]
     },
     "execution_count": 14,
     "metadata": {},
     "output_type": "execute_result"
    }
   ],
   "source": [
    "clean_df.replace('', np.nan, inplace = True)\n",
    "clean_df.isna().sum()"
   ]
  },
  {
   "cell_type": "code",
   "execution_count": 15,
   "id": "2c7748d9",
   "metadata": {},
   "outputs": [],
   "source": [
    "#clean_df.dropna(axis=0, inplace = True)"
   ]
  },
  {
   "cell_type": "markdown",
   "id": "7c3be6d8",
   "metadata": {},
   "source": [
    "#### 이상치 제거  \n",
    "데이터셋 내에서 특정 문장이 너무 길 경우, 데이터셋 전체로 학습할 수 있다는 장점은 있지만  \n",
    "pad_sequence메서드를 사용할 때 학습에 사용된 문장의 최대 길이로 padding이 진행되어  \n",
    "대부분의 문장이 문장 길이보다 0이 더 많은 학습을 진행하게 됩니다 (피드백 감사합니다!)  \n",
    "추상적 분석의 결과물이 좋게 나오지 않게 우려되는 부분이므로, 일정 수치에서 너무 벗어나는 길이를 이상치로 규정하고 제거하도록 합니다  "
   ]
  },
  {
   "cell_type": "code",
   "execution_count": 16,
   "id": "444a1dd9",
   "metadata": {},
   "outputs": [],
   "source": [
    "headlines_len = [len(s.split()) for s in clean_df['headlines']]\n",
    "text_len = [len(s.split()) for s in clean_df['text']]"
   ]
  },
  {
   "cell_type": "code",
   "execution_count": 17,
   "id": "25747135",
   "metadata": {},
   "outputs": [
    {
     "data": {
      "text/plain": [
       "[<matplotlib.lines.Line2D at 0x7f7a0ab980a0>]"
      ]
     },
     "execution_count": 17,
     "metadata": {},
     "output_type": "execute_result"
    },
    {
     "data": {
      "image/png": "[encoded data removed]",
      "text/plain": [
       "<Figure size 864x432 with 2 Axes>"
      ]
     },
     "metadata": {
      "needs_background": "light"
     },
     "output_type": "display_data"
    }
   ],
   "source": [
    "headlines_len.sort()\n",
    "text_len.sort()\n",
    "\n",
    "fig = plt.figure(figsize = (12, 6))\n",
    "\n",
    "plt.subplot(1, 2, 1)\n",
    "plt.plot(headlines_len)\n",
    "\n",
    "plt.subplot(1, 2, 2)\n",
    "plt.plot(text_len)"
   ]
  },
  {
   "cell_type": "code",
   "execution_count": 18,
   "id": "14270319",
   "metadata": {},
   "outputs": [
    {
     "data": {
      "text/html": [
       "<div>\n",
       "<style scoped>\n",
       "    .dataframe tbody tr th:only-of-type {\n",
       "        vertical-align: middle;\n",
       "    }\n",
       "\n",
       "    .dataframe tbody tr th {\n",
       "        vertical-align: top;\n",
       "    }\n",
       "\n",
       "    .dataframe thead th {\n",
       "        text-align: right;\n",
       "    }\n",
       "</style>\n",
       "<table border=\"1\" class=\"dataframe\">\n",
       "  <thead>\n",
       "    <tr style=\"text-align: right;\">\n",
       "      <th></th>\n",
       "      <th>0</th>\n",
       "    </tr>\n",
       "  </thead>\n",
       "  <tbody>\n",
       "    <tr>\n",
       "      <th>count</th>\n",
       "      <td>98360.000000</td>\n",
       "    </tr>\n",
       "    <tr>\n",
       "      <th>mean</th>\n",
       "      <td>7.136183</td>\n",
       "    </tr>\n",
       "    <tr>\n",
       "      <th>std</th>\n",
       "      <td>1.162421</td>\n",
       "    </tr>\n",
       "    <tr>\n",
       "      <th>min</th>\n",
       "      <td>1.000000</td>\n",
       "    </tr>\n",
       "    <tr>\n",
       "      <th>25%</th>\n",
       "      <td>6.000000</td>\n",
       "    </tr>\n",
       "    <tr>\n",
       "      <th>50%</th>\n",
       "      <td>7.000000</td>\n",
       "    </tr>\n",
       "    <tr>\n",
       "      <th>75%</th>\n",
       "      <td>8.000000</td>\n",
       "    </tr>\n",
       "    <tr>\n",
       "      <th>max</th>\n",
       "      <td>13.000000</td>\n",
       "    </tr>\n",
       "  </tbody>\n",
       "</table>\n",
       "</div>"
      ],
      "text/plain": [
       "                  0\n",
       "count  98360.000000\n",
       "mean       7.136183\n",
       "std        1.162421\n",
       "min        1.000000\n",
       "25%        6.000000\n",
       "50%        7.000000\n",
       "75%        8.000000\n",
       "max       13.000000"
      ]
     },
     "execution_count": 18,
     "metadata": {},
     "output_type": "execute_result"
    }
   ],
   "source": [
    "pd.DataFrame(headlines_len).describe()"
   ]
  },
  {
   "cell_type": "code",
   "execution_count": 19,
   "id": "c2ff0330",
   "metadata": {},
   "outputs": [
    {
     "data": {
      "text/html": [
       "<div>\n",
       "<style scoped>\n",
       "    .dataframe tbody tr th:only-of-type {\n",
       "        vertical-align: middle;\n",
       "    }\n",
       "\n",
       "    .dataframe tbody tr th {\n",
       "        vertical-align: top;\n",
       "    }\n",
       "\n",
       "    .dataframe thead th {\n",
       "        text-align: right;\n",
       "    }\n",
       "</style>\n",
       "<table border=\"1\" class=\"dataframe\">\n",
       "  <thead>\n",
       "    <tr style=\"text-align: right;\">\n",
       "      <th></th>\n",
       "      <th>0</th>\n",
       "    </tr>\n",
       "  </thead>\n",
       "  <tbody>\n",
       "    <tr>\n",
       "      <th>count</th>\n",
       "      <td>98360.000000</td>\n",
       "    </tr>\n",
       "    <tr>\n",
       "      <th>mean</th>\n",
       "      <td>35.099685</td>\n",
       "    </tr>\n",
       "    <tr>\n",
       "      <th>std</th>\n",
       "      <td>3.799406</td>\n",
       "    </tr>\n",
       "    <tr>\n",
       "      <th>min</th>\n",
       "      <td>1.000000</td>\n",
       "    </tr>\n",
       "    <tr>\n",
       "      <th>25%</th>\n",
       "      <td>33.000000</td>\n",
       "    </tr>\n",
       "    <tr>\n",
       "      <th>50%</th>\n",
       "      <td>35.000000</td>\n",
       "    </tr>\n",
       "    <tr>\n",
       "      <th>75%</th>\n",
       "      <td>38.000000</td>\n",
       "    </tr>\n",
       "    <tr>\n",
       "      <th>max</th>\n",
       "      <td>60.000000</td>\n",
       "    </tr>\n",
       "  </tbody>\n",
       "</table>\n",
       "</div>"
      ],
      "text/plain": [
       "                  0\n",
       "count  98360.000000\n",
       "mean      35.099685\n",
       "std        3.799406\n",
       "min        1.000000\n",
       "25%       33.000000\n",
       "50%       35.000000\n",
       "75%       38.000000\n",
       "max       60.000000"
      ]
     },
     "execution_count": 19,
     "metadata": {},
     "output_type": "execute_result"
    }
   ],
   "source": [
    "pd.DataFrame(text_len).describe()"
   ]
  },
  {
   "cell_type": "markdown",
   "id": "e8060930",
   "metadata": {},
   "source": [
    "헤드라인은 min = 1 , mean = 7 , max = 13 입니다  \n",
    "텍스트의 mean은 35이지만, 1개의 단어로만 되어있는 텍스트도 있고, mean의 1.5배가 넘는 텍스트도 있습니다  \n",
    "  \n",
    "전체 데이터수가 98360개, 그 중"
   ]
  },
  {
   "cell_type": "code",
   "execution_count": 20,
   "id": "8fa037fd",
   "metadata": {},
   "outputs": [
    {
     "name": "stdout",
     "output_type": "stream",
     "text": [
      "2 \t 20 \t 163 \t 998\n"
     ]
    }
   ],
   "source": [
    "print(headlines_len.count(1), \"\\t\", headlines_len.count(2), \"\\t\", headlines_len.count(3), \"\\t\", headlines_len.count(4))"
   ]
  },
  {
   "cell_type": "markdown",
   "id": "e72115bd",
   "metadata": {},
   "source": [
    "headline의 단어가 1개 2개 인 경우는 전체 데이터에서 매우 적은 숫자를 가지고 있으므로, 제거하겠습니다  \n",
    "headline이 짧은 경우를 학습시키고 싶지 않아서 입니다"
   ]
  },
  {
   "cell_type": "code",
   "execution_count": 21,
   "id": "3f8bc163",
   "metadata": {},
   "outputs": [
    {
     "name": "stdout",
     "output_type": "stream",
     "text": [
      "2 \t 23 \t 188 \t 1496\n"
     ]
    }
   ],
   "source": [
    "print(headlines_len.count(13), \"\\t\", headlines_len.count(12), \"\\t\", headlines_len.count(11), \"\\t\", headlines_len.count(10))"
   ]
  },
  {
   "cell_type": "markdown",
   "id": "f7c4e4a0",
   "metadata": {},
   "source": [
    "headline의 단어가 13개 12개 인 경우가 매우 적은 숫자를 가지므로, 제거하겠습니다  "
   ]
  },
  {
   "cell_type": "code",
   "execution_count": 22,
   "id": "baebb325",
   "metadata": {},
   "outputs": [
    {
     "data": {
      "text/plain": [
       "29"
      ]
     },
     "execution_count": 22,
     "metadata": {},
     "output_type": "execute_result"
    }
   ],
   "source": [
    "text_len[int(9836/2)]  #짧은쪽 5%의 경계값"
   ]
  },
  {
   "cell_type": "code",
   "execution_count": 23,
   "id": "4143897d",
   "metadata": {},
   "outputs": [
    {
     "name": "stdout",
     "output_type": "stream",
     "text": [
      "1 \t 0 \t 0 \t 0\n"
     ]
    }
   ],
   "source": [
    "print(text_len.count(1), \"\\t\", text_len.count(2), \"\\t\", text_len.count(3), \"\\t\", text_len.count(4))"
   ]
  },
  {
   "cell_type": "markdown",
   "id": "12f9749a",
   "metadata": {},
   "source": [
    "텍스트는 단어가 한개인 경우가 단 하나, 나머지 결측치가 제대로 제거가 안되었던걸까요? lms에서는 문장 하나하나를 떼서 전처리를 수행했지만, 저는 apply함수를 사용하여 간략히 사용했습니다  \n",
    "확인하도록 하겠습니다  "
   ]
  },
  {
   "cell_type": "code",
   "execution_count": 24,
   "id": "fa79e76f",
   "metadata": {},
   "outputs": [
    {
     "name": "stdout",
     "output_type": "stream",
     "text": [
      "text\n"
     ]
    }
   ],
   "source": [
    "for s in clean_df['text']:\n",
    "    if(len(s.split()) == 1):\n",
    "        print(s)"
   ]
  },
  {
   "cell_type": "code",
   "execution_count": 25,
   "id": "0c62621b",
   "metadata": {},
   "outputs": [
    {
     "name": "stdout",
     "output_type": "stream",
     "text": [
      "    headlines  text\n",
      "52  headlines  text\n"
     ]
    }
   ],
   "source": [
    "print(clean_df.loc[clean_df['text'] == 'text'])"
   ]
  },
  {
   "cell_type": "code",
   "execution_count": 26,
   "id": "16344ea4",
   "metadata": {},
   "outputs": [
    {
     "data": {
      "text/plain": [
       "headlines    headlines\n",
       "text              text\n",
       "Name: 52, dtype: object"
      ]
     },
     "execution_count": 26,
     "metadata": {},
     "output_type": "execute_result"
    }
   ],
   "source": [
    "clean_df.loc[52]"
   ]
  },
  {
   "cell_type": "markdown",
   "id": "30294bf7",
   "metadata": {},
   "source": [
    "52행에 뭔가 웃기는 값이 들어가있네요 하 ㅎ ㅋㅋㅋㅋㅋㅋㅋㅋㅋㅋㅋㅋㅋ 어쩐지 전처리하는데 왜!!! ㅋㅋㅋㅋ     \n",
    "드롭해줍니다  "
   ]
  },
  {
   "cell_type": "code",
   "execution_count": 27,
   "id": "833e6946",
   "metadata": {},
   "outputs": [],
   "source": [
    "clean_df.drop(52, inplace=True)"
   ]
  },
  {
   "cell_type": "markdown",
   "id": "108c9dc1",
   "metadata": {},
   "source": [
    "내용 길이분석을 위해, text_len list에서 1을 빼고 데이터를 다시 파악해보겠습니다"
   ]
  },
  {
   "cell_type": "code",
   "execution_count": 28,
   "id": "8c73030c",
   "metadata": {},
   "outputs": [
    {
     "data": {
      "text/html": [
       "<div>\n",
       "<style scoped>\n",
       "    .dataframe tbody tr th:only-of-type {\n",
       "        vertical-align: middle;\n",
       "    }\n",
       "\n",
       "    .dataframe tbody tr th {\n",
       "        vertical-align: top;\n",
       "    }\n",
       "\n",
       "    .dataframe thead th {\n",
       "        text-align: right;\n",
       "    }\n",
       "</style>\n",
       "<table border=\"1\" class=\"dataframe\">\n",
       "  <thead>\n",
       "    <tr style=\"text-align: right;\">\n",
       "      <th></th>\n",
       "      <th>0</th>\n",
       "    </tr>\n",
       "  </thead>\n",
       "  <tbody>\n",
       "    <tr>\n",
       "      <th>count</th>\n",
       "      <td>98359.000000</td>\n",
       "    </tr>\n",
       "    <tr>\n",
       "      <th>mean</th>\n",
       "      <td>35.100032</td>\n",
       "    </tr>\n",
       "    <tr>\n",
       "      <th>std</th>\n",
       "      <td>3.797869</td>\n",
       "    </tr>\n",
       "    <tr>\n",
       "      <th>min</th>\n",
       "      <td>18.000000</td>\n",
       "    </tr>\n",
       "    <tr>\n",
       "      <th>25%</th>\n",
       "      <td>33.000000</td>\n",
       "    </tr>\n",
       "    <tr>\n",
       "      <th>50%</th>\n",
       "      <td>35.000000</td>\n",
       "    </tr>\n",
       "    <tr>\n",
       "      <th>75%</th>\n",
       "      <td>38.000000</td>\n",
       "    </tr>\n",
       "    <tr>\n",
       "      <th>max</th>\n",
       "      <td>60.000000</td>\n",
       "    </tr>\n",
       "  </tbody>\n",
       "</table>\n",
       "</div>"
      ],
      "text/plain": [
       "                  0\n",
       "count  98359.000000\n",
       "mean      35.100032\n",
       "std        3.797869\n",
       "min       18.000000\n",
       "25%       33.000000\n",
       "50%       35.000000\n",
       "75%       38.000000\n",
       "max       60.000000"
      ]
     },
     "execution_count": 28,
     "metadata": {},
     "output_type": "execute_result"
    }
   ],
   "source": [
    "text_len.remove(1)\n",
    "pd.DataFrame(text_len).describe()"
   ]
  },
  {
   "cell_type": "markdown",
   "id": "7da91f92",
   "metadata": {},
   "source": [
    "제일 짧은 내용은 18단어 였습니다  \n",
    "짧은 내용은 아무튼! 남겨주기로 하고 내용이 긴 경우를 보겠습니다"
   ]
  },
  {
   "cell_type": "code",
   "execution_count": 29,
   "id": "61dc4e99",
   "metadata": {},
   "outputs": [
    {
     "data": {
      "text/plain": [
       "47"
      ]
     },
     "execution_count": 29,
     "metadata": {},
     "output_type": "execute_result"
    }
   ],
   "source": [
    "text_len[-98]"
   ]
  },
  {
   "cell_type": "markdown",
   "id": "10730548",
   "metadata": {},
   "source": [
    "10% 상위로 제일 긴 값 9830개는 단어가 41개, 5%는 42개, 등등이었습니다  \n",
    "98개는 데이터의 0.1%, 47개입니다  "
   ]
  },
  {
   "cell_type": "code",
   "execution_count": 30,
   "id": "f85d6eda",
   "metadata": {},
   "outputs": [
    {
     "name": "stdout",
     "output_type": "stream",
     "text": [
      "14 \t 4 \t 4 \t 3\n"
     ]
    }
   ],
   "source": [
    "print(text_len.count(50), \"\\t\", text_len.count(51), \"\\t\", text_len.count(52), \"\\t\", text_len.count(53))"
   ]
  },
  {
   "cell_type": "markdown",
   "id": "defcd3e4",
   "metadata": {},
   "source": [
    "50개가 넘어가는 경우는 정말 희박하군요!!  \n",
    "길이를 정하고 정제하겠습니다  \n",
    "정해진 길이에 맞춰 자르는 것이 아니라, 정해진 길이보다 길면 제외하는 방법으로 데이터를 정제하겠습니다"
   ]
  },
  {
   "cell_type": "code",
   "execution_count": 31,
   "id": "d883a89b",
   "metadata": {},
   "outputs": [
    {
     "data": {
      "text/plain": [
       "(98322, 2)"
      ]
     },
     "execution_count": 31,
     "metadata": {},
     "output_type": "execute_result"
    }
   ],
   "source": [
    "headlines_min_len = 2    #2개 이하는 제거\n",
    "headlines_max_len = 12\n",
    "text_max_len = 50\n",
    "\n",
    "clean_df = clean_df[clean_df['text'].apply(lambda x: len(x.split()) <= text_max_len)]\n",
    "clean_df = clean_df[clean_df['headlines'].apply(lambda x: len(x.split()) <= headlines_max_len)]\n",
    "clean_df = clean_df[clean_df['headlines'].apply(lambda x: len(x.split()) > headlines_min_len)]\n",
    "\n",
    "clean_df.shape"
   ]
  },
  {
   "cell_type": "markdown",
   "id": "82f006d9",
   "metadata": {},
   "source": [
    "98360개 중 38개가 제거되었습니다"
   ]
  },
  {
   "cell_type": "code",
   "execution_count": 32,
   "id": "18451cdf",
   "metadata": {},
   "outputs": [
    {
     "data": {
      "text/plain": [
       "[<matplotlib.lines.Line2D at 0x7f7a0aa0fe20>]"
      ]
     },
     "execution_count": 32,
     "metadata": {},
     "output_type": "execute_result"
    },
    {
     "data": {
      "image/png": "[encoded data removed]",
      "text/plain": [
       "<Figure size 864x432 with 2 Axes>"
      ]
     },
     "metadata": {
      "needs_background": "light"
     },
     "output_type": "display_data"
    }
   ],
   "source": [
    "headlines_len = [len(s.split()) for s in clean_df['headlines']]\n",
    "text_len = [len(s.split()) for s in clean_df['text']]\n",
    "\n",
    "headlines_len.sort()\n",
    "text_len.sort()\n",
    "\n",
    "fig = plt.figure(figsize = (12, 6))\n",
    "\n",
    "plt.subplot(1, 2, 1)\n",
    "plt.plot(headlines_len)\n",
    "\n",
    "plt.subplot(1, 2, 2)\n",
    "plt.plot(text_len)"
   ]
  },
  {
   "cell_type": "markdown",
   "id": "0dd5b807",
   "metadata": {},
   "source": [
    "데이터 분포 폭은 줄었지만, 사실 10만개에 가까운 데이터 중 20여개는 그렇게 큰 비중이 아닌지라,  \n",
    "내용을 많이 남긴것이 잘 선택한건지 모르겠긴합니다..  \n",
    "그래프에서 희박해보이는 시점을 기준으로 조금 더 쳐내고, 변화를 관찰하겠습니다"
   ]
  },
  {
   "cell_type": "code",
   "execution_count": 33,
   "id": "8e243063",
   "metadata": {},
   "outputs": [],
   "source": [
    "headlines_min_len = 4    \n",
    "headlines_max_len = 10\n",
    "text_min_len = 26\n",
    "text_max_len = 42\n",
    "\n",
    "dataset = clean_df.copy()\n",
    "\n",
    "dataset = dataset[dataset['text'].apply(lambda x: len(x.split()) <= text_max_len)]\n",
    "dataset = dataset[dataset['text'].apply(lambda x: len(x.split()) > text_min_len)]\n",
    "dataset = dataset[dataset['headlines'].apply(lambda x: len(x.split()) <= headlines_max_len)]\n",
    "dataset = dataset[dataset['headlines'].apply(lambda x: len(x.split()) > headlines_min_len)]\n",
    "\n"
   ]
  },
  {
   "cell_type": "code",
   "execution_count": 34,
   "id": "0017e1e7",
   "metadata": {},
   "outputs": [
    {
     "data": {
      "text/plain": [
       "(93476, 2)"
      ]
     },
     "execution_count": 34,
     "metadata": {},
     "output_type": "execute_result"
    }
   ],
   "source": [
    "dataset.shape"
   ]
  },
  {
   "cell_type": "code",
   "execution_count": 35,
   "id": "1cb4edd2",
   "metadata": {},
   "outputs": [
    {
     "data": {
      "text/plain": [
       "[<matplotlib.lines.Line2D at 0x7f7a0a9642b0>]"
      ]
     },
     "execution_count": 35,
     "metadata": {},
     "output_type": "execute_result"
    },
    {
     "data": {
      "image/png": "[encoded data removed]",
      "text/plain": [
       "<Figure size 864x432 with 2 Axes>"
      ]
     },
     "metadata": {
      "needs_background": "light"
     },
     "output_type": "display_data"
    }
   ],
   "source": [
    "headlines_len = [len(s.split()) for s in dataset['headlines']]\n",
    "text_len = [len(s.split()) for s in dataset['text']]\n",
    "\n",
    "headlines_len.sort()\n",
    "text_len.sort()\n",
    "\n",
    "fig = plt.figure(figsize = (12, 6))\n",
    "\n",
    "plt.subplot(1, 2, 1)\n",
    "plt.plot(headlines_len)\n",
    "\n",
    "plt.subplot(1, 2, 2)\n",
    "plt.plot(text_len)"
   ]
  },
  {
   "cell_type": "markdown",
   "id": "ab94fdd3",
   "metadata": {},
   "source": [
    "5000개 정도의 데이터가 사라졌군요! 5% 입니다  \n",
    "하지만 그래프가 예쁘네요.. 이걸로 사용하겠습니다  \n",
    "\n",
    "clean_df 와 dataset중 어느쪽이 바람직할지, 혹은 잘못된 전처리를 했다면 어떤식으로 했어야 했을지 피드백 꼭 부탁드립니다"
   ]
  },
  {
   "cell_type": "markdown",
   "id": "0878c252",
   "metadata": {},
   "source": [
    "#### 토큰 추가하기  \n",
    "디코더에 들어갈 값에는 SOS와 EOS를 추가해줍니다  "
   ]
  },
  {
   "cell_type": "code",
   "execution_count": 36,
   "id": "f6ee1dae",
   "metadata": {},
   "outputs": [
    {
     "data": {
      "text/html": [
       "<div>\n",
       "<style scoped>\n",
       "    .dataframe tbody tr th:only-of-type {\n",
       "        vertical-align: middle;\n",
       "    }\n",
       "\n",
       "    .dataframe tbody tr th {\n",
       "        vertical-align: top;\n",
       "    }\n",
       "\n",
       "    .dataframe thead th {\n",
       "        text-align: right;\n",
       "    }\n",
       "</style>\n",
       "<table border=\"1\" class=\"dataframe\">\n",
       "  <thead>\n",
       "    <tr style=\"text-align: right;\">\n",
       "      <th></th>\n",
       "      <th>headlines</th>\n",
       "      <th>text</th>\n",
       "      <th>decoder_input</th>\n",
       "      <th>decoder_target</th>\n",
       "    </tr>\n",
       "  </thead>\n",
       "  <tbody>\n",
       "    <tr>\n",
       "      <th>81934</th>\n",
       "      <td>chess great kasparov come retirement us ship</td>\n",
       "      <td>former russian chess champion garry kasparov s...</td>\n",
       "      <td>sostoken chess great kasparov come retirement ...</td>\n",
       "      <td>chess great kasparov come retirement us ship e...</td>\n",
       "    </tr>\n",
       "    <tr>\n",
       "      <th>64035</th>\n",
       "      <td>hawa hawai recreated tumhari sulu</td>\n",
       "      <td>sridevi starrer song hawa hawai film mr india ...</td>\n",
       "      <td>sostoken hawa hawai recreated tumhari sulu</td>\n",
       "      <td>hawa hawai recreated tumhari sulu eostoken</td>\n",
       "    </tr>\n",
       "    <tr>\n",
       "      <th>74328</th>\n",
       "      <td>trump praises nationwide protests bigotry hate</td>\n",
       "      <td>several protesters divided white supremacy gat...</td>\n",
       "      <td>sostoken trump praises nationwide protests big...</td>\n",
       "      <td>trump praises nationwide protests bigotry hate...</td>\n",
       "    </tr>\n",
       "    <tr>\n",
       "      <th>13108</th>\n",
       "      <td>gazing endangered monkeys picture wins top pho...</td>\n",
       "      <td>picture two golden snub nosed endangered monke...</td>\n",
       "      <td>sostoken gazing endangered monkeys picture win...</td>\n",
       "      <td>gazing endangered monkeys picture wins top pho...</td>\n",
       "    </tr>\n",
       "    <tr>\n",
       "      <th>64657</th>\n",
       "      <td>govt set portal nris track adoption requests</td>\n",
       "      <td>central adoption resource authority planning s...</td>\n",
       "      <td>sostoken govt set portal nris track adoption r...</td>\n",
       "      <td>govt set portal nris track adoption requests e...</td>\n",
       "    </tr>\n",
       "    <tr>\n",
       "      <th>96830</th>\n",
       "      <td>video shows ex congress mp telangana abusing cop</td>\n",
       "      <td>amid criticism shiv sena mp ravindra gaikwad a...</td>\n",
       "      <td>sostoken video shows ex congress mp telangana ...</td>\n",
       "      <td>video shows ex congress mp telangana abusing c...</td>\n",
       "    </tr>\n",
       "    <tr>\n",
       "      <th>40452</th>\n",
       "      <td>pubg sues rival fortnite copying game</td>\n",
       "      <td>pubg corp creator playerunknown battlegrounds ...</td>\n",
       "      <td>sostoken pubg sues rival fortnite copying game</td>\n",
       "      <td>pubg sues rival fortnite copying game eostoken</td>\n",
       "    </tr>\n",
       "    <tr>\n",
       "      <th>27803</th>\n",
       "      <td>top cop told inserting wood like object rape v...</td>\n",
       "      <td>gangrape victim ahmedabad claimed joint commis...</td>\n",
       "      <td>sostoken top cop told inserting wood like obje...</td>\n",
       "      <td>top cop told inserting wood like object rape v...</td>\n",
       "    </tr>\n",
       "    <tr>\n",
       "      <th>86968</th>\n",
       "      <td>darwaza band campaign stop open defecation lau...</td>\n",
       "      <td>government tuesday launched darwaza band campa...</td>\n",
       "      <td>sostoken darwaza band campaign stop open defec...</td>\n",
       "      <td>darwaza band campaign stop open defecation lau...</td>\n",
       "    </tr>\n",
       "    <tr>\n",
       "      <th>70016</th>\n",
       "      <td>six navy officers held brawl goa bar</td>\n",
       "      <td>six indian navy officers thursday detained two...</td>\n",
       "      <td>sostoken six navy officers held brawl goa bar</td>\n",
       "      <td>six navy officers held brawl goa bar eostoken</td>\n",
       "    </tr>\n",
       "    <tr>\n",
       "      <th>85843</th>\n",
       "      <td>mumbai man shot gangsters resumes work one month</td>\n",
       "      <td>bar worker mumbai shot chest unidentified gang...</td>\n",
       "      <td>sostoken mumbai man shot gangsters resumes wor...</td>\n",
       "      <td>mumbai man shot gangsters resumes work one mon...</td>\n",
       "    </tr>\n",
       "    <tr>\n",
       "      <th>11521</th>\n",
       "      <td>sa captain slip position chuckles aus player s...</td>\n",
       "      <td>south african captain faf du plessis standing ...</td>\n",
       "      <td>sostoken sa captain slip position chuckles aus...</td>\n",
       "      <td>sa captain slip position chuckles aus player s...</td>\n",
       "    </tr>\n",
       "    <tr>\n",
       "      <th>40126</th>\n",
       "      <td>cid probe deaths bjp workers found hanging wb</td>\n",
       "      <td>criminal investigation department investigate ...</td>\n",
       "      <td>sostoken cid probe deaths bjp workers found ha...</td>\n",
       "      <td>cid probe deaths bjp workers found hanging wb ...</td>\n",
       "    </tr>\n",
       "    <tr>\n",
       "      <th>28434</th>\n",
       "      <td>rupee plunges month low us dollar</td>\n",
       "      <td>indian rupee wednesday touched month low us do...</td>\n",
       "      <td>sostoken rupee plunges month low us dollar</td>\n",
       "      <td>rupee plunges month low us dollar eostoken</td>\n",
       "    </tr>\n",
       "    <tr>\n",
       "      <th>61196</th>\n",
       "      <td>chandigarh stalking accused bail rejected th time</td>\n",
       "      <td>chandigarh court monday rejected bail plea har...</td>\n",
       "      <td>sostoken chandigarh stalking accused bail reje...</td>\n",
       "      <td>chandigarh stalking accused bail rejected th t...</td>\n",
       "    </tr>\n",
       "    <tr>\n",
       "      <th>56599</th>\n",
       "      <td>pakistan cbfc refuses give clearance tiger zin...</td>\n",
       "      <td>central board film censors pakistan refused gr...</td>\n",
       "      <td>sostoken pakistan cbfc refuses give clearance ...</td>\n",
       "      <td>pakistan cbfc refuses give clearance tiger zin...</td>\n",
       "    </tr>\n",
       "    <tr>\n",
       "      <th>87410</th>\n",
       "      <td>amul thapar becomes nd indo american us appeal...</td>\n",
       "      <td>amul thapar thursday became second indian amer...</td>\n",
       "      <td>sostoken amul thapar becomes nd indo american ...</td>\n",
       "      <td>amul thapar becomes nd indo american us appeal...</td>\n",
       "    </tr>\n",
       "    <tr>\n",
       "      <th>95349</th>\n",
       "      <td>ola may raise cr tata rnt capital falcon edge</td>\n",
       "      <td>homegrown ride hailing startup ola reportedly ...</td>\n",
       "      <td>sostoken ola may raise cr tata rnt capital fal...</td>\n",
       "      <td>ola may raise cr tata rnt capital falcon edge ...</td>\n",
       "    </tr>\n",
       "    <tr>\n",
       "      <th>77745</th>\n",
       "      <td>boycott pranked air th hundred valid</td>\n",
       "      <td>former english cricketer geoff boycott pranked...</td>\n",
       "      <td>sostoken boycott pranked air th hundred valid</td>\n",
       "      <td>boycott pranked air th hundred valid eostoken</td>\n",
       "    </tr>\n",
       "    <tr>\n",
       "      <th>65384</th>\n",
       "      <td>radical russian artist sets fire bank france</td>\n",
       "      <td>pyotr pavlensky russian artist known radical p...</td>\n",
       "      <td>sostoken radical russian artist sets fire bank...</td>\n",
       "      <td>radical russian artist sets fire bank france e...</td>\n",
       "    </tr>\n",
       "  </tbody>\n",
       "</table>\n",
       "</div>"
      ],
      "text/plain": [
       "                                               headlines  \\\n",
       "81934       chess great kasparov come retirement us ship   \n",
       "64035                  hawa hawai recreated tumhari sulu   \n",
       "74328     trump praises nationwide protests bigotry hate   \n",
       "13108  gazing endangered monkeys picture wins top pho...   \n",
       "64657       govt set portal nris track adoption requests   \n",
       "96830   video shows ex congress mp telangana abusing cop   \n",
       "40452              pubg sues rival fortnite copying game   \n",
       "27803  top cop told inserting wood like object rape v...   \n",
       "86968  darwaza band campaign stop open defecation lau...   \n",
       "70016               six navy officers held brawl goa bar   \n",
       "85843   mumbai man shot gangsters resumes work one month   \n",
       "11521  sa captain slip position chuckles aus player s...   \n",
       "40126      cid probe deaths bjp workers found hanging wb   \n",
       "28434                  rupee plunges month low us dollar   \n",
       "61196  chandigarh stalking accused bail rejected th time   \n",
       "56599  pakistan cbfc refuses give clearance tiger zin...   \n",
       "87410  amul thapar becomes nd indo american us appeal...   \n",
       "95349      ola may raise cr tata rnt capital falcon edge   \n",
       "77745               boycott pranked air th hundred valid   \n",
       "65384       radical russian artist sets fire bank france   \n",
       "\n",
       "                                                    text  \\\n",
       "81934  former russian chess champion garry kasparov s...   \n",
       "64035  sridevi starrer song hawa hawai film mr india ...   \n",
       "74328  several protesters divided white supremacy gat...   \n",
       "13108  picture two golden snub nosed endangered monke...   \n",
       "64657  central adoption resource authority planning s...   \n",
       "96830  amid criticism shiv sena mp ravindra gaikwad a...   \n",
       "40452  pubg corp creator playerunknown battlegrounds ...   \n",
       "27803  gangrape victim ahmedabad claimed joint commis...   \n",
       "86968  government tuesday launched darwaza band campa...   \n",
       "70016  six indian navy officers thursday detained two...   \n",
       "85843  bar worker mumbai shot chest unidentified gang...   \n",
       "11521  south african captain faf du plessis standing ...   \n",
       "40126  criminal investigation department investigate ...   \n",
       "28434  indian rupee wednesday touched month low us do...   \n",
       "61196  chandigarh court monday rejected bail plea har...   \n",
       "56599  central board film censors pakistan refused gr...   \n",
       "87410  amul thapar thursday became second indian amer...   \n",
       "95349  homegrown ride hailing startup ola reportedly ...   \n",
       "77745  former english cricketer geoff boycott pranked...   \n",
       "65384  pyotr pavlensky russian artist known radical p...   \n",
       "\n",
       "                                           decoder_input  \\\n",
       "81934  sostoken chess great kasparov come retirement ...   \n",
       "64035         sostoken hawa hawai recreated tumhari sulu   \n",
       "74328  sostoken trump praises nationwide protests big...   \n",
       "13108  sostoken gazing endangered monkeys picture win...   \n",
       "64657  sostoken govt set portal nris track adoption r...   \n",
       "96830  sostoken video shows ex congress mp telangana ...   \n",
       "40452     sostoken pubg sues rival fortnite copying game   \n",
       "27803  sostoken top cop told inserting wood like obje...   \n",
       "86968  sostoken darwaza band campaign stop open defec...   \n",
       "70016      sostoken six navy officers held brawl goa bar   \n",
       "85843  sostoken mumbai man shot gangsters resumes wor...   \n",
       "11521  sostoken sa captain slip position chuckles aus...   \n",
       "40126  sostoken cid probe deaths bjp workers found ha...   \n",
       "28434         sostoken rupee plunges month low us dollar   \n",
       "61196  sostoken chandigarh stalking accused bail reje...   \n",
       "56599  sostoken pakistan cbfc refuses give clearance ...   \n",
       "87410  sostoken amul thapar becomes nd indo american ...   \n",
       "95349  sostoken ola may raise cr tata rnt capital fal...   \n",
       "77745      sostoken boycott pranked air th hundred valid   \n",
       "65384  sostoken radical russian artist sets fire bank...   \n",
       "\n",
       "                                          decoder_target  \n",
       "81934  chess great kasparov come retirement us ship e...  \n",
       "64035         hawa hawai recreated tumhari sulu eostoken  \n",
       "74328  trump praises nationwide protests bigotry hate...  \n",
       "13108  gazing endangered monkeys picture wins top pho...  \n",
       "64657  govt set portal nris track adoption requests e...  \n",
       "96830  video shows ex congress mp telangana abusing c...  \n",
       "40452     pubg sues rival fortnite copying game eostoken  \n",
       "27803  top cop told inserting wood like object rape v...  \n",
       "86968  darwaza band campaign stop open defecation lau...  \n",
       "70016      six navy officers held brawl goa bar eostoken  \n",
       "85843  mumbai man shot gangsters resumes work one mon...  \n",
       "11521  sa captain slip position chuckles aus player s...  \n",
       "40126  cid probe deaths bjp workers found hanging wb ...  \n",
       "28434         rupee plunges month low us dollar eostoken  \n",
       "61196  chandigarh stalking accused bail rejected th t...  \n",
       "56599  pakistan cbfc refuses give clearance tiger zin...  \n",
       "87410  amul thapar becomes nd indo american us appeal...  \n",
       "95349  ola may raise cr tata rnt capital falcon edge ...  \n",
       "77745      boycott pranked air th hundred valid eostoken  \n",
       "65384  radical russian artist sets fire bank france e...  "
      ]
     },
     "execution_count": 36,
     "metadata": {},
     "output_type": "execute_result"
    }
   ],
   "source": [
    "dataset['decoder_input'] = dataset['headlines'].apply(lambda x : 'sostoken '+ x)\n",
    "dataset['decoder_target'] = dataset['headlines'].apply(lambda x : x + ' eostoken')\n",
    "dataset.sample(20)"
   ]
  },
  {
   "cell_type": "markdown",
   "id": "5cd8d731",
   "metadata": {},
   "source": [
    "87003 번째를 보니, 잘 적용된듯이 보입니다"
   ]
  },
  {
   "cell_type": "markdown",
   "id": "509d0675",
   "metadata": {},
   "source": [
    "#### 데이터셋 분리  \n",
    "데이터셋을 train / validation / test용으로 분리합니다  "
   ]
  },
  {
   "cell_type": "code",
   "execution_count": 37,
   "id": "060d005b",
   "metadata": {},
   "outputs": [],
   "source": [
    "encoder_input = np.array(dataset['text']) # 인코더의 입력\n",
    "decoder_input = np.array(dataset['decoder_input']) # 디코더의 입력\n",
    "decoder_target = np.array(dataset['decoder_target']) # 디코더의 레이블"
   ]
  },
  {
   "cell_type": "code",
   "execution_count": 38,
   "id": "1761e4cd",
   "metadata": {},
   "outputs": [],
   "source": [
    "indices = np.arange(encoder_input.shape[0])\n",
    "np.random.shuffle(indices)\n",
    "\n",
    "#섞어주기\n",
    "encoder_input = encoder_input[indices]\n",
    "decoder_input = decoder_input[indices]\n",
    "decoder_target = decoder_target[indices]"
   ]
  },
  {
   "cell_type": "markdown",
   "id": "cfcd175f",
   "metadata": {},
   "source": [
    "전통적인 비율 6: 2 : 2로 데이터셋을 분리하여 train/validation/test로 사용합니다 "
   ]
  },
  {
   "cell_type": "code",
   "execution_count": 39,
   "id": "633e9173",
   "metadata": {},
   "outputs": [
    {
     "name": "stdout",
     "output_type": "stream",
     "text": [
      "테스트 데이터의 수 : 18695\n"
     ]
    }
   ],
   "source": [
    "n_of_val = int(len(encoder_input)*0.2)\n",
    "print('테스트 데이터의 수 :', n_of_val)"
   ]
  },
  {
   "cell_type": "code",
   "execution_count": 40,
   "id": "cd79cd39",
   "metadata": {},
   "outputs": [
    {
     "name": "stdout",
     "output_type": "stream",
     "text": [
      "훈련 데이터의 개수 : 56086\n",
      "훈련 레이블의 개수 : 56086\n",
      "훈련 레이블의 개수 : 56086\n",
      "검증 데이터의 개수 : 18695\n",
      "검증 레이블의 개수 : 18695\n",
      "검증 레이블의 개수 : 18695\n",
      "테스트 데이터의 개수 : 18695\n",
      "테스트 레이블의 개수 : 18695\n",
      "테스트 레이블의 개수 : 18695\n"
     ]
    }
   ],
   "source": [
    "encoder_input_train = encoder_input[:-2*(n_of_val)]\n",
    "decoder_input_train = decoder_input[:-2*(n_of_val)]\n",
    "decoder_target_train = decoder_target[:-2*(n_of_val)]\n",
    "\n",
    "encoder_input_valid = encoder_input[-2*(n_of_val):-n_of_val]\n",
    "decoder_input_valid = decoder_input[-2*(n_of_val):-n_of_val]\n",
    "decoder_target_valid = decoder_target[-2*(n_of_val):-n_of_val]\n",
    "\n",
    "encoder_input_test = encoder_input[-n_of_val:]\n",
    "decoder_input_test = decoder_input[-n_of_val:]\n",
    "decoder_target_test = decoder_target[-n_of_val:]\n",
    "\n",
    "print('훈련 데이터의 개수 :', len(encoder_input_train))\n",
    "print('훈련 레이블의 개수 :', len(decoder_input_train))\n",
    "print('훈련 레이블의 개수 :', len(decoder_target_train))\n",
    "\n",
    "print('검증 데이터의 개수 :', len(encoder_input_valid))\n",
    "print('검증 레이블의 개수 :', len(decoder_input_valid))\n",
    "print('검증 레이블의 개수 :', len(decoder_target_valid))\n",
    "\n",
    "print('테스트 데이터의 개수 :', len(encoder_input_test))\n",
    "print('테스트 레이블의 개수 :', len(decoder_input_test))\n",
    "print('테스트 레이블의 개수 :', len(decoder_target_test))"
   ]
  },
  {
   "cell_type": "markdown",
   "id": "d7b97e2e",
   "metadata": {},
   "source": [
    "#### 단어 집합 (vocab) 생성 정수 인코딩!!  \n",
    "#### 소스편"
   ]
  },
  {
   "cell_type": "code",
   "execution_count": 41,
   "id": "e3b6c27d",
   "metadata": {},
   "outputs": [],
   "source": [
    "src_tokenizer = Tokenizer() # 토크나이저 정의\n",
    "src_tokenizer.fit_on_texts(encoder_input_train) # 입력된 데이터로부터 단어 집합 생성"
   ]
  },
  {
   "cell_type": "markdown",
   "id": "4eadcaf1",
   "metadata": {},
   "source": [
    "빈도수가 낮은 단어들은 훈련 데이터에서 제외하기 위해, 희소 단어의 갯수를 조사합니다"
   ]
  },
  {
   "cell_type": "code",
   "execution_count": 42,
   "id": "d5a8d992",
   "metadata": {},
   "outputs": [],
   "source": [
    "def check_rares(tokenizer, threshold):\n",
    "\n",
    "    total_cnt = len(tokenizer.word_index) # 단어의 수\n",
    "    rare_cnt = 0 # 등장 빈도수가 threshold보다 작은 단어의 개수를 카운트\n",
    "    total_freq = 0 # 훈련 데이터의 전체 단어 빈도수 총 합\n",
    "    rare_freq = 0 # 등장 빈도수가 threshold보다 작은 단어의 등장 빈도수의 총 합\n",
    "\n",
    "    # 단어와 빈도수의 쌍(pair)을 key와 value로 받는다.\n",
    "    for key, value in tokenizer.word_counts.items():\n",
    "        total_freq = total_freq + value\n",
    "\n",
    "        # 단어의 등장 빈도수가 threshold보다 작으면\n",
    "        if(value < threshold):\n",
    "            rare_cnt = rare_cnt + 1\n",
    "            rare_freq = rare_freq + value\n",
    "\n",
    "    print('단어 집합(vocabulary)의 크기 :', total_cnt)\n",
    "    print('등장 빈도가 %s번 이하인 희귀 단어의 수: %s'%(threshold - 1, rare_cnt))\n",
    "    print('단어 집합에서 희귀 단어를 제외시킬 경우의 단어 집합의 크기 %s'%(total_cnt - rare_cnt))\n",
    "    print(\"단어 집합에서 희귀 단어의 비율:\", (rare_cnt / total_cnt)*100)\n",
    "    print(\"전체 등장 빈도에서 희귀 단어 등장 빈도 비율:\", (rare_freq / total_freq)*100)"
   ]
  },
  {
   "cell_type": "code",
   "execution_count": 43,
   "id": "75ce088b",
   "metadata": {},
   "outputs": [
    {
     "name": "stdout",
     "output_type": "stream",
     "text": [
      "단어 집합(vocabulary)의 크기 : 60043\n",
      "등장 빈도가 4번 이하인 희귀 단어의 수: 37511\n",
      "단어 집합에서 희귀 단어를 제외시킬 경우의 단어 집합의 크기 22532\n",
      "단어 집합에서 희귀 단어의 비율: 62.47356061489266\n",
      "전체 등장 빈도에서 희귀 단어 등장 빈도 비율: 3.2609326699293644\n",
      "\n",
      "단어 집합(vocabulary)의 크기 : 60043\n",
      "등장 빈도가 5번 이하인 희귀 단어의 수: 39659\n",
      "단어 집합에서 희귀 단어를 제외시킬 경우의 단어 집합의 크기 20384\n",
      "단어 집합에서 희귀 단어의 비율: 66.05099678563697\n",
      "전체 등장 빈도에서 희귀 단어 등장 빈도 비율: 3.807884457707997\n",
      "\n",
      "단어 집합(vocabulary)의 크기 : 60043\n",
      "등장 빈도가 6번 이하인 희귀 단어의 수: 41267\n",
      "단어 집합에서 희귀 단어를 제외시킬 경우의 단어 집합의 크기 18776\n",
      "단어 집합에서 희귀 단어의 비율: 68.7290774944623\n",
      "전체 등장 빈도에서 희귀 단어 등장 빈도 비율: 4.299224387734835\n",
      "\n",
      "단어 집합(vocabulary)의 크기 : 60043\n",
      "등장 빈도가 7번 이하인 희귀 단어의 수: 42559\n",
      "단어 집합에서 희귀 단어를 제외시킬 경우의 단어 집합의 크기 17484\n",
      "단어 집합에서 희귀 단어의 비율: 70.8808687107573\n",
      "전체 등장 빈도에서 희귀 단어 등장 빈도 비율: 4.7598046455253336\n",
      "\n",
      "단어 집합(vocabulary)의 크기 : 60043\n",
      "등장 빈도가 8번 이하인 희귀 단어의 수: 43615\n",
      "단어 집합에서 희귀 단어를 제외시킬 경우의 단어 집합의 크기 16428\n",
      "단어 집합에서 희귀 단어의 비율: 72.63960828073213\n",
      "전체 등장 빈도에서 희귀 단어 등장 빈도 비율: 5.190032643956794\n",
      "\n",
      "단어 집합(vocabulary)의 크기 : 60043\n",
      "등장 빈도가 9번 이하인 희귀 단어의 수: 44532\n",
      "단어 집합에서 희귀 단어를 제외시킬 경우의 단어 집합의 크기 15511\n",
      "단어 집합에서 희귀 단어의 비율: 74.16684709291674\n",
      "전체 등장 빈도에서 희귀 단어 등장 빈도 비율: 5.610329953504006\n"
     ]
    }
   ],
   "source": [
    "check_rares(src_tokenizer, 5)\n",
    "print()\n",
    "check_rares(src_tokenizer,6)\n",
    "print()\n",
    "check_rares(src_tokenizer,7)\n",
    "print()\n",
    "check_rares(src_tokenizer,8)\n",
    "print()\n",
    "check_rares(src_tokenizer,9)\n",
    "print()\n",
    "check_rares(src_tokenizer,10)"
   ]
  },
  {
   "cell_type": "markdown",
   "id": "b3b17f79",
   "metadata": {},
   "source": [
    "전체적으로 드라마틱한 변화가 있는 구간은 없습니다  \n",
    "threshold는 8을 사용하겠습니다  \n",
    "vocab은 17000개로 제한하겠습니다  "
   ]
  },
  {
   "cell_type": "code",
   "execution_count": 44,
   "id": "5a0d34fc",
   "metadata": {},
   "outputs": [],
   "source": [
    "threshold = 8\n",
    "src_vocab = 17000"
   ]
  },
  {
   "cell_type": "code",
   "execution_count": 45,
   "id": "c6506c74",
   "metadata": {},
   "outputs": [],
   "source": [
    "src_tokenizer = Tokenizer(num_words=src_vocab) # 단어 집합의 크기를 20000으로 제한\n",
    "src_tokenizer.fit_on_texts(encoder_input_train) # 단어 집합 재생성"
   ]
  },
  {
   "cell_type": "code",
   "execution_count": 46,
   "id": "427cf613",
   "metadata": {},
   "outputs": [
    {
     "name": "stdout",
     "output_type": "stream",
     "text": [
      "input\n",
      "[[282, 727, 252, 258, 1100, 12, 5536, 7240, 300, 10990, 112, 2, 621, 4850, 15512, 44, 510, 1449, 1559, 220, 2340, 44, 11358, 10, 300, 808, 5082, 1512], [317, 622, 335, 2, 568, 1655, 189, 3400, 610, 3, 189, 1610, 151, 302, 3071, 29, 3, 15513, 335, 12231, 10991, 2876, 5, 16, 120, 42, 2256, 1164, 719, 4283, 1186, 13333, 2464, 2016, 203, 222], [503, 303, 960, 9732, 2209, 1808, 1230, 105, 4692, 1082, 3299, 115, 2514, 26, 1715, 440, 60, 503, 918, 3299, 115, 28, 2602, 126, 6304, 4466, 413, 3719, 4466, 5865, 14692, 2705, 2706, 9732, 832, 1230, 414]]\n",
      "valid\n",
      "[[1056, 447, 612, 1839, 5258, 425, 170, 1, 24, 398, 420, 13, 1758, 7580, 16909, 1758, 865, 400, 3002, 6736, 4400, 80, 1236, 3380, 3712, 6, 1, 3541, 447, 126, 4072, 4073, 24, 119, 598, 157, 473, 6736, 32], [12030, 775, 8305, 21, 385, 868, 4638, 6, 363, 3368, 1417, 441, 167, 1192, 297, 1, 9823, 280, 1192, 839, 8209, 385, 1799, 297, 957, 2361, 295, 6953, 3181], [733, 190, 3710, 214, 5, 4210, 1750, 12483, 333, 839, 10, 4019, 5, 1261, 11562, 3238, 667, 5, 2966, 4650, 6531, 1121, 388, 324, 5163, 930, 214, 2191, 5, 4210, 7482, 81, 386, 675]]\n",
      "test\n",
      "[[459, 7145, 48, 1, 1929, 515, 52, 947, 165, 4, 1102, 221, 2138, 566, 822, 937, 7145, 1782, 947, 1449, 170, 598, 12, 8026, 1350, 1, 1539, 170, 947], [10, 3836, 186, 6787, 2117, 7, 589, 4108, 3192, 178, 916, 20, 99, 87, 933, 12174, 384, 186, 98, 1812, 5588, 3, 11, 1076, 944, 3196, 10624, 106, 4108, 4313, 504, 916, 20, 10659], [1049, 926, 549, 489, 267, 1399, 28, 1639, 8900, 40, 2430, 267, 957, 1970, 549, 1, 765, 356, 112, 23, 419, 1399, 40, 599, 793, 1992, 2557]]\n"
     ]
    }
   ],
   "source": [
    "# 텍스트 시퀀스를 정수 시퀀스로 변환\n",
    "encoder_input_train = src_tokenizer.texts_to_sequences(encoder_input_train) \n",
    "encoder_input_valid = src_tokenizer.texts_to_sequences(encoder_input_valid) \n",
    "encoder_input_test = src_tokenizer.texts_to_sequences(encoder_input_test)\n",
    "\n",
    "# 잘 진행되었는지 샘플 출력\n",
    "print(\"input\")\n",
    "print(encoder_input_train[:3])\n",
    "print(\"valid\")\n",
    "print(encoder_input_valid[:3])\n",
    "print(\"test\")\n",
    "print(encoder_input_test[:3])"
   ]
  },
  {
   "cell_type": "markdown",
   "id": "8ff1b2be",
   "metadata": {},
   "source": [
    "#### 타겟편"
   ]
  },
  {
   "cell_type": "code",
   "execution_count": 47,
   "id": "ea30e0a4",
   "metadata": {},
   "outputs": [],
   "source": [
    "tar_tokenizer = Tokenizer()\n",
    "tar_tokenizer.fit_on_texts(decoder_input_train)"
   ]
  },
  {
   "cell_type": "code",
   "execution_count": 48,
   "id": "757727f9",
   "metadata": {},
   "outputs": [
    {
     "name": "stdout",
     "output_type": "stream",
     "text": [
      "단어 집합(vocabulary)의 크기 : 26398\n",
      "등장 빈도가 4번 이하인 희귀 단어의 수: 16797\n",
      "단어 집합에서 희귀 단어를 제외시킬 경우의 단어 집합의 크기 9601\n",
      "단어 집합에서 희귀 단어의 비율: 63.629820440942495\n",
      "전체 등장 빈도에서 희귀 단어 등장 빈도 비율: 6.290948440762076\n",
      "\n",
      "단어 집합(vocabulary)의 크기 : 26398\n",
      "등장 빈도가 5번 이하인 희귀 단어의 수: 17824\n",
      "단어 집합에서 희귀 단어를 제외시킬 경우의 단어 집합의 크기 8574\n",
      "단어 집합에서 희귀 단어의 비율: 67.52026668687023\n",
      "전체 등장 빈도에서 희귀 단어 등장 빈도 비율: 7.413512302294315\n",
      "\n",
      "단어 집합(vocabulary)의 크기 : 26398\n",
      "등장 빈도가 6번 이하인 희귀 단어의 수: 18598\n",
      "단어 집합에서 희귀 단어를 제외시킬 경우의 단어 집합의 크기 7800\n",
      "단어 집합에서 희귀 단어의 비율: 70.45230699295402\n",
      "전체 등장 빈도에서 희귀 단어 등장 빈도 비율: 8.428738509296403\n",
      "\n",
      "단어 집합(vocabulary)의 크기 : 26398\n",
      "등장 빈도가 7번 이하인 희귀 단어의 수: 19260\n",
      "단어 집합에서 희귀 단어를 제외시킬 경우의 단어 집합의 크기 7138\n",
      "단어 집합에서 희귀 단어의 비율: 72.96007273278279\n",
      "전체 등장 빈도에서 희귀 단어 등장 빈도 비율: 9.441778613354902\n",
      "\n",
      "단어 집합(vocabulary)의 크기 : 26398\n",
      "등장 빈도가 8번 이하인 희귀 단어의 수: 19798\n",
      "단어 집합에서 희귀 단어를 제외시킬 경우의 단어 집합의 크기 6600\n",
      "단어 집합에서 희귀 단어의 비율: 74.99810591711493\n",
      "전체 등장 빈도에서 희귀 단어 등장 빈도 비율: 10.382677320275011\n",
      "\n",
      "단어 집합(vocabulary)의 크기 : 26398\n",
      "등장 빈도가 9번 이하인 희귀 단어의 수: 20270\n",
      "단어 집합에서 희귀 단어를 제외시킬 경우의 단어 집합의 크기 6128\n",
      "단어 집합에서 희귀 단어의 비율: 76.78612016061822\n",
      "전체 등장 빈도에서 희귀 단어 등장 빈도 비율: 11.31133385071103\n"
     ]
    }
   ],
   "source": [
    "check_rares(tar_tokenizer, 5)\n",
    "print()\n",
    "check_rares(tar_tokenizer,6)\n",
    "print()\n",
    "check_rares(tar_tokenizer,7)\n",
    "print()\n",
    "check_rares(tar_tokenizer,8)\n",
    "print()\n",
    "check_rares(tar_tokenizer,9)\n",
    "print()\n",
    "check_rares(tar_tokenizer,10)"
   ]
  },
  {
   "cell_type": "markdown",
   "id": "650e84c2",
   "metadata": {},
   "source": [
    "전체적으로 드라마틱한 변화가 있는 구간은 없습니다  \n",
    "threshold는 7을 사용하겠습니다  \n",
    "vocab은 7000개로 제한하겠습니다  "
   ]
  },
  {
   "cell_type": "code",
   "execution_count": 49,
   "id": "060bedb3",
   "metadata": {},
   "outputs": [],
   "source": [
    "tar_vocab = 7000\n",
    "threshold = 7"
   ]
  },
  {
   "cell_type": "code",
   "execution_count": 50,
   "id": "9b94e2a6",
   "metadata": {},
   "outputs": [
    {
     "name": "stdout",
     "output_type": "stream",
     "text": [
      "input\n",
      "input  [[1, 28, 4032, 107, 397, 6130, 433, 3], [1, 3, 405, 345, 159, 393, 21], [1, 202, 331, 3299, 2099, 82, 4211, 3198, 36, 3094], [1, 157, 788, 25, 1232, 6602, 4614], [1, 393, 109, 1161, 1909, 42]]\n",
      "valid\n",
      "valid  [[1, 169, 334, 503, 267, 4706, 136, 51, 1572, 2453], [1, 609, 3527, 1452, 56, 266, 907], [1, 348, 29, 534], [1, 2239, 3465, 312, 3, 52, 940, 1267, 1177], [1, 1818, 2584, 5816, 2050, 1982, 5210, 288]]\n",
      "target\n",
      "decoder  [[28, 4032, 107, 397, 6130, 433, 3, 2], [3, 405, 345, 159, 393, 21, 2], [202, 331, 3299, 2099, 82, 4211, 3198, 36, 3094, 2], [157, 788, 25, 1232, 6602, 4614, 2], [393, 109, 1161, 1909, 42, 2]]\n"
     ]
    }
   ],
   "source": [
    "tar_tokenizer = Tokenizer(num_words=tar_vocab) \n",
    "tar_tokenizer.fit_on_texts(decoder_input_train)\n",
    "tar_tokenizer.fit_on_texts(decoder_target_train)\n",
    "\n",
    "# 텍스트 시퀀스를 정수 시퀀스로 변환\n",
    "decoder_input_train = tar_tokenizer.texts_to_sequences(decoder_input_train) \n",
    "decoder_target_train = tar_tokenizer.texts_to_sequences(decoder_target_train)\n",
    "\n",
    "decoder_input_valid = tar_tokenizer.texts_to_sequences(decoder_input_valid) \n",
    "decoder_target_valid = tar_tokenizer.texts_to_sequences(decoder_target_valid)\n",
    "\n",
    "decoder_input_test = tar_tokenizer.texts_to_sequences(decoder_input_test)\n",
    "decoder_target_test = tar_tokenizer.texts_to_sequences(decoder_target_test)\n",
    "\n",
    "# 잘 변환되었는지 확인\n",
    "print('input')\n",
    "print('input ',decoder_input_train[:5])\n",
    "print('valid')\n",
    "print('valid ',decoder_input_valid[:5])\n",
    "print('target')\n",
    "print('decoder ',decoder_target_train[:5])"
   ]
  },
  {
   "cell_type": "markdown",
   "id": "5c1e7c82",
   "metadata": {},
   "source": [
    "내부적으로는 값이 다르긴 한데, 발리데이션 왜 처음부터 계속 1 이나오는걸까요 몇번을 해봐도 똑같습니다 이상해요"
   ]
  },
  {
   "cell_type": "markdown",
   "id": "0e56b818",
   "metadata": {},
   "source": [
    "특히 헤드라인에서, 낮은 빈도수의 단어들을 삭제하는 과정 중 내용이 없이 토큰만 남은 빈 샘플이 생겼을 가능성이 있습니다  \n",
    "해당 케이스를 input / output에서 삭제하도록 합니다"
   ]
  },
  {
   "cell_type": "code",
   "execution_count": 51,
   "id": "a78e3cd4",
   "metadata": {},
   "outputs": [
    {
     "name": "stdout",
     "output_type": "stream",
     "text": [
      "삭제할 훈련 데이터의 개수 : 0\n",
      "삭제할 평가 데이터의 개수 : 0\n",
      "삭제할 테스트 데이터의 개수 : 0\n",
      "훈련 데이터의 개수 : 56086\n",
      "훈련 레이블의 개수 : 56086\n",
      "평가 데이터의 개수 : 18695\n",
      "평가 레이블의 개수 : 18695\n",
      "테스트 데이터의 개수 : 18695\n",
      "테스트 레이블의 개수 : 18695\n"
     ]
    }
   ],
   "source": [
    "drop_train = [index for index, sentence in enumerate(decoder_input_train) if len(sentence) == 1]\n",
    "drop_valid = [index for index, sentence in enumerate(decoder_input_valid) if len(sentence) == 1]\n",
    "drop_test = [index for index, sentence in enumerate(decoder_input_test) if len(sentence) == 1]\n",
    "\n",
    "print('삭제할 훈련 데이터의 개수 :', len(drop_train))\n",
    "print('삭제할 평가 데이터의 개수 :', len(drop_valid))\n",
    "print('삭제할 테스트 데이터의 개수 :', len(drop_test))\n",
    "\n",
    "encoder_input_train = [sentence for index, sentence in enumerate(encoder_input_train) if index not in drop_train]\n",
    "decoder_input_train = [sentence for index, sentence in enumerate(decoder_input_train) if index not in drop_train]\n",
    "decoder_target_train = [sentence for index, sentence in enumerate(decoder_target_train) if index not in drop_train]\n",
    "\n",
    "encoder_input_vaild = [sentence for index, sentence in enumerate(encoder_input_valid) if index not in drop_valid]\n",
    "decoder_input_vaild = [sentence for index, sentence in enumerate(decoder_input_valid) if index not in drop_valid]\n",
    "decoder_target_vaild = [sentence for index, sentence in enumerate(decoder_target_valid) if index not in drop_valid]\n",
    "\n",
    "encoder_input_test = [sentence for index, sentence in enumerate(encoder_input_test) if index not in drop_test]\n",
    "decoder_input_test = [sentence for index, sentence in enumerate(decoder_input_test) if index not in drop_test]\n",
    "decoder_target_test = [sentence for index, sentence in enumerate(decoder_target_test) if index not in drop_test]\n",
    "\n",
    "print('훈련 데이터의 개수 :', len(encoder_input_train))\n",
    "print('훈련 레이블의 개수 :', len(decoder_input_train))\n",
    "print('평가 데이터의 개수 :', len(encoder_input_vaild))\n",
    "print('평가 레이블의 개수 :', len(decoder_input_vaild))\n",
    "print('테스트 데이터의 개수 :', len(encoder_input_test))\n",
    "print('테스트 레이블의 개수 :', len(decoder_input_test))"
   ]
  },
  {
   "cell_type": "markdown",
   "id": "e2389cea",
   "metadata": {},
   "source": [
    "실제로 제거된 데이터가 없었습니다  \n",
    "모두 의미가 있었군요  "
   ]
  },
  {
   "cell_type": "markdown",
   "id": "b6bbc2fb",
   "metadata": {},
   "source": [
    "### 패딩  \n",
    "숫자 0을 넣어 짧은 문장의 뒤쪽을 최대 길이까지 0으로 채워줍니다  \n",
    "모든 문장이 같은 길이를 가질때까지!!  "
   ]
  },
  {
   "cell_type": "code",
   "execution_count": 52,
   "id": "238411f9",
   "metadata": {},
   "outputs": [],
   "source": [
    "encoder_input_train = pad_sequences(encoder_input_train, maxlen=text_max_len, padding='post')\n",
    "encoder_input_valid = pad_sequences(encoder_input_valid, maxlen=text_max_len, padding='post')\n",
    "encoder_input_test = pad_sequences(encoder_input_test, maxlen=text_max_len, padding='post')\n",
    "\n",
    "decoder_input_train = pad_sequences(decoder_input_train, maxlen=headlines_max_len, padding='post')\n",
    "decoder_input_valid = pad_sequences(decoder_input_valid, maxlen=headlines_max_len, padding='post')\n",
    "decoder_input_test = pad_sequences(decoder_input_test, maxlen=headlines_max_len, padding='post')\n",
    "\n",
    "decoder_target_train = pad_sequences(decoder_target_train, maxlen=headlines_max_len, padding='post')\n",
    "decoder_target_valid = pad_sequences(decoder_target_valid, maxlen=headlines_max_len, padding='post')\n",
    "decoder_target_test = pad_sequences(decoder_target_test, maxlen=headlines_max_len, padding='post')"
   ]
  },
  {
   "cell_type": "markdown",
   "id": "3802610e",
   "metadata": {},
   "source": [
    "## 어텐션 매커니즘 사용하기  (추상적 요약)  \n",
    "어텐션 매커니즘을 활용한 seq2seq을 설계합니다 "
   ]
  },
  {
   "cell_type": "markdown",
   "id": "809e2216",
   "metadata": {},
   "source": [
    "### 인코더 설계하기"
   ]
  },
  {
   "cell_type": "code",
   "execution_count": 53,
   "id": "803aedd5",
   "metadata": {},
   "outputs": [],
   "source": [
    "from tensorflow.keras.layers import Input, LSTM, Embedding, Dense, Concatenate, TimeDistributed\n",
    "from tensorflow.keras.models import Model\n",
    "from tensorflow.keras.callbacks import EarlyStopping, ModelCheckpoint\n",
    "\n",
    "\n",
    "# 인코더 설계 시작\n",
    "embedding_dim = 128\n",
    "hidden_size = 256\n",
    "\n",
    "# 인코더\n",
    "encoder_inputs = Input(shape=(text_max_len,))\n",
    "\n",
    "# 인코더의 임베딩 층\n",
    "enc_emb = Embedding(src_vocab, embedding_dim)(encoder_inputs)\n",
    "\n",
    "# 인코더의 LSTM 1\n",
    "# encoder_lstm1 = LSTM(hidden_size, return_sequences=True, return_state=True ,dropout = 0.4, recurrent_dropout = 0.4)\n",
    "encoder_lstm1 = LSTM(hidden_size, return_sequences=True, return_state=True ,dropout = 0.4)\n",
    "encoder_output1, state_h1, state_c1 = encoder_lstm1(enc_emb)\n",
    "\n",
    "# 인코더의 LSTM 2\n",
    "# encoder_lstm2 = LSTM(hidden_size, return_sequences=True, return_state=True, dropout=0.4, recurrent_dropout=0.4)\n",
    "encoder_lstm2 = LSTM(hidden_size, return_sequences=True, return_state=True, dropout=0.4)\n",
    "encoder_output2, state_h2, state_c2 = encoder_lstm2(encoder_output1)\n",
    "\n",
    "# 인코더의 LSTM 3\n",
    "# encoder_lstm3 = LSTM(hidden_size, return_state=True, return_sequences=True, dropout=0.4, recurrent_dropout=0.4)\n",
    "encoder_lstm3 = LSTM(hidden_size, return_state=True, return_sequences=True, dropout=0.4)\n",
    "encoder_outputs, state_h, state_c= encoder_lstm3(encoder_output2)"
   ]
  },
  {
   "cell_type": "markdown",
   "id": "e267d3c8",
   "metadata": {},
   "source": [
    "### 디코더 설계하기"
   ]
  },
  {
   "cell_type": "code",
   "execution_count": 54,
   "id": "7eac6571",
   "metadata": {},
   "outputs": [],
   "source": [
    "# 디코더 설계\n",
    "decoder_inputs = Input(shape=(None,))\n",
    "\n",
    "# 디코더의 임베딩 층\n",
    "dec_emb_layer = Embedding(tar_vocab, embedding_dim)\n",
    "dec_emb = dec_emb_layer(decoder_inputs)\n",
    "\n",
    "# 디코더의 LSTM\n",
    "# decoder_lstm = LSTM(hidden_size, return_sequences=True, return_state=True, dropout=0.4, recurrent_dropout=0.2)\n",
    "decoder_lstm = LSTM(hidden_size, return_sequences=True, return_state=True, dropout=0.4)\n",
    "decoder_outputs, _, _ = decoder_lstm(dec_emb, initial_state=[state_h, state_c])"
   ]
  },
  {
   "cell_type": "markdown",
   "id": "f0c1a21f",
   "metadata": {},
   "source": [
    "### 어텐션 매커니즘 구성"
   ]
  },
  {
   "cell_type": "code",
   "execution_count": 55,
   "id": "e0aa655a",
   "metadata": {},
   "outputs": [
    {
     "name": "stdout",
     "output_type": "stream",
     "text": [
      "Model: \"model\"\n",
      "__________________________________________________________________________________________________\n",
      "Layer (type)                    Output Shape         Param #     Connected to                     \n",
      "==================================================================================================\n",
      "input_1 (InputLayer)            [(None, 42)]         0                                            \n",
      "__________________________________________________________________________________________________\n",
      "embedding (Embedding)           (None, 42, 128)      2176000     input_1[0][0]                    \n",
      "__________________________________________________________________________________________________\n",
      "lstm (LSTM)                     [(None, 42, 256), (N 394240      embedding[0][0]                  \n",
      "__________________________________________________________________________________________________\n",
      "input_2 (InputLayer)            [(None, None)]       0                                            \n",
      "__________________________________________________________________________________________________\n",
      "lstm_1 (LSTM)                   [(None, 42, 256), (N 525312      lstm[0][0]                       \n",
      "__________________________________________________________________________________________________\n",
      "embedding_1 (Embedding)         (None, None, 128)    896000      input_2[0][0]                    \n",
      "__________________________________________________________________________________________________\n",
      "lstm_2 (LSTM)                   [(None, 42, 256), (N 525312      lstm_1[0][0]                     \n",
      "__________________________________________________________________________________________________\n",
      "lstm_3 (LSTM)                   [(None, None, 256),  394240      embedding_1[0][0]                \n",
      "                                                                 lstm_2[0][1]                     \n",
      "                                                                 lstm_2[0][2]                     \n",
      "__________________________________________________________________________________________________\n",
      "attention_layer (AdditiveAttent (None, None, 256)    256         lstm_3[0][0]                     \n",
      "                                                                 lstm_2[0][0]                     \n",
      "__________________________________________________________________________________________________\n",
      "concat_layer (Concatenate)      (None, None, 512)    0           lstm_3[0][0]                     \n",
      "                                                                 attention_layer[0][0]            \n",
      "__________________________________________________________________________________________________\n",
      "dense (Dense)                   (None, None, 7000)   3591000     concat_layer[0][0]               \n",
      "==================================================================================================\n",
      "Total params: 8,502,360\n",
      "Trainable params: 8,502,360\n",
      "Non-trainable params: 0\n",
      "__________________________________________________________________________________________________\n"
     ]
    }
   ],
   "source": [
    "from tensorflow.keras.layers import AdditiveAttention\n",
    "\n",
    "# 어텐션 층(어텐션 함수)\n",
    "attn_layer = AdditiveAttention(name='attention_layer')\n",
    "\n",
    "# 인코더와 디코더의 모든 time step의 hidden state를 어텐션 층에 전달하고 결과를 리턴\n",
    "attn_out = attn_layer([decoder_outputs, encoder_outputs])\n",
    "\n",
    "\n",
    "# 어텐션의 결과와 디코더의 hidden state들을 연결\n",
    "decoder_concat_input = Concatenate(axis=-1, name='concat_layer')([decoder_outputs, attn_out])\n",
    "\n",
    "# 디코더의 출력층\n",
    "decoder_softmax_layer = Dense(tar_vocab, activation='softmax')\n",
    "decoder_softmax_outputs = decoder_softmax_layer(decoder_concat_input)\n",
    "\n",
    "# 모델 정의\n",
    "model = Model([encoder_inputs, decoder_inputs], decoder_softmax_outputs)\n",
    "model.summary()"
   ]
  },
  {
   "cell_type": "code",
   "execution_count": 56,
   "id": "e455cf88",
   "metadata": {},
   "outputs": [
    {
     "name": "stdout",
     "output_type": "stream",
     "text": [
      "Epoch 1/50\n",
      "220/220 [==============================] - 46s 81ms/step - loss: 5.3645 - val_loss: 5.0659\n",
      "Epoch 2/50\n",
      "220/220 [==============================] - 17s 77ms/step - loss: 4.8882 - val_loss: 4.7251\n",
      "Epoch 3/50\n",
      "220/220 [==============================] - 17s 77ms/step - loss: 4.6039 - val_loss: 4.5675\n",
      "Epoch 4/50\n",
      "220/220 [==============================] - 17s 79ms/step - loss: 4.3853 - val_loss: 4.3870\n",
      "Epoch 5/50\n",
      "220/220 [==============================] - 18s 80ms/step - loss: 4.1887 - val_loss: 4.2258\n",
      "Epoch 6/50\n",
      "220/220 [==============================] - 18s 81ms/step - loss: 4.0153 - val_loss: 4.1457\n",
      "Epoch 7/50\n",
      "220/220 [==============================] - 18s 83ms/step - loss: 3.8630 - val_loss: 4.0585\n",
      "Epoch 8/50\n",
      "220/220 [==============================] - 18s 82ms/step - loss: 3.7297 - val_loss: 3.9864\n",
      "Epoch 9/50\n",
      "220/220 [==============================] - 18s 81ms/step - loss: 3.6107 - val_loss: 3.9458\n",
      "Epoch 10/50\n",
      "220/220 [==============================] - 18s 81ms/step - loss: 3.5015 - val_loss: 3.8893\n",
      "Epoch 11/50\n",
      "220/220 [==============================] - 18s 82ms/step - loss: 3.4026 - val_loss: 3.8545\n",
      "Epoch 12/50\n",
      "220/220 [==============================] - 18s 82ms/step - loss: 3.3091 - val_loss: 3.8232\n",
      "Epoch 13/50\n",
      "220/220 [==============================] - 18s 82ms/step - loss: 3.2234 - val_loss: 3.7882\n",
      "Epoch 14/50\n",
      "220/220 [==============================] - 18s 82ms/step - loss: 3.1404 - val_loss: 3.7755\n",
      "Epoch 15/50\n",
      "220/220 [==============================] - 18s 82ms/step - loss: 3.0639 - val_loss: 3.7525\n",
      "Epoch 16/50\n",
      "220/220 [==============================] - 18s 82ms/step - loss: 2.9900 - val_loss: 3.7486\n",
      "Epoch 17/50\n",
      "220/220 [==============================] - 18s 82ms/step - loss: 2.9219 - val_loss: 3.7444\n",
      "Epoch 18/50\n",
      "220/220 [==============================] - 18s 82ms/step - loss: 2.8555 - val_loss: 3.7382\n",
      "Epoch 19/50\n",
      "220/220 [==============================] - 18s 82ms/step - loss: 2.7931 - val_loss: 3.7419\n",
      "Epoch 20/50\n",
      "220/220 [==============================] - 18s 82ms/step - loss: 2.7334 - val_loss: 3.7341\n",
      "Epoch 21/50\n",
      "220/220 [==============================] - 18s 82ms/step - loss: 2.6761 - val_loss: 3.7387\n",
      "Epoch 22/50\n",
      "220/220 [==============================] - 18s 82ms/step - loss: 2.6198 - val_loss: 3.7358\n",
      "Epoch 00022: early stopping\n"
     ]
    }
   ],
   "source": [
    "model.compile(optimizer='rmsprop', loss='sparse_categorical_crossentropy')\n",
    "es = EarlyStopping(monitor='val_loss', patience=2, verbose=1)\n",
    "history = model.fit(x=[encoder_input_train, decoder_input_train], y= decoder_target_train, \\\n",
    "          validation_data=([encoder_input_valid, decoder_input_valid], decoder_target_valid), \\\n",
    "          batch_size=256, callbacks=[es], epochs=50)"
   ]
  },
  {
   "cell_type": "markdown",
   "id": "2d9c511f",
   "metadata": {},
   "source": [
    "20 에폭 후 train이 멈췄습니다  \n",
    "코드를 처음부터 다시 시작하니 변동이 생겼습니다  "
   ]
  },
  {
   "cell_type": "code",
   "execution_count": 57,
   "id": "a2dfd579",
   "metadata": {},
   "outputs": [
    {
     "data": {
      "text/plain": [
       "{'loss': [5.364515781402588,\n",
       "  4.888217926025391,\n",
       "  4.603901386260986,\n",
       "  4.385280132293701,\n",
       "  4.188668727874756,\n",
       "  4.015286922454834,\n",
       "  3.8630175590515137,\n",
       "  3.7296576499938965,\n",
       "  3.610665798187256,\n",
       "  3.5014960765838623,\n",
       "  3.4026436805725098,\n",
       "  3.309140682220459,\n",
       "  3.2233798503875732,\n",
       "  3.1404435634613037,\n",
       "  3.063927412033081,\n",
       "  2.9899604320526123,\n",
       "  2.921903133392334,\n",
       "  2.8554959297180176,\n",
       "  2.7931408882141113,\n",
       "  2.7333619594573975,\n",
       "  2.6760644912719727,\n",
       "  2.6198253631591797],\n",
       " 'val_loss': [5.065858840942383,\n",
       "  4.72507905960083,\n",
       "  4.567490100860596,\n",
       "  4.386962890625,\n",
       "  4.225769996643066,\n",
       "  4.145671367645264,\n",
       "  4.058462619781494,\n",
       "  3.9864261150360107,\n",
       "  3.9458444118499756,\n",
       "  3.8893282413482666,\n",
       "  3.8545007705688477,\n",
       "  3.8231558799743652,\n",
       "  3.7882113456726074,\n",
       "  3.7754814624786377,\n",
       "  3.752547025680542,\n",
       "  3.7486116886138916,\n",
       "  3.7443652153015137,\n",
       "  3.738191604614258,\n",
       "  3.7418887615203857,\n",
       "  3.7340779304504395,\n",
       "  3.738651752471924,\n",
       "  3.7358145713806152]}"
      ]
     },
     "execution_count": 57,
     "metadata": {},
     "output_type": "execute_result"
    }
   ],
   "source": [
    "history.history"
   ]
  },
  {
   "cell_type": "markdown",
   "id": "ad9d9747",
   "metadata": {},
   "source": [
    "loss밖에 기록이 남지 않았군요.. accuracy가 안찍히길래 확인해봤습니다"
   ]
  },
  {
   "cell_type": "code",
   "execution_count": 58,
   "id": "d118f6c4",
   "metadata": {},
   "outputs": [
    {
     "data": {
      "image/png": "[encoded data removed]",
      "text/plain": [
       "<Figure size 864x432 with 1 Axes>"
      ]
     },
     "metadata": {
      "needs_background": "light"
     },
     "output_type": "display_data"
    }
   ],
   "source": [
    "fig = plt.figure(figsize = (12, 6))\n",
    "\n",
    "plt.plot(history.history['loss'], label='train')\n",
    "plt.plot(history.history['val_loss'], label='valid')\n",
    "plt.title('loss')\n",
    "plt.legend()\n",
    "plt.show()"
   ]
  },
  {
   "cell_type": "markdown",
   "id": "27c3ccaf",
   "metadata": {},
   "source": [
    "train의 loss는 점점 줄어듬을, validation loss는 어느 순간부터 줄어들지 않으며 train과 점차 격차가 커짐을 확인했습니다"
   ]
  },
  {
   "cell_type": "markdown",
   "id": "063a6788",
   "metadata": {},
   "source": [
    "## 실제 결과와 요약문 비교하기 (추상적 요약)  \n",
    "인퍼런스 모델을 설계, 추상적 요약을 시도합니다  "
   ]
  },
  {
   "cell_type": "markdown",
   "id": "4ffaebdf",
   "metadata": {},
   "source": [
    "Seq2Seq는 훈련과정과 동작과정의 방식이 달라, 모델을 별개로 진행해야합니다  \n",
    "먼저 복원을 위해 단어사전을 준비합니다  "
   ]
  },
  {
   "cell_type": "code",
   "execution_count": 59,
   "id": "cb50050f",
   "metadata": {},
   "outputs": [],
   "source": [
    "src_index_to_word = src_tokenizer.index_word # 원문 단어 집합에서 정수 -> 단어를 얻음\n",
    "tar_word_to_index = tar_tokenizer.word_index # 요약 단어 집합에서 단어 -> 정수를 얻음\n",
    "tar_index_to_word = tar_tokenizer.index_word # 요약 단어 집합에서 정수 -> 단어를 얻음"
   ]
  },
  {
   "cell_type": "markdown",
   "id": "889b39b3",
   "metadata": {},
   "source": [
    "인퍼런스 모델을 설계합니다  \n",
    "훈련과정과 다르게, 분리해서 설계합니다"
   ]
  },
  {
   "cell_type": "code",
   "execution_count": 60,
   "id": "1a8f42e1",
   "metadata": {},
   "outputs": [],
   "source": [
    "# 인코더 설계\n",
    "encoder_model = Model(inputs=encoder_inputs, outputs=[encoder_outputs, state_h, state_c])\n",
    "\n",
    "# 이전 시점의 상태들을 저장하는 텐서\n",
    "decoder_state_input_h = Input(shape=(hidden_size,))\n",
    "decoder_state_input_c = Input(shape=(hidden_size,))\n",
    "\n",
    "dec_emb2 = dec_emb_layer(decoder_inputs)\n",
    "\n",
    "# 문장의 다음 단어를 예측하기 위해서 초기 상태(initial_state)를 이전 시점의 상태로 사용. 이는 뒤의 함수 decode_sequence()에 구현\n",
    "# 훈련 과정에서와 달리 LSTM의 리턴하는 은닉 상태와 셀 상태인 state_h와 state_c를 버리지 않음.\n",
    "decoder_outputs2, state_h2, state_c2 = decoder_lstm(dec_emb2, initial_state=[decoder_state_input_h, decoder_state_input_c])\n"
   ]
  },
  {
   "cell_type": "code",
   "execution_count": 61,
   "id": "930516d7",
   "metadata": {},
   "outputs": [],
   "source": [
    "# 어텐션 함수\n",
    "decoder_hidden_state_input = Input(shape=(text_max_len, hidden_size))\n",
    "attn_out_inf = attn_layer([decoder_outputs2, decoder_hidden_state_input])\n",
    "decoder_inf_concat = Concatenate(axis=-1, name='concat')([decoder_outputs2, attn_out_inf])\n",
    "\n",
    "# 디코더의 출력층\n",
    "decoder_outputs2 = decoder_softmax_layer(decoder_inf_concat) \n",
    "\n",
    "# 최종 디코더 모델\n",
    "decoder_model = Model(\n",
    "    [decoder_inputs] + [decoder_hidden_state_input,decoder_state_input_h, decoder_state_input_c],\n",
    "    [decoder_outputs2] + [state_h2, state_c2])"
   ]
  },
  {
   "cell_type": "markdown",
   "id": "3ca4d2a8",
   "metadata": {},
   "source": [
    "인퍼런스 단계에서, 단어 시퀀스를 완성하는 함수입니다"
   ]
  },
  {
   "cell_type": "code",
   "execution_count": 62,
   "id": "419ed19d",
   "metadata": {},
   "outputs": [],
   "source": [
    "def decode_sequence(input_seq):\n",
    "    # 입력으로부터 인코더의 상태를 얻음\n",
    "    e_out, e_h, e_c = encoder_model.predict(input_seq)\n",
    "\n",
    "     # <SOS>에 해당하는 토큰 생성\n",
    "    target_seq = np.zeros((1,1))\n",
    "    target_seq[0, 0] = tar_word_to_index['sostoken']\n",
    "\n",
    "    stop_condition = False\n",
    "    decoded_sentence = ''\n",
    "    while not stop_condition: # stop_condition이 True가 될 때까지 루프 반복\n",
    "\n",
    "        output_tokens, h, c = decoder_model.predict([target_seq] + [e_out, e_h, e_c])\n",
    "        sampled_token_index = np.argmax(output_tokens[0, -1, :])\n",
    "        sampled_token = tar_index_to_word[sampled_token_index]\n",
    "\n",
    "        if (sampled_token!='eostoken'):\n",
    "            decoded_sentence += ' '+sampled_token\n",
    "\n",
    "        #  <eos>에 도달하거나 최대 길이를 넘으면 중단.\n",
    "        if (sampled_token == 'eostoken'  or len(decoded_sentence.split()) >= (headlines_max_len-1)):\n",
    "            stop_condition = True\n",
    "\n",
    "        # 길이가 1인 타겟 시퀀스를 업데이트\n",
    "        target_seq = np.zeros((1,1))\n",
    "        target_seq[0, 0] = sampled_token_index\n",
    "\n",
    "        # 상태를 업데이트 합니다.\n",
    "        e_h, e_c = h, c\n",
    "\n",
    "    return decoded_sentence"
   ]
  },
  {
   "cell_type": "markdown",
   "id": "1e54e3f5",
   "metadata": {},
   "source": [
    "테스트를 위한 함수입니다"
   ]
  },
  {
   "cell_type": "code",
   "execution_count": 63,
   "id": "a30a099c",
   "metadata": {},
   "outputs": [],
   "source": [
    "# 원문의 정수 시퀀스를 텍스트 시퀀스로 변환\n",
    "def seq2text(input_seq):\n",
    "    temp=''\n",
    "    for i in input_seq:\n",
    "        if (i!=0):\n",
    "            temp = temp + src_index_to_word[i]+' '\n",
    "    return temp\n",
    "\n",
    "# 요약문의 정수 시퀀스를 텍스트 시퀀스로 변환\n",
    "def seq2summary(input_seq):\n",
    "    temp=''\n",
    "    for i in input_seq:\n",
    "        if ((i!=0 and i!=tar_word_to_index['sostoken']) and i!=tar_word_to_index['eostoken']):\n",
    "            temp = temp + tar_index_to_word[i] + ' '\n",
    "    return temp"
   ]
  },
  {
   "cell_type": "code",
   "execution_count": 64,
   "id": "7cd78f55",
   "metadata": {},
   "outputs": [
    {
     "name": "stdout",
     "output_type": "stream",
     "text": [
      "원문 : singer mika singh said success bollywood actor akshay kumar added believe hit songs till date featured mika invited akshay reality show great indian laughter challenge said honour show akshay \n",
      "실제 요약 : success wood akshay kumar mika singh \n",
      "예측 요약 :  akshay kumar star film report\n",
      "\n",
      "\n",
      "원문 : people iraqi city mosul celebrated first muslim eid holiday without islamic state since sunday militants ejected much city however expressed destruction year old grand al mosque leaning notably eid prayers allowed islamic state festivities \n",
      "실제 요약 : mosul celebrates first eid without islamic state years \n",
      "예측 요약 :  german soldiers gets lakh isis\n",
      "\n",
      "\n",
      "원문 : billionaire elon musk denied founder bitcoin former spacex intern claimed probably founder claim true musk said friend sent part years know bitcoin claimed founded whose identity unknown \n",
      "실제 요약 : elon musk denies founder bitcoin \n",
      "예측 요약 :  musk user says billionaire\n",
      "\n",
      "\n",
      "원문 : amid controversy data breach unique identification authority india announced virtual id restricted know customer service data safety temporary digit virtual id randomly generated used instead actual aadhaar number authentication limited kyc would eliminate third parties storing aadhaar number \n",
      "실제 요약 : aadhaar body introduce virtual id improve privacy \n",
      "예측 요약 :  fb data breach data breach\n",
      "\n",
      "\n",
      "원문 : us fashion brand guess tuesday said co founder paul resigned executive chairman allegations improper conduct including kissing groping special committee found exercised poor judgement communications models photographers guess also reached settlements five individuals amounting \n",
      "실제 요약 : co founder paul quits kissing claims \n",
      "예측 요약 :  billionaire sues twitter ceo\n",
      "\n",
      "\n",
      "원문 : us based startup labs developed allows users control computer mouse minds device collection small circuit boards together gold contacts reads signals passing brain hand device work anywhere upper arm independent muscle movement \n",
      "실제 요약 : startup creates let users control mind \n",
      "예측 요약 :  startup makes device lets users without\n",
      "\n",
      "\n",
      "원문 : india ranked th global startup ecosystem according report released global startup ecosystem map list measuring startup ecosystem strength activity topped united states followed united kingdom interestingly india ranked latin american countries mexico chile stood respectively \n",
      "실제 요약 : india ranks th global startup report \n",
      "예측 요약 :  india top ranked world largest startups\n",
      "\n",
      "\n",
      "원문 : india fiscal deficit april november reached budgeted target current fiscal year ends march fiscal deficit stood trillion net tax receipts first eight months trillion government data showed government wednesday said would borrow additional crore current fiscal \n",
      "실제 요약 : india april nov fiscal deficit hits full yr target \n",
      "예측 요약 :  sbi gdp fiscal deficit fy\n",
      "\n",
      "\n",
      "원문 : air traffic controller detained us state north carolina possessing transporting acquiring weapon mass destruction police said question believed kind explosive device reports said suspect roommate also arrested manufacturing possessing \n",
      "실제 요약 : airport official held weapon mass \n",
      "예측 요약 :  russia deploys hoax bomb bomb threat\n",
      "\n",
      "\n",
      "원문 : chhattisgarh government sunday decided discontinue printing logo rss ideologue upadhyaya official documents department logo used previous bjp government upadhyaya birth centenary celebrations centenary year reason logo continued used cm bhupesh baghel said \n",
      "실제 요약 : chhattisgarh government use logo \n",
      "예측 요약 :  andhra cm calls online online\n",
      "\n",
      "\n"
     ]
    }
   ],
   "source": [
    "for i in range(10):\n",
    "    print(\"원문 :\", seq2text(encoder_input_test[i]))\n",
    "    print(\"실제 요약 :\", seq2summary(decoder_input_test[i]))\n",
    "    print(\"예측 요약 :\", decode_sequence(encoder_input_test[i].reshape(1, text_max_len)))\n",
    "    print(\"\\n\")"
   ]
  },
  {
   "cell_type": "markdown",
   "id": "5e0da449",
   "metadata": {},
   "source": [
    "결과가 놀랍도록 안좋네요......... 그렇지만 정말 재밌습니다!!"
   ]
  },
  {
   "cell_type": "markdown",
   "id": "d4833da2",
   "metadata": {},
   "source": [
    "## 추출적 요약 해보기  \n",
    "패키지 summa를 사용하여 추출요약을 시행 후 비교해봅니다"
   ]
  },
  {
   "cell_type": "code",
   "execution_count": 65,
   "id": "c0775758",
   "metadata": {},
   "outputs": [],
   "source": [
    "from summa.summarizer import summarize"
   ]
  },
  {
   "cell_type": "markdown",
   "id": "872ed7d7",
   "metadata": {},
   "source": [
    "이미 구현된 모듈을 가져와 확인만 해보는 과정입니다!  "
   ]
  },
  {
   "cell_type": "code",
   "execution_count": 68,
   "id": "829fb656",
   "metadata": {},
   "outputs": [
    {
     "name": "stdout",
     "output_type": "stream",
     "text": [
      "원문 : singer mika singh said success bollywood actor akshay kumar added believe hit songs till date featured mika invited akshay reality show great indian laughter challenge said honour show akshay \n",
      "실제 요약 : success wood akshay kumar mika singh \n",
      "예측 요약 : \n",
      "\n",
      "\n",
      "원문 : people iraqi city mosul celebrated first muslim eid holiday without islamic state since sunday militants ejected much city however expressed destruction year old grand al mosque leaning notably eid prayers allowed islamic state festivities \n",
      "실제 요약 : mosul celebrates first eid without islamic state years \n",
      "예측 요약 : \n",
      "\n",
      "\n",
      "원문 : billionaire elon musk denied founder bitcoin former spacex intern claimed probably founder claim true musk said friend sent part years know bitcoin claimed founded whose identity unknown \n",
      "실제 요약 : elon musk denies founder bitcoin \n",
      "예측 요약 : \n",
      "\n",
      "\n",
      "원문 : amid controversy data breach unique identification authority india announced virtual id restricted know customer service data safety temporary digit virtual id randomly generated used instead actual aadhaar number authentication limited kyc would eliminate third parties storing aadhaar number \n",
      "실제 요약 : aadhaar body introduce virtual id improve privacy \n",
      "예측 요약 : \n",
      "\n",
      "\n",
      "원문 : us fashion brand guess tuesday said co founder paul resigned executive chairman allegations improper conduct including kissing groping special committee found exercised poor judgement communications models photographers guess also reached settlements five individuals amounting \n",
      "실제 요약 : co founder paul quits kissing claims \n",
      "예측 요약 : \n",
      "\n",
      "\n",
      "원문 : us based startup labs developed allows users control computer mouse minds device collection small circuit boards together gold contacts reads signals passing brain hand device work anywhere upper arm independent muscle movement \n",
      "실제 요약 : startup creates let users control mind \n",
      "예측 요약 : \n",
      "\n",
      "\n",
      "원문 : india ranked th global startup ecosystem according report released global startup ecosystem map list measuring startup ecosystem strength activity topped united states followed united kingdom interestingly india ranked latin american countries mexico chile stood respectively \n",
      "실제 요약 : india ranks th global startup report \n",
      "예측 요약 : \n",
      "\n",
      "\n",
      "원문 : india fiscal deficit april november reached budgeted target current fiscal year ends march fiscal deficit stood trillion net tax receipts first eight months trillion government data showed government wednesday said would borrow additional crore current fiscal \n",
      "실제 요약 : india april nov fiscal deficit hits full yr target \n",
      "예측 요약 : \n",
      "\n",
      "\n",
      "원문 : air traffic controller detained us state north carolina possessing transporting acquiring weapon mass destruction police said question believed kind explosive device reports said suspect roommate also arrested manufacturing possessing \n",
      "실제 요약 : airport official held weapon mass \n",
      "예측 요약 : \n",
      "\n",
      "\n",
      "원문 : chhattisgarh government sunday decided discontinue printing logo rss ideologue upadhyaya official documents department logo used previous bjp government upadhyaya birth centenary celebrations centenary year reason logo continued used cm bhupesh baghel said \n",
      "실제 요약 : chhattisgarh government use logo \n",
      "예측 요약 : \n",
      "\n",
      "\n"
     ]
    }
   ],
   "source": [
    "for i in range(10):\n",
    "    print(\"원문 :\", seq2text(encoder_input_test[i]))\n",
    "    print(\"실제 요약 :\", seq2summary(decoder_input_test[i]))\n",
    "    #복원한 원문을 다시 넣어줍니다\n",
    "    #encoder_input_test 선언당시의 원본데이터 지켰어야했는데ㅠㅠ\n",
    "    print(\"예측 요약 :\" , summarize(seq2text(encoder_input_test[i]), ratio=0.005))   \n",
    "    print(\"\\n\")\n"
   ]
  },
  {
   "cell_type": "markdown",
   "id": "a9d4bf48",
   "metadata": {},
   "source": [
    "? 안나오네요?"
   ]
  },
  {
   "cell_type": "code",
   "execution_count": 69,
   "id": "455bd43f",
   "metadata": {},
   "outputs": [
    {
     "name": "stdout",
     "output_type": "stream",
     "text": [
      "contents : singer mika singh said success bollywood actor akshay kumar added believe hit songs till date featured mika invited akshay reality show great indian laughter challenge said honour show akshay \n",
      "type : <class 'str'>\n"
     ]
    }
   ],
   "source": [
    "contents = seq2text(encoder_input_test[0])\n",
    "print(\"contents :\" , contents)\n",
    "print(\"type :\" , type(contents))"
   ]
  },
  {
   "cell_type": "code",
   "execution_count": 70,
   "id": "8a1c5508",
   "metadata": {},
   "outputs": [
    {
     "data": {
      "text/plain": [
       "''"
      ]
     },
     "execution_count": 70,
     "metadata": {},
     "output_type": "execute_result"
    }
   ],
   "source": [
    "summarize(contents)"
   ]
  },
  {
   "cell_type": "markdown",
   "id": "09ddd7db",
   "metadata": {},
   "source": [
    "타입도 맞는데, 요약이 안됩니다  \n",
    "뭔가 오류있는 모듈을 쓰는것일까?  \n",
    "lms에서 수행했던 예문으로 해보겠습니다"
   ]
  },
  {
   "cell_type": "code",
   "execution_count": 71,
   "id": "5fcabb93",
   "metadata": {},
   "outputs": [
    {
     "data": {
      "text/plain": [
       "str"
      ]
     },
     "execution_count": 71,
     "metadata": {},
     "output_type": "execute_result"
    }
   ],
   "source": [
    "import requests\n",
    "text = requests.get('http://rare-technologies.com/the_matrix_synopsis.txt').text\n",
    "type(text)"
   ]
  },
  {
   "cell_type": "code",
   "execution_count": 72,
   "id": "baab138d",
   "metadata": {},
   "outputs": [
    {
     "name": "stdout",
     "output_type": "stream",
     "text": [
      "The screen is filled with green, cascading code which gives way to the title, The Matrix.\r\n",
      "\r\n",
      "A phone rings and text appears on the screen: \"Call trans opt: received. 2-19-98 13:24:18 REC: Log>\" As a conversation takes place between Trinity (Carrie-Anne Moss) and Cypher (Joe Pantoliano), two free humans, a table of random green numbers are being scanned and individual numbers selected, creating a series of digits not unlike an ordinary phone number, as if a code is being deciphered or a call is being traced.\r\n",
      "\r\n",
      "Trinity discusses some unknown person. Cypher taunts Trinity, suggesting she enjoys watching him. Trinity counters that \"Morpheus (Laurence Fishburne) says he may be 'the One',\" just as the sound of a number being selected alerts Trinity that someone may be tracing their call. She ends the call.\r\n",
      "\r\n",
      "Armed policemen move down a darkened, decrepit hallway in the Heart O' the City Hotel, their flashlight beam bouncing just ahead of them. They come to room 303, kick down the door and find a woman dressed in black, facing away from them. It's Trinity. She brings her hands up from the laptop she's working on at their command.\r\n",
      "\r\n",
      "Outside the hotel a car drives up and three agents appear in neatly pressed black suits. They are Agent Smith (Hugo Weaving), Agent Brown (Paul Goddard), and Agent Jones (Robert Taylor). Agent Smith and the presiding police lieutenant argue. Agent Smith admonishes the policeman that they were given specific orders to contact the agents first, for their\n"
     ]
    }
   ],
   "source": [
    "print(text[:1500])"
   ]
  },
  {
   "cell_type": "code",
   "execution_count": 73,
   "id": "d8ea024d",
   "metadata": {},
   "outputs": [
    {
     "name": "stdout",
     "output_type": "stream",
     "text": [
      "Summary:\n",
      "Morpheus, Trinity, Neo, Apoc, Switch, Mouse and Cypher are jacked into the Matrix.\n",
      "Trinity brings the helicopter down to the floor that Morpheus is on and Neo opens fire on the three Agents.\n"
     ]
    }
   ],
   "source": [
    "print('Summary:')\n",
    "print(summarize(text, ratio=0.005))"
   ]
  },
  {
   "cell_type": "markdown",
   "id": "68292262",
   "metadata": {},
   "source": [
    "#### 외부에서 가져온 문자열은 잘 파싱이 됩니다"
   ]
  },
  {
   "cell_type": "code",
   "execution_count": 79,
   "id": "adfec6a0",
   "metadata": {},
   "outputs": [
    {
     "name": "stdout",
     "output_type": "stream",
     "text": [
      "문자열 직접 넣으면 ? :  \n"
     ]
    }
   ],
   "source": [
    "print(\"문자열 직접 넣으면 ? : \", summarize('whatsapp top mobile app overall time spent users spent billion hours app last three months app analytics company said monday whatsapp followed wechat facebook terms time spent among gaming apps clash garnered time spent billion hours', ratio=0.005))"
   ]
  },
  {
   "cell_type": "markdown",
   "id": "1977efb5",
   "metadata": {},
   "source": [
    "#### 직접 복사를 해서 써봐도 안됩니다   \n",
    "#### 복원된 데이터가 아닌, 원본 데이터를 사용해서 확인   "
   ]
  },
  {
   "cell_type": "code",
   "execution_count": 80,
   "id": "8c968316",
   "metadata": {},
   "outputs": [
    {
     "data": {
      "text/plain": [
       "['saurav kant alumnus upgrad iiit pg program machine learning artificial intelligence sr systems engineer infosys almost years work experience program upgrad degree career support helped transition data scientist tech mahindra salary hike upgrad online power learning powered lakh careers',\n",
       " 'new zealand defeated india wickets fourth odi hamilton thursday win first match five match odi series india lost international match rohit sharma captaincy consecutive victories dating back march match witnessed india getting seventh lowest total odi cricket history',\n",
       " 'aegon life iterm insurance plan customers enjoy tax benefits premiums paid save taxes plan provides life cover age years also customers options insure critical illnesses disability accidental death benefit rider life cover age years',\n",
       " 'speaking sexual harassment allegations rajkumar hirani sonam kapoor said known hirani many years true metoo movement get derailed metoo movement always believe woman case need reserve judgment added hirani accused assistant worked sanju',\n",
       " 'pakistani singer rahat fateh ali khan denied receiving notice enforcement directorate allegedly smuggling foreign currency india would better authorities would served notice first publicised reads press release issued behalf rahat statement called allegation bizarre']"
      ]
     },
     "execution_count": 80,
     "metadata": {},
     "output_type": "execute_result"
    }
   ],
   "source": [
    "orig = dataset['text'].copy().values.tolist()\n",
    "orig[0:5]"
   ]
  },
  {
   "cell_type": "code",
   "execution_count": 81,
   "id": "f6982f11",
   "metadata": {},
   "outputs": [
    {
     "name": "stdout",
     "output_type": "stream",
     "text": [
      "원문 : saurav kant alumnus upgrad iiit pg program machine learning artificial intelligence sr systems engineer infosys almost years work experience program upgrad degree career support helped transition data scientist tech mahindra salary hike upgrad online power learning powered lakh careers\n",
      "예측 요약 : \n",
      "\n",
      "\n",
      "원문 : new zealand defeated india wickets fourth odi hamilton thursday win first match five match odi series india lost international match rohit sharma captaincy consecutive victories dating back march match witnessed india getting seventh lowest total odi cricket history\n",
      "예측 요약 : \n",
      "\n",
      "\n",
      "원문 : aegon life iterm insurance plan customers enjoy tax benefits premiums paid save taxes plan provides life cover age years also customers options insure critical illnesses disability accidental death benefit rider life cover age years\n",
      "예측 요약 : \n",
      "\n",
      "\n",
      "원문 : speaking sexual harassment allegations rajkumar hirani sonam kapoor said known hirani many years true metoo movement get derailed metoo movement always believe woman case need reserve judgment added hirani accused assistant worked sanju\n",
      "예측 요약 : \n",
      "\n",
      "\n",
      "원문 : pakistani singer rahat fateh ali khan denied receiving notice enforcement directorate allegedly smuggling foreign currency india would better authorities would served notice first publicised reads press release issued behalf rahat statement called allegation bizarre\n",
      "예측 요약 : \n",
      "\n",
      "\n",
      "원문 : india recorded lowest odi total new zealand getting runs overs fourth odi hamilton thursday seven india batsmen dismissed single digit scores number ten batsman yuzvendra chahal top scored india previous lowest odi total new zealand\n",
      "예측 요약 : \n",
      "\n",
      "\n",
      "원문 : weeks ex cbi director alok verma told department personnel training consider retired home ministry asked join work last day fixed tenure director thursday ministry directed immediately join dg fire services post transferred removal cbi chief\n",
      "예측 요약 : \n",
      "\n",
      "\n",
      "원문 : andhra pradesh cm chandrababu naidu said met us president bill clinton addressed mr clinton sir modi junior politics addressed sir times satisfy ego hope justice state added\n",
      "예측 요약 : \n",
      "\n",
      "\n",
      "원문 : congress candidate shafia zubair ramgarh assembly seat rajasthan defeating bjp sukhwant singh margin votes bypoll victory congress taken total seats member assembly election ramgarh seat delayed due death sitting mla bsp candidate laxman singh\n",
      "예측 요약 : \n",
      "\n",
      "\n",
      "원문 : two minor cousins uttar pradesh gorakhpur allegedly repeatedly burnt tongs forced eat human excreta family friends two boys school cousins revealed ordeal police child welfare committee brought back gorakhpur nepal fled escape torture\n",
      "예측 요약 : \n",
      "\n",
      "\n"
     ]
    }
   ],
   "source": [
    "#범위가 달라서 비교할 수 없습니다. 일단 출력이 되는 것을 우선으로\n",
    "\n",
    "for i in range(10):\n",
    "    print(\"원문 :\", orig[i])\n",
    "    print(\"예측 요약 :\" , (summarize(orig[i], ratio=0.005))) \n",
    "    print(\"\\n\")\n",
    "    "
   ]
  },
  {
   "cell_type": "markdown",
   "id": "ead8a320",
   "metadata": {},
   "source": [
    "### 또 예측실패"
   ]
  },
  {
   "cell_type": "code",
   "execution_count": 82,
   "id": "42da6704",
   "metadata": {},
   "outputs": [
    {
     "data": {
      "text/plain": [
       "str"
      ]
     },
     "execution_count": 82,
     "metadata": {},
     "output_type": "execute_result"
    }
   ],
   "source": [
    "type(orig[0])"
   ]
  },
  {
   "cell_type": "markdown",
   "id": "6fa9615b",
   "metadata": {},
   "source": [
    "분명히 str인데 예측실패.."
   ]
  },
  {
   "cell_type": "markdown",
   "id": "21a7424d",
   "metadata": {},
   "source": [
    "### 문장을 여러개 붙이면 어떨까요?"
   ]
  },
  {
   "cell_type": "code",
   "execution_count": 83,
   "id": "d8d4144d",
   "metadata": {},
   "outputs": [],
   "source": [
    "test_txt = ''\n",
    "for i in range(100):\n",
    "    test_txt += orig[0] #0번째 문장 100번 붙여주는거 맞습니다\n",
    "    test_txt += ' '"
   ]
  },
  {
   "cell_type": "code",
   "execution_count": 84,
   "id": "25941a51",
   "metadata": {},
   "outputs": [
    {
     "name": "stdout",
     "output_type": "stream",
     "text": [
      "예측 요약 : \n"
     ]
    }
   ],
   "source": [
    "print(\"예측 요약 :\" , summarize(test_txt, ratio=0.005))"
   ]
  },
  {
   "cell_type": "markdown",
   "id": "05331e78",
   "metadata": {},
   "source": [
    "그래도 안되는군요"
   ]
  },
  {
   "cell_type": "code",
   "execution_count": 85,
   "id": "db1d0514",
   "metadata": {},
   "outputs": [
    {
     "name": "stdout",
     "output_type": "stream",
     "text": [
      "Help on function summarize in module summa.summarizer:\n",
      "\n",
      "summarize(text, ratio=0.2, words=None, language='english', split=False, scores=False, additional_stopwords=None)\n",
      "\n"
     ]
    }
   ],
   "source": [
    "help(summarize)"
   ]
  },
  {
   "cell_type": "markdown",
   "id": "44193d05",
   "metadata": {},
   "source": [
    "아쉽지만 다음 차례에 꼭 시도해보도록 합니다 그런데 진짜 왜 안될까요?  \n",
    "각 출력이 바로바로 이루어지지 않아서, 뭔가의 내부적인 연산은 분명히 이루어졌습니다  \n",
    "이 부분도 피드백 꼭 부탁드리겠습니다"
   ]
  },
  {
   "cell_type": "markdown",
   "id": "b6736e05",
   "metadata": {},
   "source": [
    "## 회고  \n",
    "\n",
    "스스로 vision people 이라고 생각했는데 nlp가 재밌어져서 큰입입니다 ㅎㅎ 물론 이쪽 공부 또한 이어나갈 생각입니다  \n",
    "\n",
    "이미지도 전처리를 이렇게 디테일하게 할 일이 있었을까? 하면 잘 모르겠습니다  \n",
    "(앞으로 많이 생길 것 같긴 합니다)  \n",
    "전처리의 적정선이 궁금해지는 프로젝트 진행이었습니다  \n",
    "\n",
    "아직 어텐션 알고리즘이나, nlp에 익숙하지 않아, 공부할것이 더 있다고 느낀 노드이긴 했지만,  \n",
    "첫 걱정, 첫 시작보다는 그래도 nlp에 대한 것들을 배워나가는 느낌입니다\n",
    "\n",
    "### 프로젝트 관련\n",
    "\n",
    "다른 그루분들께 하신 feedback 부분에, nlp는 엄청나게 많은 문장을 모아야 좋은 퍼포먼스를 낸다는 이야기를 남기신 걸 봤었습니다  \n",
    "문장이 적고, 학습을 충분히 한것 같지 않아 성능이 아쉽습니다  \n",
    "\n",
    "Summa로 직접 두 번역을 비교해보고, 추상적 영역과 CSV로 결과를 만들어 비교해보고 싶었지만, 결과를 얻을 수 없었습니다  \n",
    "너무 본문이 짧아서 그랬던거였을지.. 어떤걸 잘못했을 지 확인하고 있습니다  \n",
    "  \n",
    "https://jrc-park.tistory.com/273 에 소개된 방법에 따르면, 추상적 요약을 점수를 매기는 기준이 있다고 합니다  \n",
    "  \n",
    "#### Reference Setence의 단어가 Generated Sentence에 포함되는 정도 → ROUGE SCORE   \n",
    "#### Generated Sentence의 단어가 Reference Sentence에 포함되는 정도 → BLEU SCORE   \n",
    "  \n",
    "추출적 요약 알고리즘에서 정성적으로도 괜찮은 퍼포먼스를 확인할 수 있을때, 꼭 써볼 생각입니다"
   ]
  },
  {
   "cell_type": "markdown",
   "id": "b589ddb5",
   "metadata": {},
   "source": []
  }
 ],
 "metadata": {
  "kernelspec": {
   "display_name": "Python 3 (ipykernel)",
   "language": "python",
   "name": "python3"
  },
  "language_info": {
   "codemirror_mode": {
    "name": "ipython",
    "version": 3
   },
   "file_extension": ".py",
   "mimetype": "text/x-python",
   "name": "python",
   "nbconvert_exporter": "python",
   "pygments_lexer": "ipython3",
   "version": "3.9.7"
  }
 },
 "nbformat": 4,
 "nbformat_minor": 5
}
