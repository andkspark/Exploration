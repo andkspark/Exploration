{
 "cells": [
  {
   "cell_type": "markdown",
   "id": "9c623fc8",
   "metadata": {},
   "source": [
    "# 번역기 만들어보기  \n",
    "## 목표  \n",
    "  \n",
    "1. 번역기 모델 학습에 필요한 텍스트 데이터 전처리가 잘 이루어졌다.  \n",
    "구두점, 대소문자, 띄어쓰기 등 번역기 모델에 요구되는 전처리가 정상적으로 진행되었다.  \n",
    "  \n",
    "2. seq2seq 기반의 번역기 모델이 정상적으로 구동된다.  \n",
    "seq2seq 모델 훈련결과를 그래프로 출력해보고, validation loss그래프가 우하향하는 경향성을 보이며 학습이 진행됨이 확인되었다.  \n",
    "  \n",
    "3. 테스트 결과 의미가 통하는 수준의 번역문이 생성되었다.  \n",
    "테스트용 디코더 모델이 정상적으로 만들어졌으며,  \n",
    "input(영어)와 output(프랑스어) 모두 한글로 번역해서 결과를 출력해보았고, 둘의 내용이 유사함을 확인하였다.  "
   ]
  },
  {
   "cell_type": "code",
   "execution_count": 92,
   "id": "ad387037",
   "metadata": {},
   "outputs": [],
   "source": [
    "import tensorflow as tf\n",
    "from tensorflow.keras.preprocessing.text import Tokenizer\n",
    "from tensorflow.keras.preprocessing.sequence import pad_sequences\n",
    "from tensorflow.keras.utils import to_categorical\n",
    "\n",
    "from tensorflow.keras.layers import Input, LSTM, Embedding, Dense\n",
    "from tensorflow.keras.models import Model\n",
    "\n",
    "import numpy as np\n",
    "import os\n",
    "import pandas as pd\n",
    "import re\n"
   ]
  },
  {
   "cell_type": "markdown",
   "id": "387a8b2b",
   "metadata": {},
   "source": [
    "### 데이터 로드"
   ]
  },
  {
   "cell_type": "code",
   "execution_count": 93,
   "id": "620d5b2e",
   "metadata": {},
   "outputs": [
    {
     "name": "stdout",
     "output_type": "stream",
     "text": [
      "전체 샘플의 수 : 197463\n"
     ]
    },
    {
     "data": {
      "text/html": [
       "<div>\n",
       "<style scoped>\n",
       "    .dataframe tbody tr th:only-of-type {\n",
       "        vertical-align: middle;\n",
       "    }\n",
       "\n",
       "    .dataframe tbody tr th {\n",
       "        vertical-align: top;\n",
       "    }\n",
       "\n",
       "    .dataframe thead th {\n",
       "        text-align: right;\n",
       "    }\n",
       "</style>\n",
       "<table border=\"1\" class=\"dataframe\">\n",
       "  <thead>\n",
       "    <tr style=\"text-align: right;\">\n",
       "      <th></th>\n",
       "      <th>eng</th>\n",
       "      <th>fra</th>\n",
       "      <th>cc</th>\n",
       "    </tr>\n",
       "  </thead>\n",
       "  <tbody>\n",
       "    <tr>\n",
       "      <th>0</th>\n",
       "      <td>Go.</td>\n",
       "      <td>Va !</td>\n",
       "      <td>CC-BY 2.0 (France) Attribution: tatoeba.org #2...</td>\n",
       "    </tr>\n",
       "    <tr>\n",
       "      <th>1</th>\n",
       "      <td>Go.</td>\n",
       "      <td>Marche.</td>\n",
       "      <td>CC-BY 2.0 (France) Attribution: tatoeba.org #2...</td>\n",
       "    </tr>\n",
       "    <tr>\n",
       "      <th>2</th>\n",
       "      <td>Go.</td>\n",
       "      <td>En route !</td>\n",
       "      <td>CC-BY 2.0 (France) Attribution: tatoeba.org #2...</td>\n",
       "    </tr>\n",
       "    <tr>\n",
       "      <th>3</th>\n",
       "      <td>Go.</td>\n",
       "      <td>Bouge !</td>\n",
       "      <td>CC-BY 2.0 (France) Attribution: tatoeba.org #2...</td>\n",
       "    </tr>\n",
       "    <tr>\n",
       "      <th>4</th>\n",
       "      <td>Hi.</td>\n",
       "      <td>Salut !</td>\n",
       "      <td>CC-BY 2.0 (France) Attribution: tatoeba.org #5...</td>\n",
       "    </tr>\n",
       "  </tbody>\n",
       "</table>\n",
       "</div>"
      ],
      "text/plain": [
       "   eng         fra                                                 cc\n",
       "0  Go.        Va !  CC-BY 2.0 (France) Attribution: tatoeba.org #2...\n",
       "1  Go.     Marche.  CC-BY 2.0 (France) Attribution: tatoeba.org #2...\n",
       "2  Go.  En route !  CC-BY 2.0 (France) Attribution: tatoeba.org #2...\n",
       "3  Go.     Bouge !  CC-BY 2.0 (France) Attribution: tatoeba.org #2...\n",
       "4  Hi.     Salut !  CC-BY 2.0 (France) Attribution: tatoeba.org #5..."
      ]
     },
     "execution_count": 93,
     "metadata": {},
     "output_type": "execute_result"
    }
   ],
   "source": [
    "file_path = os.getenv('HOME')+'/aiffel/translator_seq2seq/data/fra.txt'\n",
    "lines = pd.read_csv(file_path, names=['eng', 'fra', 'cc'], sep='\\t')\n",
    "print('전체 샘플의 수 :',len(lines))\n",
    "lines.head(5) "
   ]
  },
  {
   "cell_type": "code",
   "execution_count": 94,
   "id": "05cfa099",
   "metadata": {},
   "outputs": [
    {
     "data": {
      "text/html": [
       "<div>\n",
       "<style scoped>\n",
       "    .dataframe tbody tr th:only-of-type {\n",
       "        vertical-align: middle;\n",
       "    }\n",
       "\n",
       "    .dataframe tbody tr th {\n",
       "        vertical-align: top;\n",
       "    }\n",
       "\n",
       "    .dataframe thead th {\n",
       "        text-align: right;\n",
       "    }\n",
       "</style>\n",
       "<table border=\"1\" class=\"dataframe\">\n",
       "  <thead>\n",
       "    <tr style=\"text-align: right;\">\n",
       "      <th></th>\n",
       "      <th>eng</th>\n",
       "      <th>fra</th>\n",
       "      <th>cc</th>\n",
       "    </tr>\n",
       "  </thead>\n",
       "  <tbody>\n",
       "    <tr>\n",
       "      <th>173000</th>\n",
       "      <td>Everybody knew she could speak English well.</td>\n",
       "      <td>Tout le monde savait qu'elle pouvait parler tr...</td>\n",
       "      <td>CC-BY 2.0 (France) Attribution: tatoeba.org #3...</td>\n",
       "    </tr>\n",
       "    <tr>\n",
       "      <th>13860</th>\n",
       "      <td>How did it feel?</td>\n",
       "      <td>Qu'as-tu ressenti ?</td>\n",
       "      <td>CC-BY 2.0 (France) Attribution: tatoeba.org #1...</td>\n",
       "    </tr>\n",
       "    <tr>\n",
       "      <th>182039</th>\n",
       "      <td>Half of the world’s population lives in cities.</td>\n",
       "      <td>La moitié de la population mondiale vit en ville.</td>\n",
       "      <td>CC-BY 2.0 (France) Attribution: tatoeba.org #3...</td>\n",
       "    </tr>\n",
       "    <tr>\n",
       "      <th>26567</th>\n",
       "      <td>Tom despised Mary.</td>\n",
       "      <td>Tom méprisait Marie.</td>\n",
       "      <td>CC-BY 2.0 (France) Attribution: tatoeba.org #1...</td>\n",
       "    </tr>\n",
       "    <tr>\n",
       "      <th>90</th>\n",
       "      <td>Get up.</td>\n",
       "      <td>Lève-toi !</td>\n",
       "      <td>CC-BY 2.0 (France) Attribution: tatoeba.org #8...</td>\n",
       "    </tr>\n",
       "  </tbody>\n",
       "</table>\n",
       "</div>"
      ],
      "text/plain": [
       "                                                    eng  \\\n",
       "173000     Everybody knew she could speak English well.   \n",
       "13860                                  How did it feel?   \n",
       "182039  Half of the world’s population lives in cities.   \n",
       "26567                                Tom despised Mary.   \n",
       "90                                              Get up.   \n",
       "\n",
       "                                                      fra  \\\n",
       "173000  Tout le monde savait qu'elle pouvait parler tr...   \n",
       "13860                                 Qu'as-tu ressenti ?   \n",
       "182039  La moitié de la population mondiale vit en ville.   \n",
       "26567                                Tom méprisait Marie.   \n",
       "90                                             Lève-toi !   \n",
       "\n",
       "                                                       cc  \n",
       "173000  CC-BY 2.0 (France) Attribution: tatoeba.org #3...  \n",
       "13860   CC-BY 2.0 (France) Attribution: tatoeba.org #1...  \n",
       "182039  CC-BY 2.0 (France) Attribution: tatoeba.org #3...  \n",
       "26567   CC-BY 2.0 (France) Attribution: tatoeba.org #1...  \n",
       "90      CC-BY 2.0 (France) Attribution: tatoeba.org #8...  "
      ]
     },
     "execution_count": 94,
     "metadata": {},
     "output_type": "execute_result"
    }
   ],
   "source": [
    "lines.sample(5) "
   ]
  },
  {
   "cell_type": "markdown",
   "id": "d39cfa2c",
   "metadata": {},
   "source": [
    "CC는 필요없는 부분이니 제거, 데이터는 33000개를 사용합니다  \n",
    "데이터 정제 후, 3000개는 테스트셋으로 사용합니다  "
   ]
  },
  {
   "cell_type": "code",
   "execution_count": 95,
   "id": "29f7db20",
   "metadata": {},
   "outputs": [
    {
     "data": {
      "text/html": [
       "<div>\n",
       "<style scoped>\n",
       "    .dataframe tbody tr th:only-of-type {\n",
       "        vertical-align: middle;\n",
       "    }\n",
       "\n",
       "    .dataframe tbody tr th {\n",
       "        vertical-align: top;\n",
       "    }\n",
       "\n",
       "    .dataframe thead th {\n",
       "        text-align: right;\n",
       "    }\n",
       "</style>\n",
       "<table border=\"1\" class=\"dataframe\">\n",
       "  <thead>\n",
       "    <tr style=\"text-align: right;\">\n",
       "      <th></th>\n",
       "      <th>eng</th>\n",
       "      <th>fra</th>\n",
       "    </tr>\n",
       "  </thead>\n",
       "  <tbody>\n",
       "    <tr>\n",
       "      <th>0</th>\n",
       "      <td>Go.</td>\n",
       "      <td>Va !</td>\n",
       "    </tr>\n",
       "    <tr>\n",
       "      <th>1</th>\n",
       "      <td>Go.</td>\n",
       "      <td>Marche.</td>\n",
       "    </tr>\n",
       "    <tr>\n",
       "      <th>2</th>\n",
       "      <td>Go.</td>\n",
       "      <td>En route !</td>\n",
       "    </tr>\n",
       "    <tr>\n",
       "      <th>3</th>\n",
       "      <td>Go.</td>\n",
       "      <td>Bouge !</td>\n",
       "    </tr>\n",
       "    <tr>\n",
       "      <th>4</th>\n",
       "      <td>Hi.</td>\n",
       "      <td>Salut !</td>\n",
       "    </tr>\n",
       "  </tbody>\n",
       "</table>\n",
       "</div>"
      ],
      "text/plain": [
       "   eng         fra\n",
       "0  Go.        Va !\n",
       "1  Go.     Marche.\n",
       "2  Go.  En route !\n",
       "3  Go.     Bouge !\n",
       "4  Hi.     Salut !"
      ]
     },
     "execution_count": 95,
     "metadata": {},
     "output_type": "execute_result"
    }
   ],
   "source": [
    "lines = lines[['eng', 'fra']][:33000] \n",
    "lines.head(5)"
   ]
  },
  {
   "cell_type": "markdown",
   "id": "6d90cd93",
   "metadata": {},
   "source": [
    "### 전처리  \n",
    "프랑스어 악센트를 제거합니다  \n",
    "? ! . 등 구두점은 문장에서 분리합니다  "
   ]
  },
  {
   "cell_type": "code",
   "execution_count": 96,
   "id": "1c8407f0",
   "metadata": {},
   "outputs": [],
   "source": [
    "import unicodedata\n",
    "    \n",
    "def to_ascii(s):\n",
    "  # 프랑스어 악센트(accent) 삭제\n",
    "  # 예시 : 'déjà diné' -> deja dine\n",
    "    return ''.join(c for c in unicodedata.normalize('NFD', s)\n",
    "                   if unicodedata.category(c) != 'Mn')"
   ]
  },
  {
   "cell_type": "markdown",
   "id": "978edef4",
   "metadata": {},
   "source": [
    "해당 함수는 문자열에 비자간마크가 있을 때 삭제해주고, 문장을 유니코드형태로 정규화해줍니다 \n",
    "\n",
    "https://www.fontspace.com/unicode/category/nonspacing-mark  \n",
    "https://docs.python.org/ko/3/library/unicodedata.html  \n",
    "https://wikidocs.net/86900  "
   ]
  },
  {
   "cell_type": "code",
   "execution_count": 97,
   "id": "18228ee9",
   "metadata": {},
   "outputs": [],
   "source": [
    "def preprocess_sentence(sent):\n",
    "    # 악센트 제거 함수 호출\n",
    "    sent = to_ascii(sent.lower())\n",
    "    # 단어와 구두점 사이에 공백 추가.\n",
    "    # ex) \"I am a student.\" => \"I am a student .\"\n",
    "    sent = re.sub(r\"([?.!,¿])\", r\" \\1\", sent)\n",
    "\n",
    "    # (a-z, A-Z, \".\", \"?\", \"!\", \",\") 이들을 제외하고는 전부 공백으로 변환.\n",
    "    sent = re.sub(r\"[^a-zA-Z!.?]+\", r\" \", sent)\n",
    "\n",
    "    # 다수 개의 공백을 하나의 공백으로 치환\n",
    "    sent = re.sub(r\"\\s+\", \" \", sent)\n",
    "    return sent\n"
   ]
  },
  {
   "cell_type": "markdown",
   "id": "2765cd84",
   "metadata": {},
   "source": [
    "함수가 잘 짜였는지 테스트해봅니다  "
   ]
  },
  {
   "cell_type": "code",
   "execution_count": 98,
   "id": "ea9014e2",
   "metadata": {},
   "outputs": [
    {
     "name": "stdout",
     "output_type": "stream",
     "text": [
      "It was long.\n",
      "it was long .\n",
      "C'était long.\n",
      "c etait long .\n"
     ]
    }
   ],
   "source": [
    "print(lines.eng[3579])\n",
    "print(preprocess_sentence(lines.eng[3579]))\n",
    "print(lines.fra[3579])\n",
    "print(preprocess_sentence(lines.fra[3579]))"
   ]
  },
  {
   "cell_type": "markdown",
   "id": "3673e655",
   "metadata": {},
   "source": [
    "데이터셋 전체를 바꿔줍니다"
   ]
  },
  {
   "cell_type": "code",
   "execution_count": 99,
   "id": "a2f0c225",
   "metadata": {},
   "outputs": [
    {
     "data": {
      "text/html": [
       "<div>\n",
       "<style scoped>\n",
       "    .dataframe tbody tr th:only-of-type {\n",
       "        vertical-align: middle;\n",
       "    }\n",
       "\n",
       "    .dataframe tbody tr th {\n",
       "        vertical-align: top;\n",
       "    }\n",
       "\n",
       "    .dataframe thead th {\n",
       "        text-align: right;\n",
       "    }\n",
       "</style>\n",
       "<table border=\"1\" class=\"dataframe\">\n",
       "  <thead>\n",
       "    <tr style=\"text-align: right;\">\n",
       "      <th></th>\n",
       "      <th>eng</th>\n",
       "      <th>fra</th>\n",
       "    </tr>\n",
       "  </thead>\n",
       "  <tbody>\n",
       "    <tr>\n",
       "      <th>26882</th>\n",
       "      <td>tom shifted gears .</td>\n",
       "      <td>tom a change de vitesse .</td>\n",
       "    </tr>\n",
       "    <tr>\n",
       "      <th>24676</th>\n",
       "      <td>i ll tell you why .</td>\n",
       "      <td>je vous dirai pourquoi .</td>\n",
       "    </tr>\n",
       "    <tr>\n",
       "      <th>3036</th>\n",
       "      <td>here we are .</td>\n",
       "      <td>nous y voila !</td>\n",
       "    </tr>\n",
       "    <tr>\n",
       "      <th>29028</th>\n",
       "      <td>he banged his knee .</td>\n",
       "      <td>il se cogna le genou .</td>\n",
       "    </tr>\n",
       "    <tr>\n",
       "      <th>23864</th>\n",
       "      <td>i felt very happy .</td>\n",
       "      <td>je me sentais tres heureuse .</td>\n",
       "    </tr>\n",
       "  </tbody>\n",
       "</table>\n",
       "</div>"
      ],
      "text/plain": [
       "                        eng                            fra\n",
       "26882   tom shifted gears .      tom a change de vitesse .\n",
       "24676   i ll tell you why .       je vous dirai pourquoi .\n",
       "3036          here we are .                 nous y voila !\n",
       "29028  he banged his knee .         il se cogna le genou .\n",
       "23864   i felt very happy .  je me sentais tres heureuse ."
      ]
     },
     "execution_count": 99,
     "metadata": {},
     "output_type": "execute_result"
    }
   ],
   "source": [
    "lines.eng = lines.eng.apply(preprocess_sentence)\n",
    "lines.fra = lines.fra.apply(preprocess_sentence)\n",
    "\n",
    "lines.sample(5)"
   ]
  },
  {
   "cell_type": "markdown",
   "id": "58ffa8aa",
   "metadata": {},
   "source": [
    "프랑스 악센트가 제거되고, 모든 문자를 소문자화 하였으며, 온점과 단어 사이에 구분을 위한 공백을 넣었습니다"
   ]
  },
  {
   "cell_type": "markdown",
   "id": "da6d4391",
   "metadata": {},
   "source": [
    "### 토큰화   \n",
    "띄어쓰기 단위로 토큰화를 수행합니다  \n",
    "디코더의 문장에 시작 토큰과 종료 토큰을 넣어줍니다  "
   ]
  },
  {
   "cell_type": "code",
   "execution_count": 100,
   "id": "2dba47bf",
   "metadata": {},
   "outputs": [
    {
     "data": {
      "text/html": [
       "<div>\n",
       "<style scoped>\n",
       "    .dataframe tbody tr th:only-of-type {\n",
       "        vertical-align: middle;\n",
       "    }\n",
       "\n",
       "    .dataframe tbody tr th {\n",
       "        vertical-align: top;\n",
       "    }\n",
       "\n",
       "    .dataframe thead th {\n",
       "        text-align: right;\n",
       "    }\n",
       "</style>\n",
       "<table border=\"1\" class=\"dataframe\">\n",
       "  <thead>\n",
       "    <tr style=\"text-align: right;\">\n",
       "      <th></th>\n",
       "      <th>eng</th>\n",
       "      <th>fra</th>\n",
       "      <th>fra_in</th>\n",
       "      <th>fra_out</th>\n",
       "    </tr>\n",
       "  </thead>\n",
       "  <tbody>\n",
       "    <tr>\n",
       "      <th>20556</th>\n",
       "      <td>that s very true .</td>\n",
       "      <td>c est tres vrai .</td>\n",
       "      <td>&lt;sos&gt; c est tres vrai .</td>\n",
       "      <td>c est tres vrai . &lt;eos&gt;</td>\n",
       "    </tr>\n",
       "    <tr>\n",
       "      <th>16309</th>\n",
       "      <td>tom is unafraid .</td>\n",
       "      <td>tom ne craint rien .</td>\n",
       "      <td>&lt;sos&gt; tom ne craint rien .</td>\n",
       "      <td>tom ne craint rien . &lt;eos&gt;</td>\n",
       "    </tr>\n",
       "    <tr>\n",
       "      <th>19024</th>\n",
       "      <td>i play the piano .</td>\n",
       "      <td>je joue du piano .</td>\n",
       "      <td>&lt;sos&gt; je joue du piano .</td>\n",
       "      <td>je joue du piano . &lt;eos&gt;</td>\n",
       "    </tr>\n",
       "    <tr>\n",
       "      <th>2030</th>\n",
       "      <td>i need air .</td>\n",
       "      <td>il me faut de l air .</td>\n",
       "      <td>&lt;sos&gt; il me faut de l air .</td>\n",
       "      <td>il me faut de l air . &lt;eos&gt;</td>\n",
       "    </tr>\n",
       "    <tr>\n",
       "      <th>32677</th>\n",
       "      <td>tom is still young .</td>\n",
       "      <td>tom est encore jeune .</td>\n",
       "      <td>&lt;sos&gt; tom est encore jeune .</td>\n",
       "      <td>tom est encore jeune . &lt;eos&gt;</td>\n",
       "    </tr>\n",
       "  </tbody>\n",
       "</table>\n",
       "</div>"
      ],
      "text/plain": [
       "                        eng                     fra  \\\n",
       "20556    that s very true .       c est tres vrai .   \n",
       "16309     tom is unafraid .    tom ne craint rien .   \n",
       "19024    i play the piano .      je joue du piano .   \n",
       "2030           i need air .   il me faut de l air .   \n",
       "32677  tom is still young .  tom est encore jeune .   \n",
       "\n",
       "                             fra_in                       fra_out  \n",
       "20556       <sos> c est tres vrai .       c est tres vrai . <eos>  \n",
       "16309    <sos> tom ne craint rien .    tom ne craint rien . <eos>  \n",
       "19024      <sos> je joue du piano .      je joue du piano . <eos>  \n",
       "2030    <sos> il me faut de l air .   il me faut de l air . <eos>  \n",
       "32677  <sos> tom est encore jeune .  tom est encore jeune . <eos>  "
      ]
     },
     "execution_count": 100,
     "metadata": {},
     "output_type": "execute_result"
    }
   ],
   "source": [
    "#시작과 끝 토큰을 붙여줍니다\n",
    "lines['fra_in'] = lines['fra'].apply(lambda x: \"<sos> \"+ x)\n",
    "lines['fra_out'] = lines['fra'].apply(lambda x: x + \" <eos>\")\n",
    "\n",
    "lines.sample(5)"
   ]
  },
  {
   "cell_type": "code",
   "execution_count": 101,
   "id": "a45b292b",
   "metadata": {},
   "outputs": [
    {
     "data": {
      "text/html": [
       "<div>\n",
       "<style scoped>\n",
       "    .dataframe tbody tr th:only-of-type {\n",
       "        vertical-align: middle;\n",
       "    }\n",
       "\n",
       "    .dataframe tbody tr th {\n",
       "        vertical-align: top;\n",
       "    }\n",
       "\n",
       "    .dataframe thead th {\n",
       "        text-align: right;\n",
       "    }\n",
       "</style>\n",
       "<table border=\"1\" class=\"dataframe\">\n",
       "  <thead>\n",
       "    <tr style=\"text-align: right;\">\n",
       "      <th></th>\n",
       "      <th>eng</th>\n",
       "      <th>fra</th>\n",
       "      <th>fra_in</th>\n",
       "      <th>fra_out</th>\n",
       "    </tr>\n",
       "  </thead>\n",
       "  <tbody>\n",
       "    <tr>\n",
       "      <th>5660</th>\n",
       "      <td>[my, eyes, itch, .]</td>\n",
       "      <td>[mes, yeux, me, demangent, .]</td>\n",
       "      <td>[&lt;sos&gt;, mes, yeux, me, demangent, .]</td>\n",
       "      <td>[mes, yeux, me, demangent, ., &lt;eos&gt;]</td>\n",
       "    </tr>\n",
       "    <tr>\n",
       "      <th>16583</th>\n",
       "      <td>[we, are, students, .]</td>\n",
       "      <td>[nous, sommes, etudiants, .]</td>\n",
       "      <td>[&lt;sos&gt;, nous, sommes, etudiants, .]</td>\n",
       "      <td>[nous, sommes, etudiants, ., &lt;eos&gt;]</td>\n",
       "    </tr>\n",
       "    <tr>\n",
       "      <th>12198</th>\n",
       "      <td>[tom, is, thirsty, .]</td>\n",
       "      <td>[tom, est, assoiffe, .]</td>\n",
       "      <td>[&lt;sos&gt;, tom, est, assoiffe, .]</td>\n",
       "      <td>[tom, est, assoiffe, ., &lt;eos&gt;]</td>\n",
       "    </tr>\n",
       "    <tr>\n",
       "      <th>11461</th>\n",
       "      <td>[many, fish, died, .]</td>\n",
       "      <td>[beaucoup, de, poissons, ont, peri, .]</td>\n",
       "      <td>[&lt;sos&gt;, beaucoup, de, poissons, ont, peri, .]</td>\n",
       "      <td>[beaucoup, de, poissons, ont, peri, ., &lt;eos&gt;]</td>\n",
       "    </tr>\n",
       "    <tr>\n",
       "      <th>5340</th>\n",
       "      <td>[i, m, reformed, .]</td>\n",
       "      <td>[je, me, suis, amendee, .]</td>\n",
       "      <td>[&lt;sos&gt;, je, me, suis, amendee, .]</td>\n",
       "      <td>[je, me, suis, amendee, ., &lt;eos&gt;]</td>\n",
       "    </tr>\n",
       "  </tbody>\n",
       "</table>\n",
       "</div>"
      ],
      "text/plain": [
       "                          eng                                     fra  \\\n",
       "5660      [my, eyes, itch, .]           [mes, yeux, me, demangent, .]   \n",
       "16583  [we, are, students, .]            [nous, sommes, etudiants, .]   \n",
       "12198   [tom, is, thirsty, .]                 [tom, est, assoiffe, .]   \n",
       "11461   [many, fish, died, .]  [beaucoup, de, poissons, ont, peri, .]   \n",
       "5340      [i, m, reformed, .]              [je, me, suis, amendee, .]   \n",
       "\n",
       "                                              fra_in  \\\n",
       "5660            [<sos>, mes, yeux, me, demangent, .]   \n",
       "16583            [<sos>, nous, sommes, etudiants, .]   \n",
       "12198                 [<sos>, tom, est, assoiffe, .]   \n",
       "11461  [<sos>, beaucoup, de, poissons, ont, peri, .]   \n",
       "5340               [<sos>, je, me, suis, amendee, .]   \n",
       "\n",
       "                                             fra_out  \n",
       "5660            [mes, yeux, me, demangent, ., <eos>]  \n",
       "16583            [nous, sommes, etudiants, ., <eos>]  \n",
       "12198                 [tom, est, assoiffe, ., <eos>]  \n",
       "11461  [beaucoup, de, poissons, ont, peri, ., <eos>]  \n",
       "5340               [je, me, suis, amendee, ., <eos>]  "
      ]
     },
     "execution_count": 101,
     "metadata": {},
     "output_type": "execute_result"
    }
   ],
   "source": [
    "#단어별로 분리\n",
    "lines.eng = lines.eng.apply(lambda x: x.split(' '))\n",
    "lines.fra = lines.fra.apply(lambda x: x.split(' '))\n",
    "lines.fra_in = lines.fra_in.apply(lambda x: x.split(' '))\n",
    "lines.fra_out = lines.fra_out.apply(lambda x: x.split(' '))\n",
    "\n",
    "lines.sample(5)"
   ]
  },
  {
   "cell_type": "code",
   "execution_count": 102,
   "id": "a12ae4ec",
   "metadata": {},
   "outputs": [
    {
     "data": {
      "text/plain": [
       "array([list(['<sos>', 'va', '!']), list(['<sos>', 'marche', '.']),\n",
       "       list(['<sos>', 'en', 'route', '!']), ...,\n",
       "       list(['<sos>', 'nous', 'avons', 'aussi', 'trouve', 'ceci', '.']),\n",
       "       list(['<sos>', 'nous', 'sommes', 'des', 'gens', 'occupes', '.']),\n",
       "       list(['<sos>', 'nous', 'regardons', 'la', 'television', '.'])],\n",
       "      dtype=object)"
      ]
     },
     "execution_count": 102,
     "metadata": {},
     "output_type": "execute_result"
    }
   ],
   "source": [
    "lines.fra_in.values"
   ]
  },
  {
   "cell_type": "markdown",
   "id": "43a568ba",
   "metadata": {},
   "source": [
    "전처리가 잘 되었음을 확인하였습니다  "
   ]
  },
  {
   "cell_type": "markdown",
   "id": "fcb46074",
   "metadata": {},
   "source": [
    "## 케라스 tokenizer 적용하기   \n",
    "단어 기준이 되기 때문에, option의 char level은 사용하지 않습니다"
   ]
  },
  {
   "cell_type": "code",
   "execution_count": 116,
   "id": "4060c448",
   "metadata": {},
   "outputs": [],
   "source": [
    "eng_tokenizer = Tokenizer(filters=\"\") \n",
    "eng_tokenizer.fit_on_texts(lines.eng)\n",
    "   # 단어를 숫자값 인덱스로 변환하여 저장"
   ]
  },
  {
   "cell_type": "code",
   "execution_count": 117,
   "id": "8b4a8e29",
   "metadata": {},
   "outputs": [],
   "source": [
    "fra_tokenizer = Tokenizer(filters=\"\")  \n",
    "fra_tokenizer.fit_on_texts(lines.fra_in)\n",
    "fra_tokenizer.fit_on_texts(lines.fra_out)\n",
    "   # 단어를 숫자값 인덱스로 변환하여 저장"
   ]
  },
  {
   "cell_type": "code",
   "execution_count": 118,
   "id": "35d54493",
   "metadata": {},
   "outputs": [],
   "source": [
    "encoder_input = eng_tokenizer.texts_to_sequences(lines.eng) \n",
    "decoder_input = fra_tokenizer.texts_to_sequences(lines.fra_in)  \n",
    "decoder_target = fra_tokenizer.texts_to_sequences(lines.fra_out)\n",
    "\n",
    "encoder_input =  pad_sequences(encoder_input, padding=\"post\")\n",
    "decoder_input =  pad_sequences(decoder_input, padding=\"post\")\n",
    "decoder_target =  pad_sequences(decoder_target, padding=\"post\")"
   ]
  },
  {
   "cell_type": "markdown",
   "id": "b4efcdf6",
   "metadata": {},
   "source": [
    "데이터의 크기를 확인하겠습니다"
   ]
  },
  {
   "cell_type": "code",
   "execution_count": 119,
   "id": "1209c9b7",
   "metadata": {},
   "outputs": [
    {
     "name": "stdout",
     "output_type": "stream",
     "text": [
      "인코더의 입력의 크기(shape) : (33000, 8)\n",
      "디코더의 입력의 크기(shape) : (33000, 16)\n",
      "디코더의 레이블의 크기(shape) : (33000, 16)\n"
     ]
    }
   ],
   "source": [
    "print('인코더의 입력의 크기(shape) :',encoder_input.shape)\n",
    "print('디코더의 입력의 크기(shape) :',decoder_input.shape)\n",
    "print('디코더의 레이블의 크기(shape) :',decoder_target.shape)"
   ]
  },
  {
   "cell_type": "code",
   "execution_count": 120,
   "id": "5be6fb2b",
   "metadata": {},
   "outputs": [
    {
     "name": "stdout",
     "output_type": "stream",
     "text": [
      "영어 단어장의 크기 : 4673\n",
      "프랑스어 단어장의 크기 : 8138\n"
     ]
    }
   ],
   "source": [
    "eng_vocab_size = len(eng_tokenizer.word_index) + 1\n",
    "fra_vocab_size = len(fra_tokenizer.word_index) + 1\n",
    "print('영어 단어장의 크기 :', eng_vocab_size)\n",
    "print('프랑스어 단어장의 크기 :', fra_vocab_size)"
   ]
  },
  {
   "cell_type": "code",
   "execution_count": 121,
   "id": "b02b7244",
   "metadata": {},
   "outputs": [
    {
     "name": "stdout",
     "output_type": "stream",
     "text": [
      "영어 시퀀스의 최대 길이 8\n",
      "프랑스어 시퀀스의 최대 길이 16\n"
     ]
    }
   ],
   "source": [
    "max_eng_seq_len = max([len(line) for line in encoder_input])\n",
    "max_fra_seq_len = max([len(line) for line in decoder_input])\n",
    "print('영어 시퀀스의 최대 길이', max_eng_seq_len)\n",
    "print('프랑스어 시퀀스의 최대 길이', max_fra_seq_len)"
   ]
  },
  {
   "cell_type": "code",
   "execution_count": 122,
   "id": "aac3c257",
   "metadata": {},
   "outputs": [
    {
     "name": "stdout",
     "output_type": "stream",
     "text": [
      "영어 데이터의 크기(shape) : (33000, 8)\n",
      "프랑스어 입력데이터의 크기(shape) : (33000, 16)\n",
      "프랑스어 출력데이터의 크기(shape) : (33000, 16)\n"
     ]
    }
   ],
   "source": [
    "encoder_input = pad_sequences(encoder_input, maxlen = max_eng_seq_len, padding='post')\n",
    "decoder_input = pad_sequences(decoder_input, maxlen = max_fra_seq_len, padding='post')\n",
    "decoder_target = pad_sequences(decoder_target, maxlen = max_fra_seq_len, padding='post')\n",
    "print('영어 데이터의 크기(shape) :',np.shape(encoder_input))\n",
    "print('프랑스어 입력데이터의 크기(shape) :',np.shape(decoder_input))\n",
    "print('프랑스어 출력데이터의 크기(shape) :',np.shape(decoder_target))"
   ]
  },
  {
   "cell_type": "code",
   "execution_count": 123,
   "id": "8ccddd2b",
   "metadata": {},
   "outputs": [
    {
     "name": "stdout",
     "output_type": "stream",
     "text": [
      "영어 데이터의 크기(shape) : (33000, 8, 4673)\n",
      "프랑스어 입력데이터의 크기(shape) : (33000, 16, 8138)\n",
      "프랑스어 출력데이터의 크기(shape) : (33000, 16, 8138)\n"
     ]
    }
   ],
   "source": [
    "encoder_input = to_categorical(encoder_input)\n",
    "decoder_input = to_categorical(decoder_input)\n",
    "decoder_target = to_categorical(decoder_target)\n",
    "print('영어 데이터의 크기(shape) :',np.shape(encoder_input))\n",
    "print('프랑스어 입력데이터의 크기(shape) :',np.shape(decoder_input))\n",
    "print('프랑스어 출력데이터의 크기(shape) :',np.shape(decoder_target))"
   ]
  },
  {
   "cell_type": "code",
   "execution_count": 127,
   "id": "81de3299",
   "metadata": {},
   "outputs": [
    {
     "name": "stdout",
     "output_type": "stream",
     "text": [
      "영어 학습데이터의 크기(shape) : (30000, 8, 4673)\n",
      "프랑스어 학습 입력데이터의 크기(shape) : (30000, 16, 8138)\n",
      "프랑스어 학습 출력데이터의 크기(shape) : (30000, 16, 8138)\n"
     ]
    }
   ],
   "source": [
    "n_of_val = 3000\n",
    "\n",
    "encoder_input_train = encoder_input[:-n_of_val]\n",
    "decoder_input_train = decoder_input[:-n_of_val]\n",
    "decoder_target_train = decoder_target[:-n_of_val]\n",
    "\n",
    "encoder_input_test = encoder_input[-n_of_val:]\n",
    "decoder_input_test = decoder_input[-n_of_val:]\n",
    "decoder_target_test = decoder_target[-n_of_val:]\n",
    "\n",
    "print('영어 학습데이터의 크기(shape) :',np.shape(encoder_input_train))\n",
    "print('프랑스어 학습 입력데이터의 크기(shape) :',np.shape(decoder_input_train))\n",
    "print('프랑스어 학습 출력데이터의 크기(shape) :',np.shape(decoder_target_train))"
   ]
  },
  {
   "cell_type": "code",
   "execution_count": null,
   "id": "7391dcdb",
   "metadata": {},
   "outputs": [],
   "source": []
  },
  {
   "cell_type": "code",
   "execution_count": null,
   "id": "2e7f8f34",
   "metadata": {},
   "outputs": [],
   "source": []
  },
  {
   "cell_type": "code",
   "execution_count": null,
   "id": "7fe2f164",
   "metadata": {},
   "outputs": [],
   "source": []
  },
  {
   "cell_type": "code",
   "execution_count": null,
   "id": "c757fb90",
   "metadata": {},
   "outputs": [],
   "source": []
  },
  {
   "cell_type": "markdown",
   "id": "32265673",
   "metadata": {},
   "source": [
    "## 회고  \n",
    "프로젝트 구현을 완료하지 못했습니다..  \n",
    "NLP에 대해 모르는 것이 많아서 하나씩 공부하다 보니 배우는것이 많았던 시간이었지만  \n",
    "아직도 많이 부족함을 느낍니다  \n",
    "더욱 성장하도록 하겠습니다  "
   ]
  },
  {
   "cell_type": "code",
   "execution_count": null,
   "id": "3a9ce269",
   "metadata": {},
   "outputs": [],
   "source": []
  },
  {
   "cell_type": "code",
   "execution_count": null,
   "id": "9d1ec4c6",
   "metadata": {},
   "outputs": [],
   "source": []
  },
  {
   "cell_type": "code",
   "execution_count": null,
   "id": "37c2862d",
   "metadata": {},
   "outputs": [],
   "source": []
  },
  {
   "cell_type": "code",
   "execution_count": null,
   "id": "e92b5ddd",
   "metadata": {},
   "outputs": [],
   "source": []
  },
  {
   "cell_type": "code",
   "execution_count": null,
   "id": "44d78cbd",
   "metadata": {},
   "outputs": [],
   "source": []
  },
  {
   "cell_type": "code",
   "execution_count": null,
   "id": "a6610764",
   "metadata": {},
   "outputs": [],
   "source": []
  },
  {
   "cell_type": "markdown",
   "id": "d01ae8a1",
   "metadata": {},
   "source": [
    "### Step 4. 임베딩 층(Embedding layer) 사용하기\n"
   ]
  },
  {
   "cell_type": "code",
   "execution_count": 130,
   "id": "be9d5ad7",
   "metadata": {},
   "outputs": [],
   "source": [
    "embedding_dim = 64\n",
    "hidden_units = 64\n",
    "\n"
   ]
  },
  {
   "cell_type": "code",
   "execution_count": 132,
   "id": "6072b293",
   "metadata": {},
   "outputs": [],
   "source": [
    "encoder_inputs = Input(shape=(None,))\n",
    "enc_emb =  Embedding(eng_vocab_size, embedding_dim)(encoder_inputs)\n",
    "encoder_lstm = LSTM(hidden_units, return_state=True)\n",
    "#컨텍스트 벡터!!!!!!!!\n",
    "encoder_outputs, enc_state_h, enc_state_c = encoder_lstm(enc_emb)"
   ]
  },
  {
   "cell_type": "code",
   "execution_count": 133,
   "id": "fad87ab4",
   "metadata": {},
   "outputs": [],
   "source": [
    "decoder_inputs = Input(shape=(None,))\n",
    "dec_emb =  Embedding(fra_vocab_size, embedding_dim)(decoder_inputs)\n",
    "decoder_lstm = LSTM(hidden_units, return_state=True)\n",
    "#컨텍스트 벡터!!!!!!!!\n",
    "decoder_outputs, dec_state_h, dec_state_c = decoder_lstm(dec_emb)"
   ]
  },
  {
   "cell_type": "code",
   "execution_count": null,
   "id": "04ebc796",
   "metadata": {},
   "outputs": [],
   "source": []
  },
  {
   "cell_type": "markdown",
   "id": "8f7b17ed",
   "metadata": {},
   "source": [
    "Step 5. 모델 구현하기\n"
   ]
  },
  {
   "cell_type": "markdown",
   "id": "84d26e33",
   "metadata": {},
   "source": [
    "첫번째 줄 : 우선 LSTM의 입력 텐서를 정의해줍니다. 입력 문장을 저장하게 될 변수 텐서입니다.\n",
    "\n",
    "두번째 줄 : 256의 hidden_size를 가지는 LSTM 셀을 만들어줍니다. LSTM의 수용력(capacity)를 의미합니다. return_state = True를 해서 hidden state와 cell state를 리턴받을 수 있도록 합니다.\n",
    "\n",
    "세번째 줄 : 입력 텐서를 사용하여 마지막 time step의 hidden state와 cell state를 결과로 받습니다.\n",
    "\n",
    "네번째 줄 : 마지막 time step의 hidden state와 cell state를 encoder_states라는 하나의 변수에 저장해뒀습니다. 이를 디코더에 전달하면 되겠네요.\n",
    "\n",
    "이제 디코더를 설계해볼까요? 디코더도 인코더랑 몇 가지 세부 사항을 제외하고 거의 똑같습니다."
   ]
  },
  {
   "cell_type": "code",
   "execution_count": null,
   "id": "5700b479",
   "metadata": {},
   "outputs": [],
   "source": [
    "# 입력 텐서 생성.\n",
    "encoder_inputs = Input(shape=(None, eng_vocab_size))\n",
    "# hidden size가 256인 인코더의 LSTM 셀 생성\n",
    "encoder_lstm = LSTM(units = 256, return_state = True)\n",
    "# 디코더로 전달할 hidden state, cell state를 리턴. encoder_outputs은 여기서는 불필요.\n",
    "encoder_outputs, state_h, state_c = encoder_lstm(encoder_inputs)\n",
    "# hidden state와 cell state를 다음 time step으로 전달하기 위해서 별도 저장.\n",
    "#이것이 컨텍스트 벡터!!!!!!!!\n",
    "encoder_states = [state_h, state_c]"
   ]
  },
  {
   "cell_type": "code",
   "execution_count": null,
   "id": "5c9039a3",
   "metadata": {},
   "outputs": [],
   "source": [
    "decoder_softmax_layer = Dense(fra_vocab_size, activation='softmax')\n",
    "decoder_outputs = decoder_softmax_layer(decoder_outputs)"
   ]
  },
  {
   "cell_type": "code",
   "execution_count": null,
   "id": "0c8c30ba",
   "metadata": {},
   "outputs": [],
   "source": [
    "model = Model([encoder_inputs, decoder_inputs], decoder_outputs)\n",
    "model.compile(optimizer=\"rmsprop\", loss=\"categorical_crossentropy\")\n",
    "model.summary()"
   ]
  },
  {
   "cell_type": "code",
   "execution_count": null,
   "id": "75963aaf",
   "metadata": {},
   "outputs": [],
   "source": [
    "model.fit(x=[encoder_input_train, decoder_input_train], y=decoder_target_train, \\\n",
    "          validation_data = ([encoder_input_test, decoder_input_test], decoder_target_test),\n",
    "          batch_size=128, epochs=50)"
   ]
  },
  {
   "cell_type": "code",
   "execution_count": null,
   "id": "b795f152",
   "metadata": {},
   "outputs": [],
   "source": []
  },
  {
   "cell_type": "markdown",
   "id": "f1bde82d",
   "metadata": {},
   "source": [
    "Step 6. 모델 평가하기\n"
   ]
  },
  {
   "cell_type": "code",
   "execution_count": null,
   "id": "be00c0c0",
   "metadata": {},
   "outputs": [],
   "source": [
    "encoder_model = Model(inputs = encoder_inputs, outputs = encoder_states)\n",
    "encoder_model.summary()"
   ]
  },
  {
   "cell_type": "code",
   "execution_count": null,
   "id": "e6cf8a7b",
   "metadata": {},
   "outputs": [],
   "source": [
    "# 이전 time step의 hidden state를 저장하는 텐서\n",
    "decoder_state_input_h = Input(shape=(256,))\n",
    "# 이전 time step의 cell state를 저장하는 텐서\n",
    "decoder_state_input_c = Input(shape=(256,))\n",
    "# 이전 time step의 hidden state와 cell state를 하나의 변수에 저장\n",
    "decoder_states_inputs = [decoder_state_input_h, decoder_state_input_c]\n",
    "\n",
    "# decoder_states_inputs를 현재 time step의 초기 상태로 사용.\n",
    "# 구체적인 동작 자체는 def decode_sequence()에 구현.\n",
    "decoder_outputs, state_h, state_c = decoder_lstm(decoder_inputs, initial_state = decoder_states_inputs)\n",
    "# 현재 time step의 hidden state와 cell state를 하나의 변수에 저장.\n",
    "decoder_states = [state_h, state_c]"
   ]
  },
  {
   "cell_type": "code",
   "execution_count": null,
   "id": "f80a17de",
   "metadata": {},
   "outputs": [],
   "source": [
    "decoder_outputs = decoder_softmax_layer(decoder_outputs)\n",
    "decoder_model = Model(inputs=[decoder_inputs] + decoder_states_inputs, outputs=[decoder_outputs] + decoder_states)\n",
    "decoder_model.summary()"
   ]
  },
  {
   "cell_type": "code",
   "execution_count": null,
   "id": "47fcd4cb",
   "metadata": {},
   "outputs": [],
   "source": [
    "eng2idx = eng_tokenizer.word_index\n",
    "fra2idx = fra_tokenizer.word_index\n",
    "idx2eng = eng_tokenizer.index_word\n",
    "idx2fra = fra_tokenizer.index_word"
   ]
  },
  {
   "cell_type": "code",
   "execution_count": null,
   "id": "38980d0e",
   "metadata": {},
   "outputs": [],
   "source": []
  },
  {
   "cell_type": "code",
   "execution_count": null,
   "id": "ef7fd901",
   "metadata": {},
   "outputs": [],
   "source": [
    "def decode_sequence(input_seq):\n",
    "    # 입력으로부터 인코더의 상태를 얻음\n",
    "    states_value = encoder_model.predict(input_seq)\n",
    "\n",
    "    # <SOS>에 해당하는 원-핫 벡터 생성\n",
    "    target_seq = np.zeros((1, 1, fra_vocab_size))\n",
    "    target_seq[0, 0, fra2idx['\\t']] = 1.\n",
    "\n",
    "    stop_condition = False\n",
    "    decoded_sentence = \"\"\n",
    "\n",
    "    # stop_condition이 True가 될 때까지 루프 반복\n",
    "    while not stop_condition:\n",
    "        # 이점 시점의 상태 states_value를 현 시점의 초기 상태로 사용\n",
    "        output_tokens, h, c = decoder_model.predict([target_seq] + states_value)\n",
    "\n",
    "        # 예측 결과를 문자로 변환\n",
    "        sampled_token_index = np.argmax(output_tokens[0, -1, :])\n",
    "        sampled_char = idx2fra[sampled_token_index]\n",
    "\n",
    "        # 현재 시점의 예측 문자를 예측 문장에 추가\n",
    "        decoded_sentence += sampled_char\n",
    "\n",
    "        # <eos>에 도달하거나 최대 길이를 넘으면 중단.\n",
    "        if (sampled_char == '\\n' or\n",
    "           len(decoded_sentence) > max_fra_seq_len):\n",
    "            stop_condition = True\n",
    "\n",
    "        # 현재 시점의 예측 결과를 다음 시점의 입력으로 사용하기 위해 저장\n",
    "        target_seq = np.zeros((1, 1, fra_vocab_size))\n",
    "        target_seq[0, 0, sampled_token_index] = 1.\n",
    "\n",
    "        # 현재 시점의 상태를 다음 시점의 상태로 사용하기 위해 저장\n",
    "        states_value = [h, c]\n",
    "\n",
    "    return decoded_sentence"
   ]
  },
  {
   "cell_type": "code",
   "execution_count": null,
   "id": "5bd3a8c1",
   "metadata": {},
   "outputs": [],
   "source": [
    "import numpy as np\n",
    "for seq_index in [3,50,100,300,1001]: # 입력 문장의 인덱스 (자유롭게 선택해 보세요)\n",
    "    input_seq = encoder_input[seq_index: seq_index + 1]\n",
    "    decoded_sentence = decode_sequence(input_seq)\n",
    "    print(35 * \"-\")\n",
    "    print('입력 문장:', lines.eng[seq_index])\n",
    "    print('정답 문장:', lines.fra[seq_index][1:len(lines.fra[seq_index])-1]) # '\\t'와 '\\n'을 빼고 출력\n",
    "    print('번역기가 번역한 문장:', decoded_sentence[:len(decoded_sentence)-1]) # '\\n'을 빼고 출력"
   ]
  },
  {
   "cell_type": "code",
   "execution_count": null,
   "id": "ae28aba6",
   "metadata": {},
   "outputs": [],
   "source": []
  },
  {
   "cell_type": "code",
   "execution_count": null,
   "id": "ae466964",
   "metadata": {},
   "outputs": [],
   "source": []
  }
 ],
 "metadata": {
  "kernelspec": {
   "display_name": "Python 3 (ipykernel)",
   "language": "python",
   "name": "python3"
  },
  "language_info": {
   "codemirror_mode": {
    "name": "ipython",
    "version": 3
   },
   "file_extension": ".py",
   "mimetype": "text/x-python",
   "name": "python",
   "nbconvert_exporter": "python",
   "pygments_lexer": "ipython3",
   "version": "3.9.7"
  }
 },
 "nbformat": 4,
 "nbformat_minor": 5
}
