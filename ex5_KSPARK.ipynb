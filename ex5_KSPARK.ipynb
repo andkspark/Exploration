{
 "cells": [
  {
   "cell_type": "code",
   "execution_count": 110,
   "id": "bd48d8fb",
   "metadata": {},
   "outputs": [],
   "source": [
    "import tensorflow as tf\n",
    "from tensorflow import keras\n",
    "\n",
    "import numpy as np\n",
    "from PIL import Image\n",
    "import glob\n",
    "import os\n",
    "\n",
    "import matplotlib.pyplot as plt"
   ]
  },
  {
   "cell_type": "markdown",
   "id": "92ead452",
   "metadata": {},
   "source": [
    "### 전처리 : 이미지 리사이징"
   ]
  },
  {
   "cell_type": "code",
   "execution_count": 111,
   "id": "8197d6eb",
   "metadata": {},
   "outputs": [
    {
     "name": "stdout",
     "output_type": "stream",
     "text": [
      "100  images to be resized.\n",
      "100  images resized.\n",
      "100  images to be resized.\n",
      "100  images resized.\n",
      "100  images to be resized.\n",
      "100  images resized.\n"
     ]
    }
   ],
   "source": [
    "def resize_images(img_path):\n",
    "    images=glob.glob(img_path + \"/*.jpg\")  \n",
    "    \n",
    "    print(len(images), \" images to be resized.\")\n",
    "\n",
    "    # 파일마다 모두 28x28 사이즈로 바꾸어 저장합니다.\n",
    "    target_size=(28,28)\n",
    "    for img in images:\n",
    "        old_img=Image.open(img)\n",
    "        new_img=old_img.resize(target_size,Image.ANTIALIAS)\n",
    "        new_img.save(img, \"JPEG\")\n",
    "    \n",
    "    print(len(images), \" images resized.\")\n",
    "\n",
    "# 가위바위보 이미지가 저장된 디렉토리 아래의 모든 jpg 파일을 읽어들여서\n",
    "image_dir_path = os.getenv(\"HOME\") + \"/aiffel/rock_scissor_paper/scissor\"\n",
    "resize_images(image_dir_path)\n",
    "\n",
    "image_dir_path = os.getenv(\"HOME\") + \"/aiffel/rock_scissor_paper/rock\"\n",
    "resize_images(image_dir_path)\n",
    "\n",
    "image_dir_path = os.getenv(\"HOME\") + \"/aiffel/rock_scissor_paper/paper\"\n",
    "resize_images(image_dir_path)"
   ]
  },
  {
   "cell_type": "markdown",
   "id": "98fa4487",
   "metadata": {},
   "source": [
    "### 전처리 : 이미지 불러오기\n",
    "NP array 변환 같이, 컬러별로 채널을 지정해주는 것까지 함께 처리하는군요!"
   ]
  },
  {
   "cell_type": "code",
   "execution_count": 112,
   "id": "ba2e519d",
   "metadata": {},
   "outputs": [],
   "source": [
    "def load_data(img_path, number_of_data=300):  # 가위바위보 이미지 개수 총합에 주의하세요.\n",
    "    # 가위 : 0, 바위 : 1, 보 : 2\n",
    "    img_size=28\n",
    "    color=3\n",
    "    #이미지 데이터와 라벨(가위 : 0, 바위 : 1, 보 : 2) 데이터를 담을 행렬(matrix) 영역을 생성합니다.\n",
    "    imgs=np.zeros(number_of_data*img_size*img_size*color,dtype=np.int32).reshape(number_of_data,img_size,img_size,color)\n",
    "    labels=np.zeros(number_of_data,dtype=np.int32)\n",
    "\n",
    "    idx=0\n",
    "    for file in glob.iglob(img_path+'/scissor/*.jpg'):\n",
    "        img = np.array(Image.open(file),dtype=np.int32)\n",
    "        imgs[idx,:,:,:]=img    # 데이터 영역에 이미지 행렬을 복사\n",
    "        labels[idx]=0   # 가위 : 0\n",
    "        idx=idx+1\n",
    "\n",
    "    for file in glob.iglob(img_path+'/rock/*.jpg'):\n",
    "        img = np.array(Image.open(file),dtype=np.int32)\n",
    "        imgs[idx,:,:,:]=img    # 데이터 영역에 이미지 행렬을 복사\n",
    "        labels[idx]=1   # 바위 : 1\n",
    "        idx=idx+1  \n",
    "    \n",
    "    for file in glob.iglob(img_path+'/paper/*.jpg'):\n",
    "        img = np.array(Image.open(file),dtype=np.int32)\n",
    "        imgs[idx,:,:,:]=img    # 데이터 영역에 이미지 행렬을 복사\n",
    "        labels[idx]=2   # 보 : 2\n",
    "        idx=idx+1\n",
    "        \n",
    "    print(\"데이터의 이미지 개수는\", idx,\"입니다.\")\n",
    "    return imgs, labels\n",
    "\n"
   ]
  },
  {
   "cell_type": "code",
   "execution_count": 113,
   "id": "474c1ba2",
   "metadata": {},
   "outputs": [
    {
     "name": "stdout",
     "output_type": "stream",
     "text": [
      "데이터의 이미지 개수는 300 입니다.\n",
      "x_train shape: (300, 28, 28, 3)\n",
      "y_train shape: (300,)\n"
     ]
    }
   ],
   "source": [
    "image_dir_path = os.getenv(\"HOME\") + \"/aiffel/rock_scissor_paper\"\n",
    "(x_train, y_train)=load_data(image_dir_path)\n",
    "\n",
    "print(\"x_train shape: {}\".format(x_train.shape))\n",
    "print(\"y_train shape: {}\".format(y_train.shape))"
   ]
  },
  {
   "cell_type": "code",
   "execution_count": 114,
   "id": "40b3368e",
   "metadata": {},
   "outputs": [
    {
     "name": "stdout",
     "output_type": "stream",
     "text": [
      "라벨:  0\n"
     ]
    },
    {
     "data": {
      "image/png": "[encoded data removed]",
      "text/plain": [
       "<Figure size 432x288 with 1 Axes>"
      ]
     },
     "metadata": {
      "needs_background": "light"
     },
     "output_type": "display_data"
    }
   ],
   "source": [
    "#이미지를 불러와 확인해봅니다\n",
    "\n",
    "plt.imshow(x_train[0])\n",
    "print('라벨: ', y_train[0])"
   ]
  },
  {
   "cell_type": "markdown",
   "id": "dd75863a",
   "metadata": {},
   "source": [
    "### 모델 생성하기   \n",
    "신경망을 만들고 train data를 학습시켜줍니다"
   ]
  },
  {
   "cell_type": "code",
   "execution_count": 115,
   "id": "2e92fcce",
   "metadata": {},
   "outputs": [],
   "source": [
    "#모델 만들기 파라메터설정\n",
    "\n",
    "n_train_epoch=10"
   ]
  },
  {
   "cell_type": "code",
   "execution_count": 116,
   "id": "cf0a8438",
   "metadata": {},
   "outputs": [
    {
     "name": "stdout",
     "output_type": "stream",
     "text": [
      "Model에 추가된 Layer 개수:  7\n",
      "Model: \"sequential_7\"\n",
      "_________________________________________________________________\n",
      "Layer (type)                 Output Shape              Param #   \n",
      "=================================================================\n",
      "conv2d_14 (Conv2D)           (None, 26, 26, 16)        448       \n",
      "_________________________________________________________________\n",
      "max_pooling2d_14 (MaxPooling (None, 13, 13, 16)        0         \n",
      "_________________________________________________________________\n",
      "conv2d_15 (Conv2D)           (None, 11, 11, 32)        4640      \n",
      "_________________________________________________________________\n",
      "max_pooling2d_15 (MaxPooling (None, 5, 5, 32)          0         \n",
      "_________________________________________________________________\n",
      "flatten_7 (Flatten)          (None, 800)               0         \n",
      "_________________________________________________________________\n",
      "dense_14 (Dense)             (None, 32)                25632     \n",
      "_________________________________________________________________\n",
      "dense_15 (Dense)             (None, 3)                 99        \n",
      "=================================================================\n",
      "Total params: 30,819\n",
      "Trainable params: 30,819\n",
      "Non-trainable params: 0\n",
      "_________________________________________________________________\n"
     ]
    }
   ],
   "source": [
    "#모델 만들기 코드\n",
    "\n",
    "model=keras.models.Sequential()\n",
    "model.add(keras.layers.Conv2D(16, (3,3), activation='relu', input_shape=(28,28,3))) #채널이 3개\n",
    "model.add(keras.layers.MaxPool2D(2,2))\n",
    "model.add(keras.layers.Conv2D(32, (3,3), activation='relu'))\n",
    "model.add(keras.layers.MaxPooling2D((2,2)))\n",
    "model.add(keras.layers.Flatten())\n",
    "model.add(keras.layers.Dense(32, activation='relu'))\n",
    "model.add(keras.layers.Dense(3, activation='softmax'))    #클래스가 3개니까 출력층 3\n",
    "\n",
    "print('Model에 추가된 Layer 개수: ', len(model.layers))\n",
    "\n",
    "model.summary()"
   ]
  },
  {
   "cell_type": "markdown",
   "id": "8d3479d0",
   "metadata": {},
   "source": [
    "왼쪽부터 층층히 쌓인다고 보면 되는코드죠?  \n",
    "conv레이어 > maxpool레이어 > conv 레이어 > maxpooling 또하고 > 쫙펴주고 > 댄스~ > 결과레이어까지 댄스~  \n",
    "이것들이 뭔지는 나중에 배울거같아요~~~"
   ]
  },
  {
   "cell_type": "code",
   "execution_count": 117,
   "id": "f80b43d5",
   "metadata": {},
   "outputs": [
    {
     "name": "stdout",
     "output_type": "stream",
     "text": [
      "Epoch 1/10\n",
      "10/10 [==============================] - 0s 3ms/step - loss: 8.8951 - accuracy: 0.3100\n",
      "Epoch 2/10\n",
      "10/10 [==============================] - 0s 3ms/step - loss: 2.2737 - accuracy: 0.3533\n",
      "Epoch 3/10\n",
      "10/10 [==============================] - 0s 3ms/step - loss: 1.3723 - accuracy: 0.4667\n",
      "Epoch 4/10\n",
      "10/10 [==============================] - 0s 3ms/step - loss: 0.9252 - accuracy: 0.5900\n",
      "Epoch 5/10\n",
      "10/10 [==============================] - 0s 3ms/step - loss: 0.7561 - accuracy: 0.6633\n",
      "Epoch 6/10\n",
      "10/10 [==============================] - 0s 3ms/step - loss: 0.4117 - accuracy: 0.8500\n",
      "Epoch 7/10\n",
      "10/10 [==============================] - 0s 3ms/step - loss: 0.2963 - accuracy: 0.8933\n",
      "Epoch 8/10\n",
      "10/10 [==============================] - 0s 3ms/step - loss: 0.2243 - accuracy: 0.9367\n",
      "Epoch 9/10\n",
      "10/10 [==============================] - 0s 3ms/step - loss: 0.1597 - accuracy: 0.9667\n",
      "Epoch 10/10\n",
      "10/10 [==============================] - 0s 3ms/step - loss: 0.1022 - accuracy: 0.9933\n"
     ]
    }
   ],
   "source": [
    "### 모델 만들었으면 학습\n",
    "model.compile(optimizer='adam',\n",
    "             loss='sparse_categorical_crossentropy',\n",
    "             metrics=['accuracy'])\n",
    "\n",
    "# 모델 훈련\n",
    "history = model.fit(x_train, y_train, epochs=n_train_epoch)\n"
   ]
  },
  {
   "cell_type": "markdown",
   "id": "9abc470f",
   "metadata": {},
   "source": [
    "### 테스트하기\n",
    "테스트 데이터를 불러와, 학습이 잘 되었는지 확인합니다"
   ]
  },
  {
   "cell_type": "code",
   "execution_count": 118,
   "id": "cf3cebb2",
   "metadata": {},
   "outputs": [
    {
     "name": "stdout",
     "output_type": "stream",
     "text": [
      "100  images to be resized.\n",
      "100  images resized.\n",
      "100  images to be resized.\n",
      "100  images resized.\n",
      "100  images to be resized.\n",
      "100  images resized.\n"
     ]
    }
   ],
   "source": [
    "#테스트 이미지 리사이즈\n",
    "\n",
    "image_dir_path = os.getenv(\"HOME\") + \"/aiffel/rock_scissor_paper/test/scissor\"\n",
    "resize_images(image_dir_path)\n",
    "\n",
    "image_dir_path = os.getenv(\"HOME\") + \"/aiffel/rock_scissor_paper/test/rock\"\n",
    "resize_images(image_dir_path)\n",
    "\n",
    "image_dir_path = os.getenv(\"HOME\") + \"/aiffel/rock_scissor_paper/test/paper\"\n",
    "resize_images(image_dir_path)"
   ]
  },
  {
   "cell_type": "code",
   "execution_count": 119,
   "id": "0203a6b7",
   "metadata": {},
   "outputs": [
    {
     "name": "stdout",
     "output_type": "stream",
     "text": [
      "데이터의 이미지 개수는 300 입니다.\n",
      "x_test shape: (300, 28, 28, 3)\n",
      "y_test shape: (300,)\n"
     ]
    }
   ],
   "source": [
    "#테스트 이미지 불러오기\n",
    "\n",
    "image_dir_path = os.getenv(\"HOME\") + \"/aiffel/rock_scissor_paper/test\"\n",
    "(x_test, y_test)=load_data(image_dir_path)\n",
    "\n",
    "\n",
    "print(\"x_test shape: {}\".format(x_test.shape))\n",
    "print(\"y_test shape: {}\".format(y_test.shape))"
   ]
  },
  {
   "cell_type": "code",
   "execution_count": 120,
   "id": "a334136f",
   "metadata": {},
   "outputs": [
    {
     "name": "stdout",
     "output_type": "stream",
     "text": [
      "라벨:  0\n"
     ]
    },
    {
     "data": {
      "image/png": "[encoded data removed]",
      "text/plain": [
       "<Figure size 432x288 with 1 Axes>"
      ]
     },
     "metadata": {
      "needs_background": "light"
     },
     "output_type": "display_data"
    }
   ],
   "source": [
    "plt.imshow(x_test[0])\n",
    "print('라벨: ', y_test[0])"
   ]
  },
  {
   "cell_type": "code",
   "execution_count": 121,
   "id": "6a615cd6",
   "metadata": {},
   "outputs": [
    {
     "name": "stdout",
     "output_type": "stream",
     "text": [
      "10/10 - 0s - loss: 7.1524 - accuracy: 0.3333\n"
     ]
    }
   ],
   "source": [
    "# 모델 시험코드\n",
    "\n",
    "test_loss, test_accuracy = model.evaluate(x_test, y_test, verbose=2)\n"
   ]
  },
  {
   "cell_type": "markdown",
   "id": "426b7f3f",
   "metadata": {},
   "source": [
    "### 학습과정 시각화  \n",
    "Epoch의 진행에 따라 accuracy 와 loss의 변화를 나타냅니다  \n",
    "또한, test loss와 test accuracy를 출력합니다"
   ]
  },
  {
   "cell_type": "code",
   "execution_count": 122,
   "id": "626821d8",
   "metadata": {},
   "outputs": [
    {
     "data": {
      "image/png": "[encoded data removed]",
      "text/plain": [
       "<Figure size 432x288 with 1 Axes>"
      ]
     },
     "metadata": {
      "needs_background": "light"
     },
     "output_type": "display_data"
    },
    {
     "data": {
      "image/png": "[encoded data removed]",
      "text/plain": [
       "<Figure size 432x288 with 1 Axes>"
      ]
     },
     "metadata": {
      "needs_background": "light"
     },
     "output_type": "display_data"
    },
    {
     "name": "stdout",
     "output_type": "stream",
     "text": [
      "test_loss: 7.152368068695068 \n",
      "test_accuracy: 0.3333333432674408\n"
     ]
    }
   ],
   "source": [
    "plt.plot(history.history['accuracy'])\n",
    "plt.title('Model accuracy')\n",
    "plt.xlabel('Epoch')\n",
    "plt.ylabel('Accuracy')\n",
    "plt.show()\n",
    "\n",
    "plt.plot(history.history['loss'])\n",
    "plt.title('Model loss')\n",
    "plt.xlabel('Epoch')\n",
    "plt.ylabel('Loss')\n",
    "\n",
    "plt.show()\n",
    "\n",
    "print(f\"test_loss: {test_loss} \")\n",
    "print(f\"test_accuracy: {test_accuracy}\")"
   ]
  },
  {
   "cell_type": "markdown",
   "id": "177bee5f",
   "metadata": {},
   "source": [
    "#### 33%의 정확도를 기록했습니다   \n",
    "개선이 시급해보입니다"
   ]
  },
  {
   "cell_type": "markdown",
   "id": "855a4137",
   "metadata": {},
   "source": [
    "### 개선하기 : 정규화 사용  "
   ]
  },
  {
   "cell_type": "code",
   "execution_count": 123,
   "id": "61275515",
   "metadata": {},
   "outputs": [],
   "source": [
    "x_train_norm = x_train/255.0   # 입력은 0~1 사이의 값으로 정규화\n",
    "x_test_norm = x_test/255.0   # 입력은 0~1 사이의 값으로 정규화"
   ]
  },
  {
   "cell_type": "code",
   "execution_count": 124,
   "id": "890c04e5",
   "metadata": {},
   "outputs": [
    {
     "name": "stdout",
     "output_type": "stream",
     "text": [
      "Epoch 1/10\n",
      "10/10 [==============================] - 0s 3ms/step - loss: 1.0846 - accuracy: 0.4267\n",
      "Epoch 2/10\n",
      "10/10 [==============================] - 0s 3ms/step - loss: 1.0725 - accuracy: 0.4067\n",
      "Epoch 3/10\n",
      "10/10 [==============================] - 0s 3ms/step - loss: 1.0588 - accuracy: 0.8300\n",
      "Epoch 4/10\n",
      "10/10 [==============================] - 0s 3ms/step - loss: 1.0390 - accuracy: 0.6867\n",
      "Epoch 5/10\n",
      "10/10 [==============================] - 0s 4ms/step - loss: 1.0201 - accuracy: 0.5567\n",
      "Epoch 6/10\n",
      "10/10 [==============================] - 0s 4ms/step - loss: 0.9916 - accuracy: 0.5733\n",
      "Epoch 7/10\n",
      "10/10 [==============================] - 0s 3ms/step - loss: 0.9501 - accuracy: 0.6933\n",
      "Epoch 8/10\n",
      "10/10 [==============================] - 0s 3ms/step - loss: 0.9212 - accuracy: 0.6700\n",
      "Epoch 9/10\n",
      "10/10 [==============================] - 0s 3ms/step - loss: 0.8609 - accuracy: 0.7200\n",
      "Epoch 10/10\n",
      "10/10 [==============================] - 0s 3ms/step - loss: 0.7812 - accuracy: 0.7967\n"
     ]
    }
   ],
   "source": [
    "#모델 학습부터 다시\n",
    "### 모델 만들었으면 학습\n",
    "model.compile(optimizer='adam',\n",
    "             loss='sparse_categorical_crossentropy',\n",
    "             metrics=['accuracy'])\n",
    "\n",
    "# 모델 훈련\n",
    "history = model.fit(x_train_norm, y_train, epochs=n_train_epoch)\n"
   ]
  },
  {
   "cell_type": "code",
   "execution_count": 125,
   "id": "acbe4b20",
   "metadata": {},
   "outputs": [
    {
     "name": "stdout",
     "output_type": "stream",
     "text": [
      "10/10 - 0s - loss: 1.1830 - accuracy: 0.3333\n"
     ]
    }
   ],
   "source": [
    "#테스트하기\n",
    "test_loss, test_accuracy = model.evaluate(x_test_norm, y_test, verbose=2)"
   ]
  },
  {
   "cell_type": "code",
   "execution_count": 126,
   "id": "134c4225",
   "metadata": {},
   "outputs": [
    {
     "data": {
      "image/png": "[encoded data removed]",
      "text/plain": [
       "<Figure size 432x288 with 1 Axes>"
      ]
     },
     "metadata": {
      "needs_background": "light"
     },
     "output_type": "display_data"
    },
    {
     "data": {
      "image/png": "[encoded data removed]",
      "text/plain": [
       "<Figure size 432x288 with 1 Axes>"
      ]
     },
     "metadata": {
      "needs_background": "light"
     },
     "output_type": "display_data"
    },
    {
     "name": "stdout",
     "output_type": "stream",
     "text": [
      "test_loss: 1.1829816102981567 \n",
      "test_accuracy: 0.3333333432674408\n"
     ]
    }
   ],
   "source": [
    "plt.plot(history.history['accuracy'])\n",
    "plt.title('Model accuracy')\n",
    "plt.xlabel('Epoch')\n",
    "plt.ylabel('Accuracy')\n",
    "plt.show()\n",
    "\n",
    "plt.plot(history.history['loss'])\n",
    "plt.title('Model loss')\n",
    "plt.xlabel('Epoch')\n",
    "plt.ylabel('Loss')\n",
    "\n",
    "plt.show()\n",
    "\n",
    "print(f\"test_loss: {test_loss} \")\n",
    "print(f\"test_accuracy: {test_accuracy}\")"
   ]
  },
  {
   "cell_type": "markdown",
   "id": "59bbd3bb",
   "metadata": {},
   "source": [
    "###33%의 정확도를 기록했습니다   \n",
    "los가 좀 작아지긴 했습니다  \n",
    "개선이 필요합니다  "
   ]
  },
  {
   "cell_type": "code",
   "execution_count": 127,
   "id": "e440197c",
   "metadata": {},
   "outputs": [
    {
     "name": "stdout",
     "output_type": "stream",
     "text": [
      "2467  images to be resized.\n",
      "2467  images resized.\n",
      "2504  images to be resized.\n",
      "2504  images resized.\n",
      "2401  images to be resized.\n",
      "2401  images resized.\n"
     ]
    }
   ],
   "source": [
    "#그루 2n명의 데이터가 모였습니다\n",
    "#리사이즈먼저\n",
    "\n",
    "image_dir_path = os.getenv(\"HOME\") + \"/aiffel/rock_scissor_paper/train/scissor\"\n",
    "resize_images(image_dir_path)\n",
    "\n",
    "image_dir_path = os.getenv(\"HOME\") + \"/aiffel/rock_scissor_paper/train/rock\"\n",
    "resize_images(image_dir_path)\n",
    "\n",
    "image_dir_path = os.getenv(\"HOME\") + \"/aiffel/rock_scissor_paper/train/paper\"\n",
    "resize_images(image_dir_path)\n"
   ]
  },
  {
   "cell_type": "code",
   "execution_count": 128,
   "id": "6124c4c2",
   "metadata": {},
   "outputs": [
    {
     "name": "stdout",
     "output_type": "stream",
     "text": [
      "데이터의 이미지 개수는 7372 입니다.\n",
      "x_train shape: (7372, 28, 28, 3)\n",
      "y_train shape: (7372,)\n"
     ]
    }
   ],
   "source": [
    "image_dir_path = os.getenv(\"HOME\") + \"/aiffel/rock_scissor_paper/train\"\n",
    "(x_train_re, y_train_re)=load_data(image_dir_path, number_of_data = 2467 + 2504 + 2401)\n",
    "\n",
    "print(\"x_train shape: {}\".format(x_train_re.shape))\n",
    "print(\"y_train shape: {}\".format(y_train_re.shape))"
   ]
  },
  {
   "cell_type": "code",
   "execution_count": 129,
   "id": "8666c3f1",
   "metadata": {},
   "outputs": [],
   "source": [
    "#아까 안썼던 파라메터도 설정해봅니다\n",
    "\n",
    "n_channel_1=26\n",
    "n_channel_2=32\n",
    "n_dense=32\n",
    "n_train_epoch=10\n",
    "val_split=0.25"
   ]
  },
  {
   "cell_type": "code",
   "execution_count": 130,
   "id": "99760ce8",
   "metadata": {},
   "outputs": [
    {
     "name": "stdout",
     "output_type": "stream",
     "text": [
      "Model에 추가된 Layer 개수:  7\n",
      "Model: \"sequential_8\"\n",
      "_________________________________________________________________\n",
      "Layer (type)                 Output Shape              Param #   \n",
      "=================================================================\n",
      "conv2d_16 (Conv2D)           (None, 26, 26, 26)        728       \n",
      "_________________________________________________________________\n",
      "max_pooling2d_16 (MaxPooling (None, 13, 13, 26)        0         \n",
      "_________________________________________________________________\n",
      "conv2d_17 (Conv2D)           (None, 11, 11, 32)        7520      \n",
      "_________________________________________________________________\n",
      "max_pooling2d_17 (MaxPooling (None, 5, 5, 32)          0         \n",
      "_________________________________________________________________\n",
      "flatten_8 (Flatten)          (None, 800)               0         \n",
      "_________________________________________________________________\n",
      "dense_16 (Dense)             (None, 32)                25632     \n",
      "_________________________________________________________________\n",
      "dense_17 (Dense)             (None, 3)                 99        \n",
      "=================================================================\n",
      "Total params: 33,979\n",
      "Trainable params: 33,979\n",
      "Non-trainable params: 0\n",
      "_________________________________________________________________\n"
     ]
    }
   ],
   "source": [
    "#모델 만들기 코드\n",
    "\n",
    "model_re = keras.models.Sequential()\n",
    "model_re.add(keras.layers.Conv2D(n_channel_1, (3,3), activation='relu', input_shape=(28,28,3))) #채널이 3개\n",
    "model_re.add(keras.layers.MaxPool2D(2,2))\n",
    "model_re.add(keras.layers.Conv2D(n_channel_2, (3,3), activation='relu'))\n",
    "model_re.add(keras.layers.MaxPooling2D((2,2)))\n",
    "model_re.add(keras.layers.Flatten())\n",
    "model_re.add(keras.layers.Dense(n_dense, activation='relu'))\n",
    "model_re.add(keras.layers.Dense(3, activation='softmax'))    #클래스가 3개니까 출력층 3\n",
    "\n",
    "print('Model에 추가된 Layer 개수: ', len(model_re.layers))\n",
    "\n",
    "model_re.summary()"
   ]
  },
  {
   "cell_type": "markdown",
   "id": "f68f738b",
   "metadata": {},
   "source": [
    "아까랑 입력한 유닛이 같은데 왜 파라메터수가 차이가 나지?  \n",
    "이건 꼭 물어봐야겠어요  "
   ]
  },
  {
   "cell_type": "code",
   "execution_count": 131,
   "id": "dcef24ee",
   "metadata": {},
   "outputs": [],
   "source": [
    "#정규화해주고 \n",
    "x_train_re_norm = x_train_re/255.0 "
   ]
  },
  {
   "cell_type": "code",
   "execution_count": 132,
   "id": "481a6103",
   "metadata": {},
   "outputs": [
    {
     "name": "stdout",
     "output_type": "stream",
     "text": [
      "Epoch 1/10\n",
      "173/173 [==============================] - 1s 4ms/step - loss: 0.8739 - accuracy: 0.5862 - val_loss: 2.2064 - val_accuracy: 0.0125\n",
      "Epoch 2/10\n",
      "173/173 [==============================] - 1s 3ms/step - loss: 0.6499 - accuracy: 0.7410 - val_loss: 2.0343 - val_accuracy: 0.1058\n",
      "Epoch 3/10\n",
      "173/173 [==============================] - 1s 3ms/step - loss: 0.4839 - accuracy: 0.8322 - val_loss: 1.3871 - val_accuracy: 0.3755\n",
      "Epoch 4/10\n",
      "173/173 [==============================] - 1s 3ms/step - loss: 0.3801 - accuracy: 0.8709 - val_loss: 1.4190 - val_accuracy: 0.3760\n",
      "Epoch 5/10\n",
      "173/173 [==============================] - 1s 3ms/step - loss: 0.2996 - accuracy: 0.8958 - val_loss: 0.9348 - val_accuracy: 0.5990\n",
      "Epoch 6/10\n",
      "173/173 [==============================] - 1s 3ms/step - loss: 0.2416 - accuracy: 0.9168 - val_loss: 0.9638 - val_accuracy: 0.5920\n",
      "Epoch 7/10\n",
      "173/173 [==============================] - 1s 3ms/step - loss: 0.1974 - accuracy: 0.9334 - val_loss: 0.9270 - val_accuracy: 0.6294\n",
      "Epoch 8/10\n",
      "173/173 [==============================] - 1s 3ms/step - loss: 0.1712 - accuracy: 0.9427 - val_loss: 0.5752 - val_accuracy: 0.7678\n",
      "Epoch 9/10\n",
      "173/173 [==============================] - 1s 4ms/step - loss: 0.1319 - accuracy: 0.9609 - val_loss: 0.7903 - val_accuracy: 0.6891\n",
      "Epoch 10/10\n",
      "173/173 [==============================] - 1s 3ms/step - loss: 0.1098 - accuracy: 0.9653 - val_loss: 0.8798 - val_accuracy: 0.6734\n"
     ]
    }
   ],
   "source": [
    "#다시 train, 데이터셋의 25%는 validation으로 쓰도록 합니다\n",
    "model.compile(optimizer='adam',\n",
    "             loss='sparse_categorical_crossentropy',\n",
    "             metrics=['accuracy'])\n",
    "\n",
    "# 모델 훈련\n",
    "history_re = model.fit(x_train_re_norm, y_train_re, epochs=n_train_epoch, validation_split = val_split)"
   ]
  },
  {
   "cell_type": "code",
   "execution_count": 133,
   "id": "c244a6f9",
   "metadata": {},
   "outputs": [
    {
     "data": {
      "image/png": "[encoded data removed]",
      "text/plain": [
       "<Figure size 432x288 with 1 Axes>"
      ]
     },
     "metadata": {
      "needs_background": "light"
     },
     "output_type": "display_data"
    },
    {
     "data": {
      "image/png": "[encoded data removed]",
      "text/plain": [
       "<Figure size 432x288 with 1 Axes>"
      ]
     },
     "metadata": {
      "needs_background": "light"
     },
     "output_type": "display_data"
    }
   ],
   "source": [
    "\n",
    "plt.plot(history_re.history['accuracy'])\n",
    "plt.plot(history_re.history['val_loss'])\n",
    "plt.title('Model accuracy')\n",
    "plt.xlabel('Epoch')\n",
    "plt.ylabel('Accuracy')\n",
    "plt.legend(['Train', 'Test'], loc='upper left')\n",
    "plt.show()\n",
    "\n",
    "plt.plot(history_re.history['loss'])\n",
    "plt.plot(history_re.history['val_accuracy'])\n",
    "plt.title('Model loss')\n",
    "plt.xlabel('Epoch')\n",
    "plt.ylabel('Loss')\n",
    "plt.legend(['Train', 'Test'], loc='upper left')\n",
    "plt.show()"
   ]
  },
  {
   "cell_type": "markdown",
   "id": "4c9be57e",
   "metadata": {},
   "source": [
    "Validation의 accuracy가 train accuracy에 근접해가는 상황에서 학습이 종료되었습니다  \n",
    "또한 loss는 더 낮아질 수 있는 가능성이 있는 것 같습니다  \n",
    "epoch 10 이상을 테스트하여 개선할 수 있는 부분이 있을 것 같습니다  "
   ]
  },
  {
   "cell_type": "code",
   "execution_count": 135,
   "id": "0aa1cbdd",
   "metadata": {},
   "outputs": [
    {
     "name": "stdout",
     "output_type": "stream",
     "text": [
      "10/10 - 0s - loss: 0.1315 - accuracy: 0.9600\n"
     ]
    }
   ],
   "source": [
    "test_loss, test_accuracy = model.evaluate(x_test_norm, y_test, verbose=2)"
   ]
  },
  {
   "cell_type": "markdown",
   "id": "93ec1d4e",
   "metadata": {},
   "source": [
    "#### 개선한 모델은 96%의 정확도를 기록했습니다  "
   ]
  },
  {
   "cell_type": "markdown",
   "id": "e0d174df",
   "metadata": {},
   "source": [
    "## 회고  \n",
    "  \n",
    "학습 데이터가 많을수록 정확히 분류할 수 있는 모델을 구축할 수 있음을 알았습니다  \n",
    "(300개 , acc : 0.33 >>> 7000+개, acc : 0.96)  \n",
    "다만, 테스트 데이터의 양이 크지 않아, 다른 테스트 데이터를 시도하여 범용적으로 모델의 동작을 증명해야 하는 숙제가 남은 듯 합니다  \n",
    "(100개, aiffel 제공)  \n",
    "  \n",
    "카글 가위바위보 데이터셋 https://www.kaggle.com/datasets/sanikamal/rock-paper-scissors-dataset/code  \n",
    "텐서플로 가위바위보 데이터셋 https://www.tensorflow.org/datasets/catalog/rock_paper_scissors  \n",
    "을 활용하여, 모델의 범용성을 살펴보고 개선을 꾀하도록 하겠습니다  \n",
    "  \n",
    "또한, 모델 신경망층의 출력 (다음층의 입력) 유닛 수, epoch수 등 parameter를 조정하여, grid search로 최적의 모델을 찾을 수 있을 것이라 여겨지므로, 해당 방법을 수행해보겠습니다 \n",
    "  \n",
    "시각화 참고 : https://codetorial.net/tensorflow/visualize_training_history.html"
   ]
  }
 ],
 "metadata": {
  "kernelspec": {
   "display_name": "Python 3 (ipykernel)",
   "language": "python",
   "name": "python3"
  },
  "language_info": {
   "codemirror_mode": {
    "name": "ipython",
    "version": 3
   },
   "file_extension": ".py",
   "mimetype": "text/x-python",
   "name": "python",
   "nbconvert_exporter": "python",
   "pygments_lexer": "ipython3",
   "version": "3.9.7"
  }
 },
 "nbformat": 4,
 "nbformat_minor": 5
}
