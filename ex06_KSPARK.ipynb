{
 "cells": [
  {
   "cell_type": "code",
   "execution_count": 37,
   "id": "76f485f0",
   "metadata": {},
   "outputs": [],
   "source": [
    "import os, re \n",
    "import numpy as np\n",
    "import tensorflow as tf\n",
    "import glob\n",
    "import matplotlib.pyplot as plt\n",
    "\n",
    "from sklearn.model_selection import train_test_split"
   ]
  },
  {
   "cell_type": "markdown",
   "id": "5f126c00",
   "metadata": {},
   "source": [
    "### 데이터셋 불러오기"
   ]
  },
  {
   "cell_type": "code",
   "execution_count": 1,
   "id": "cdaaef50",
   "metadata": {},
   "outputs": [
    {
     "name": "stdout",
     "output_type": "stream",
     "text": [
      "데이터 크기: 187088\n",
      "Examples:\n",
      " [\"Busted flat in Baton Rouge, waitin' for a train\", \"And I's feelin' near as faded as my jeans\", 'Bobby thumbed a diesel down, just before it rained']\n"
     ]
    }
   ],
   "source": [
    "\n",
    "\n",
    "txt_file_path = os.getenv('HOME')+'/aiffel/lyricist/data/lyrics/*'\n",
    "txt_list = glob.glob(txt_file_path) \n",
    "\n",
    "raw_corpus = [] \n",
    "\n",
    "for txt_file in txt_list:\n",
    "    with open(txt_file, \"r\") as f:\n",
    "        raw = f.read().splitlines()\n",
    "        raw_corpus.extend(raw) \n",
    "\n",
    "print(\"데이터 크기:\", len(raw_corpus))\n",
    "print(\"Examples:\\n\", raw_corpus[:3])\n"
   ]
  },
  {
   "cell_type": "markdown",
   "id": "be824d6d",
   "metadata": {},
   "source": [
    "### 전처리 : 문장 다듬기   \n",
    "문장에서 특수문자를 제거, 대문자를 소문자로 일괄 변환한 후,  \n",
    "각 문장이 토큰화 되었을 때 인식될 <start> <end> 토큰을 앞뒤로 붙여줍니다"
   ]
  },
  {
   "cell_type": "code",
   "execution_count": 2,
   "id": "7a6322c2",
   "metadata": {},
   "outputs": [],
   "source": [
    "# preprocess_sentence() 만들기\n",
    "\n",
    "def preprocess_sentence(sentence):\n",
    "    sentence = sentence.lower().strip() # 1\n",
    "    sentence = re.sub(r\"([?.!,¿])\", r\" \\1 \", sentence) # 2\n",
    "    sentence = re.sub(r'[\" \"]+', \" \", sentence) # 3\n",
    "    sentence = re.sub(r\"[^a-zA-Z?.!,¿]+\", \" \", sentence) # 4\n",
    "    sentence = sentence.strip() # 5\n",
    "    sentence = '<start> ' + sentence + ' <end>' # 6\n",
    "    return sentence\n"
   ]
  },
  {
   "cell_type": "code",
   "execution_count": 3,
   "id": "69eb8d1a",
   "metadata": {},
   "outputs": [
    {
     "data": {
      "text/plain": [
       "['<start> busted flat in baton rouge , waitin for a train <end>',\n",
       " '<start> and i s feelin near as faded as my jeans <end>',\n",
       " '<start> bobby thumbed a diesel down , just before it rained <end>',\n",
       " '<start> it rode us all the way to new orleans i pulled my harpoon out of my dirty red bandanna <end>',\n",
       " '<start> i was playin soft while bobby sang the blues , yeah <end>',\n",
       " '<start> windshield wipers slappin time , i was holdin bobby s hand in mine <end>',\n",
       " '<start> we sang every song that driver knew freedom s just another word for nothin left to lose <end>',\n",
       " '<start> nothin , don t mean nothin hon if it ain t free , no no <end>',\n",
       " '<start> and , feelin good was easy , lord , when he sang the blues <end>',\n",
       " '<start> you know , feelin good was good enough for me <end>']"
      ]
     },
     "execution_count": 3,
     "metadata": {},
     "output_type": "execute_result"
    }
   ],
   "source": [
    "# 여기에 정제된 문장을 모을겁니다\n",
    "corpus = []\n",
    "\n",
    "# raw_corpus list에 저장된 문장들을 순서대로 반환하여 sentence에 저장\n",
    "for sentence in raw_corpus:\n",
    "    # 우리가 원하지 않는 문장은 건너뜁니다\n",
    "    if len(sentence) == 0: continue\n",
    "    if sentence[-1] == \":\": continue\n",
    "    \n",
    "    # 앞서 구현한 preprocess_sentence() 함수를 이용하여 문장을 정제를 하고 담아주세요\n",
    "    preprocessed_sentence = preprocess_sentence(sentence)\n",
    "    corpus.append(preprocessed_sentence)\n",
    "        \n",
    "# 정제된 결과를 10개만 확인해보죠\n",
    "\n",
    "corpus[:10]"
   ]
  },
  {
   "cell_type": "markdown",
   "id": "36adac13",
   "metadata": {},
   "source": [
    "### 전처리 : 토큰화  \n",
    "각 문장의 단어를 텐서형태의 표현으로 바꿉니다  \n",
    "단어는 이제 자신과 서로의 관계를 수리적으로 표현한 벡터 형태가 되었습니다  "
   ]
  },
  {
   "cell_type": "code",
   "execution_count": 4,
   "id": "7696c5fc",
   "metadata": {},
   "outputs": [],
   "source": [
    "def tokenize(corpus):\n",
    "\n",
    "    tokenizer = tf.keras.preprocessing.text.Tokenizer(\n",
    "        num_words=12000, \n",
    "        filters=' ',\n",
    "        oov_token=\"<unk>\"\n",
    "    )\n",
    "    \n",
    "    tokenizer.fit_on_texts(corpus)\n",
    "    tensor = tokenizer.texts_to_sequences(corpus)   \n",
    "    tensor = tf.keras.preprocessing.sequence.pad_sequences(tensor, padding='post')\n",
    "    \n",
    "    print(tensor,tokenizer)\n",
    "    return tensor, tokenizer\n",
    "\n"
   ]
  },
  {
   "cell_type": "code",
   "execution_count": 5,
   "id": "135aed7a",
   "metadata": {},
   "outputs": [
    {
     "name": "stdout",
     "output_type": "stream",
     "text": [
      "[[   2 3604 1691 ...    0    0    0]\n",
      " [   2    8    5 ...    0    0    0]\n",
      " [   2  804 7655 ...    0    0    0]\n",
      " ...\n",
      " [   2    5   22 ...    0    0    0]\n",
      " [   2    5   22 ...    0    0    0]\n",
      " [   2    5   22 ...    0    0    0]] <keras_preprocessing.text.Tokenizer object at 0x7f83440ecd00>\n"
     ]
    }
   ],
   "source": [
    "tensor, tokenizer = tokenize(corpus)"
   ]
  },
  {
   "cell_type": "code",
   "execution_count": 6,
   "id": "0e03a8ca",
   "metadata": {},
   "outputs": [
    {
     "name": "stdout",
     "output_type": "stream",
     "text": [
      "[   2 3604 1691   14 7050 3995    4 1100   28    9  681    3    0    0\n",
      "    0    0    0    0    0    0    0    0    0    0    0    0    0    0\n",
      "    0    0    0    0    0    0    0    0    0    0    0    0    0    0\n",
      "    0    0    0    0    0    0    0    0    0    0    0    0    0    0\n",
      "    0    0    0    0    0    0    0    0    0    0    0    0    0    0\n",
      "    0    0    0    0    0    0    0    0    0    0    0    0    0    0\n",
      "    0    0    0    0    0    0    0    0    0    0    0    0    0    0\n",
      "    0    0    0    0    0    0    0    0    0    0    0    0    0    0\n",
      "    0    0    0    0    0    0    0    0    0    0    0    0    0    0\n",
      "    0    0    0    0    0    0    0    0    0    0    0    0    0    0\n",
      "    0    0    0    0    0    0    0    0    0    0    0    0    0    0\n",
      "    0    0    0    0    0    0    0    0    0    0    0    0    0    0\n",
      "    0    0    0    0    0    0    0    0    0    0    0    0    0    0\n",
      "    0    0    0    0    0    0    0    0    0    0    0    0    0    0\n",
      "    0    0    0    0    0    0    0    0    0    0    0    0    0    0\n",
      "    0    0    0    0    0    0    0    0    0    0    0    0    0    0\n",
      "    0    0    0    0    0    0    0    0    0    0    0    0    0    0\n",
      "    0    0    0    0    0    0    0    0    0    0    0    0    0    0\n",
      "    0    0    0    0    0    0    0    0    0    0    0    0    0    0\n",
      "    0    0    0    0    0    0    0    0    0    0    0    0    0    0\n",
      "    0    0    0    0    0    0    0    0    0    0    0    0    0    0\n",
      "    0    0    0    0    0    0    0    0    0    0    0    0    0    0\n",
      "    0    0    0    0    0    0    0    0    0    0    0    0    0    0\n",
      "    0    0    0    0    0    0    0    0    0    0    0    0    0    0\n",
      "    0    0    0    0    0    0    0    0    0    0]\n",
      "[3604 1691   14 7050 3995    4 1100   28    9  681    3    0    0    0\n",
      "    0    0    0    0    0    0    0    0    0    0    0    0    0    0\n",
      "    0    0    0    0    0    0    0    0    0    0    0    0    0    0\n",
      "    0    0    0    0    0    0    0    0    0    0    0    0    0    0\n",
      "    0    0    0    0    0    0    0    0    0    0    0    0    0    0\n",
      "    0    0    0    0    0    0    0    0    0    0    0    0    0    0\n",
      "    0    0    0    0    0    0    0    0    0    0    0    0    0    0\n",
      "    0    0    0    0    0    0    0    0    0    0    0    0    0    0\n",
      "    0    0    0    0    0    0    0    0    0    0    0    0    0    0\n",
      "    0    0    0    0    0    0    0    0    0    0    0    0    0    0\n",
      "    0    0    0    0    0    0    0    0    0    0    0    0    0    0\n",
      "    0    0    0    0    0    0    0    0    0    0    0    0    0    0\n",
      "    0    0    0    0    0    0    0    0    0    0    0    0    0    0\n",
      "    0    0    0    0    0    0    0    0    0    0    0    0    0    0\n",
      "    0    0    0    0    0    0    0    0    0    0    0    0    0    0\n",
      "    0    0    0    0    0    0    0    0    0    0    0    0    0    0\n",
      "    0    0    0    0    0    0    0    0    0    0    0    0    0    0\n",
      "    0    0    0    0    0    0    0    0    0    0    0    0    0    0\n",
      "    0    0    0    0    0    0    0    0    0    0    0    0    0    0\n",
      "    0    0    0    0    0    0    0    0    0    0    0    0    0    0\n",
      "    0    0    0    0    0    0    0    0    0    0    0    0    0    0\n",
      "    0    0    0    0    0    0    0    0    0    0    0    0    0    0\n",
      "    0    0    0    0    0    0    0    0    0    0    0    0    0    0\n",
      "    0    0    0    0    0    0    0    0    0    0    0    0    0    0\n",
      "    0    0    0    0    0    0    0    0    0    0]\n"
     ]
    },
    {
     "data": {
      "text/plain": [
       "(175749, 346)"
      ]
     },
     "execution_count": 6,
     "metadata": {},
     "output_type": "execute_result"
    }
   ],
   "source": [
    "src_input = tensor[:, :-1]  \n",
    "# tensor에서 <start>를 잘라내서 타겟 문장을 생성합니다.\n",
    "tgt_input = tensor[:, 1:]    \n",
    "\n",
    "print(src_input[0])\n",
    "print(tgt_input[0])\n",
    "\n",
    "src_input.shape"
   ]
  },
  {
   "cell_type": "markdown",
   "id": "3dea9156",
   "metadata": {},
   "source": [
    "### 모델 생성 : 준비  \n",
    "모델 생성에 필요한 하이퍼파라메터를 정의합니다  \n",
    "배치사이즈와 버퍼사이즈가 Resource Exhausted error를 일으키지 않도록 너무 높은 값을 가지지 않도록 합니다  "
   ]
  },
  {
   "cell_type": "code",
   "execution_count": 7,
   "id": "0f66b302",
   "metadata": {},
   "outputs": [
    {
     "data": {
      "text/plain": [
       "<BatchDataset shapes: ((128, 346), (128, 346)), types: (tf.int32, tf.int32)>"
      ]
     },
     "execution_count": 7,
     "metadata": {},
     "output_type": "execute_result"
    }
   ],
   "source": [
    "BUFFER_SIZE = len(src_input)\n",
    "BATCH_SIZE = 128\n",
    "steps_per_epoch = len(src_input) // BATCH_SIZE\n",
    "\n",
    "VOCAB_SIZE = tokenizer.num_words + 1   \n",
    "\n",
    "dataset = tf.data.Dataset.from_tensor_slices((src_input, tgt_input))\n",
    "dataset = dataset.shuffle(BUFFER_SIZE)\n",
    "dataset = dataset.batch(BATCH_SIZE, drop_remainder=True)\n",
    "dataset"
   ]
  },
  {
   "cell_type": "code",
   "execution_count": 8,
   "id": "6f9405ea",
   "metadata": {},
   "outputs": [],
   "source": [
    "class TextGenerator(tf.keras.Model):\n",
    "    def __init__(self, vocab_size, embedding_size, hidden_size):\n",
    "        super().__init__()\n",
    "        # Embedding 레이어, 2개의 LSTM 레이어, 1개의 Dense 레이어로 구성되어 있다.\n",
    "        # Embedding 레이어는 단어 사전의 인덱스 값을 해당 인덱스 번째의 워드 벡터로 바꿔준다.\n",
    "        # 이 워드 벡터는 의미 벡터 공간에서 단어의 추상적 표현으로 사용된다. \n",
    "        self.embedding = tf.keras.layers.Embedding(vocab_size, embedding_size) \n",
    "        self.rnn_1 = tf.keras.layers.LSTM(hidden_size, return_sequences=True)  \n",
    "        self.rnn_2 = tf.keras.layers.LSTM(hidden_size, return_sequences=True)\n",
    "        self.linear = tf.keras.layers.Dense(vocab_size)\n",
    "        \n",
    "    def call(self, x):\n",
    "        out = self.embedding(x)\n",
    "        out = self.rnn_1(out)\n",
    "        out = self.rnn_2(out)\n",
    "        out = self.linear(out)\n",
    "        \n",
    "        return out\n",
    "# embedding size 값이 커질수록 단어의 추상적인 특징들을 더 잡아낼 수 있지만\n",
    "# 그만큼 충분한 데이터가 없으면 안좋은 결과 값을 가져옵니다!   \n"
   ]
  },
  {
   "cell_type": "code",
   "execution_count": 9,
   "id": "b4ea2d43",
   "metadata": {},
   "outputs": [],
   "source": [
    "embedding_size = 128 # 워드 벡터의 차원수를 말하며 단어가 추상적으로 표현되는 크기입니다.\n",
    "hidden_size = 256 # 모델에 얼마나 많은 일꾼을 둘 것인가? 정도로 이해하면 좋다.\n",
    "model = TextGenerator(tokenizer.num_words + 1, embedding_size , hidden_size) # tokenizer.num_words에 +1인 이유는 문장에 없는 pad가 사용되었기 때문이다.\n"
   ]
  },
  {
   "cell_type": "code",
   "execution_count": 38,
   "id": "21cd07bd",
   "metadata": {},
   "outputs": [],
   "source": [
    "# train / test split\n",
    "enc_train, enc_val, dec_train, dec_val = train_test_split(src_input, tgt_input, test_size=0.2, random_state=34)\n"
   ]
  },
  {
   "cell_type": "code",
   "execution_count": 11,
   "id": "d19fa4e5",
   "metadata": {},
   "outputs": [
    {
     "data": {
      "text/plain": [
       "<tf.Tensor: shape=(128, 346, 12001), dtype=float32, numpy=\n",
       "array([[[ 1.77224647e-04, -7.96934764e-05,  5.81025488e-05, ...,\n",
       "         -7.57827656e-05, -3.37975980e-05,  1.47880230e-04],\n",
       "        [ 3.91871086e-04, -9.76367155e-05,  5.33230195e-05, ...,\n",
       "         -7.65762816e-05, -8.87148490e-05,  2.34910651e-04],\n",
       "        [ 5.53590246e-04, -3.53733485e-05, -2.40752197e-05, ...,\n",
       "         -1.26604587e-04, -2.51183024e-04,  1.15398951e-04],\n",
       "        ...,\n",
       "        [ 2.14654929e-03, -2.49136798e-03, -4.88034886e-04, ...,\n",
       "          1.23794319e-03,  1.23105722e-03,  1.48540747e-03],\n",
       "        [ 2.14654929e-03, -2.49136775e-03, -4.88034886e-04, ...,\n",
       "          1.23794307e-03,  1.23105734e-03,  1.48540747e-03],\n",
       "        [ 2.14654929e-03, -2.49136775e-03, -4.88034770e-04, ...,\n",
       "          1.23794319e-03,  1.23105722e-03,  1.48540747e-03]],\n",
       "\n",
       "       [[ 1.77224647e-04, -7.96934764e-05,  5.81025488e-05, ...,\n",
       "         -7.57827656e-05, -3.37975980e-05,  1.47880230e-04],\n",
       "        [ 4.23337246e-04, -1.32090237e-04,  7.31144537e-05, ...,\n",
       "         -2.62722198e-04, -5.13758241e-05,  5.60034823e-04],\n",
       "        [ 5.26660471e-04, -3.04898072e-04,  2.64994393e-04, ...,\n",
       "         -9.69951361e-05,  8.64807680e-06,  8.13362247e-04],\n",
       "        ...,\n",
       "        [ 2.14654999e-03, -2.49136845e-03, -4.88034362e-04, ...,\n",
       "          1.23794377e-03,  1.23105757e-03,  1.48540817e-03],\n",
       "        [ 2.14654976e-03, -2.49136845e-03, -4.88034362e-04, ...,\n",
       "          1.23794377e-03,  1.23105757e-03,  1.48540817e-03],\n",
       "        [ 2.14654976e-03, -2.49136868e-03, -4.88034362e-04, ...,\n",
       "          1.23794377e-03,  1.23105757e-03,  1.48540817e-03]],\n",
       "\n",
       "       [[ 1.77224647e-04, -7.96934764e-05,  5.81025488e-05, ...,\n",
       "         -7.57827656e-05, -3.37975980e-05,  1.47880230e-04],\n",
       "        [ 2.68539879e-04, -3.32629425e-05,  1.44400328e-04, ...,\n",
       "         -1.70081461e-04, -2.46162817e-04,  1.98089750e-04],\n",
       "        [ 2.78581312e-04,  3.79073696e-04,  1.39509357e-04, ...,\n",
       "         -1.35005583e-04, -2.31130587e-04,  7.52874694e-05],\n",
       "        ...,\n",
       "        [ 2.14655022e-03, -2.49136961e-03, -4.88034624e-04, ...,\n",
       "          1.23794400e-03,  1.23105769e-03,  1.48540817e-03],\n",
       "        [ 2.14655045e-03, -2.49136961e-03, -4.88034741e-04, ...,\n",
       "          1.23794400e-03,  1.23105780e-03,  1.48540805e-03],\n",
       "        [ 2.14655045e-03, -2.49136961e-03, -4.88034857e-04, ...,\n",
       "          1.23794423e-03,  1.23105769e-03,  1.48540805e-03]],\n",
       "\n",
       "       ...,\n",
       "\n",
       "       [[ 1.77224647e-04, -7.96934764e-05,  5.81025488e-05, ...,\n",
       "         -7.57827656e-05, -3.37975980e-05,  1.47880230e-04],\n",
       "        [ 3.14435514e-04,  1.88122693e-04,  1.41274839e-04, ...,\n",
       "         -1.59815725e-04, -5.25431460e-05,  3.24992405e-04],\n",
       "        [ 3.24057241e-04,  3.74981726e-04,  2.41520349e-04, ...,\n",
       "         -1.47040832e-04, -1.53661458e-04,  4.68171726e-04],\n",
       "        ...,\n",
       "        [ 2.14655022e-03, -2.49137008e-03, -4.88034420e-04, ...,\n",
       "          1.23794295e-03,  1.23105710e-03,  1.48540770e-03],\n",
       "        [ 2.14655022e-03, -2.49137008e-03, -4.88034420e-04, ...,\n",
       "          1.23794295e-03,  1.23105722e-03,  1.48540770e-03],\n",
       "        [ 2.14655022e-03, -2.49136984e-03, -4.88034537e-04, ...,\n",
       "          1.23794295e-03,  1.23105710e-03,  1.48540770e-03]],\n",
       "\n",
       "       [[ 1.77224647e-04, -7.96934764e-05,  5.81025488e-05, ...,\n",
       "         -7.57827656e-05, -3.37975980e-05,  1.47880230e-04],\n",
       "        [ 2.95502396e-04, -1.75936744e-04,  2.79596075e-04, ...,\n",
       "         -6.44837346e-05, -3.01986205e-04,  1.74812638e-04],\n",
       "        [ 2.22748582e-04, -2.48952128e-04,  2.53304839e-04, ...,\n",
       "         -3.32058611e-04, -5.66262868e-04,  2.15198219e-04],\n",
       "        ...,\n",
       "        [ 2.14655092e-03, -2.49136914e-03, -4.88034799e-04, ...,\n",
       "          1.23794435e-03,  1.23105780e-03,  1.48540828e-03],\n",
       "        [ 2.14655069e-03, -2.49136914e-03, -4.88034799e-04, ...,\n",
       "          1.23794435e-03,  1.23105792e-03,  1.48540828e-03],\n",
       "        [ 2.14655092e-03, -2.49136938e-03, -4.88034915e-04, ...,\n",
       "          1.23794447e-03,  1.23105780e-03,  1.48540817e-03]],\n",
       "\n",
       "       [[ 1.77224647e-04, -7.96934764e-05,  5.81025488e-05, ...,\n",
       "         -7.57827656e-05, -3.37975980e-05,  1.47880230e-04],\n",
       "        [ 3.65513406e-04, -1.04694125e-04, -8.28494958e-05, ...,\n",
       "         -3.20327206e-04, -1.53705696e-04,  4.41469369e-04],\n",
       "        [ 4.72099287e-04, -6.65701782e-06, -1.00003410e-04, ...,\n",
       "         -3.61670653e-04, -2.66551127e-04,  7.63339223e-04],\n",
       "        ...,\n",
       "        [ 2.14655092e-03, -2.49136821e-03, -4.88034799e-04, ...,\n",
       "          1.23794342e-03,  1.23105699e-03,  1.48540852e-03],\n",
       "        [ 2.14655092e-03, -2.49136821e-03, -4.88034799e-04, ...,\n",
       "          1.23794342e-03,  1.23105699e-03,  1.48540852e-03],\n",
       "        [ 2.14655092e-03, -2.49136821e-03, -4.88034799e-04, ...,\n",
       "          1.23794342e-03,  1.23105699e-03,  1.48540852e-03]]],\n",
       "      dtype=float32)>"
      ]
     },
     "execution_count": 11,
     "metadata": {},
     "output_type": "execute_result"
    }
   ],
   "source": [
    "for src_sample, tgt_sample in dataset.take(1): break\n",
    "\n",
    "model(src_sample)\n",
    "\n"
   ]
  },
  {
   "cell_type": "code",
   "execution_count": 12,
   "id": "c838d788",
   "metadata": {},
   "outputs": [
    {
     "name": "stdout",
     "output_type": "stream",
     "text": [
      "Model: \"text_generator\"\n",
      "_________________________________________________________________\n",
      "Layer (type)                 Output Shape              Param #   \n",
      "=================================================================\n",
      "embedding (Embedding)        multiple                  1536128   \n",
      "_________________________________________________________________\n",
      "lstm (LSTM)                  multiple                  394240    \n",
      "_________________________________________________________________\n",
      "lstm_1 (LSTM)                multiple                  525312    \n",
      "_________________________________________________________________\n",
      "dense (Dense)                multiple                  3084257   \n",
      "=================================================================\n",
      "Total params: 5,539,937\n",
      "Trainable params: 5,539,937\n",
      "Non-trainable params: 0\n",
      "_________________________________________________________________\n"
     ]
    }
   ],
   "source": [
    "model.summary()"
   ]
  },
  {
   "cell_type": "code",
   "execution_count": 13,
   "id": "0f9cbfa2",
   "metadata": {},
   "outputs": [],
   "source": [
    "optimizer = tf.keras.optimizers.Adam() # Adam은 현재 가장 많이 사용하는 옵티마이저이다. 자세한 내용은 차차 배운다.\n",
    "loss = tf.keras.losses.SparseCategoricalCrossentropy( # 훈련 데이터의 라벨이 정수의 형태로 제공될 때 사용하는 손실함수이다.\n",
    "    from_logits=True, # 기본값은 False이다. 모델에 의해 생성된 출력 값이 정규화되지 않았음을 손실 함수에 알려준다. 즉 softmax함수가 적용되지 않았다는걸 의미한다. \n",
    "    reduction='none'  # 기본값은 SUM이다. 각자 나오는 값의 반환 원할 때 None을 사용한다.\n",
    ")\n",
    "# 모델을 학습시키키 위한 학습과정을 설정하는 단계이다.\n",
    "model.compile(loss=loss, optimizer=optimizer) # 손실함수와 훈련과정을 설정했다."
   ]
  },
  {
   "cell_type": "code",
   "execution_count": 18,
   "id": "7fd494f0",
   "metadata": {},
   "outputs": [
    {
     "name": "stdout",
     "output_type": "stream",
     "text": [
      "Epoch 1/10\n",
      "1373/1373 [==============================] - 635s 462ms/step - loss: 0.1506\n",
      "Epoch 2/10\n",
      "1373/1373 [==============================] - 639s 465ms/step - loss: 0.1397\n",
      "Epoch 3/10\n",
      "1373/1373 [==============================] - 642s 468ms/step - loss: 0.1363\n",
      "Epoch 4/10\n",
      "1373/1373 [==============================] - 642s 467ms/step - loss: 0.1305\n",
      "Epoch 5/10\n",
      "1373/1373 [==============================] - 642s 467ms/step - loss: 0.1262\n",
      "Epoch 6/10\n",
      "1373/1373 [==============================] - 640s 466ms/step - loss: 0.1220\n",
      "Epoch 7/10\n",
      "1373/1373 [==============================] - 642s 467ms/step - loss: 0.1182\n",
      "Epoch 8/10\n",
      "1373/1373 [==============================] - 638s 465ms/step - loss: 0.1146\n",
      "Epoch 9/10\n",
      "1373/1373 [==============================] - 641s 467ms/step - loss: 0.1114\n",
      "Epoch 10/10\n",
      "1373/1373 [==============================] - 637s 464ms/step - loss: 0.1084\n"
     ]
    }
   ],
   "source": [
    "import tqdm\n",
    "import tensorflow_addons as tfa\n",
    "\n",
    "tqdm_callback = tfa.callbacks.TQDMProgressBar()\n",
    "\n",
    "history = model.fit(dataset, epochs=10) "
   ]
  },
  {
   "cell_type": "code",
   "execution_count": 39,
   "id": "c4aa8835",
   "metadata": {},
   "outputs": [
    {
     "data": {
      "text/plain": [
       "{'loss': [0.15061014890670776,\n",
       "  0.1396825611591339,\n",
       "  0.13631729781627655,\n",
       "  0.13048508763313293,\n",
       "  0.12620870769023895,\n",
       "  0.12204638123512268,\n",
       "  0.1181749477982521,\n",
       "  0.11462534219026566,\n",
       "  0.11135441809892654,\n",
       "  0.10837319493293762]}"
      ]
     },
     "execution_count": 39,
     "metadata": {},
     "output_type": "execute_result"
    }
   ],
   "source": [
    "history.history"
   ]
  },
  {
   "cell_type": "code",
   "execution_count": 42,
   "id": "f762f93d",
   "metadata": {},
   "outputs": [
    {
     "data": {
      "image/png": "[encoded data removed]",
      "text/plain": [
       "<Figure size 432x288 with 1 Axes>"
      ]
     },
     "metadata": {
      "needs_background": "light"
     },
     "output_type": "display_data"
    }
   ],
   "source": [
    "plt.plot(history.history['loss'])\n",
    "plt.title('Model loss')\n",
    "plt.xlabel('Epoch')\n",
    "plt.ylabel('Loss')\n",
    "\n",
    "plt.show()"
   ]
  },
  {
   "cell_type": "markdown",
   "id": "0a174c19",
   "metadata": {},
   "source": [
    "첫 배치부터 loss가 낮았습니다  \n"
   ]
  },
  {
   "cell_type": "code",
   "execution_count": 19,
   "id": "f04a86c1",
   "metadata": {},
   "outputs": [],
   "source": [
    "#문장생성 함수 정의\n",
    "#모델에게 시작 문장을 전달하면 모델이 시작 문장을 바탕으로 작문을 진행\n",
    "def generate_text(model, tokenizer, init_sentence=\"<start>\", max_len=15): #시작 문자열을 init_sentence 로 받으며 디폴트값은 <start> 를 받는다\n",
    "    # 테스트를 위해서 입력받은 init_sentence도 텐서로 변환합니다\n",
    "    test_input = tokenizer.texts_to_sequences([init_sentence]) #텍스트 안의 단어들을 숫자의 시퀀스의 형태로 변환\n",
    "    test_tensor = tf.convert_to_tensor(test_input, dtype=tf.int64)\n",
    "    end_token = tokenizer.word_index[\"<end>\"]\n",
    "\n",
    "       while True: #루프를 돌면서 init_sentence에 단어를 하나씩 생성성\n",
    "        # 1\n",
    "        predict = model(test_tensor) \n",
    "        # 2\n",
    "        predict_word = tf.argmax(tf.nn.softmax(predict, axis=-1), axis=-1)[:, -1] \n",
    "        # 3 \n",
    "        test_tensor = tf.concat([test_tensor, tf.expand_dims(predict_word, axis=0)], axis=-1)\n",
    "        # 4 \n",
    "        if predict_word.numpy()[0] == end_token: break\n",
    "        if test_tensor.shape[1] >= max_len: break\n",
    "\n",
    "    generated = \"\"\n",
    "    # tokenizer를 이용해 word index를 단어로 하나씩 변환합니다 \n",
    "    for word_index in test_tensor[0].numpy():\n",
    "        generated += tokenizer.index_word[word_index] + \" \"\n",
    "\n",
    "    return generated #최종적으로 모델이 생성한 문장을 반환"
   ]
  },
  {
   "cell_type": "code",
   "execution_count": 24,
   "id": "262c1ff8",
   "metadata": {},
   "outputs": [
    {
     "data": {
      "text/plain": [
       "'<start> i love you , i love you , i love you , i love '"
      ]
     },
     "execution_count": 24,
     "metadata": {},
     "output_type": "execute_result"
    }
   ],
   "source": [
    "generate_text(model, tokenizer, init_sentence=\"<start> I love\") "
   ]
  },
  {
   "cell_type": "markdown",
   "id": "aad0254c",
   "metadata": {},
   "source": [
    "### 문장이 정상적이지 않습니다\n",
    "\n",
    "### Validation set을 20% 사용하여, 새로 학습을 진행해보겠습니다"
   ]
  },
  {
   "cell_type": "code",
   "execution_count": 26,
   "id": "7dc6d7c8",
   "metadata": {},
   "outputs": [],
   "source": [
    "model_2 = TextGenerator(tokenizer.num_words + 1, embedding_size , hidden_size) "
   ]
  },
  {
   "cell_type": "code",
   "execution_count": 27,
   "id": "cd3268c0",
   "metadata": {},
   "outputs": [
    {
     "data": {
      "text/plain": [
       "<tf.Tensor: shape=(128, 346, 12001), dtype=float32, numpy=\n",
       "array([[[ 9.46491346e-05, -1.38631949e-04,  1.19075245e-04, ...,\n",
       "          5.91514945e-05, -2.16002984e-04, -1.00066150e-04],\n",
       "        [-5.52567108e-05, -1.28187776e-05,  1.96226989e-04, ...,\n",
       "          7.75524240e-05, -2.59345805e-04, -2.92766170e-04],\n",
       "        [ 3.10206838e-06, -4.90493439e-05,  1.12792863e-04, ...,\n",
       "         -5.26553486e-05, -2.18496643e-04, -3.63681407e-04],\n",
       "        ...,\n",
       "        [ 1.60614075e-03, -1.41605531e-04, -1.52206083e-03, ...,\n",
       "          2.00212328e-03,  1.60102220e-03, -4.41792276e-04],\n",
       "        [ 1.60614098e-03, -1.41605517e-04, -1.52206083e-03, ...,\n",
       "          2.00212281e-03,  1.60102220e-03, -4.41792043e-04],\n",
       "        [ 1.60614145e-03, -1.41605546e-04, -1.52206072e-03, ...,\n",
       "          2.00212281e-03,  1.60102232e-03, -4.41792159e-04]],\n",
       "\n",
       "       [[ 9.46491346e-05, -1.38631949e-04,  1.19075245e-04, ...,\n",
       "          5.91514945e-05, -2.16002984e-04, -1.00066150e-04],\n",
       "        [ 3.20699146e-05,  8.39137865e-05,  2.27434648e-04, ...,\n",
       "          2.71727367e-06, -2.08728263e-04, -1.77184018e-04],\n",
       "        [ 7.10063541e-05,  3.36355559e-04, -5.11691469e-05, ...,\n",
       "          3.33443641e-05, -1.75961730e-04, -2.93364224e-04],\n",
       "        ...,\n",
       "        [ 1.60614133e-03, -1.41604774e-04, -1.52206130e-03, ...,\n",
       "          2.00212351e-03,  1.60102290e-03, -4.41792887e-04],\n",
       "        [ 1.60614122e-03, -1.41604774e-04, -1.52206142e-03, ...,\n",
       "          2.00212328e-03,  1.60102290e-03, -4.41792654e-04],\n",
       "        [ 1.60614145e-03, -1.41604716e-04, -1.52206130e-03, ...,\n",
       "          2.00212281e-03,  1.60102290e-03, -4.41792654e-04]],\n",
       "\n",
       "       [[ 9.46491346e-05, -1.38631949e-04,  1.19075245e-04, ...,\n",
       "          5.91514945e-05, -2.16002984e-04, -1.00066150e-04],\n",
       "        [ 2.42215334e-04, -2.41323160e-05,  3.63661966e-05, ...,\n",
       "          4.78330257e-05, -2.75338884e-04, -2.03995529e-04],\n",
       "        [ 4.29119536e-04,  1.28912579e-04,  2.69185606e-04, ...,\n",
       "          4.26892293e-05, -3.58816091e-04, -3.01486987e-04],\n",
       "        ...,\n",
       "        [ 1.60614168e-03, -1.41604643e-04, -1.52206153e-03, ...,\n",
       "          2.00212374e-03,  1.60102267e-03, -4.41791897e-04],\n",
       "        [ 1.60614168e-03, -1.41604702e-04, -1.52206153e-03, ...,\n",
       "          2.00212374e-03,  1.60102267e-03, -4.41791897e-04],\n",
       "        [ 1.60614180e-03, -1.41604702e-04, -1.52206153e-03, ...,\n",
       "          2.00212374e-03,  1.60102267e-03, -4.41791664e-04]],\n",
       "\n",
       "       ...,\n",
       "\n",
       "       [[ 9.46491346e-05, -1.38631949e-04,  1.19075245e-04, ...,\n",
       "          5.91514945e-05, -2.16002984e-04, -1.00066150e-04],\n",
       "        [ 2.39111891e-04, -4.50365405e-05, -3.34159922e-05, ...,\n",
       "          2.02525280e-05, -2.85386894e-04, -7.66789071e-06],\n",
       "        [ 1.30520901e-04, -1.34104557e-04,  1.13224144e-06, ...,\n",
       "         -1.04466846e-04, -6.22345775e-04,  2.62248323e-05],\n",
       "        ...,\n",
       "        [ 1.60614157e-03, -1.41604833e-04, -1.52206153e-03, ...,\n",
       "          2.00212328e-03,  1.60102185e-03, -4.41792567e-04],\n",
       "        [ 1.60614145e-03, -1.41604716e-04, -1.52206153e-03, ...,\n",
       "          2.00212328e-03,  1.60102185e-03, -4.41792567e-04],\n",
       "        [ 1.60614157e-03, -1.41604804e-04, -1.52206142e-03, ...,\n",
       "          2.00212304e-03,  1.60102197e-03, -4.41792567e-04]],\n",
       "\n",
       "       [[ 9.46491346e-05, -1.38631949e-04,  1.19075245e-04, ...,\n",
       "          5.91514945e-05, -2.16002984e-04, -1.00066150e-04],\n",
       "        [ 1.45497615e-04, -1.20376921e-04,  1.88167221e-04, ...,\n",
       "          1.92983833e-04, -4.64268349e-04, -1.89036189e-04],\n",
       "        [ 1.26377345e-04, -1.75621841e-04,  2.72947189e-04, ...,\n",
       "          9.14073535e-05, -5.21496928e-04, -9.05740671e-05],\n",
       "        ...,\n",
       "        [ 1.60614098e-03, -1.41604673e-04, -1.52206223e-03, ...,\n",
       "          2.00212281e-03,  1.60102244e-03, -4.41791577e-04],\n",
       "        [ 1.60614122e-03, -1.41604789e-04, -1.52206211e-03, ...,\n",
       "          2.00212281e-03,  1.60102255e-03, -4.41791752e-04],\n",
       "        [ 1.60614110e-03, -1.41604789e-04, -1.52206211e-03, ...,\n",
       "          2.00212304e-03,  1.60102255e-03, -4.41791752e-04]],\n",
       "\n",
       "       [[ 9.46491346e-05, -1.38631949e-04,  1.19075245e-04, ...,\n",
       "          5.91514945e-05, -2.16002984e-04, -1.00066150e-04],\n",
       "        [ 1.96781504e-04, -6.27420959e-05,  8.75600381e-05, ...,\n",
       "          3.20795807e-05, -3.54332878e-04, -2.67208525e-04],\n",
       "        [ 3.07564245e-04,  1.75388006e-04,  2.54290499e-05, ...,\n",
       "          6.61597951e-05, -4.66521829e-04, -2.35635889e-04],\n",
       "        ...,\n",
       "        [ 1.60614238e-03, -1.41605400e-04, -1.52206165e-03, ...,\n",
       "          2.00212374e-03,  1.60102174e-03, -4.41791984e-04],\n",
       "        [ 1.60614226e-03, -1.41605342e-04, -1.52206153e-03, ...,\n",
       "          2.00212351e-03,  1.60102174e-03, -4.41792217e-04],\n",
       "        [ 1.60614238e-03, -1.41605633e-04, -1.52206165e-03, ...,\n",
       "          2.00212374e-03,  1.60102174e-03, -4.41791984e-04]]],\n",
       "      dtype=float32)>"
      ]
     },
     "execution_count": 27,
     "metadata": {},
     "output_type": "execute_result"
    }
   ],
   "source": [
    "model_2(src_sample)"
   ]
  },
  {
   "cell_type": "code",
   "execution_count": 28,
   "id": "40fcdd40",
   "metadata": {},
   "outputs": [
    {
     "name": "stdout",
     "output_type": "stream",
     "text": [
      "Model: \"text_generator_2\"\n",
      "_________________________________________________________________\n",
      "Layer (type)                 Output Shape              Param #   \n",
      "=================================================================\n",
      "embedding_2 (Embedding)      multiple                  1536128   \n",
      "_________________________________________________________________\n",
      "lstm_4 (LSTM)                multiple                  394240    \n",
      "_________________________________________________________________\n",
      "lstm_5 (LSTM)                multiple                  525312    \n",
      "_________________________________________________________________\n",
      "dense_2 (Dense)              multiple                  3084257   \n",
      "=================================================================\n",
      "Total params: 5,539,937\n",
      "Trainable params: 5,539,937\n",
      "Non-trainable params: 0\n",
      "_________________________________________________________________\n"
     ]
    }
   ],
   "source": [
    "model_2.summary()"
   ]
  },
  {
   "cell_type": "code",
   "execution_count": 29,
   "id": "d4517724",
   "metadata": {},
   "outputs": [],
   "source": [
    "model_2.compile(loss=loss, optimizer=optimizer)"
   ]
  },
  {
   "cell_type": "code",
   "execution_count": 33,
   "id": "6cbf5c8d",
   "metadata": {},
   "outputs": [
    {
     "name": "stdout",
     "output_type": "stream",
     "text": [
      "Epoch 1/10\n",
      "1099/1099 [==============================] - 608s 552ms/step - loss: 0.1057 - val_loss: 0.1058\n",
      "Epoch 2/10\n",
      "1099/1099 [==============================] - 606s 552ms/step - loss: 0.1031 - val_loss: 0.1058\n",
      "Epoch 3/10\n",
      "1099/1099 [==============================] - 607s 552ms/step - loss: 0.1008 - val_loss: 0.1058\n",
      "Epoch 4/10\n",
      "1099/1099 [==============================] - 606s 551ms/step - loss: 0.0986 - val_loss: 0.1057\n",
      "Epoch 5/10\n",
      "1099/1099 [==============================] - 603s 549ms/step - loss: 0.0966 - val_loss: 0.1057\n",
      "Epoch 6/10\n",
      "1099/1099 [==============================] - 605s 550ms/step - loss: 0.0947 - val_loss: 0.1058\n",
      "Epoch 7/10\n",
      "1099/1099 [==============================] - 607s 552ms/step - loss: 0.0928 - val_loss: 0.1057\n",
      "Epoch 8/10\n",
      "1099/1099 [==============================] - 605s 550ms/step - loss: 0.0911 - val_loss: 0.1058\n",
      "Epoch 9/10\n",
      "1099/1099 [==============================] - 603s 549ms/step - loss: 0.0895 - val_loss: 0.1060\n",
      "Epoch 10/10\n",
      "1099/1099 [==============================] - 602s 548ms/step - loss: 0.0879 - val_loss: 0.1062\n"
     ]
    }
   ],
   "source": [
    "tqdm_callback2 = tfa.callbacks.TQDMProgressBar()\n",
    "\n",
    "history2 = model.fit(enc_train, dec_train, epochs=10, batch_size=BATCH_SIZE, validation_data=(enc_val, dec_val))"
   ]
  },
  {
   "cell_type": "code",
   "execution_count": 43,
   "id": "4e0e387d",
   "metadata": {},
   "outputs": [
    {
     "data": {
      "text/plain": [
       "{'loss': [0.10570963472127914,\n",
       "  0.10310664772987366,\n",
       "  0.10079552233219147,\n",
       "  0.09862092137336731,\n",
       "  0.09658581018447876,\n",
       "  0.09465497732162476,\n",
       "  0.09281924366950989,\n",
       "  0.09110462665557861,\n",
       "  0.08945996314287186,\n",
       "  0.0878962054848671],\n",
       " 'val_loss': [0.10579028725624084,\n",
       "  0.10581045597791672,\n",
       "  0.10580892115831375,\n",
       "  0.10568706691265106,\n",
       "  0.10570049285888672,\n",
       "  0.10576296597719193,\n",
       "  0.1056777760386467,\n",
       "  0.10583018511533737,\n",
       "  0.10601022094488144,\n",
       "  0.10617338865995407]}"
      ]
     },
     "execution_count": 43,
     "metadata": {},
     "output_type": "execute_result"
    }
   ],
   "source": [
    "history2.history"
   ]
  },
  {
   "cell_type": "code",
   "execution_count": 45,
   "id": "7b9a5a12",
   "metadata": {},
   "outputs": [
    {
     "data": {
      "image/png": "[encoded data removed]",
      "text/plain": [
       "<Figure size 432x288 with 1 Axes>"
      ]
     },
     "metadata": {
      "needs_background": "light"
     },
     "output_type": "display_data"
    }
   ],
   "source": [
    "plt.plot(history2.history['loss'])\n",
    "plt.title('Model loss')\n",
    "plt.xlabel('Epoch')\n",
    "plt.ylabel('Loss')\n",
    "\n",
    "plt.plot(history2.history['val_loss'])\n",
    "plt.title('Validation loss')\n",
    "plt.xlabel('Epoch')\n",
    "plt.ylabel('Loss')\n",
    "\n",
    "plt.show()"
   ]
  },
  {
   "cell_type": "code",
   "execution_count": 34,
   "id": "dd701a10",
   "metadata": {},
   "outputs": [
    {
     "data": {
      "text/plain": [
       "'<start> i love happenin happenin imagination imagination salsa borin guided diamonds diamonds borin borin destination '"
      ]
     },
     "execution_count": 34,
     "metadata": {},
     "output_type": "execute_result"
    }
   ],
   "source": [
    "generate_text(model_2, tokenizer, init_sentence=\"<start> I love\")"
   ]
  },
  {
   "cell_type": "markdown",
   "id": "5b2820e9",
   "metadata": {},
   "source": []
  },
  {
   "cell_type": "markdown",
   "id": "9e3a5334",
   "metadata": {},
   "source": [
    "## 회고   \n",
    "Rnn 신경망에서 Validation set 을 사용하여 hyperparameter값을 조정함으로써 출력물이 바뀜을 확인할 수 있었습니다   \n",
    "하지만 train / test 과정에서 일반적인 loss / validation loss의 변화추이를 확인할 수 없었습니다  \n",
    "또한 문장의 단어도 validation 을 사용했을 때, 변화를 확인했지만 문장이 자연스럽지 않았습니다  \n",
    "train / test 과정에서 제대로 된 작업을 수행하지 못했음이 의심됩니다  \n",
    "  \n",
    "epoch나 다른 hyperparamete의 값의 변화에 따라 성능이 어떻게 바뀌는지 추후 확인하여, 바른 결과를 낼 수 있도록 수정하겠습니다  "
   ]
  },
  {
   "cell_type": "code",
   "execution_count": null,
   "id": "27c03cfa",
   "metadata": {},
   "outputs": [],
   "source": []
  }
 ],
 "metadata": {
  "kernelspec": {
   "display_name": "Python 3 (ipykernel)",
   "language": "python",
   "name": "python3"
  },
  "language_info": {
   "codemirror_mode": {
    "name": "ipython",
    "version": 3
   },
   "file_extension": ".py",
   "mimetype": "text/x-python",
   "name": "python",
   "nbconvert_exporter": "python",
   "pygments_lexer": "ipython3",
   "version": "3.9.7"
  }
 },
 "nbformat": 4,
 "nbformat_minor": 5
}
