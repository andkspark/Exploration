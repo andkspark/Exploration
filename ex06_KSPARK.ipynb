{
 "cells": [
  {
   "cell_type": "code",
   "execution_count": 1,
   "id": "7c759802",
   "metadata": {},
   "outputs": [
    {
     "name": "stdout",
     "output_type": "stream",
     "text": [
      "데이터 크기: 187088\n",
      "Examples:\n",
      " [\"Busted flat in Baton Rouge, waitin' for a train\", \"And I's feelin' near as faded as my jeans\", 'Bobby thumbed a diesel down, just before it rained']\n"
     ]
    }
   ],
   "source": [
    "import os, re \n",
    "import numpy as np\n",
    "import tensorflow as tf\n",
    "import glob\n",
    "import matplotlib.pyplot as plt\n",
    "\n",
    "from sklearn.model_selection import train_test_split\n",
    "\n",
    "txt_file_path = os.getenv('HOME')+'/aiffel/lyricist/data/lyrics/*' #os.getenv(x)함수는 환경 변수x의 값을 포함하는 문자열 변수를 반환합니다. txt_file_path 에 \"/root/aiffel/lyricist/data/lyrics/*\" 저장\n",
    "txt_list = glob.glob(txt_file_path) #txt_file_path 경로에 있는 모든 파일명을 리스트 형식으로 txt_list 에 할당\n",
    "\n",
    "raw_corpus = [] \n",
    "\n",
    "for txt_file in txt_list:\n",
    "    with open(txt_file, \"r\") as f:\n",
    "        raw = f.read().splitlines() #read() : 파일 전체의 내용을 하나의 문자열로 읽어온다. , splitlines()  : 여러라인으로 구분되어 있는 문자열을 한라인씩 분리하여 리스트로 반환\n",
    "        raw_corpus.extend(raw) # extend() : 리스트함수로 추가적인 내용을 연장 한다.\n",
    "\n",
    "print(\"데이터 크기:\", len(raw_corpus))\n",
    "print(\"Examples:\\n\", raw_corpus[:3])\n"
   ]
  },
  {
   "cell_type": "code",
   "execution_count": 2,
   "id": "023187ce",
   "metadata": {},
   "outputs": [],
   "source": [
    "# preprocess_sentence() 만들기\n",
    "# len 15가 넘어가면 데이터에서 제외할것\n",
    "\n",
    "def preprocess_sentence(sentence):\n",
    "    sentence = sentence.lower().strip() # 1\n",
    "    sentence = re.sub(r\"([?.!,¿])\", r\" \\1 \", sentence) # 2\n",
    "    sentence = re.sub(r'[\" \"]+', \" \", sentence) # 3\n",
    "    sentence = re.sub(r\"[^a-zA-Z?.!,¿]+\", \" \", sentence) # 4\n",
    "    sentence = sentence.strip() # 5\n",
    "    sentence = '<start> ' + sentence + ' <end>' # 6\n",
    "    return sentence\n"
   ]
  },
  {
   "cell_type": "code",
   "execution_count": null,
   "id": "eb5b8433",
   "metadata": {},
   "outputs": [],
   "source": []
  },
  {
   "cell_type": "code",
   "execution_count": 3,
   "id": "a004c50f",
   "metadata": {},
   "outputs": [
    {
     "data": {
      "text/plain": [
       "['<start> busted flat in baton rouge , waitin for a train <end>',\n",
       " '<start> and i s feelin near as faded as my jeans <end>',\n",
       " '<start> bobby thumbed a diesel down , just before it rained <end>',\n",
       " '<start> it rode us all the way to new orleans i pulled my harpoon out of my dirty red bandanna <end>',\n",
       " '<start> i was playin soft while bobby sang the blues , yeah <end>',\n",
       " '<start> windshield wipers slappin time , i was holdin bobby s hand in mine <end>',\n",
       " '<start> we sang every song that driver knew freedom s just another word for nothin left to lose <end>',\n",
       " '<start> nothin , don t mean nothin hon if it ain t free , no no <end>',\n",
       " '<start> and , feelin good was easy , lord , when he sang the blues <end>',\n",
       " '<start> you know , feelin good was good enough for me <end>']"
      ]
     },
     "execution_count": 3,
     "metadata": {},
     "output_type": "execute_result"
    }
   ],
   "source": [
    "# 여기에 정제된 문장을 모을겁니다\n",
    "corpus = []\n",
    "\n",
    "# raw_corpus list에 저장된 문장들을 순서대로 반환하여 sentence에 저장\n",
    "for sentence in raw_corpus:\n",
    "    # 우리가 원하지 않는 문장은 건너뜁니다\n",
    "    if len(sentence) == 0: continue\n",
    "    if sentence[-1] == \":\": continue\n",
    "    \n",
    "    # 앞서 구현한 preprocess_sentence() 함수를 이용하여 문장을 정제를 하고 담아주세요\n",
    "    preprocessed_sentence = preprocess_sentence(sentence)\n",
    "    corpus.append(preprocessed_sentence)\n",
    "        \n",
    "# 정제된 결과를 10개만 확인해보죠\n",
    "\n",
    "corpus[:10]"
   ]
  },
  {
   "cell_type": "code",
   "execution_count": 4,
   "id": "2b2c37e1",
   "metadata": {},
   "outputs": [],
   "source": [
    "def tokenize(corpus):\n",
    "\n",
    "    tokenizer = tf.keras.preprocessing.text.Tokenizer(\n",
    "        num_words=12000, \n",
    "        filters=' ',\n",
    "        oov_token=\"<unk>\"\n",
    "    )\n",
    "    \n",
    "    tokenizer.fit_on_texts(corpus)\n",
    "    tensor = tokenizer.texts_to_sequences(corpus)   \n",
    "    tensor = tf.keras.preprocessing.sequence.pad_sequences(tensor, padding='post')\n",
    "    \n",
    "    print(tensor,tokenizer)\n",
    "    return tensor, tokenizer\n",
    "\n"
   ]
  },
  {
   "cell_type": "code",
   "execution_count": 5,
   "id": "eddc10b5",
   "metadata": {},
   "outputs": [
    {
     "name": "stdout",
     "output_type": "stream",
     "text": [
      "[[   2 3604 1691 ...    0    0    0]\n",
      " [   2    8    5 ...    0    0    0]\n",
      " [   2  804 7655 ...    0    0    0]\n",
      " ...\n",
      " [   2    5   22 ...    0    0    0]\n",
      " [   2    5   22 ...    0    0    0]\n",
      " [   2    5   22 ...    0    0    0]] <keras_preprocessing.text.Tokenizer object at 0x7f83440ecd00>\n"
     ]
    }
   ],
   "source": [
    "tensor, tokenizer = tokenize(corpus)"
   ]
  },
  {
   "cell_type": "code",
   "execution_count": 6,
   "id": "72c68326",
   "metadata": {},
   "outputs": [
    {
     "name": "stdout",
     "output_type": "stream",
     "text": [
      "[   2 3604 1691   14 7050 3995    4 1100   28    9  681    3    0    0\n",
      "    0    0    0    0    0    0    0    0    0    0    0    0    0    0\n",
      "    0    0    0    0    0    0    0    0    0    0    0    0    0    0\n",
      "    0    0    0    0    0    0    0    0    0    0    0    0    0    0\n",
      "    0    0    0    0    0    0    0    0    0    0    0    0    0    0\n",
      "    0    0    0    0    0    0    0    0    0    0    0    0    0    0\n",
      "    0    0    0    0    0    0    0    0    0    0    0    0    0    0\n",
      "    0    0    0    0    0    0    0    0    0    0    0    0    0    0\n",
      "    0    0    0    0    0    0    0    0    0    0    0    0    0    0\n",
      "    0    0    0    0    0    0    0    0    0    0    0    0    0    0\n",
      "    0    0    0    0    0    0    0    0    0    0    0    0    0    0\n",
      "    0    0    0    0    0    0    0    0    0    0    0    0    0    0\n",
      "    0    0    0    0    0    0    0    0    0    0    0    0    0    0\n",
      "    0    0    0    0    0    0    0    0    0    0    0    0    0    0\n",
      "    0    0    0    0    0    0    0    0    0    0    0    0    0    0\n",
      "    0    0    0    0    0    0    0    0    0    0    0    0    0    0\n",
      "    0    0    0    0    0    0    0    0    0    0    0    0    0    0\n",
      "    0    0    0    0    0    0    0    0    0    0    0    0    0    0\n",
      "    0    0    0    0    0    0    0    0    0    0    0    0    0    0\n",
      "    0    0    0    0    0    0    0    0    0    0    0    0    0    0\n",
      "    0    0    0    0    0    0    0    0    0    0    0    0    0    0\n",
      "    0    0    0    0    0    0    0    0    0    0    0    0    0    0\n",
      "    0    0    0    0    0    0    0    0    0    0    0    0    0    0\n",
      "    0    0    0    0    0    0    0    0    0    0    0    0    0    0\n",
      "    0    0    0    0    0    0    0    0    0    0]\n",
      "[3604 1691   14 7050 3995    4 1100   28    9  681    3    0    0    0\n",
      "    0    0    0    0    0    0    0    0    0    0    0    0    0    0\n",
      "    0    0    0    0    0    0    0    0    0    0    0    0    0    0\n",
      "    0    0    0    0    0    0    0    0    0    0    0    0    0    0\n",
      "    0    0    0    0    0    0    0    0    0    0    0    0    0    0\n",
      "    0    0    0    0    0    0    0    0    0    0    0    0    0    0\n",
      "    0    0    0    0    0    0    0    0    0    0    0    0    0    0\n",
      "    0    0    0    0    0    0    0    0    0    0    0    0    0    0\n",
      "    0    0    0    0    0    0    0    0    0    0    0    0    0    0\n",
      "    0    0    0    0    0    0    0    0    0    0    0    0    0    0\n",
      "    0    0    0    0    0    0    0    0    0    0    0    0    0    0\n",
      "    0    0    0    0    0    0    0    0    0    0    0    0    0    0\n",
      "    0    0    0    0    0    0    0    0    0    0    0    0    0    0\n",
      "    0    0    0    0    0    0    0    0    0    0    0    0    0    0\n",
      "    0    0    0    0    0    0    0    0    0    0    0    0    0    0\n",
      "    0    0    0    0    0    0    0    0    0    0    0    0    0    0\n",
      "    0    0    0    0    0    0    0    0    0    0    0    0    0    0\n",
      "    0    0    0    0    0    0    0    0    0    0    0    0    0    0\n",
      "    0    0    0    0    0    0    0    0    0    0    0    0    0    0\n",
      "    0    0    0    0    0    0    0    0    0    0    0    0    0    0\n",
      "    0    0    0    0    0    0    0    0    0    0    0    0    0    0\n",
      "    0    0    0    0    0    0    0    0    0    0    0    0    0    0\n",
      "    0    0    0    0    0    0    0    0    0    0    0    0    0    0\n",
      "    0    0    0    0    0    0    0    0    0    0    0    0    0    0\n",
      "    0    0    0    0    0    0    0    0    0    0]\n"
     ]
    },
    {
     "data": {
      "text/plain": [
       "(175749, 346)"
      ]
     },
     "execution_count": 6,
     "metadata": {},
     "output_type": "execute_result"
    }
   ],
   "source": [
    "src_input = tensor[:, :-1]  \n",
    "# tensor에서 <start>를 잘라내서 타겟 문장을 생성합니다.\n",
    "tgt_input = tensor[:, 1:]    \n",
    "\n",
    "print(src_input[0])\n",
    "print(tgt_input[0])\n",
    "\n",
    "src_input.shape"
   ]
  },
  {
   "cell_type": "code",
   "execution_count": 7,
   "id": "303d5081",
   "metadata": {},
   "outputs": [
    {
     "data": {
      "text/plain": [
       "<BatchDataset shapes: ((128, 346), (128, 346)), types: (tf.int32, tf.int32)>"
      ]
     },
     "execution_count": 7,
     "metadata": {},
     "output_type": "execute_result"
    }
   ],
   "source": [
    "BUFFER_SIZE = len(src_input)\n",
    "BATCH_SIZE = 128\n",
    "steps_per_epoch = len(src_input) // BATCH_SIZE\n",
    "\n",
    " # tokenizer가 구축한 단어사전 내 7000개와, 여기 포함되지 않은 0:<pad>를 포함하여 7001개\n",
    " # tokenizer.num_words: 주어진 데이터의 문장들에서 빈도수가 높은 n개의 단어만 선택\n",
    " # tokenize() 함수에서 num_words를 7000개로 선언했기 때문에, tokenizer.num_words의 값은 7000\n",
    "VOCAB_SIZE = tokenizer.num_words + 1   \n",
    "\n",
    "# 준비한 데이터 소스로부터 데이터셋을 만듭니다\n",
    "# 데이터셋에 대해서는 아래 문서를 참고하세요\n",
    "# 자세히 알아둘수록 도움이 많이 되는 중요한 문서입니다\n",
    "# https://www.tensorflow.org/api_docs/python/tf/data/Dataset\n",
    "dataset = tf.data.Dataset.from_tensor_slices((src_input, tgt_input))\n",
    "dataset = dataset.shuffle(BUFFER_SIZE)\n",
    "dataset = dataset.batch(BATCH_SIZE, drop_remainder=True)\n",
    "dataset"
   ]
  },
  {
   "cell_type": "code",
   "execution_count": 8,
   "id": "c1ee0edc",
   "metadata": {},
   "outputs": [],
   "source": [
    "class TextGenerator(tf.keras.Model):\n",
    "    def __init__(self, vocab_size, embedding_size, hidden_size):\n",
    "        super().__init__()\n",
    "        # Embedding 레이어, 2개의 LSTM 레이어, 1개의 Dense 레이어로 구성되어 있다.\n",
    "        # Embedding 레이어는 단어 사전의 인덱스 값을 해당 인덱스 번째의 워드 벡터로 바꿔준다.\n",
    "        # 이 워드 벡터는 의미 벡터 공간에서 단어의 추상적 표현으로 사용된다. \n",
    "        self.embedding = tf.keras.layers.Embedding(vocab_size, embedding_size) \n",
    "        self.rnn_1 = tf.keras.layers.LSTM(hidden_size, return_sequences=True)  \n",
    "        self.rnn_2 = tf.keras.layers.LSTM(hidden_size, return_sequences=True)\n",
    "        self.linear = tf.keras.layers.Dense(vocab_size)\n",
    "        \n",
    "    def call(self, x):\n",
    "        out = self.embedding(x)\n",
    "        out = self.rnn_1(out)\n",
    "        out = self.rnn_2(out)\n",
    "        out = self.linear(out)\n",
    "        \n",
    "        return out\n",
    "# embedding size 값이 커질수록 단어의 추상적인 특징들을 더 잡아낼 수 있지만\n",
    "# 그만큼 충분한 데이터가 없으면 안좋은 결과 값을 가져옵니다!   \n"
   ]
  },
  {
   "cell_type": "code",
   "execution_count": 9,
   "id": "cdc60943",
   "metadata": {},
   "outputs": [],
   "source": [
    "embedding_size = 128 # 워드 벡터의 차원수를 말하며 단어가 추상적으로 표현되는 크기입니다.\n",
    "hidden_size = 256 # 모델에 얼마나 많은 일꾼을 둘 것인가? 정도로 이해하면 좋다.\n",
    "model = TextGenerator(tokenizer.num_words + 1, embedding_size , hidden_size) # tokenizer.num_words에 +1인 이유는 문장에 없는 pad가 사용되었기 때문이다.\n"
   ]
  },
  {
   "cell_type": "code",
   "execution_count": 10,
   "id": "de711b92",
   "metadata": {},
   "outputs": [],
   "source": [
    "# train / test split\n",
    "enc_train, enc_val, dec_train, dec_val = train_test_split(src_input, tgt_input, test_size=0.2, random_state=34)\n"
   ]
  },
  {
   "cell_type": "code",
   "execution_count": 11,
   "id": "d569dadb",
   "metadata": {},
   "outputs": [
    {
     "data": {
      "text/plain": [
       "<tf.Tensor: shape=(128, 346, 12001), dtype=float32, numpy=\n",
       "array([[[ 1.77224647e-04, -7.96934764e-05,  5.81025488e-05, ...,\n",
       "         -7.57827656e-05, -3.37975980e-05,  1.47880230e-04],\n",
       "        [ 3.91871086e-04, -9.76367155e-05,  5.33230195e-05, ...,\n",
       "         -7.65762816e-05, -8.87148490e-05,  2.34910651e-04],\n",
       "        [ 5.53590246e-04, -3.53733485e-05, -2.40752197e-05, ...,\n",
       "         -1.26604587e-04, -2.51183024e-04,  1.15398951e-04],\n",
       "        ...,\n",
       "        [ 2.14654929e-03, -2.49136798e-03, -4.88034886e-04, ...,\n",
       "          1.23794319e-03,  1.23105722e-03,  1.48540747e-03],\n",
       "        [ 2.14654929e-03, -2.49136775e-03, -4.88034886e-04, ...,\n",
       "          1.23794307e-03,  1.23105734e-03,  1.48540747e-03],\n",
       "        [ 2.14654929e-03, -2.49136775e-03, -4.88034770e-04, ...,\n",
       "          1.23794319e-03,  1.23105722e-03,  1.48540747e-03]],\n",
       "\n",
       "       [[ 1.77224647e-04, -7.96934764e-05,  5.81025488e-05, ...,\n",
       "         -7.57827656e-05, -3.37975980e-05,  1.47880230e-04],\n",
       "        [ 4.23337246e-04, -1.32090237e-04,  7.31144537e-05, ...,\n",
       "         -2.62722198e-04, -5.13758241e-05,  5.60034823e-04],\n",
       "        [ 5.26660471e-04, -3.04898072e-04,  2.64994393e-04, ...,\n",
       "         -9.69951361e-05,  8.64807680e-06,  8.13362247e-04],\n",
       "        ...,\n",
       "        [ 2.14654999e-03, -2.49136845e-03, -4.88034362e-04, ...,\n",
       "          1.23794377e-03,  1.23105757e-03,  1.48540817e-03],\n",
       "        [ 2.14654976e-03, -2.49136845e-03, -4.88034362e-04, ...,\n",
       "          1.23794377e-03,  1.23105757e-03,  1.48540817e-03],\n",
       "        [ 2.14654976e-03, -2.49136868e-03, -4.88034362e-04, ...,\n",
       "          1.23794377e-03,  1.23105757e-03,  1.48540817e-03]],\n",
       "\n",
       "       [[ 1.77224647e-04, -7.96934764e-05,  5.81025488e-05, ...,\n",
       "         -7.57827656e-05, -3.37975980e-05,  1.47880230e-04],\n",
       "        [ 2.68539879e-04, -3.32629425e-05,  1.44400328e-04, ...,\n",
       "         -1.70081461e-04, -2.46162817e-04,  1.98089750e-04],\n",
       "        [ 2.78581312e-04,  3.79073696e-04,  1.39509357e-04, ...,\n",
       "         -1.35005583e-04, -2.31130587e-04,  7.52874694e-05],\n",
       "        ...,\n",
       "        [ 2.14655022e-03, -2.49136961e-03, -4.88034624e-04, ...,\n",
       "          1.23794400e-03,  1.23105769e-03,  1.48540817e-03],\n",
       "        [ 2.14655045e-03, -2.49136961e-03, -4.88034741e-04, ...,\n",
       "          1.23794400e-03,  1.23105780e-03,  1.48540805e-03],\n",
       "        [ 2.14655045e-03, -2.49136961e-03, -4.88034857e-04, ...,\n",
       "          1.23794423e-03,  1.23105769e-03,  1.48540805e-03]],\n",
       "\n",
       "       ...,\n",
       "\n",
       "       [[ 1.77224647e-04, -7.96934764e-05,  5.81025488e-05, ...,\n",
       "         -7.57827656e-05, -3.37975980e-05,  1.47880230e-04],\n",
       "        [ 3.14435514e-04,  1.88122693e-04,  1.41274839e-04, ...,\n",
       "         -1.59815725e-04, -5.25431460e-05,  3.24992405e-04],\n",
       "        [ 3.24057241e-04,  3.74981726e-04,  2.41520349e-04, ...,\n",
       "         -1.47040832e-04, -1.53661458e-04,  4.68171726e-04],\n",
       "        ...,\n",
       "        [ 2.14655022e-03, -2.49137008e-03, -4.88034420e-04, ...,\n",
       "          1.23794295e-03,  1.23105710e-03,  1.48540770e-03],\n",
       "        [ 2.14655022e-03, -2.49137008e-03, -4.88034420e-04, ...,\n",
       "          1.23794295e-03,  1.23105722e-03,  1.48540770e-03],\n",
       "        [ 2.14655022e-03, -2.49136984e-03, -4.88034537e-04, ...,\n",
       "          1.23794295e-03,  1.23105710e-03,  1.48540770e-03]],\n",
       "\n",
       "       [[ 1.77224647e-04, -7.96934764e-05,  5.81025488e-05, ...,\n",
       "         -7.57827656e-05, -3.37975980e-05,  1.47880230e-04],\n",
       "        [ 2.95502396e-04, -1.75936744e-04,  2.79596075e-04, ...,\n",
       "         -6.44837346e-05, -3.01986205e-04,  1.74812638e-04],\n",
       "        [ 2.22748582e-04, -2.48952128e-04,  2.53304839e-04, ...,\n",
       "         -3.32058611e-04, -5.66262868e-04,  2.15198219e-04],\n",
       "        ...,\n",
       "        [ 2.14655092e-03, -2.49136914e-03, -4.88034799e-04, ...,\n",
       "          1.23794435e-03,  1.23105780e-03,  1.48540828e-03],\n",
       "        [ 2.14655069e-03, -2.49136914e-03, -4.88034799e-04, ...,\n",
       "          1.23794435e-03,  1.23105792e-03,  1.48540828e-03],\n",
       "        [ 2.14655092e-03, -2.49136938e-03, -4.88034915e-04, ...,\n",
       "          1.23794447e-03,  1.23105780e-03,  1.48540817e-03]],\n",
       "\n",
       "       [[ 1.77224647e-04, -7.96934764e-05,  5.81025488e-05, ...,\n",
       "         -7.57827656e-05, -3.37975980e-05,  1.47880230e-04],\n",
       "        [ 3.65513406e-04, -1.04694125e-04, -8.28494958e-05, ...,\n",
       "         -3.20327206e-04, -1.53705696e-04,  4.41469369e-04],\n",
       "        [ 4.72099287e-04, -6.65701782e-06, -1.00003410e-04, ...,\n",
       "         -3.61670653e-04, -2.66551127e-04,  7.63339223e-04],\n",
       "        ...,\n",
       "        [ 2.14655092e-03, -2.49136821e-03, -4.88034799e-04, ...,\n",
       "          1.23794342e-03,  1.23105699e-03,  1.48540852e-03],\n",
       "        [ 2.14655092e-03, -2.49136821e-03, -4.88034799e-04, ...,\n",
       "          1.23794342e-03,  1.23105699e-03,  1.48540852e-03],\n",
       "        [ 2.14655092e-03, -2.49136821e-03, -4.88034799e-04, ...,\n",
       "          1.23794342e-03,  1.23105699e-03,  1.48540852e-03]]],\n",
       "      dtype=float32)>"
      ]
     },
     "execution_count": 11,
     "metadata": {},
     "output_type": "execute_result"
    }
   ],
   "source": [
    "for src_sample, tgt_sample in dataset.take(1): break\n",
    "\n",
    "model(src_sample)\n",
    "\n"
   ]
  },
  {
   "cell_type": "code",
   "execution_count": 12,
   "id": "4f871f5b",
   "metadata": {},
   "outputs": [
    {
     "name": "stdout",
     "output_type": "stream",
     "text": [
      "Model: \"text_generator\"\n",
      "_________________________________________________________________\n",
      "Layer (type)                 Output Shape              Param #   \n",
      "=================================================================\n",
      "embedding (Embedding)        multiple                  1536128   \n",
      "_________________________________________________________________\n",
      "lstm (LSTM)                  multiple                  394240    \n",
      "_________________________________________________________________\n",
      "lstm_1 (LSTM)                multiple                  525312    \n",
      "_________________________________________________________________\n",
      "dense (Dense)                multiple                  3084257   \n",
      "=================================================================\n",
      "Total params: 5,539,937\n",
      "Trainable params: 5,539,937\n",
      "Non-trainable params: 0\n",
      "_________________________________________________________________\n"
     ]
    }
   ],
   "source": [
    "model.summary()"
   ]
  },
  {
   "cell_type": "code",
   "execution_count": 13,
   "id": "44cbd5a8",
   "metadata": {},
   "outputs": [],
   "source": [
    "optimizer = tf.keras.optimizers.Adam() # Adam은 현재 가장 많이 사용하는 옵티마이저이다. 자세한 내용은 차차 배운다.\n",
    "loss = tf.keras.losses.SparseCategoricalCrossentropy( # 훈련 데이터의 라벨이 정수의 형태로 제공될 때 사용하는 손실함수이다.\n",
    "    from_logits=True, # 기본값은 False이다. 모델에 의해 생성된 출력 값이 정규화되지 않았음을 손실 함수에 알려준다. 즉 softmax함수가 적용되지 않았다는걸 의미한다. \n",
    "    reduction='none'  # 기본값은 SUM이다. 각자 나오는 값의 반환 원할 때 None을 사용한다.\n",
    ")\n",
    "# 모델을 학습시키키 위한 학습과정을 설정하는 단계이다.\n",
    "model.compile(loss=loss, optimizer=optimizer) # 손실함수와 훈련과정을 설정했다."
   ]
  },
  {
   "cell_type": "code",
   "execution_count": 18,
   "id": "ae4e3e64",
   "metadata": {},
   "outputs": [
    {
     "name": "stdout",
     "output_type": "stream",
     "text": [
      "Epoch 1/10\n",
      "1373/1373 [==============================] - 635s 462ms/step - loss: 0.1506\n",
      "Epoch 2/10\n",
      "1373/1373 [==============================] - 639s 465ms/step - loss: 0.1397\n",
      "Epoch 3/10\n",
      "1373/1373 [==============================] - 642s 468ms/step - loss: 0.1363\n",
      "Epoch 4/10\n",
      "1373/1373 [==============================] - 642s 467ms/step - loss: 0.1305\n",
      "Epoch 5/10\n",
      "1373/1373 [==============================] - 642s 467ms/step - loss: 0.1262\n",
      "Epoch 6/10\n",
      "1373/1373 [==============================] - 640s 466ms/step - loss: 0.1220\n",
      "Epoch 7/10\n",
      "1373/1373 [==============================] - 642s 467ms/step - loss: 0.1182\n",
      "Epoch 8/10\n",
      "1373/1373 [==============================] - 638s 465ms/step - loss: 0.1146\n",
      "Epoch 9/10\n",
      "1373/1373 [==============================] - 641s 467ms/step - loss: 0.1114\n",
      "Epoch 10/10\n",
      "1373/1373 [==============================] - 637s 464ms/step - loss: 0.1084\n"
     ]
    }
   ],
   "source": [
    "import tqdm\n",
    "import tensorflow_addons as tfa\n",
    "\n",
    "tqdm_callback = tfa.callbacks.TQDMProgressBar()\n",
    "\n",
    "history = model.fit(dataset, epochs=10) # 만들어둔 데이터셋으로 모델을 학습한다. 30번 학습을 반복하겠다는 의미다."
   ]
  },
  {
   "cell_type": "code",
   "execution_count": 19,
   "id": "682e8c54",
   "metadata": {},
   "outputs": [],
   "source": [
    "#문장생성 함수 정의\n",
    "#모델에게 시작 문장을 전달하면 모델이 시작 문장을 바탕으로 작문을 진행\n",
    "def generate_text(model, tokenizer, init_sentence=\"<start>\", max_len=15): #시작 문자열을 init_sentence 로 받으며 디폴트값은 <start> 를 받는다\n",
    "    # 테스트를 위해서 입력받은 init_sentence도 텐서로 변환합니다\n",
    "    test_input = tokenizer.texts_to_sequences([init_sentence]) #텍스트 안의 단어들을 숫자의 시퀀스의 형태로 변환\n",
    "    test_tensor = tf.convert_to_tensor(test_input, dtype=tf.int64)\n",
    "    end_token = tokenizer.word_index[\"<end>\"]\n",
    "\n",
    "    # 단어 하나씩 예측해 문장을 만듭니다\n",
    "    #    1. 입력받은 문장의 텐서를 입력합니다\n",
    "    #    2. 예측된 값 중 가장 높은 확률인 word index를 뽑아냅니다\n",
    "    #    3. 2에서 예측된 word index를 문장 뒤에 붙입니다\n",
    "    #    4. 모델이 <end>를 예측했거나, max_len에 도달했다면 문장 생성을 마칩니다 (도달 하지 못하였으면 while 루프를 돌면서 다음 단어를 예측)\n",
    "    while True: #루프를 돌면서 init_sentence에 단어를 하나씩 생성성\n",
    "        # 1\n",
    "        predict = model(test_tensor) \n",
    "        # 2\n",
    "        predict_word = tf.argmax(tf.nn.softmax(predict, axis=-1), axis=-1)[:, -1] \n",
    "        # 3 \n",
    "        test_tensor = tf.concat([test_tensor, tf.expand_dims(predict_word, axis=0)], axis=-1)\n",
    "        # 4 \n",
    "        if predict_word.numpy()[0] == end_token: break\n",
    "        if test_tensor.shape[1] >= max_len: break\n",
    "\n",
    "    generated = \"\"\n",
    "    # tokenizer를 이용해 word index를 단어로 하나씩 변환합니다 \n",
    "    for word_index in test_tensor[0].numpy():\n",
    "        generated += tokenizer.index_word[word_index] + \" \"\n",
    "\n",
    "    return generated #최종적으로 모델이 생성한 문장을 반환"
   ]
  },
  {
   "cell_type": "code",
   "execution_count": 24,
   "id": "1dcea07b",
   "metadata": {},
   "outputs": [
    {
     "data": {
      "text/plain": [
       "'<start> i love you , i love you , i love you , i love '"
      ]
     },
     "execution_count": 24,
     "metadata": {},
     "output_type": "execute_result"
    }
   ],
   "source": [
    "generate_text(model, tokenizer, init_sentence=\"<start> I love\") # 시작문장으로 he를 넣어 문장생성 함수 실행"
   ]
  },
  {
   "cell_type": "code",
   "execution_count": null,
   "id": "99dba3b6",
   "metadata": {},
   "outputs": [],
   "source": []
  }
 ],
 "metadata": {
  "kernelspec": {
   "display_name": "Python 3 (ipykernel)",
   "language": "python",
   "name": "python3"
  },
  "language_info": {
   "codemirror_mode": {
    "name": "ipython",
    "version": 3
   },
   "file_extension": ".py",
   "mimetype": "text/x-python",
   "name": "python",
   "nbconvert_exporter": "python",
   "pygments_lexer": "ipython3",
   "version": "3.9.7"
  }
 },
 "nbformat": 4,
 "nbformat_minor": 5
}
