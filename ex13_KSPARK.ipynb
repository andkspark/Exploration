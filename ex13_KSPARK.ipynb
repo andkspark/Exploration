{
 "cells": [
  {
   "cell_type": "markdown",
   "id": "f54ea706",
   "metadata": {},
   "source": [
    "# EX13 Movie Recommendation  \n",
    "  \n",
    "## Objective  \n",
    "  \n",
    "1. CSR matrix가 정상적으로 만들어졌다.  \n",
    "사용자와 아이템 개수를 바탕으로 정확한 사이즈로 만들었다.  \n",
    "2. MF 모델이 정상적으로 훈련되어 그럴듯한 추천이 이루어졌다.  \n",
    "사용자와 아이템 벡터 내적수치가 의미있게 형성되었다.  \n",
    "3. 비슷한 영화 찾기와 유저에게 추천하기의 과정이 정상적으로 진행되었다.  \n",
    "MF모델이 예측한 유저 선호도 및 아이템간 유사도, 기여도를 측정하고 의미를 분석해보았다.  \n",
    "  \n",
    "별점 데이터는 대표적인 explicit 데이터입니다. 하지만 implicit 데이터로 간주하고 테스트해 볼 수 있습니다.  \n",
    "별점을 시청횟수로 해석해서 생각하겠습니다.  \n",
    "또한 유저가 3점 미만으로 준 데이터는 선호하지 않는다고 가정하고 제외하겠습니다.  "
   ]
  },
  {
   "cell_type": "code",
   "execution_count": 42,
   "id": "adf03920",
   "metadata": {},
   "outputs": [],
   "source": [
    "import pandas as pd\n",
    "\n",
    "import numpy as np\n",
    "import scipy\n",
    "import implicit"
   ]
  },
  {
   "cell_type": "markdown",
   "id": "a51020ea",
   "metadata": {},
   "source": [
    "### 1) 데이터 준비와 전처리"
   ]
  },
  {
   "cell_type": "code",
   "execution_count": 43,
   "id": "a824496c",
   "metadata": {},
   "outputs": [
    {
     "data": {
      "text/html": [
       "<div>\n",
       "<style scoped>\n",
       "    .dataframe tbody tr th:only-of-type {\n",
       "        vertical-align: middle;\n",
       "    }\n",
       "\n",
       "    .dataframe tbody tr th {\n",
       "        vertical-align: top;\n",
       "    }\n",
       "\n",
       "    .dataframe thead th {\n",
       "        text-align: right;\n",
       "    }\n",
       "</style>\n",
       "<table border=\"1\" class=\"dataframe\">\n",
       "  <thead>\n",
       "    <tr style=\"text-align: right;\">\n",
       "      <th></th>\n",
       "      <th>user_id</th>\n",
       "      <th>movie_id</th>\n",
       "      <th>ratings</th>\n",
       "      <th>timestamp</th>\n",
       "    </tr>\n",
       "  </thead>\n",
       "  <tbody>\n",
       "    <tr>\n",
       "      <th>0</th>\n",
       "      <td>1</td>\n",
       "      <td>1193</td>\n",
       "      <td>5</td>\n",
       "      <td>978300760</td>\n",
       "    </tr>\n",
       "    <tr>\n",
       "      <th>1</th>\n",
       "      <td>1</td>\n",
       "      <td>661</td>\n",
       "      <td>3</td>\n",
       "      <td>978302109</td>\n",
       "    </tr>\n",
       "    <tr>\n",
       "      <th>2</th>\n",
       "      <td>1</td>\n",
       "      <td>914</td>\n",
       "      <td>3</td>\n",
       "      <td>978301968</td>\n",
       "    </tr>\n",
       "    <tr>\n",
       "      <th>3</th>\n",
       "      <td>1</td>\n",
       "      <td>3408</td>\n",
       "      <td>4</td>\n",
       "      <td>978300275</td>\n",
       "    </tr>\n",
       "    <tr>\n",
       "      <th>4</th>\n",
       "      <td>1</td>\n",
       "      <td>2355</td>\n",
       "      <td>5</td>\n",
       "      <td>978824291</td>\n",
       "    </tr>\n",
       "  </tbody>\n",
       "</table>\n",
       "</div>"
      ],
      "text/plain": [
       "   user_id  movie_id  ratings  timestamp\n",
       "0        1      1193        5  978300760\n",
       "1        1       661        3  978302109\n",
       "2        1       914        3  978301968\n",
       "3        1      3408        4  978300275\n",
       "4        1      2355        5  978824291"
      ]
     },
     "execution_count": 43,
     "metadata": {},
     "output_type": "execute_result"
    }
   ],
   "source": [
    "import os\n",
    "rating_file_path=os.getenv('HOME') + '/aiffel/recommendata_iu/data/ml-1m/ratings.dat'\n",
    "ratings_cols = ['user_id', 'movie_id', 'ratings', 'timestamp']\n",
    "ratings = pd.read_csv(rating_file_path, sep='::', names=ratings_cols, engine='python', encoding = \"ISO-8859-1\")\n",
    "orginal_data_size = len(ratings)\n",
    "ratings.head()"
   ]
  },
  {
   "cell_type": "code",
   "execution_count": 44,
   "id": "7aaed02a",
   "metadata": {},
   "outputs": [
    {
     "name": "stdout",
     "output_type": "stream",
     "text": [
      "orginal_data_size: 1000209, filtered_data_size: 836478\n",
      "Ratio of Remaining Data is 83.63%\n"
     ]
    }
   ],
   "source": [
    "# 3점 이상만 남깁니다.\n",
    "ratings = ratings[ratings['ratings']>=3]\n",
    "filtered_data_size = len(ratings)\n",
    "\n",
    "print(f'orginal_data_size: {orginal_data_size}, filtered_data_size: {filtered_data_size}')\n",
    "print(f'Ratio of Remaining Data is {filtered_data_size / orginal_data_size:.2%}')"
   ]
  },
  {
   "cell_type": "code",
   "execution_count": 45,
   "id": "1623fc8c",
   "metadata": {},
   "outputs": [],
   "source": [
    "# ratings 컬럼의 이름을 counts로 바꿉니다.\n",
    "ratings.rename(columns={'ratings':'counts'}, inplace=True)"
   ]
  },
  {
   "cell_type": "code",
   "execution_count": 46,
   "id": "c8226ace",
   "metadata": {},
   "outputs": [
    {
     "data": {
      "text/plain": [
       "0          5\n",
       "1          3\n",
       "2          3\n",
       "3          4\n",
       "4          5\n",
       "          ..\n",
       "1000203    3\n",
       "1000205    5\n",
       "1000206    5\n",
       "1000207    4\n",
       "1000208    4\n",
       "Name: counts, Length: 836478, dtype: int64"
      ]
     },
     "execution_count": 46,
     "metadata": {},
     "output_type": "execute_result"
    }
   ],
   "source": [
    "ratings['counts']"
   ]
  },
  {
   "cell_type": "code",
   "execution_count": 47,
   "id": "f956842c",
   "metadata": {},
   "outputs": [
    {
     "data": {
      "text/html": [
       "<div>\n",
       "<style scoped>\n",
       "    .dataframe tbody tr th:only-of-type {\n",
       "        vertical-align: middle;\n",
       "    }\n",
       "\n",
       "    .dataframe tbody tr th {\n",
       "        vertical-align: top;\n",
       "    }\n",
       "\n",
       "    .dataframe thead th {\n",
       "        text-align: right;\n",
       "    }\n",
       "</style>\n",
       "<table border=\"1\" class=\"dataframe\">\n",
       "  <thead>\n",
       "    <tr style=\"text-align: right;\">\n",
       "      <th></th>\n",
       "      <th>movie_id</th>\n",
       "      <th>title</th>\n",
       "      <th>genre</th>\n",
       "    </tr>\n",
       "  </thead>\n",
       "  <tbody>\n",
       "    <tr>\n",
       "      <th>0</th>\n",
       "      <td>1</td>\n",
       "      <td>Toy Story (1995)</td>\n",
       "      <td>Animation|Children's|Comedy</td>\n",
       "    </tr>\n",
       "    <tr>\n",
       "      <th>1</th>\n",
       "      <td>2</td>\n",
       "      <td>Jumanji (1995)</td>\n",
       "      <td>Adventure|Children's|Fantasy</td>\n",
       "    </tr>\n",
       "    <tr>\n",
       "      <th>2</th>\n",
       "      <td>3</td>\n",
       "      <td>Grumpier Old Men (1995)</td>\n",
       "      <td>Comedy|Romance</td>\n",
       "    </tr>\n",
       "    <tr>\n",
       "      <th>3</th>\n",
       "      <td>4</td>\n",
       "      <td>Waiting to Exhale (1995)</td>\n",
       "      <td>Comedy|Drama</td>\n",
       "    </tr>\n",
       "    <tr>\n",
       "      <th>4</th>\n",
       "      <td>5</td>\n",
       "      <td>Father of the Bride Part II (1995)</td>\n",
       "      <td>Comedy</td>\n",
       "    </tr>\n",
       "  </tbody>\n",
       "</table>\n",
       "</div>"
      ],
      "text/plain": [
       "   movie_id                               title                         genre\n",
       "0         1                    Toy Story (1995)   Animation|Children's|Comedy\n",
       "1         2                      Jumanji (1995)  Adventure|Children's|Fantasy\n",
       "2         3             Grumpier Old Men (1995)                Comedy|Romance\n",
       "3         4            Waiting to Exhale (1995)                  Comedy|Drama\n",
       "4         5  Father of the Bride Part II (1995)                        Comedy"
      ]
     },
     "execution_count": 47,
     "metadata": {},
     "output_type": "execute_result"
    }
   ],
   "source": [
    "# 영화 제목을 보기 위해 메타 데이터를 읽어옵니다.\n",
    "movie_file_path=os.getenv('HOME') + '/aiffel/recommendata_iu/data/ml-1m/movies.dat'\n",
    "cols = ['movie_id', 'title', 'genre'] \n",
    "movies = pd.read_csv(movie_file_path, sep='::', names=cols, engine='python', encoding='ISO-8859-1')\n",
    "movies.head()"
   ]
  },
  {
   "cell_type": "markdown",
   "id": "9975f9c4",
   "metadata": {},
   "source": [
    "전처리가 완료되었습니다  \n",
    "MF model을 구상한 후, 내가 좋아할 만한 영화를 추천해보는 것이 고ㅏ제"
   ]
  },
  {
   "cell_type": "markdown",
   "id": "c32e80c0",
   "metadata": {},
   "source": [
    "### 2) 분석하기  \n",
    "#### ratings에 있는 유니크한 영화 개수"
   ]
  },
  {
   "cell_type": "code",
   "execution_count": 48,
   "id": "97ae1659",
   "metadata": {},
   "outputs": [
    {
     "data": {
      "text/plain": [
       "3628"
      ]
     },
     "execution_count": 48,
     "metadata": {},
     "output_type": "execute_result"
    }
   ],
   "source": [
    "# 13-3의 nunique를 참고!\n",
    "# 유저 수\n",
    "ratings['movie_id'].nunique()"
   ]
  },
  {
   "cell_type": "markdown",
   "id": "ffddb15e",
   "metadata": {},
   "source": [
    "#### ratings에 있는 유니크한 사용자 수"
   ]
  },
  {
   "cell_type": "code",
   "execution_count": 49,
   "id": "a960b2e3",
   "metadata": {},
   "outputs": [
    {
     "data": {
      "text/plain": [
       "6039"
      ]
     },
     "execution_count": 49,
     "metadata": {},
     "output_type": "execute_result"
    }
   ],
   "source": [
    "# 13-3의 nunique를 참고!\n",
    "ratings['user_id'].nunique()"
   ]
  },
  {
   "cell_type": "markdown",
   "id": "1b10cbcf",
   "metadata": {},
   "source": [
    "이후 분석 과정에서 두 데이터프레임의 병합이 필요해보입니다  \n",
    "합쳐준 후, 필요하지 않은 timestamp 컬럼은 삭제합니다"
   ]
  },
  {
   "cell_type": "code",
   "execution_count": 50,
   "id": "c78d4e81",
   "metadata": {},
   "outputs": [],
   "source": [
    "data = pd.merge(ratings, movies)\n",
    "data = data.drop('timestamp', axis = 1)"
   ]
  },
  {
   "cell_type": "code",
   "execution_count": 51,
   "id": "4af9f798",
   "metadata": {},
   "outputs": [
    {
     "data": {
      "text/html": [
       "<div>\n",
       "<style scoped>\n",
       "    .dataframe tbody tr th:only-of-type {\n",
       "        vertical-align: middle;\n",
       "    }\n",
       "\n",
       "    .dataframe tbody tr th {\n",
       "        vertical-align: top;\n",
       "    }\n",
       "\n",
       "    .dataframe thead th {\n",
       "        text-align: right;\n",
       "    }\n",
       "</style>\n",
       "<table border=\"1\" class=\"dataframe\">\n",
       "  <thead>\n",
       "    <tr style=\"text-align: right;\">\n",
       "      <th></th>\n",
       "      <th>user_id</th>\n",
       "      <th>movie_id</th>\n",
       "      <th>counts</th>\n",
       "      <th>title</th>\n",
       "      <th>genre</th>\n",
       "    </tr>\n",
       "  </thead>\n",
       "  <tbody>\n",
       "    <tr>\n",
       "      <th>0</th>\n",
       "      <td>1</td>\n",
       "      <td>1193</td>\n",
       "      <td>5</td>\n",
       "      <td>One Flew Over the Cuckoo's Nest (1975)</td>\n",
       "      <td>Drama</td>\n",
       "    </tr>\n",
       "    <tr>\n",
       "      <th>1</th>\n",
       "      <td>2</td>\n",
       "      <td>1193</td>\n",
       "      <td>5</td>\n",
       "      <td>One Flew Over the Cuckoo's Nest (1975)</td>\n",
       "      <td>Drama</td>\n",
       "    </tr>\n",
       "    <tr>\n",
       "      <th>2</th>\n",
       "      <td>12</td>\n",
       "      <td>1193</td>\n",
       "      <td>4</td>\n",
       "      <td>One Flew Over the Cuckoo's Nest (1975)</td>\n",
       "      <td>Drama</td>\n",
       "    </tr>\n",
       "    <tr>\n",
       "      <th>3</th>\n",
       "      <td>15</td>\n",
       "      <td>1193</td>\n",
       "      <td>4</td>\n",
       "      <td>One Flew Over the Cuckoo's Nest (1975)</td>\n",
       "      <td>Drama</td>\n",
       "    </tr>\n",
       "    <tr>\n",
       "      <th>4</th>\n",
       "      <td>17</td>\n",
       "      <td>1193</td>\n",
       "      <td>5</td>\n",
       "      <td>One Flew Over the Cuckoo's Nest (1975)</td>\n",
       "      <td>Drama</td>\n",
       "    </tr>\n",
       "    <tr>\n",
       "      <th>...</th>\n",
       "      <td>...</td>\n",
       "      <td>...</td>\n",
       "      <td>...</td>\n",
       "      <td>...</td>\n",
       "      <td>...</td>\n",
       "    </tr>\n",
       "    <tr>\n",
       "      <th>836473</th>\n",
       "      <td>5851</td>\n",
       "      <td>3607</td>\n",
       "      <td>5</td>\n",
       "      <td>One Little Indian (1973)</td>\n",
       "      <td>Comedy|Drama|Western</td>\n",
       "    </tr>\n",
       "    <tr>\n",
       "      <th>836474</th>\n",
       "      <td>5854</td>\n",
       "      <td>3026</td>\n",
       "      <td>4</td>\n",
       "      <td>Slaughterhouse (1987)</td>\n",
       "      <td>Horror</td>\n",
       "    </tr>\n",
       "    <tr>\n",
       "      <th>836475</th>\n",
       "      <td>5854</td>\n",
       "      <td>690</td>\n",
       "      <td>3</td>\n",
       "      <td>Promise, The (Versprechen, Das) (1994)</td>\n",
       "      <td>Romance</td>\n",
       "    </tr>\n",
       "    <tr>\n",
       "      <th>836476</th>\n",
       "      <td>5938</td>\n",
       "      <td>2909</td>\n",
       "      <td>4</td>\n",
       "      <td>Five Wives, Three Secretaries and Me (1998)</td>\n",
       "      <td>Documentary</td>\n",
       "    </tr>\n",
       "    <tr>\n",
       "      <th>836477</th>\n",
       "      <td>5948</td>\n",
       "      <td>1360</td>\n",
       "      <td>5</td>\n",
       "      <td>Identification of a Woman (Identificazione di ...</td>\n",
       "      <td>Drama</td>\n",
       "    </tr>\n",
       "  </tbody>\n",
       "</table>\n",
       "<p>836478 rows × 5 columns</p>\n",
       "</div>"
      ],
      "text/plain": [
       "        user_id  movie_id  counts  \\\n",
       "0             1      1193       5   \n",
       "1             2      1193       5   \n",
       "2            12      1193       4   \n",
       "3            15      1193       4   \n",
       "4            17      1193       5   \n",
       "...         ...       ...     ...   \n",
       "836473     5851      3607       5   \n",
       "836474     5854      3026       4   \n",
       "836475     5854       690       3   \n",
       "836476     5938      2909       4   \n",
       "836477     5948      1360       5   \n",
       "\n",
       "                                                    title  \\\n",
       "0                  One Flew Over the Cuckoo's Nest (1975)   \n",
       "1                  One Flew Over the Cuckoo's Nest (1975)   \n",
       "2                  One Flew Over the Cuckoo's Nest (1975)   \n",
       "3                  One Flew Over the Cuckoo's Nest (1975)   \n",
       "4                  One Flew Over the Cuckoo's Nest (1975)   \n",
       "...                                                   ...   \n",
       "836473                           One Little Indian (1973)   \n",
       "836474                              Slaughterhouse (1987)   \n",
       "836475             Promise, The (Versprechen, Das) (1994)   \n",
       "836476        Five Wives, Three Secretaries and Me (1998)   \n",
       "836477  Identification of a Woman (Identificazione di ...   \n",
       "\n",
       "                       genre  \n",
       "0                      Drama  \n",
       "1                      Drama  \n",
       "2                      Drama  \n",
       "3                      Drama  \n",
       "4                      Drama  \n",
       "...                      ...  \n",
       "836473  Comedy|Drama|Western  \n",
       "836474                Horror  \n",
       "836475               Romance  \n",
       "836476           Documentary  \n",
       "836477                 Drama  \n",
       "\n",
       "[836478 rows x 5 columns]"
      ]
     },
     "execution_count": 51,
     "metadata": {},
     "output_type": "execute_result"
    }
   ],
   "source": [
    "data"
   ]
  },
  {
   "cell_type": "markdown",
   "id": "ed438843",
   "metadata": {},
   "source": [
    "#### 가장 인기 있는 영화 30개(인기순)  "
   ]
  },
  {
   "cell_type": "code",
   "execution_count": 52,
   "id": "3cfb41f3",
   "metadata": {
    "scrolled": false
   },
   "outputs": [
    {
     "data": {
      "text/plain": [
       "title\n",
       "American Beauty (1999)                                   3211\n",
       "Star Wars: Episode IV - A New Hope (1977)                2910\n",
       "Star Wars: Episode V - The Empire Strikes Back (1980)    2885\n",
       "Star Wars: Episode VI - Return of the Jedi (1983)        2716\n",
       "Saving Private Ryan (1998)                               2561\n",
       "Terminator 2: Judgment Day (1991)                        2509\n",
       "Silence of the Lambs, The (1991)                         2498\n",
       "Raiders of the Lost Ark (1981)                           2473\n",
       "Back to the Future (1985)                                2460\n",
       "Matrix, The (1999)                                       2434\n",
       "Jurassic Park (1993)                                     2413\n",
       "Sixth Sense, The (1999)                                  2385\n",
       "Fargo (1996)                                             2371\n",
       "Braveheart (1995)                                        2314\n",
       "Men in Black (1997)                                      2297\n",
       "Schindler's List (1993)                                  2257\n",
       "Princess Bride, The (1987)                               2252\n",
       "Shakespeare in Love (1998)                               2213\n",
       "L.A. Confidential (1997)                                 2210\n",
       "Shawshank Redemption, The (1994)                         2194\n",
       "Godfather, The (1972)                                    2167\n",
       "Groundhog Day (1993)                                     2121\n",
       "E.T. the Extra-Terrestrial (1982)                        2102\n",
       "Being John Malkovich (1999)                              2066\n",
       "Ghostbusters (1984)                                      2051\n",
       "Pulp Fiction (1994)                                      2030\n",
       "Forrest Gump (1994)                                      2022\n",
       "Terminator, The (1984)                                   2019\n",
       "Toy Story (1995)                                         2000\n",
       "Fugitive, The (1993)                                     1941\n",
       "Name: counts, dtype: int64"
      ]
     },
     "execution_count": 52,
     "metadata": {},
     "output_type": "execute_result"
    }
   ],
   "source": [
    "# 각 영화의 'rating'를 합친걸 가져와야겠습니다\n",
    "# 복잡하지만 groupby, sort_values 등으로 해결할 수 있을듯\n",
    "# 13-3의 #인기많은 아티스트 부분 참고\n",
    "\n",
    "pop_count = data.groupby('title')['counts'].count()\n",
    "pop_count.sort_values(ascending=False).head(30)"
   ]
  },
  {
   "cell_type": "markdown",
   "id": "7dbb98e4",
   "metadata": {},
   "source": [
    "인기많은 숫자는 일단 데이터에 붙여둘게요!"
   ]
  },
  {
   "cell_type": "code",
   "execution_count": 53,
   "id": "cc6db87e",
   "metadata": {},
   "outputs": [],
   "source": [
    "data = pd.merge(data, pd.DataFrame(pop_count), how='left', left_on='title', right_on='title')\n"
   ]
  },
  {
   "cell_type": "code",
   "execution_count": 54,
   "id": "8b4a49aa",
   "metadata": {},
   "outputs": [
    {
     "data": {
      "text/html": [
       "<div>\n",
       "<style scoped>\n",
       "    .dataframe tbody tr th:only-of-type {\n",
       "        vertical-align: middle;\n",
       "    }\n",
       "\n",
       "    .dataframe tbody tr th {\n",
       "        vertical-align: top;\n",
       "    }\n",
       "\n",
       "    .dataframe thead th {\n",
       "        text-align: right;\n",
       "    }\n",
       "</style>\n",
       "<table border=\"1\" class=\"dataframe\">\n",
       "  <thead>\n",
       "    <tr style=\"text-align: right;\">\n",
       "      <th></th>\n",
       "      <th>user_id</th>\n",
       "      <th>movie_id</th>\n",
       "      <th>counts</th>\n",
       "      <th>title</th>\n",
       "      <th>genre</th>\n",
       "      <th>total_counts</th>\n",
       "    </tr>\n",
       "  </thead>\n",
       "  <tbody>\n",
       "    <tr>\n",
       "      <th>0</th>\n",
       "      <td>1</td>\n",
       "      <td>1193</td>\n",
       "      <td>5</td>\n",
       "      <td>One Flew Over the Cuckoo's Nest (1975)</td>\n",
       "      <td>Drama</td>\n",
       "      <td>1680</td>\n",
       "    </tr>\n",
       "    <tr>\n",
       "      <th>1</th>\n",
       "      <td>2</td>\n",
       "      <td>1193</td>\n",
       "      <td>5</td>\n",
       "      <td>One Flew Over the Cuckoo's Nest (1975)</td>\n",
       "      <td>Drama</td>\n",
       "      <td>1680</td>\n",
       "    </tr>\n",
       "    <tr>\n",
       "      <th>2</th>\n",
       "      <td>12</td>\n",
       "      <td>1193</td>\n",
       "      <td>4</td>\n",
       "      <td>One Flew Over the Cuckoo's Nest (1975)</td>\n",
       "      <td>Drama</td>\n",
       "      <td>1680</td>\n",
       "    </tr>\n",
       "    <tr>\n",
       "      <th>3</th>\n",
       "      <td>15</td>\n",
       "      <td>1193</td>\n",
       "      <td>4</td>\n",
       "      <td>One Flew Over the Cuckoo's Nest (1975)</td>\n",
       "      <td>Drama</td>\n",
       "      <td>1680</td>\n",
       "    </tr>\n",
       "    <tr>\n",
       "      <th>4</th>\n",
       "      <td>17</td>\n",
       "      <td>1193</td>\n",
       "      <td>5</td>\n",
       "      <td>One Flew Over the Cuckoo's Nest (1975)</td>\n",
       "      <td>Drama</td>\n",
       "      <td>1680</td>\n",
       "    </tr>\n",
       "  </tbody>\n",
       "</table>\n",
       "</div>"
      ],
      "text/plain": [
       "   user_id  movie_id  counts                                   title  genre  \\\n",
       "0        1      1193       5  One Flew Over the Cuckoo's Nest (1975)  Drama   \n",
       "1        2      1193       5  One Flew Over the Cuckoo's Nest (1975)  Drama   \n",
       "2       12      1193       4  One Flew Over the Cuckoo's Nest (1975)  Drama   \n",
       "3       15      1193       4  One Flew Over the Cuckoo's Nest (1975)  Drama   \n",
       "4       17      1193       5  One Flew Over the Cuckoo's Nest (1975)  Drama   \n",
       "\n",
       "   total_counts  \n",
       "0          1680  \n",
       "1          1680  \n",
       "2          1680  \n",
       "3          1680  \n",
       "4          1680  "
      ]
     },
     "execution_count": 54,
     "metadata": {},
     "output_type": "execute_result"
    }
   ],
   "source": [
    "data = data.rename(columns={'counts_x':'counts', 'counts_y':'total_counts'})\n",
    "data.head(5)"
   ]
  },
  {
   "cell_type": "code",
   "execution_count": 55,
   "id": "9d499b05",
   "metadata": {},
   "outputs": [
    {
     "data": {
      "text/plain": [
       "title\n",
       "American Beauty (1999)                                   3211\n",
       "Star Wars: Episode IV - A New Hope (1977)                2910\n",
       "Star Wars: Episode V - The Empire Strikes Back (1980)    2885\n",
       "Star Wars: Episode VI - Return of the Jedi (1983)        2716\n",
       "Saving Private Ryan (1998)                               2561\n",
       "Terminator 2: Judgment Day (1991)                        2509\n",
       "Silence of the Lambs, The (1991)                         2498\n",
       "Raiders of the Lost Ark (1981)                           2473\n",
       "Back to the Future (1985)                                2460\n",
       "Matrix, The (1999)                                       2434\n",
       "Name: counts, dtype: int64"
      ]
     },
     "execution_count": 55,
     "metadata": {},
     "output_type": "execute_result"
    }
   ],
   "source": [
    "pop_count = data.groupby('title')['counts'].count()\n",
    "pop_count.sort_values(ascending=False).head(10)"
   ]
  },
  {
   "cell_type": "markdown",
   "id": "8d905f19",
   "metadata": {},
   "source": [
    "데이터프레임에 모든 정보와 컬럼명이 잘 반영이 된거 같습니다  \n",
    "  \n",
    "### 3) 내가 선호하는 영화 5가지 추가하기  \n",
    "  \n",
    "내가 선호하는 영화를 5가지 골라서 ratings에 추가해 줍니다  \n",
    "저는 rating과 title을 병합한 \n",
    "추가되는 데이터를 잘 반영하기 위해 내가 뽑을 영화 정보도 같이 뽑아 데이터프레임에 전부 반영시키겠습니다"
   ]
  },
  {
   "cell_type": "code",
   "execution_count": 56,
   "id": "8dc4f85d",
   "metadata": {
    "scrolled": false
   },
   "outputs": [
    {
     "data": {
      "text/html": [
       "<div>\n",
       "<style scoped>\n",
       "    .dataframe tbody tr th:only-of-type {\n",
       "        vertical-align: middle;\n",
       "    }\n",
       "\n",
       "    .dataframe tbody tr th {\n",
       "        vertical-align: top;\n",
       "    }\n",
       "\n",
       "    .dataframe thead th {\n",
       "        text-align: right;\n",
       "    }\n",
       "</style>\n",
       "<table border=\"1\" class=\"dataframe\">\n",
       "  <thead>\n",
       "    <tr style=\"text-align: right;\">\n",
       "      <th></th>\n",
       "      <th>movie_id</th>\n",
       "      <th>title</th>\n",
       "      <th>genre</th>\n",
       "      <th>total_counts</th>\n",
       "    </tr>\n",
       "  </thead>\n",
       "  <tbody>\n",
       "    <tr>\n",
       "      <th>111764</th>\n",
       "      <td>1196</td>\n",
       "      <td>Star Wars: Episode V - The Empire Strikes Back...</td>\n",
       "      <td>Action|Adventure|Drama|Sci-Fi|War</td>\n",
       "      <td>2885</td>\n",
       "    </tr>\n",
       "    <tr>\n",
       "      <th>122219</th>\n",
       "      <td>2571</td>\n",
       "      <td>Matrix, The (1999)</td>\n",
       "      <td>Action|Sci-Fi|Thriller</td>\n",
       "      <td>2434</td>\n",
       "    </tr>\n",
       "    <tr>\n",
       "      <th>203449</th>\n",
       "      <td>296</td>\n",
       "      <td>Pulp Fiction (1994)</td>\n",
       "      <td>Crime|Drama</td>\n",
       "      <td>2030</td>\n",
       "    </tr>\n",
       "    <tr>\n",
       "      <th>83903</th>\n",
       "      <td>110</td>\n",
       "      <td>Braveheart (1995)</td>\n",
       "      <td>Action|Drama|War</td>\n",
       "      <td>2314</td>\n",
       "    </tr>\n",
       "    <tr>\n",
       "      <th>125453</th>\n",
       "      <td>2396</td>\n",
       "      <td>Shakespeare in Love (1998)</td>\n",
       "      <td>Comedy|Romance</td>\n",
       "      <td>2213</td>\n",
       "    </tr>\n",
       "  </tbody>\n",
       "</table>\n",
       "</div>"
      ],
      "text/plain": [
       "        movie_id                                              title  \\\n",
       "111764      1196  Star Wars: Episode V - The Empire Strikes Back...   \n",
       "122219      2571                                 Matrix, The (1999)   \n",
       "203449       296                                Pulp Fiction (1994)   \n",
       "83903        110                                  Braveheart (1995)   \n",
       "125453      2396                         Shakespeare in Love (1998)   \n",
       "\n",
       "                                    genre  total_counts  \n",
       "111764  Action|Adventure|Drama|Sci-Fi|War          2885  \n",
       "122219             Action|Sci-Fi|Thriller          2434  \n",
       "203449                        Crime|Drama          2030  \n",
       "83903                    Action|Drama|War          2314  \n",
       "125453                     Comedy|Romance          2213  "
      ]
     },
     "execution_count": 56,
     "metadata": {},
     "output_type": "execute_result"
    }
   ],
   "source": [
    "# 13-3의 'zimin이 등장하는' 부분에 답이 있습니다\n",
    "my_favorite_title = ['Star Wars: Episode V - The Empire Strikes Back (1980)', 'Matrix, The (1999)','Pulp Fiction (1994)' ,'Braveheart (1995)' ,'Shakespeare in Love (1998)']\n",
    "\n",
    "my_movies_info = pd.DataFrame()\n",
    "for s in my_favorite_title:\n",
    "    my_movies_info = pd.concat([my_movies_info , data[data['title'] == s]])\n",
    "\n",
    "#내 정보가 들어갈 unique한 컬럼들 제거해주고~ 중복 드롭하면 예쁘게 필요한 정보들만 나올듯\n",
    "my_movies_info = my_movies_info.drop('user_id', axis = 1)\n",
    "my_movies_info = my_movies_info.drop('counts', axis = 1)\n",
    "\n",
    "my_movies_info = my_movies_info.drop_duplicates()\n",
    "my_movies_info"
   ]
  },
  {
   "cell_type": "code",
   "execution_count": 57,
   "id": "bd36aab0",
   "metadata": {},
   "outputs": [
    {
     "name": "stdout",
     "output_type": "stream",
     "text": [
      "[2885 2434 2030 2314 2213]\n",
      "[2886 2435 2031 2315 2214]\n"
     ]
    }
   ],
   "source": [
    "my_favorite_id = my_movies_info['movie_id'].values\n",
    "my_favorite_genre = my_movies_info['genre'].values\n",
    "my_favorite_total_counts = my_movies_info['total_counts'].values.copy()\n",
    "\n",
    "print(my_favorite_total_counts)\n",
    "\n",
    "#제 취향도 반영될테니 1 더해줄게요\n",
    "for i in range(len(my_favorite_total_counts)):\n",
    "    my_favorite_total_counts[i] += 1\n",
    "    \n",
    "print(my_favorite_total_counts)\n"
   ]
  },
  {
   "cell_type": "code",
   "execution_count": 58,
   "id": "c6902dc0",
   "metadata": {},
   "outputs": [
    {
     "data": {
      "text/html": [
       "<div>\n",
       "<style scoped>\n",
       "    .dataframe tbody tr th:only-of-type {\n",
       "        vertical-align: middle;\n",
       "    }\n",
       "\n",
       "    .dataframe tbody tr th {\n",
       "        vertical-align: top;\n",
       "    }\n",
       "\n",
       "    .dataframe thead th {\n",
       "        text-align: right;\n",
       "    }\n",
       "</style>\n",
       "<table border=\"1\" class=\"dataframe\">\n",
       "  <thead>\n",
       "    <tr style=\"text-align: right;\">\n",
       "      <th></th>\n",
       "      <th>user_id</th>\n",
       "      <th>movie_id</th>\n",
       "      <th>counts</th>\n",
       "      <th>title</th>\n",
       "      <th>genre</th>\n",
       "      <th>total_counts</th>\n",
       "    </tr>\n",
       "  </thead>\n",
       "  <tbody>\n",
       "    <tr>\n",
       "      <th>836473</th>\n",
       "      <td>5851</td>\n",
       "      <td>3607</td>\n",
       "      <td>5</td>\n",
       "      <td>One Little Indian (1973)</td>\n",
       "      <td>Comedy|Drama|Western</td>\n",
       "      <td>1</td>\n",
       "    </tr>\n",
       "    <tr>\n",
       "      <th>836474</th>\n",
       "      <td>5854</td>\n",
       "      <td>3026</td>\n",
       "      <td>4</td>\n",
       "      <td>Slaughterhouse (1987)</td>\n",
       "      <td>Horror</td>\n",
       "      <td>1</td>\n",
       "    </tr>\n",
       "    <tr>\n",
       "      <th>836475</th>\n",
       "      <td>5854</td>\n",
       "      <td>690</td>\n",
       "      <td>3</td>\n",
       "      <td>Promise, The (Versprechen, Das) (1994)</td>\n",
       "      <td>Romance</td>\n",
       "      <td>1</td>\n",
       "    </tr>\n",
       "    <tr>\n",
       "      <th>836476</th>\n",
       "      <td>5938</td>\n",
       "      <td>2909</td>\n",
       "      <td>4</td>\n",
       "      <td>Five Wives, Three Secretaries and Me (1998)</td>\n",
       "      <td>Documentary</td>\n",
       "      <td>1</td>\n",
       "    </tr>\n",
       "    <tr>\n",
       "      <th>836477</th>\n",
       "      <td>5948</td>\n",
       "      <td>1360</td>\n",
       "      <td>5</td>\n",
       "      <td>Identification of a Woman (Identificazione di ...</td>\n",
       "      <td>Drama</td>\n",
       "      <td>1</td>\n",
       "    </tr>\n",
       "    <tr>\n",
       "      <th>0</th>\n",
       "      <td>kspark</td>\n",
       "      <td>1196</td>\n",
       "      <td>5</td>\n",
       "      <td>Star Wars: Episode V - The Empire Strikes Back...</td>\n",
       "      <td>Action|Adventure|Drama|Sci-Fi|War</td>\n",
       "      <td>2886</td>\n",
       "    </tr>\n",
       "    <tr>\n",
       "      <th>1</th>\n",
       "      <td>kspark</td>\n",
       "      <td>2571</td>\n",
       "      <td>5</td>\n",
       "      <td>Matrix, The (1999)</td>\n",
       "      <td>Action|Sci-Fi|Thriller</td>\n",
       "      <td>2435</td>\n",
       "    </tr>\n",
       "    <tr>\n",
       "      <th>2</th>\n",
       "      <td>kspark</td>\n",
       "      <td>296</td>\n",
       "      <td>5</td>\n",
       "      <td>Pulp Fiction (1994)</td>\n",
       "      <td>Crime|Drama</td>\n",
       "      <td>2031</td>\n",
       "    </tr>\n",
       "    <tr>\n",
       "      <th>3</th>\n",
       "      <td>kspark</td>\n",
       "      <td>110</td>\n",
       "      <td>5</td>\n",
       "      <td>Braveheart (1995)</td>\n",
       "      <td>Action|Drama|War</td>\n",
       "      <td>2315</td>\n",
       "    </tr>\n",
       "    <tr>\n",
       "      <th>4</th>\n",
       "      <td>kspark</td>\n",
       "      <td>2396</td>\n",
       "      <td>5</td>\n",
       "      <td>Shakespeare in Love (1998)</td>\n",
       "      <td>Comedy|Romance</td>\n",
       "      <td>2214</td>\n",
       "    </tr>\n",
       "  </tbody>\n",
       "</table>\n",
       "</div>"
      ],
      "text/plain": [
       "       user_id  movie_id  counts  \\\n",
       "836473    5851      3607       5   \n",
       "836474    5854      3026       4   \n",
       "836475    5854       690       3   \n",
       "836476    5938      2909       4   \n",
       "836477    5948      1360       5   \n",
       "0       kspark      1196       5   \n",
       "1       kspark      2571       5   \n",
       "2       kspark       296       5   \n",
       "3       kspark       110       5   \n",
       "4       kspark      2396       5   \n",
       "\n",
       "                                                    title  \\\n",
       "836473                           One Little Indian (1973)   \n",
       "836474                              Slaughterhouse (1987)   \n",
       "836475             Promise, The (Versprechen, Das) (1994)   \n",
       "836476        Five Wives, Three Secretaries and Me (1998)   \n",
       "836477  Identification of a Woman (Identificazione di ...   \n",
       "0       Star Wars: Episode V - The Empire Strikes Back...   \n",
       "1                                      Matrix, The (1999)   \n",
       "2                                     Pulp Fiction (1994)   \n",
       "3                                       Braveheart (1995)   \n",
       "4                              Shakespeare in Love (1998)   \n",
       "\n",
       "                                    genre  total_counts  \n",
       "836473               Comedy|Drama|Western             1  \n",
       "836474                             Horror             1  \n",
       "836475                            Romance             1  \n",
       "836476                        Documentary             1  \n",
       "836477                              Drama             1  \n",
       "0       Action|Adventure|Drama|Sci-Fi|War          2886  \n",
       "1                  Action|Sci-Fi|Thriller          2435  \n",
       "2                             Crime|Drama          2031  \n",
       "3                        Action|Drama|War          2315  \n",
       "4                          Comedy|Romance          2214  "
      ]
     },
     "execution_count": 58,
     "metadata": {},
     "output_type": "execute_result"
    }
   ],
   "source": [
    "# 'zimin'이라는 user_id가 위 아티스트의 노래를 30회씩 들었다고 가정하겠습니다.\n",
    "\n",
    "my_playlist = pd.DataFrame({'user_id': ['kspark']*5, 'title': my_favorite_title, 'counts':[5]*5, 'movie_id':my_favorite_id, \n",
    "                            'genre':my_favorite_genre, 'total_counts':my_favorite_total_counts})\n",
    "\n",
    "if not data.isin({'user_id':['kspark']})['user_id'].any():  # user_id에 'zimin'이라는 데이터가 없다면\n",
    "    data = data.append(my_playlist)                           # 위에 임의로 만든 my_favorite 데이터를 추가해 줍니다. \n",
    "\n",
    "data.tail(10)       # 잘 추가되었는지 확인해 봅시다."
   ]
  },
  {
   "cell_type": "markdown",
   "id": "45d2d88f",
   "metadata": {},
   "source": [
    "### 4) CSR matrix 직접 만들어 보기  \n",
    "희소행렬을 만들기 위해 컬럼값을 indexing하는 전처리가 필요합니다  \n",
    "지금까지 했던 작업에서는 간단히 저의 id만 바꿔주면 될 것 같습니다만  \n",
    "노드에서 소개된 함수를 이용하여 전체를 바꾸는 방법을 진행해보겠습니다  "
   ]
  },
  {
   "cell_type": "code",
   "execution_count": 67,
   "id": "97efa059",
   "metadata": {},
   "outputs": [],
   "source": [
    "# 유저, 무비 indexing 하는 코드 idx는 index의 약자입니다.\n",
    "user_to_idx = {v:k for k,v in enumerate(user_unique)}\n",
    "movie_to_idx = {v:k for k,v in enumerate(movie_unique)}"
   ]
  },
  {
   "cell_type": "code",
   "execution_count": 64,
   "id": "215d692b",
   "metadata": {},
   "outputs": [
    {
     "name": "stdout",
     "output_type": "stream",
     "text": [
      "user_id column indexing OK!!\n",
      "movie column indexing OK!!\n"
     ]
    },
    {
     "data": {
      "text/html": [
       "<div>\n",
       "<style scoped>\n",
       "    .dataframe tbody tr th:only-of-type {\n",
       "        vertical-align: middle;\n",
       "    }\n",
       "\n",
       "    .dataframe tbody tr th {\n",
       "        vertical-align: top;\n",
       "    }\n",
       "\n",
       "    .dataframe thead th {\n",
       "        text-align: right;\n",
       "    }\n",
       "</style>\n",
       "<table border=\"1\" class=\"dataframe\">\n",
       "  <thead>\n",
       "    <tr style=\"text-align: right;\">\n",
       "      <th></th>\n",
       "      <th>user_id</th>\n",
       "      <th>movie_id</th>\n",
       "      <th>counts</th>\n",
       "      <th>title</th>\n",
       "      <th>genre</th>\n",
       "      <th>total_counts</th>\n",
       "    </tr>\n",
       "  </thead>\n",
       "  <tbody>\n",
       "    <tr>\n",
       "      <th>0</th>\n",
       "      <td>0</td>\n",
       "      <td>0</td>\n",
       "      <td>5</td>\n",
       "      <td>One Flew Over the Cuckoo's Nest (1975)</td>\n",
       "      <td>Drama</td>\n",
       "      <td>1680</td>\n",
       "    </tr>\n",
       "    <tr>\n",
       "      <th>1</th>\n",
       "      <td>1</td>\n",
       "      <td>0</td>\n",
       "      <td>5</td>\n",
       "      <td>One Flew Over the Cuckoo's Nest (1975)</td>\n",
       "      <td>Drama</td>\n",
       "      <td>1680</td>\n",
       "    </tr>\n",
       "    <tr>\n",
       "      <th>2</th>\n",
       "      <td>2</td>\n",
       "      <td>0</td>\n",
       "      <td>4</td>\n",
       "      <td>One Flew Over the Cuckoo's Nest (1975)</td>\n",
       "      <td>Drama</td>\n",
       "      <td>1680</td>\n",
       "    </tr>\n",
       "    <tr>\n",
       "      <th>3</th>\n",
       "      <td>3</td>\n",
       "      <td>0</td>\n",
       "      <td>4</td>\n",
       "      <td>One Flew Over the Cuckoo's Nest (1975)</td>\n",
       "      <td>Drama</td>\n",
       "      <td>1680</td>\n",
       "    </tr>\n",
       "    <tr>\n",
       "      <th>4</th>\n",
       "      <td>4</td>\n",
       "      <td>0</td>\n",
       "      <td>5</td>\n",
       "      <td>One Flew Over the Cuckoo's Nest (1975)</td>\n",
       "      <td>Drama</td>\n",
       "      <td>1680</td>\n",
       "    </tr>\n",
       "    <tr>\n",
       "      <th>...</th>\n",
       "      <td>...</td>\n",
       "      <td>...</td>\n",
       "      <td>...</td>\n",
       "      <td>...</td>\n",
       "      <td>...</td>\n",
       "      <td>...</td>\n",
       "    </tr>\n",
       "    <tr>\n",
       "      <th>0</th>\n",
       "      <td>6039</td>\n",
       "      <td>117</td>\n",
       "      <td>5</td>\n",
       "      <td>Star Wars: Episode V - The Empire Strikes Back...</td>\n",
       "      <td>Action|Adventure|Drama|Sci-Fi|War</td>\n",
       "      <td>2886</td>\n",
       "    </tr>\n",
       "    <tr>\n",
       "      <th>1</th>\n",
       "      <td>6039</td>\n",
       "      <td>124</td>\n",
       "      <td>5</td>\n",
       "      <td>Matrix, The (1999)</td>\n",
       "      <td>Action|Sci-Fi|Thriller</td>\n",
       "      <td>2435</td>\n",
       "    </tr>\n",
       "    <tr>\n",
       "      <th>2</th>\n",
       "      <td>6039</td>\n",
       "      <td>222</td>\n",
       "      <td>5</td>\n",
       "      <td>Pulp Fiction (1994)</td>\n",
       "      <td>Crime|Drama</td>\n",
       "      <td>2031</td>\n",
       "    </tr>\n",
       "    <tr>\n",
       "      <th>3</th>\n",
       "      <td>6039</td>\n",
       "      <td>87</td>\n",
       "      <td>5</td>\n",
       "      <td>Braveheart (1995)</td>\n",
       "      <td>Action|Drama|War</td>\n",
       "      <td>2315</td>\n",
       "    </tr>\n",
       "    <tr>\n",
       "      <th>4</th>\n",
       "      <td>6039</td>\n",
       "      <td>126</td>\n",
       "      <td>5</td>\n",
       "      <td>Shakespeare in Love (1998)</td>\n",
       "      <td>Comedy|Romance</td>\n",
       "      <td>2214</td>\n",
       "    </tr>\n",
       "  </tbody>\n",
       "</table>\n",
       "<p>836483 rows × 6 columns</p>\n",
       "</div>"
      ],
      "text/plain": [
       "    user_id  movie_id  counts  \\\n",
       "0         0         0       5   \n",
       "1         1         0       5   \n",
       "2         2         0       4   \n",
       "3         3         0       4   \n",
       "4         4         0       5   \n",
       "..      ...       ...     ...   \n",
       "0      6039       117       5   \n",
       "1      6039       124       5   \n",
       "2      6039       222       5   \n",
       "3      6039        87       5   \n",
       "4      6039       126       5   \n",
       "\n",
       "                                                title  \\\n",
       "0              One Flew Over the Cuckoo's Nest (1975)   \n",
       "1              One Flew Over the Cuckoo's Nest (1975)   \n",
       "2              One Flew Over the Cuckoo's Nest (1975)   \n",
       "3              One Flew Over the Cuckoo's Nest (1975)   \n",
       "4              One Flew Over the Cuckoo's Nest (1975)   \n",
       "..                                                ...   \n",
       "0   Star Wars: Episode V - The Empire Strikes Back...   \n",
       "1                                  Matrix, The (1999)   \n",
       "2                                 Pulp Fiction (1994)   \n",
       "3                                   Braveheart (1995)   \n",
       "4                          Shakespeare in Love (1998)   \n",
       "\n",
       "                                genre  total_counts  \n",
       "0                               Drama          1680  \n",
       "1                               Drama          1680  \n",
       "2                               Drama          1680  \n",
       "3                               Drama          1680  \n",
       "4                               Drama          1680  \n",
       "..                                ...           ...  \n",
       "0   Action|Adventure|Drama|Sci-Fi|War          2886  \n",
       "1              Action|Sci-Fi|Thriller          2435  \n",
       "2                         Crime|Drama          2031  \n",
       "3                    Action|Drama|War          2315  \n",
       "4                      Comedy|Romance          2214  \n",
       "\n",
       "[836483 rows x 6 columns]"
      ]
     },
     "execution_count": 64,
     "metadata": {},
     "output_type": "execute_result"
    }
   ],
   "source": [
    "temp_user_data = data['user_id'].map(user_to_idx.get).dropna()\n",
    "if len(temp_user_data) == len(data):   # 모든 row가 정상적으로 인덱싱되었다면\n",
    "    print('user_id column indexing OK!!')\n",
    "    data['user_id'] = temp_user_data   # data['user_id']을 인덱싱된 Series로 교체해 줍니다. \n",
    "else:\n",
    "    print('user_id column indexing Fail!!')\n",
    "\n",
    "# artist_to_idx을 통해 artist 컬럼도 동일한 방식으로 인덱싱해 줍니다. \n",
    "temp_movie_data = data['title'].map(movie_to_idx.get).dropna()\n",
    "if len(temp_movie_data) == len(data):\n",
    "    print('movie column indexing OK!!')\n",
    "    data['movie_id'] =  temp_movie_data\n",
    "else:\n",
    "    print('artist column indexing Fail!!')\n",
    "\n",
    "data"
   ]
  },
  {
   "cell_type": "markdown",
   "id": "313785f6",
   "metadata": {},
   "source": [
    "id가 0번부터 재할당 되었습니다  \n",
    "제일 마지막이 저의 정보입니다  \n",
    "앞서 확인한 유니크한 유저 6039명의 id가 0부터 다시 할당된 후, 저의 아이디가 할당되었습니다  \n",
    "\n",
    "csr 매트릭스를 생성해줍니다"
   ]
  },
  {
   "cell_type": "code",
   "execution_count": 65,
   "id": "bb998add",
   "metadata": {},
   "outputs": [
    {
     "data": {
      "text/plain": [
       "<6040x3628 sparse matrix of type '<class 'numpy.int64'>'\n",
       "\twith 836483 stored elements in Compressed Sparse Row format>"
      ]
     },
     "execution_count": 65,
     "metadata": {},
     "output_type": "execute_result"
    }
   ],
   "source": [
    "# 13-6 참고하기\n",
    "\n",
    "from scipy.sparse import csr_matrix\n",
    "\n",
    "num_user = data['user_id'].nunique()\n",
    "num_movie = data['movie_id'].nunique()\n",
    "\n",
    "csr_data = csr_matrix((data.counts, (data.user_id, data.movie_id)), shape= (num_user, num_movie))\n",
    "csr_data"
   ]
  },
  {
   "cell_type": "markdown",
   "id": "d9f1d0e4",
   "metadata": {},
   "source": [
    "총 836483의 요소를 저장하는,  6040의 유니크한 유저수와 3628의 영화수를 반영하는 csr matrix가 생성되었습니다  "
   ]
  },
  {
   "cell_type": "markdown",
   "id": "e0bfb5dd",
   "metadata": {},
   "source": [
    "### 5) als_model 구성 및 훈련하기  \n",
    "  \n",
    "als_model = AlternatingLeastSquares 모델을 직접 구성하여 훈련시켜 봅시다  \n",
    "이거 시간이 엄청 걸리는 부분이에요  "
   ]
  },
  {
   "cell_type": "code",
   "execution_count": 68,
   "id": "939f290c",
   "metadata": {},
   "outputs": [],
   "source": [
    "#모델 구축\n",
    "from implicit.als import AlternatingLeastSquares\n",
    "\n",
    "import os\n",
    "# implicit 라이브러리에서 권장하고 있는 부분입니다. 학습 내용과는 무관합니다.\n",
    "os.environ['OPENBLAS_NUM_THREADS']='1'\n",
    "os.environ['KMP_DUPLICATE_LIB_OK']='True'\n",
    "os.environ['MKL_NUM_THREADS']='1'"
   ]
  },
  {
   "cell_type": "code",
   "execution_count": 69,
   "id": "bd844622",
   "metadata": {},
   "outputs": [
    {
     "name": "stdout",
     "output_type": "stream",
     "text": [
      "Help on function AlternatingLeastSquares in module implicit.als:\n",
      "\n",
      "AlternatingLeastSquares(factors=100, regularization=0.01, dtype=<class 'numpy.float32'>, use_native=True, use_cg=True, use_gpu=True, iterations=15, calculate_training_loss=False, num_threads=0, random_state=None)\n",
      "    Alternating Least Squares\n",
      "    \n",
      "    A Recommendation Model based off the algorithms described in the paper 'Collaborative\n",
      "    Filtering for Implicit Feedback Datasets' with performance optimizations described in\n",
      "    'Applications of the Conjugate Gradient Method for Implicit Feedback Collaborative\n",
      "    Filtering.'\n",
      "    \n",
      "    This factory function switches between the cpu and gpu implementations found in\n",
      "    implicit.cpu.als.AlternatingLeastSquares and implicit.gpu.als.AlternatingLeastSquares\n",
      "    depending on the use_gpu flag.\n",
      "    \n",
      "    Parameters\n",
      "    ----------\n",
      "    factors : int, optional\n",
      "        The number of latent factors to compute\n",
      "    regularization : float, optional\n",
      "        The regularization factor to use\n",
      "    dtype : data-type, optional\n",
      "        Specifies whether to generate 64 bit or 32 bit floating point factors\n",
      "    use_native : bool, optional\n",
      "        Use native extensions to speed up model fitting\n",
      "    use_cg : bool, optional\n",
      "        Use a faster Conjugate Gradient solver to calculate factors\n",
      "    use_gpu : bool, optional\n",
      "        Fit on the GPU if available, default is to run on GPU only if available\n",
      "    iterations : int, optional\n",
      "        The number of ALS iterations to use when fitting data\n",
      "    calculate_training_loss : bool, optional\n",
      "        Whether to log out the training loss at each iteration\n",
      "    num_threads : int, optional\n",
      "        The number of threads to use for fitting the model. This only\n",
      "        applies for the native extensions. Specifying 0 means to default\n",
      "        to the number of cores on the machine.\n",
      "    random_state : int, RandomState or None, optional\n",
      "        The random state for seeding the initial item and user factors.\n",
      "        Default is None.\n",
      "\n"
     ]
    }
   ],
   "source": [
    "help(AlternatingLeastSquares)"
   ]
  },
  {
   "cell_type": "code",
   "execution_count": 70,
   "id": "14ae3532",
   "metadata": {},
   "outputs": [],
   "source": [
    "#노드에 기본값으로 주어진 숫자들은 모델이 가진 초기화 값이었습니다\n",
    "\n",
    "n_factors = 100              #유저와 아이템의 벡터를 몇 차원으로 할 것인지\n",
    "n_regularization  = 0.01     #과적합을 방지하기 위해 정규화 값을 얼마나 사용할 것인지\n",
    "n_iterations = 15            #epochs와 같은 의미입니다. 데이터를 몇 번 반복해서 학습할 것인지\n",
    "\n",
    "#새로 쓸 parameters\n",
    "\n",
    "r_state = 2023\n",
    "\n",
    "#저는 이터레이션을 조금 더 돌릴께요\n",
    "\n",
    "n_iterations = 30\n"
   ]
  },
  {
   "cell_type": "code",
   "execution_count": 71,
   "id": "a944ccfb",
   "metadata": {},
   "outputs": [],
   "source": [
    "#모델 생성하고\n",
    "als_model = AlternatingLeastSquares(factors=n_factors, regularization=n_regularization, calculate_training_loss = True, \n",
    "                                    use_gpu=False, iterations=n_iterations, dtype=np.float32, random_state = r_state)"
   ]
  },
  {
   "cell_type": "code",
   "execution_count": 72,
   "id": "1ba7f2fe",
   "metadata": {},
   "outputs": [
    {
     "data": {
      "application/vnd.jupyter.widget-view+json": {
       "model_id": "081f30c2fdc748e1bd5556d1db4b2d4f",
       "version_major": 2,
       "version_minor": 0
      },
      "text/plain": [
       "  0%|          | 0/30 [00:00<?, ?it/s]"
      ]
     },
     "metadata": {},
     "output_type": "display_data"
    }
   ],
   "source": [
    "#핏 = 트레인\n",
    "als_model.fit(csr_data.T)\n",
    "#item행 x user열 로 입력을 받기 때문에, 반대의 경우라면 transpose 해주세요\n"
   ]
  },
  {
   "cell_type": "markdown",
   "id": "a7212a15",
   "metadata": {},
   "source": [
    "### 6) 내가 선호하는 5가지 영화 중 하나와, 그 외의 영화 하나를 골라 훈련된 모델이 예측한 나의 선호도를 파악해보기  \n",
    "여러개 보겠습니다  \n",
    "#### 내가 선택한 영화"
   ]
  },
  {
   "cell_type": "code",
   "execution_count": 75,
   "id": "7bf493fd",
   "metadata": {},
   "outputs": [
    {
     "name": "stdout",
     "output_type": "stream",
     "text": [
      "Star Wars: Episode V - The Empire Strikes Back (1980)  를 선호하는 정도는 :  0.56946445\n",
      "Matrix, The (1999)  를 선호하는 정도는 :  0.5292536\n",
      "Pulp Fiction (1994)  를 선호하는 정도는 :  0.37773126\n",
      "Braveheart (1995)  를 선호하는 정도는 :  0.57046103\n",
      "Shakespeare in Love (1998)  를 선호하는 정도는 :  0.49921957\n"
     ]
    }
   ],
   "source": [
    "#13-7의 queen이 나오는 부분, 벡터 내적\n",
    "\n",
    "#내 아이디 6039..\n",
    "\n",
    "test_user = user_to_idx[6039]\n",
    "user_vector = als_model.user_factors[test_user]\n",
    "\n",
    "for s in my_favorite_title:\n",
    "    test_movie = movie_to_idx[s]\n",
    "    movie_vector = als_model.item_factors[test_movie]\n",
    "    res = np.dot(user_vector, movie_vector)\n",
    "    print(s, \" 를 선호하는 정도는 : \", res)"
   ]
  },
  {
   "cell_type": "markdown",
   "id": "88bed152",
   "metadata": {},
   "source": [
    "좋아하는 영화라면 당연히 1에 가깝게 나와야 할까요?  \n",
    "현재로서는 결과값이 의미있는지, 잘 모르겠습니다만  \n",
    "  \n",
    "#### 내가 선택하지 않았던 영화\n",
    "안좋아하는 영화들 (좋아는 하지만 다른것보다는 덜 좋아하는 ㅎㅎ;) 것들과 비교해보겠습니다 (무서운거 드라마 안좋아함..)  \n",
    "숫자가 조금 적게 나올까요?"
   ]
  },
  {
   "cell_type": "code",
   "execution_count": 76,
   "id": "651004cd",
   "metadata": {},
   "outputs": [
    {
     "name": "stdout",
     "output_type": "stream",
     "text": [
      "Fargo (1996)  를 선호하는 정도는 :  0.33615544\n",
      "Shawshank Redemption, The (1994)  를 선호하는 정도는 :  0.3961378\n",
      "Forrest Gump (1994)  를 선호하는 정도는 :  0.18922089\n"
     ]
    }
   ],
   "source": [
    "my_soso_title = ['Fargo (1996)','Shawshank Redemption, The (1994)','Forrest Gump (1994)']\n",
    "\n",
    "for s in my_soso_title:\n",
    "    test_movie = movie_to_idx[s]\n",
    "    movie_vector = als_model.item_factors[test_movie]\n",
    "    res = np.dot(user_vector, movie_vector)\n",
    "    print(s, \" 를 선호하는 정도는 : \", res)"
   ]
  },
  {
   "cell_type": "markdown",
   "id": "b89e783f",
   "metadata": {},
   "source": [
    "조금은 작은 숫자가 나왔습니다  \n",
    "의미가 있네요!"
   ]
  },
  {
   "cell_type": "markdown",
   "id": "4a9f5c3a",
   "metadata": {},
   "source": [
    "### 7) 내가 좋아하는 영화와 비슷한 영화를 추천받아 봅시다"
   ]
  },
  {
   "cell_type": "code",
   "execution_count": 78,
   "id": "c487add9",
   "metadata": {},
   "outputs": [],
   "source": [
    "#13-8의 similar_items \n",
    "#artist_to_idx 를 뒤집어, index로부터 movies 이름을 얻는 dict를 생성합니다. \n",
    "idx_to_movie = {v:k for k,v in movie_to_idx.items()}"
   ]
  },
  {
   "cell_type": "code",
   "execution_count": 82,
   "id": "9dd74237",
   "metadata": {},
   "outputs": [
    {
     "data": {
      "text/plain": [
       "[(117, 1.0),\n",
       " (64, 0.8933744),\n",
       " (44, 0.8861404),\n",
       " (120, 0.6532162),\n",
       " (200, 0.43792716),\n",
       " (22, 0.39266807),\n",
       " (172, 0.39165938),\n",
       " (60, 0.38660994),\n",
       " (651, 0.38639948),\n",
       " (26, 0.35837302),\n",
       " (5, 0.35684812),\n",
       " (124, 0.34701356),\n",
       " (193, 0.3345868),\n",
       " (680, 0.3143431),\n",
       " (550, 0.30573642)]"
      ]
     },
     "execution_count": 82,
     "metadata": {},
     "output_type": "execute_result"
    }
   ],
   "source": [
    "#제가 좋아하는 스타워즈5와 비슷한 영화는요\n",
    "similar_movie = als_model.similar_items(movie_to_idx[my_favorite_title[0]], N=15)\n",
    "similar_movie"
   ]
  },
  {
   "cell_type": "markdown",
   "id": "7eb7bcf5",
   "metadata": {},
   "source": [
    "1도 나오네요?  \n",
    "영화명으로 변경해봅니다"
   ]
  },
  {
   "cell_type": "code",
   "execution_count": 83,
   "id": "d10ff414",
   "metadata": {},
   "outputs": [
    {
     "data": {
      "text/plain": [
       "['Star Wars: Episode V - The Empire Strikes Back (1980)',\n",
       " 'Star Wars: Episode VI - Return of the Jedi (1983)',\n",
       " 'Star Wars: Episode IV - A New Hope (1977)',\n",
       " 'Raiders of the Lost Ark (1981)',\n",
       " 'Terminator, The (1984)',\n",
       " 'Back to the Future (1985)',\n",
       " 'Indiana Jones and the Last Crusade (1989)',\n",
       " 'Star Wars: Episode I - The Phantom Menace (1999)',\n",
       " 'Aliens (1986)',\n",
       " 'E.T. the Extra-Terrestrial (1982)',\n",
       " 'Princess Bride, The (1987)',\n",
       " 'Matrix, The (1999)',\n",
       " 'Alien (1979)',\n",
       " 'Blade Runner (1982)',\n",
       " 'Dr. Strangelove or: How I Learned to Stop Worrying and Love the Bomb (1963)']"
      ]
     },
     "execution_count": 83,
     "metadata": {},
     "output_type": "execute_result"
    }
   ],
   "source": [
    "[idx_to_movie[i[0]] for i in similar_movie]"
   ]
  },
  {
   "cell_type": "markdown",
   "id": "ad612196",
   "metadata": {},
   "source": [
    "Instruction에 '추천' 이라고 명시되어 있습니다만, 사실 이 리스트가 내포하는 것은 '비슷함' 일 것입니다  \n",
    "리스트에는 스페이스 오페라, SF 장르등이 선별되었습니다    \n",
    "특히 스타워즈 시리즈가 상단부에 있는 것이 너무 재밌습니다  "
   ]
  },
  {
   "cell_type": "markdown",
   "id": "7d9a707f",
   "metadata": {},
   "source": [
    "### 8) 내가 가장 좋아할 만한 영화들을 추천받아 봅시다"
   ]
  },
  {
   "cell_type": "code",
   "execution_count": 84,
   "id": "8734fba1",
   "metadata": {},
   "outputs": [
    {
     "data": {
      "text/plain": [
       "[(48, 0.6058494),\n",
       " (64, 0.5749327),\n",
       " (44, 0.54287934),\n",
       " (92, 0.52171767),\n",
       " (99, 0.5037916),\n",
       " (23, 0.4202258),\n",
       " (157, 0.39613777),\n",
       " (121, 0.3955263),\n",
       " (5, 0.36124673),\n",
       " (120, 0.35242265),\n",
       " (51, 0.33615544),\n",
       " (224, 0.3030842),\n",
       " (107, 0.29070723),\n",
       " (110, 0.2878543),\n",
       " (141, 0.2834292),\n",
       " (269, 0.26543963),\n",
       " (200, 0.26224568),\n",
       " (233, 0.26014364),\n",
       " (22, 0.2564019),\n",
       " (175, 0.25472856)]"
      ]
     },
     "execution_count": 84,
     "metadata": {},
     "output_type": "execute_result"
    }
   ],
   "source": [
    "#13-8의 recommend 메소드 \n",
    "\n",
    "movie_recommended = als_model.recommend(test_user, csr_data, N=20, filter_already_liked_items=True)\n",
    "movie_recommended"
   ]
  },
  {
   "cell_type": "code",
   "execution_count": 85,
   "id": "b364ffaa",
   "metadata": {},
   "outputs": [
    {
     "data": {
      "text/plain": [
       "['Saving Private Ryan (1998)',\n",
       " 'Star Wars: Episode VI - Return of the Jedi (1983)',\n",
       " 'Star Wars: Episode IV - A New Hope (1977)',\n",
       " 'Terminator 2: Judgment Day (1991)',\n",
       " 'American Beauty (1999)',\n",
       " \"Schindler's List (1993)\",\n",
       " 'Shawshank Redemption, The (1994)',\n",
       " 'Silence of the Lambs, The (1991)',\n",
       " 'Princess Bride, The (1987)',\n",
       " 'Raiders of the Lost Ark (1981)',\n",
       " 'Fargo (1996)',\n",
       " 'L.A. Confidential (1997)',\n",
       " 'Jurassic Park (1993)',\n",
       " 'Groundhog Day (1993)',\n",
       " 'Fugitive, The (1993)',\n",
       " 'GoodFellas (1990)',\n",
       " 'Terminator, The (1984)',\n",
       " 'Usual Suspects, The (1995)',\n",
       " 'Back to the Future (1985)',\n",
       " 'Men in Black (1997)']"
      ]
     },
     "execution_count": 85,
     "metadata": {},
     "output_type": "execute_result"
    }
   ],
   "source": [
    "[idx_to_movie[i[0]] for i in movie_recommended]"
   ]
  },
  {
   "cell_type": "markdown",
   "id": "4f233f34",
   "metadata": {},
   "source": [
    "재밌는 영화들이 추천되었습니다..만, 제가 덜 좋아한다고 써놨던 Fargo와 쇼생크탈출도 리스트에 있었습니다  \n",
    "하지만 모델 학습을 더 한다고 뚜렷한 개선사항이 생길지는 잘 모르겠습니다.."
   ]
  },
  {
   "cell_type": "markdown",
   "id": "1887a0f1",
   "metadata": {},
   "source": [
    "## 회고  \n",
    "즐거운 학습이었습니다  \n",
    "  \n",
    "### 인상깊었던 점   \n",
    "ALS model 학습 시간이 굉장히 빨랐습니다  \n",
    "80만개의 단일 (x, y) 좌표형 데이터를 학습시키는데 다양한 regrssion 알고리즘들이나 nn이 가져가는 cost는 얼마나 될까요?  \n",
    "엄청나게 느리지 않을수도 있겠지만, 1 epoch에 1초 내외를 소비하는 ALS model에 비해서는 많이 느릴 것 같습니다  \n",
    "  \n",
    "또한 영화의 세세한 feature로 사용할 수 있는 특징들, 예를 들면 장르라던가, 러닝타임, 캐스팅 등의 요소를 고려하지 않아도,  \n",
    "이미 내가 보았다는 사실을 기반으로 rough한 추천을 할 수 있었던 점이 인상적이었습니다 \n",
    "  \n",
    "### 아쉬운 점   \n",
    "  \n",
    "#### 모델   \n",
    "\n",
    "학습을 더 한다고 뚜렷한 개선사항이 생길 지 모르겠는 이유는, 이미 모델이 overfitting을 겪은 상황으로 판단하기 떄문입니다  \n",
    "모델의 training loss는 20epoch 대에서 0.3 이하로 떨어졌다가, 0.37까지 다시 오른 상태에서 트레인을 마쳤습니다  \n",
    "따라서 매우 쉽게 overfitting을 겪는다는 판단이 생겼습니다  \n",
    "  \n",
    "#### 라이브러리   \n",
    "  \n",
    "https://implicit.readthedocs.io/en/latest/als.html  \n",
    "해당 라이브러리의 페이지입니다  \n",
    "parameter 조정을 할 수 있는 것들이 다양하지 않았습니다  \n",
    "\n",
    "라이브러리의 다른 아쉬웠던 점은 loss등 training 과정에서 일어나는 일들을 남겨서 추이를 확인할 수 없었다는 점 (실시간 디스플레이만 가능)  \n",
    "과 grid search등의 hyperparameter tuning 이 지원되지 않는다는 점이었습니다  \n",
    "참고 https://stackoverflow.com/questions/60211437/gridsearchcv-with-als-algorithm\n",
    "\n",
    "\n",
    "### 기대되는 점  \n",
    "#### 다른 라이브러리  \n",
    "  \n",
    "같은 ALS model을 구현한 다음 라이브러리에는 더 많은 옵션들이 있는 것 같아서,  \n",
    "이후 ALS를 사용하게 될 상황에는 다음 라이브러리를 사용하게 될 것 같습니다  \n",
    "https://spark.apache.org/docs/latest/ml-collaborative-filtering.html  \n",
    "   \n",
    "#### 추천결과   \n",
    "마지막 8) 내가 가장 좋아할 만한 영화들을 추천받아보기 항목에서,  \n",
    "결과가 좋지 않았던 중요한 요건중에 하나는 제 취향인 영화가 다섯개밖에 반영이 안되었기 때문이라고 생각합니다  \n",
    "더 많은 영화를 반영할수록, 더 좋은 결과를 얻을 수 있을거라고 확신하고 있습니다  \n",
    "그리고 이것이, 일반적으로 이야기 할 수 있는 추천시스템의 특성인듯 합니다  \n"
   ]
  },
  {
   "cell_type": "code",
   "execution_count": null,
   "id": "12822c80",
   "metadata": {},
   "outputs": [],
   "source": []
  }
 ],
 "metadata": {
  "kernelspec": {
   "display_name": "Python 3 (ipykernel)",
   "language": "python",
   "name": "python3"
  },
  "language_info": {
   "codemirror_mode": {
    "name": "ipython",
    "version": 3
   },
   "file_extension": ".py",
   "mimetype": "text/x-python",
   "name": "python",
   "nbconvert_exporter": "python",
   "pygments_lexer": "ipython3",
   "version": "3.9.7"
  }
 },
 "nbformat": 4,
 "nbformat_minor": 5
}
