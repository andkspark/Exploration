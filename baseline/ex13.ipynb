{
 "cells": [
  {
   "cell_type": "markdown",
   "id": "d10a229c",
   "metadata": {},
   "source": [
    "# EX13 Movie Recommendation  \n",
    "  \n",
    "## Objective  \n",
    "  \n",
    "1. CSR matrix가 정상적으로 만들어졌다.  \n",
    "사용자와 아이템 개수를 바탕으로 정확한 사이즈로 만들었다.  \n",
    "2. MF 모델이 정상적으로 훈련되어 그럴듯한 추천이 이루어졌다.  \n",
    "사용자와 아이템 벡터 내적수치가 의미있게 형성되었다.  \n",
    "3. 비슷한 영화 찾기와 유저에게 추천하기의 과정이 정상적으로 진행되었다.  \n",
    "MF모델이 예측한 유저 선호도 및 아이템간 유사도, 기여도를 측정하고 의미를 분석해보았다."
   ]
  },
  {
   "cell_type": "code",
   "execution_count": 3,
   "id": "2032efaf",
   "metadata": {},
   "outputs": [],
   "source": [
    "import pandas as pd\n",
    "\n",
    "import numpy as np\n",
    "import scipy\n",
    "import implicit"
   ]
  },
  {
   "cell_type": "markdown",
   "id": "7d5eb8c5",
   "metadata": {},
   "source": [
    "1) 데이터 준비와 전처리"
   ]
  },
  {
   "cell_type": "code",
   "execution_count": 4,
   "id": "0933c334",
   "metadata": {},
   "outputs": [
    {
     "data": {
      "text/html": [
       "<div>\n",
       "<style scoped>\n",
       "    .dataframe tbody tr th:only-of-type {\n",
       "        vertical-align: middle;\n",
       "    }\n",
       "\n",
       "    .dataframe tbody tr th {\n",
       "        vertical-align: top;\n",
       "    }\n",
       "\n",
       "    .dataframe thead th {\n",
       "        text-align: right;\n",
       "    }\n",
       "</style>\n",
       "<table border=\"1\" class=\"dataframe\">\n",
       "  <thead>\n",
       "    <tr style=\"text-align: right;\">\n",
       "      <th></th>\n",
       "      <th>user_id</th>\n",
       "      <th>movie_id</th>\n",
       "      <th>ratings</th>\n",
       "      <th>timestamp</th>\n",
       "    </tr>\n",
       "  </thead>\n",
       "  <tbody>\n",
       "    <tr>\n",
       "      <th>0</th>\n",
       "      <td>1</td>\n",
       "      <td>1193</td>\n",
       "      <td>5</td>\n",
       "      <td>978300760</td>\n",
       "    </tr>\n",
       "    <tr>\n",
       "      <th>1</th>\n",
       "      <td>1</td>\n",
       "      <td>661</td>\n",
       "      <td>3</td>\n",
       "      <td>978302109</td>\n",
       "    </tr>\n",
       "    <tr>\n",
       "      <th>2</th>\n",
       "      <td>1</td>\n",
       "      <td>914</td>\n",
       "      <td>3</td>\n",
       "      <td>978301968</td>\n",
       "    </tr>\n",
       "    <tr>\n",
       "      <th>3</th>\n",
       "      <td>1</td>\n",
       "      <td>3408</td>\n",
       "      <td>4</td>\n",
       "      <td>978300275</td>\n",
       "    </tr>\n",
       "    <tr>\n",
       "      <th>4</th>\n",
       "      <td>1</td>\n",
       "      <td>2355</td>\n",
       "      <td>5</td>\n",
       "      <td>978824291</td>\n",
       "    </tr>\n",
       "  </tbody>\n",
       "</table>\n",
       "</div>"
      ],
      "text/plain": [
       "   user_id  movie_id  ratings  timestamp\n",
       "0        1      1193        5  978300760\n",
       "1        1       661        3  978302109\n",
       "2        1       914        3  978301968\n",
       "3        1      3408        4  978300275\n",
       "4        1      2355        5  978824291"
      ]
     },
     "execution_count": 4,
     "metadata": {},
     "output_type": "execute_result"
    }
   ],
   "source": [
    "import os\n",
    "rating_file_path=os.getenv('HOME') + '/aiffel/recommendata_iu/data/ml-1m/ratings.dat'\n",
    "ratings_cols = ['user_id', 'movie_id', 'ratings', 'timestamp']\n",
    "ratings = pd.read_csv(rating_file_path, sep='::', names=ratings_cols, engine='python', encoding = \"ISO-8859-1\")\n",
    "orginal_data_size = len(ratings)\n",
    "ratings.head()"
   ]
  },
  {
   "cell_type": "markdown",
   "id": "4336e1d6",
   "metadata": {},
   "source": [
    "추천 시스템에서 3점 이하인 점수는 모델에 반영하는 것이 의미가 없을 것 같습니다  \n",
    "3점 이상만 남겨줍니다  "
   ]
  },
  {
   "cell_type": "code",
   "execution_count": 5,
   "id": "5c35f8da",
   "metadata": {},
   "outputs": [
    {
     "name": "stdout",
     "output_type": "stream",
     "text": [
      "orginal_data_size: 1000209, filtered_data_size: 836478\n",
      "Ratio of Remaining Data is 83.63%\n"
     ]
    }
   ],
   "source": [
    "# 3점 이상만 남깁니다.\n",
    "ratings = ratings[ratings['ratings']>=3]\n",
    "filtered_data_size = len(ratings)\n",
    "\n",
    "print(f'orginal_data_size: {orginal_data_size}, filtered_data_size: {filtered_data_size}')\n",
    "print(f'Ratio of Remaining Data is {filtered_data_size / orginal_data_size:.2%}')"
   ]
  },
  {
   "cell_type": "code",
   "execution_count": 6,
   "id": "69865411",
   "metadata": {},
   "outputs": [],
   "source": [
    "# ratings 컬럼의 이름을 counts로 바꿉니다.\n",
    "ratings.rename(columns={'ratings':'counts'}, inplace=True)"
   ]
  },
  {
   "cell_type": "code",
   "execution_count": 7,
   "id": "8b74f02e",
   "metadata": {},
   "outputs": [
    {
     "data": {
      "text/plain": [
       "0          5\n",
       "1          3\n",
       "2          3\n",
       "3          4\n",
       "4          5\n",
       "          ..\n",
       "1000203    3\n",
       "1000205    5\n",
       "1000206    5\n",
       "1000207    4\n",
       "1000208    4\n",
       "Name: counts, Length: 836478, dtype: int64"
      ]
     },
     "execution_count": 7,
     "metadata": {},
     "output_type": "execute_result"
    }
   ],
   "source": [
    "ratings['counts']"
   ]
  },
  {
   "cell_type": "code",
   "execution_count": 8,
   "id": "56cd2a78",
   "metadata": {},
   "outputs": [
    {
     "data": {
      "text/html": [
       "<div>\n",
       "<style scoped>\n",
       "    .dataframe tbody tr th:only-of-type {\n",
       "        vertical-align: middle;\n",
       "    }\n",
       "\n",
       "    .dataframe tbody tr th {\n",
       "        vertical-align: top;\n",
       "    }\n",
       "\n",
       "    .dataframe thead th {\n",
       "        text-align: right;\n",
       "    }\n",
       "</style>\n",
       "<table border=\"1\" class=\"dataframe\">\n",
       "  <thead>\n",
       "    <tr style=\"text-align: right;\">\n",
       "      <th></th>\n",
       "      <th>movie_id</th>\n",
       "      <th>title</th>\n",
       "      <th>genre</th>\n",
       "    </tr>\n",
       "  </thead>\n",
       "  <tbody>\n",
       "    <tr>\n",
       "      <th>0</th>\n",
       "      <td>1</td>\n",
       "      <td>Toy Story (1995)</td>\n",
       "      <td>Animation|Children's|Comedy</td>\n",
       "    </tr>\n",
       "    <tr>\n",
       "      <th>1</th>\n",
       "      <td>2</td>\n",
       "      <td>Jumanji (1995)</td>\n",
       "      <td>Adventure|Children's|Fantasy</td>\n",
       "    </tr>\n",
       "    <tr>\n",
       "      <th>2</th>\n",
       "      <td>3</td>\n",
       "      <td>Grumpier Old Men (1995)</td>\n",
       "      <td>Comedy|Romance</td>\n",
       "    </tr>\n",
       "    <tr>\n",
       "      <th>3</th>\n",
       "      <td>4</td>\n",
       "      <td>Waiting to Exhale (1995)</td>\n",
       "      <td>Comedy|Drama</td>\n",
       "    </tr>\n",
       "    <tr>\n",
       "      <th>4</th>\n",
       "      <td>5</td>\n",
       "      <td>Father of the Bride Part II (1995)</td>\n",
       "      <td>Comedy</td>\n",
       "    </tr>\n",
       "  </tbody>\n",
       "</table>\n",
       "</div>"
      ],
      "text/plain": [
       "   movie_id                               title                         genre\n",
       "0         1                    Toy Story (1995)   Animation|Children's|Comedy\n",
       "1         2                      Jumanji (1995)  Adventure|Children's|Fantasy\n",
       "2         3             Grumpier Old Men (1995)                Comedy|Romance\n",
       "3         4            Waiting to Exhale (1995)                  Comedy|Drama\n",
       "4         5  Father of the Bride Part II (1995)                        Comedy"
      ]
     },
     "execution_count": 8,
     "metadata": {},
     "output_type": "execute_result"
    }
   ],
   "source": [
    "# 영화 제목을 보기 위해 메타 데이터를 읽어옵니다.\n",
    "movie_file_path=os.getenv('HOME') + '/aiffel/recommendata_iu/data/ml-1m/movies.dat'\n",
    "cols = ['movie_id', 'title', 'genre'] \n",
    "movies = pd.read_csv(movie_file_path, sep='::', names=cols, engine='python', encoding='ISO-8859-1')\n",
    "movies.head()"
   ]
  },
  {
   "cell_type": "markdown",
   "id": "dac681dc",
   "metadata": {},
   "source": [
    "전처리가 완료되었습니다  \n",
    "MF model을 구상한 후, 내가 좋아할 만한 영화를 추천해보는 것이 고ㅏ제"
   ]
  },
  {
   "cell_type": "markdown",
   "id": "2d6dc8dc",
   "metadata": {},
   "source": [
    "분석하기 : ratings에 있는 유니크한 영화 개수"
   ]
  },
  {
   "cell_type": "code",
   "execution_count": null,
   "id": "b86a3feb",
   "metadata": {},
   "outputs": [],
   "source": [
    "# 13-3의 nunique를 참고!"
   ]
  },
  {
   "cell_type": "markdown",
   "id": "64fdb978",
   "metadata": {},
   "source": [
    "ratings에 있는 유니크한 사용자 수"
   ]
  },
  {
   "cell_type": "code",
   "execution_count": null,
   "id": "ecd4d2c1",
   "metadata": {},
   "outputs": [],
   "source": [
    "# 13-3의 nunique를 참고!"
   ]
  },
  {
   "cell_type": "markdown",
   "id": "1f300f3c",
   "metadata": {},
   "source": [
    "가장 인기 있는 영화 30개(인기순)"
   ]
  },
  {
   "cell_type": "code",
   "execution_count": null,
   "id": "de6b1d3a",
   "metadata": {},
   "outputs": [],
   "source": [
    "# 각 영화의 'rating'를 합친걸 가져와야겠습니다\n",
    "# 복잡하지만 groupby, sort_values 등으로 해결할 수 있을듯\n",
    "# 13-3의 #인기많은 아티스트 부분 참고"
   ]
  },
  {
   "cell_type": "markdown",
   "id": "123b7fa9",
   "metadata": {},
   "source": [
    "내가 선호하는 영화를 5가지 골라서 ratings에 추가해 줍시다"
   ]
  },
  {
   "cell_type": "code",
   "execution_count": null,
   "id": "c8919dcd",
   "metadata": {},
   "outputs": [],
   "source": [
    "# 13-3의 'zimin이 등장하는' 부분에 답이 있습니다"
   ]
  },
  {
   "cell_type": "markdown",
   "id": "bdcfbcbc",
   "metadata": {},
   "source": [
    "CSR matrix를 직접 만들어 봅시다"
   ]
  },
  {
   "cell_type": "code",
   "execution_count": null,
   "id": "ad1b94df",
   "metadata": {},
   "outputs": [],
   "source": [
    "# 13-6 참고하기"
   ]
  },
  {
   "cell_type": "markdown",
   "id": "af358284",
   "metadata": {},
   "source": [
    "als_model = AlternatingLeastSquares 모델을 직접 구성하여 훈련시켜 봅시다  \n",
    "이거 시간이 엄청 걸리는 부분이에요  "
   ]
  },
  {
   "cell_type": "code",
   "execution_count": 10,
   "id": "bb1caa66",
   "metadata": {},
   "outputs": [],
   "source": [
    "#모델 구축\n",
    "from implicit.als import AlternatingLeastSquares\n",
    "\n",
    "n_factors = 100              #유저와 아이템의 벡터를 몇 차원으로 할 것인지\n",
    "n_regularization  = 0.01     #과적합을 방지하기 위해 정규화 값을 얼마나 사용할 것인지\n",
    "n_iterations = 15            #epochs와 같은 의미입니다. 데이터를 몇 번 반복해서 학습할 것인지"
   ]
  },
  {
   "cell_type": "code",
   "execution_count": 11,
   "id": "5dcc50fd",
   "metadata": {},
   "outputs": [],
   "source": [
    "#모델 생성하고\n",
    "als_model = AlternatingLeastSquares(factors=n_factors, regularization=n_regularization, use_gpu=False, \n",
    "                                    iterations=n_iterations, dtype=np.float32)"
   ]
  },
  {
   "cell_type": "code",
   "execution_count": null,
   "id": "d032dfcf",
   "metadata": {},
   "outputs": [],
   "source": [
    "#핏 = 트레인\n",
    "als_model.fit(''' 여기에 csr matrix가 들어가게 됩니다 sparse matrix of type '<class 'numpy.int64'> ''')\n",
    "#item행 x user열 로 입력을 받기 때문에, 반대의 경우라면 transpose 해주세요\n"
   ]
  },
  {
   "cell_type": "markdown",
   "id": "c5c97f5c",
   "metadata": {},
   "source": [
    "내가 선호하는 5가지 영화 중 하나와 그 외의 영화 하나를 골라 훈련된 모델이 예측한 나의 선호도를 파악해 보세요"
   ]
  },
  {
   "cell_type": "code",
   "execution_count": null,
   "id": "f4eeee39",
   "metadata": {},
   "outputs": [],
   "source": [
    "#13-7의 queen이 나오는 부분, 벡터 내적"
   ]
  },
  {
   "cell_type": "markdown",
   "id": "2ce886e1",
   "metadata": {},
   "source": [
    "내가 좋아하는 영화와 비슷한 영화를 추천받아 봅시다"
   ]
  },
  {
   "cell_type": "code",
   "execution_count": null,
   "id": "88e7e5ee",
   "metadata": {},
   "outputs": [],
   "source": [
    "#13-8의 similar_items "
   ]
  },
  {
   "cell_type": "markdown",
   "id": "68ab7d12",
   "metadata": {},
   "source": [
    "내가 가장 좋아할 만한 영화들을 추천받아 봅시다"
   ]
  },
  {
   "cell_type": "code",
   "execution_count": null,
   "id": "0a9e8bfe",
   "metadata": {},
   "outputs": [],
   "source": [
    "#13-8의 recommend 메소드 "
   ]
  },
  {
   "cell_type": "code",
   "execution_count": null,
   "id": "ca7b9e7e",
   "metadata": {},
   "outputs": [],
   "source": []
  }
 ],
 "metadata": {
  "kernelspec": {
   "display_name": "Python 3 (ipykernel)",
   "language": "python",
   "name": "python3"
  },
  "language_info": {
   "codemirror_mode": {
    "name": "ipython",
    "version": 3
   },
   "file_extension": ".py",
   "mimetype": "text/x-python",
   "name": "python",
   "nbconvert_exporter": "python",
   "pygments_lexer": "ipython3",
   "version": "3.9.7"
  }
 },
 "nbformat": 4,
 "nbformat_minor": 5
}
